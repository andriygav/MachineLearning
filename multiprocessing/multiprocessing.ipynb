{
 "cells": [
  {
   "cell_type": "markdown",
   "metadata": {
    "slideshow": {
     "slide_type": "slide"
    }
   },
   "source": [
    "<h1>\n",
    "    <p style=\"text-align: center;\">\n",
    "        Multiprocessing is All you Need\n",
    "    </p>\n",
    "</h1>\n",
    "<h5>\n",
    "    <p style=\"text-align: center;\">\n",
    "        (Немного хайпово звучит)\n",
    "    </p>\n",
    "</h5>"
   ]
  },
  {
   "cell_type": "code",
   "execution_count": 1,
   "metadata": {
    "slideshow": {
     "slide_type": "subslide"
    }
   },
   "outputs": [],
   "source": [
    "import os\n",
    "import time\n",
    "from multiprocessing import Process"
   ]
  },
  {
   "cell_type": "markdown",
   "metadata": {
    "slideshow": {
     "slide_type": "subslide"
    }
   },
   "source": [
    "Делаем подпроцессы, которые что-то делают"
   ]
  },
  {
   "cell_type": "code",
   "execution_count": 2,
   "metadata": {
    "slideshow": {
     "slide_type": "subslide"
    }
   },
   "outputs": [
    {
     "name": "stdout",
     "output_type": "stream",
     "text": [
      "5 doubled to 10 by process id: 5581\n",
      "10 doubled to 20 by process id: 5582\n",
      "15 doubled to 30 by process id: 558920 doubled to 40 by process id: 5592\n",
      "25 doubled to 50 by process id: 5597\n",
      "\n"
     ]
    }
   ],
   "source": [
    "def doubler(number):\n",
    "    result = number * 2\n",
    "    proc = os.getpid()\n",
    "    print(\n",
    "        '{0} doubled to {1} by process id: {2}'.format(\n",
    "            number, result, proc))\n",
    "    return result\n",
    "\n",
    "numbers = [5, 10, 15, 20, 25]\n",
    "procs = []\n",
    "\n",
    "for index, number in enumerate(numbers):\n",
    "    proc = Process(target=doubler, args=(number,))\n",
    "    procs.append(proc)\n",
    "    proc.start()\n",
    "\n",
    "for proc in procs:\n",
    "    proc.join()"
   ]
  },
  {
   "cell_type": "markdown",
   "metadata": {
    "slideshow": {
     "slide_type": "subslide"
    }
   },
   "source": [
    "Теперь можем задавать еще и имена подпроцессов (скорее нужно для логирования)"
   ]
  },
  {
   "cell_type": "code",
   "execution_count": 3,
   "metadata": {
    "slideshow": {
     "slide_type": "subslide"
    }
   },
   "outputs": [],
   "source": [
    "from multiprocessing import current_process"
   ]
  },
  {
   "cell_type": "code",
   "execution_count": 4,
   "metadata": {
    "scrolled": true,
    "slideshow": {
     "slide_type": "subslide"
    }
   },
   "outputs": [
    {
     "name": "stdout",
     "output_type": "stream",
     "text": [
      "5 doubled to 10 by: Process-7\n",
      "15 doubled to 30 by: Process-910 doubled to 20 by: Process-820 doubled to 40 by: Process-10\n",
      "\n",
      "\n",
      "2 doubled to 4 by: Test\n",
      "25 doubled to 50 by: Process-11\n"
     ]
    }
   ],
   "source": [
    "def doubler(number):\n",
    "    result = number * 2\n",
    "    proc_name = current_process().name\n",
    "    print('{0} doubled to {1} by: {2}'.format(\n",
    "        number, result, proc_name))\n",
    "\n",
    "numbers = [5, 10, 15, 20, 25]\n",
    "procs = []\n",
    "proc = Process(target=doubler, args=(5,))\n",
    "\n",
    "for index, number in enumerate(numbers):\n",
    "    proc = Process(target=doubler, args=(number,))\n",
    "    procs.append(proc)\n",
    "    proc.start()\n",
    "\n",
    "proc = Process(target=doubler, name='Test', args=(2,))\n",
    "proc.start()\n",
    "procs.append(proc)\n",
    "\n",
    "for proc in procs:\n",
    "    proc.join()"
   ]
  },
  {
   "cell_type": "markdown",
   "metadata": {
    "slideshow": {
     "slide_type": "subslide"
    }
   },
   "source": [
    "Большой минус предыдущих примеров состоит в том, что по дефолту `Process` не умеет ничего возвращать (типо не функция а процедура). Хм, а почему бы не сделать просто глобальную переменную?"
   ]
  },
  {
   "cell_type": "code",
   "execution_count": 5,
   "metadata": {
    "slideshow": {
     "slide_type": "subslide"
    }
   },
   "outputs": [
    {
     "name": "stdout",
     "output_type": "stream",
     "text": [
      "5 doubled to 10 by process id: 5636\n",
      "10 doubled to 20 by process id: 563715 doubled to 30 by process id: 564420 doubled to 40 by process id: 5645\n",
      "\n",
      "\n",
      "25 doubled to 50 by process id: 5650\n",
      "{}\n"
     ]
    }
   ],
   "source": [
    "results = dict()\n",
    "\n",
    "def doubler(number, results):\n",
    "    result = number * 2\n",
    "    proc = os.getpid()\n",
    "    results[proc] = result\n",
    "    print(\n",
    "        '{0} doubled to {1} by process id: {2}'.format(\n",
    "            number, result, proc))\n",
    "\n",
    "numbers = [5, 10, 15, 20, 25]\n",
    "procs = []\n",
    "\n",
    "for index, number in enumerate(numbers):\n",
    "    proc = Process(target=doubler, args=(number, results))\n",
    "    procs.append(proc)\n",
    "    proc.start()\n",
    "\n",
    "for proc in procs:\n",
    "    proc.join()\n",
    "    \n",
    "print(results)"
   ]
  },
  {
   "cell_type": "markdown",
   "metadata": {
    "slideshow": {
     "slide_type": "subslide"
    }
   },
   "source": [
    "Хм не вышло... Почему? Потому что на самом деле создается отдельная программа, которая выполняет данный кусок кода (аналог `fork` в си). По простому: создается полный дубликат процесса в другом куске оперативной памяти. Как следствие имеем несколько процессов, теперь нужно научить их взаимодествовать."
   ]
  },
  {
   "cell_type": "markdown",
   "metadata": {
    "slideshow": {
     "slide_type": "subslide"
    }
   },
   "source": [
    "Для этого можно создать менеджер сообщений между процесами."
   ]
  },
  {
   "cell_type": "code",
   "execution_count": 6,
   "metadata": {
    "slideshow": {
     "slide_type": "subslide"
    }
   },
   "outputs": [],
   "source": [
    "from multiprocessing import Manager"
   ]
  },
  {
   "cell_type": "code",
   "execution_count": 7,
   "metadata": {
    "slideshow": {
     "slide_type": "subslide"
    }
   },
   "outputs": [
    {
     "name": "stdout",
     "output_type": "stream",
     "text": [
      "5 doubled to 10 by process id: 566610 doubled to 20 by process id: 5669\n",
      "\n",
      "20 doubled to 40 by process id: 5680\n",
      "15 doubled to 30 by process id: 5674\n",
      "25 doubled to 50 by process id: 5686\n",
      "{5666: 10, 5669: 20, 5674: 30, 5680: 40, 5686: 50}\n"
     ]
    }
   ],
   "source": [
    "manager = Manager() # здесь есть вариативность: Queue, Pipe\n",
    "results = manager.dict()\n",
    "\n",
    "def doubler(number, results):\n",
    "    result = number * 2\n",
    "    proc = os.getpid()\n",
    "    results[proc] = result\n",
    "    print(\n",
    "        '{0} doubled to {1} by process id: {2}'.format(\n",
    "            number, result, proc))\n",
    "\n",
    "numbers = [5, 10, 15, 20, 25]\n",
    "procs = []\n",
    "\n",
    "for index, number in enumerate(numbers):\n",
    "    proc = Process(target=doubler, args=(number, results))\n",
    "    procs.append(proc)\n",
    "    proc.start()\n",
    "\n",
    "for proc in procs:\n",
    "    proc.join()\n",
    "    \n",
    "print(results)"
   ]
  },
  {
   "cell_type": "markdown",
   "metadata": {
    "slideshow": {
     "slide_type": "subslide"
    }
   },
   "source": [
    "Один из прикольных варинтов это создать массив, который шариться между процесами"
   ]
  },
  {
   "cell_type": "code",
   "execution_count": 8,
   "metadata": {
    "slideshow": {
     "slide_type": "subslide"
    }
   },
   "outputs": [],
   "source": [
    "from multiprocessing import Array"
   ]
  },
  {
   "cell_type": "code",
   "execution_count": 9,
   "metadata": {
    "slideshow": {
     "slide_type": "subslide"
    }
   },
   "outputs": [
    {
     "name": "stdout",
     "output_type": "stream",
     "text": [
      "[5.0, 10.0, 15.0, 20.0, 25.0]\n",
      "[10.0, 20.0, 30.0, 40.0, 50.0]\n"
     ]
    }
   ],
   "source": [
    "def doubler(index, arr):\n",
    "    arr[index] = arr[index]*2\n",
    "\n",
    "numbers = [5, 10, 15, 20, 25]\n",
    "procs = []\n",
    "\n",
    "arr = Array('d', numbers)\n",
    "print(arr[:])\n",
    "for index, number in enumerate(numbers):\n",
    "    proc = Process(target=doubler, args=(index, arr))\n",
    "    procs.append(proc)\n",
    "    proc.start()\n",
    "\n",
    "for proc in procs:\n",
    "    proc.join()\n",
    "    \n",
    "print(arr[:])"
   ]
  },
  {
   "cell_type": "markdown",
   "metadata": {
    "slideshow": {
     "slide_type": "subslide"
    }
   },
   "source": [
    "На самом деле все что было до этого это не интерестно. Это все просто похоже на потоки (но не потоки а процессы). Да и каждый раз что-то думать с расшареной памятью, чтобы все работало коректно(кто когда-то паралелил на си, тот поймет). Обычно в жизни часто используется метод Pool."
   ]
  },
  {
   "cell_type": "code",
   "execution_count": 10,
   "metadata": {
    "slideshow": {
     "slide_type": "subslide"
    }
   },
   "outputs": [],
   "source": [
    "from multiprocessing import Pool"
   ]
  },
  {
   "cell_type": "code",
   "execution_count": 11,
   "metadata": {
    "slideshow": {
     "slide_type": "subslide"
    }
   },
   "outputs": [
    {
     "name": "stdout",
     "output_type": "stream",
     "text": [
      "10\n",
      "20\n",
      "40\n"
     ]
    }
   ],
   "source": [
    "def doubler(number):\n",
    "    return number * 2\n",
    "\n",
    "numbers = [5, 10, 20]\n",
    "pool = Pool(processes=3)\n",
    "for item in pool.map(doubler, numbers):\n",
    "    print(item)"
   ]
  },
  {
   "cell_type": "markdown",
   "metadata": {
    "slideshow": {
     "slide_type": "subslide"
    }
   },
   "source": [
    "В данном случае процесы выполняются паралельно, но обязательно выдаются последовательно. Давайте в этом убедимся."
   ]
  },
  {
   "cell_type": "code",
   "execution_count": 12,
   "metadata": {
    "slideshow": {
     "slide_type": "subslide"
    }
   },
   "outputs": [
    {
     "name": "stdout",
     "output_type": "stream",
     "text": [
      "10\n",
      "20\n",
      "40\n",
      "CPU times: user 13.1 ms, sys: 5.32 ms, total: 18.5 ms\n",
      "Wall time: 3.01 s\n"
     ]
    }
   ],
   "source": [
    "%%time\n",
    "def doubler(number):\n",
    "    time.sleep(3)\n",
    "    return number * 2\n",
    "\n",
    "numbers = [5, 10, 20]\n",
    "pool = Pool(processes=3)\n",
    "for item in pool.map(doubler, numbers):\n",
    "    print(item)"
   ]
  },
  {
   "cell_type": "markdown",
   "metadata": {
    "slideshow": {
     "slide_type": "subslide"
    }
   },
   "source": [
    "Замечание: `pool.map` всегда возвращает готовый масив! Чтобы постепенно получать результаты нужно пользоваться `pool.imap`!!!"
   ]
  },
  {
   "cell_type": "code",
   "execution_count": 13,
   "metadata": {
    "slideshow": {
     "slide_type": "subslide"
    }
   },
   "outputs": [
    {
     "name": "stdout",
     "output_type": "stream",
     "text": [
      "2 Fri Dec 11 10:15:34 2020\n",
      "4 Fri Dec 11 10:15:34 2020\n",
      "6 Fri Dec 11 10:15:34 2020\n",
      "CPU times: user 13.6 ms, sys: 9.7 ms, total: 23.3 ms\n",
      "Wall time: 3.02 s\n"
     ]
    }
   ],
   "source": [
    "%%time\n",
    "def doubler(number):\n",
    "    time.sleep(number)\n",
    "    return number * 2\n",
    "\n",
    "numbers = [1, 2, 3]\n",
    "pool = Pool(processes=3)\n",
    "for item in pool.map(doubler, numbers):\n",
    "    print(item, time.ctime())"
   ]
  },
  {
   "cell_type": "code",
   "execution_count": 14,
   "metadata": {
    "slideshow": {
     "slide_type": "subslide"
    }
   },
   "outputs": [
    {
     "name": "stdout",
     "output_type": "stream",
     "text": [
      "2 Fri Dec 11 10:15:35 2020\n",
      "4 Fri Dec 11 10:15:36 2020\n",
      "6 Fri Dec 11 10:15:37 2020\n",
      "CPU times: user 20.4 ms, sys: 10.6 ms, total: 31 ms\n",
      "Wall time: 3.01 s\n"
     ]
    }
   ],
   "source": [
    "%%time\n",
    "def doubler(number):\n",
    "    time.sleep(number)\n",
    "    return number * 2\n",
    "\n",
    "numbers = [1, 2, 3]\n",
    "pool = Pool(processes=3)\n",
    "for item in pool.imap(doubler, numbers):\n",
    "    print(item, time.ctime())"
   ]
  },
  {
   "cell_type": "markdown",
   "metadata": {
    "slideshow": {
     "slide_type": "subslide"
    }
   },
   "source": [
    "Представим ситуацию, что у функция выполняется разное количество времени на разных процессах. К примеру получаетя так, что первый вход выполняется дольше всего (например первые входные данные выполняются в 2 раза дольше чем все другие), тогда `pool.imap` застранет и будет ждать первый (пока остальные будут толпится в очереди). Хочется получить что-то типо <<Первый обработался, первый вернуля>>. Для этого есть специальное расширение `pool.imap_unordered`. Который возвращает в порядке готовности."
   ]
  },
  {
   "cell_type": "code",
   "execution_count": 15,
   "metadata": {
    "slideshow": {
     "slide_type": "subslide"
    }
   },
   "outputs": [
    {
     "name": "stdout",
     "output_type": "stream",
     "text": [
      "6 Fri Dec 11 10:15:37 2020\n",
      "4 Fri Dec 11 10:15:38 2020\n",
      "2 Fri Dec 11 10:15:39 2020\n",
      "CPU times: user 12.3 ms, sys: 18 ms, total: 30.3 ms\n",
      "Wall time: 2.01 s\n"
     ]
    }
   ],
   "source": [
    "%%time\n",
    "def doubler(number):\n",
    "    time.sleep(3-number)\n",
    "    return number * 2\n",
    "\n",
    "numbers = [1, 2, 3]\n",
    "pool = Pool(processes=3)\n",
    "for item in pool.imap_unordered(doubler, numbers):\n",
    "    print(item, time.ctime())"
   ]
  },
  {
   "cell_type": "markdown",
   "metadata": {
    "slideshow": {
     "slide_type": "subslide"
    }
   },
   "source": [
    "# Вывод"
   ]
  },
  {
   "cell_type": "markdown",
   "metadata": {
    "slideshow": {
     "slide_type": "subslide"
    }
   },
   "source": [
    "- Для обработки большого количества данных в одном формате пользуемся `pool` (ясное дело, если обработка каждой части не зависима).\n",
    "- В случае, если последовательность входа и выхода важна, то пользуемся `pool.imap`.\n",
    "- В случае, если последовательность входа не важна, то пользуемся `pool.imap_unordered`.\n",
    "- Пользоваться `pool.map` не рекомендуется, так как забивается память. Рассмотрим простой пример. Пусть мы хотим обработать текст (сделать lower case). Вход эот текст и выход и текст. Пусть текстов очень много (500 гб). Выполняя `pool.imap` мы сможем постепенно забирать тексты с памяти и передавать дальше (ну к примеру сохранять на диск) в то время как `pool.map` будет заблокирован пока не обработает все файлы (во первых процесс залочен и файлы далее по конвееру не пойдут, а во вторых забивается оперативная память)."
   ]
  }
 ],
 "metadata": {
  "celltoolbar": "Slideshow",
  "kernelspec": {
   "display_name": "Python 3",
   "language": "python",
   "name": "python3"
  },
  "language_info": {
   "codemirror_mode": {
    "name": "ipython",
    "version": 3
   },
   "file_extension": ".py",
   "mimetype": "text/x-python",
   "name": "python",
   "nbconvert_exporter": "python",
   "pygments_lexer": "ipython3",
   "version": "3.6.9"
  }
 },
 "nbformat": 4,
 "nbformat_minor": 4
}
