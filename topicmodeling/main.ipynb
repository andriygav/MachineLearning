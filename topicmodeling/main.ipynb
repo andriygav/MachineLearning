{
 "cells": [
  {
   "cell_type": "markdown",
   "metadata": {
    "id": "XsMCvH7-QXGM"
   },
   "source": [
    "# Для запуска в colab"
   ]
  },
  {
   "cell_type": "code",
   "execution_count": 49,
   "metadata": {
    "colab": {
     "base_uri": "https://localhost:8080/"
    },
    "id": "-8bH11qly5iH",
    "outputId": "755efa1e-b88c-4ffe-fad8-07623fed216d"
   },
   "outputs": [],
   "source": [
    "# fast версия для pymotphy2 не работает на python3.7!!!\n",
    "# Использовать только python3.6 либо python3.8\n",
    "# !pip install --user bigartm10 pymorphy2[fast] pyLDAvis"
   ]
  },
  {
   "cell_type": "code",
   "execution_count": 2,
   "metadata": {
    "colab": {
     "base_uri": "https://localhost:8080/"
    },
    "id": "_DsuKmRxQJHu",
    "outputId": "5940b2a8-140a-4847-b18a-385ae95979d6"
   },
   "outputs": [],
   "source": [
    "# from google.colab import drive\n",
    "# drive.mount('/content/drive')"
   ]
  },
  {
   "cell_type": "markdown",
   "metadata": {
    "id": "eRImbPUyYp5b"
   },
   "source": [
    "# Библиотеки"
   ]
  },
  {
   "cell_type": "code",
   "execution_count": 343,
   "metadata": {
    "id": "l4DpoT2iy781"
   },
   "outputs": [],
   "source": [
    "import itertools\n",
    "\n",
    "from tqdm.notebook import tqdm\n",
    "from nltk.tokenize import RegexpTokenizer\n",
    "import matplotlib.pyplot as plt\n",
    "# не очень много стоп слов, но для задания хватит\n",
    "from nltk.corpus import stopwords\n",
    "import pandas as pd\n",
    "import numpy as np\n",
    "import pymorphy2\n",
    "import nltk\n",
    "import gc\n",
    "\n",
    "import datetime\n",
    "\n",
    "from sklearn.ensemble import RandomForestClassifier\n",
    "from sklearn.metrics import classification_report"
   ]
  },
  {
   "cell_type": "code",
   "execution_count": null,
   "metadata": {
    "colab": {
     "base_uri": "https://localhost:8080/"
    },
    "id": "kHZ7_MRHdSSs",
    "outputId": "2ed27d03-d1ab-4aba-b285-02b11f15487d"
   },
   "outputs": [],
   "source": [
    "nltk.download('stopwords')"
   ]
  },
  {
   "cell_type": "markdown",
   "metadata": {
    "id": "ep6G7r0PQ94a"
   },
   "source": [
    "# Работа с данными"
   ]
  },
  {
   "cell_type": "markdown",
   "metadata": {
    "id": "4dNcPw-CRB34"
   },
   "source": [
    "## Загрузка датасета"
   ]
  },
  {
   "cell_type": "code",
   "execution_count": 5,
   "metadata": {
    "id": "TA009Oa8QdZ1"
   },
   "outputs": [],
   "source": [
    "data = pd.read_csv('drive/MyDrive/DATASETS/MachineLearning/topicmodeling/lenta-ru-filtered.csv')"
   ]
  },
  {
   "cell_type": "markdown",
   "metadata": {
    "id": "AVf3afIuRo0-"
   },
   "source": [
    "## Анализ"
   ]
  },
  {
   "cell_type": "code",
   "execution_count": 6,
   "metadata": {
    "colab": {
     "base_uri": "https://localhost:8080/",
     "height": 419
    },
    "id": "AODYWUEMQs7L",
    "outputId": "db7b881a-9313-489d-a32c-c48503888dbe"
   },
   "outputs": [
    {
     "data": {
      "text/html": [
       "<div>\n",
       "<style scoped>\n",
       "    .dataframe tbody tr th:only-of-type {\n",
       "        vertical-align: middle;\n",
       "    }\n",
       "\n",
       "    .dataframe tbody tr th {\n",
       "        vertical-align: top;\n",
       "    }\n",
       "\n",
       "    .dataframe thead th {\n",
       "        text-align: right;\n",
       "    }\n",
       "</style>\n",
       "<table border=\"1\" class=\"dataframe\">\n",
       "  <thead>\n",
       "    <tr style=\"text-align: right;\">\n",
       "      <th></th>\n",
       "      <th>text</th>\n",
       "      <th>tags</th>\n",
       "      <th>len</th>\n",
       "      <th>date</th>\n",
       "    </tr>\n",
       "  </thead>\n",
       "  <tbody>\n",
       "    <tr>\n",
       "      <th>0</th>\n",
       "      <td>С 1 сентября на всей территории России вводитс...</td>\n",
       "      <td>Все</td>\n",
       "      <td>1654</td>\n",
       "      <td>31-08-1999</td>\n",
       "    </tr>\n",
       "    <tr>\n",
       "      <th>1</th>\n",
       "      <td>По сведениям миссии ООН, передаваемым РИА \"Нов...</td>\n",
       "      <td>Все</td>\n",
       "      <td>1086</td>\n",
       "      <td>31-08-1999</td>\n",
       "    </tr>\n",
       "    <tr>\n",
       "      <th>2</th>\n",
       "      <td>15 представителей национал-большевистской парт...</td>\n",
       "      <td>Все</td>\n",
       "      <td>1219</td>\n",
       "      <td>31-08-1999</td>\n",
       "    </tr>\n",
       "    <tr>\n",
       "      <th>3</th>\n",
       "      <td>Намеченная на сегодняшний день церемония вступ...</td>\n",
       "      <td>Все</td>\n",
       "      <td>3094</td>\n",
       "      <td>31-08-1999</td>\n",
       "    </tr>\n",
       "    <tr>\n",
       "      <th>4</th>\n",
       "      <td>На юге Киргизии, а именно в Баткенском и Чон-А...</td>\n",
       "      <td>Все</td>\n",
       "      <td>1354</td>\n",
       "      <td>31-08-1999</td>\n",
       "    </tr>\n",
       "    <tr>\n",
       "      <th>...</th>\n",
       "      <td>...</td>\n",
       "      <td>...</td>\n",
       "      <td>...</td>\n",
       "      <td>...</td>\n",
       "    </tr>\n",
       "    <tr>\n",
       "      <th>863280</th>\n",
       "      <td>Популярное место среди туристов в Мурманской о...</td>\n",
       "      <td>Россия</td>\n",
       "      <td>1231</td>\n",
       "      <td>11-09-2020</td>\n",
       "    </tr>\n",
       "    <tr>\n",
       "      <th>863281</th>\n",
       "      <td>Рейтинги от международного рейтингового агентс...</td>\n",
       "      <td>NaN</td>\n",
       "      <td>1425</td>\n",
       "      <td>11-09-2020</td>\n",
       "    </tr>\n",
       "    <tr>\n",
       "      <th>863282</th>\n",
       "      <td>Российские ученые нашли в Якутии новый подвид ...</td>\n",
       "      <td>События</td>\n",
       "      <td>1299</td>\n",
       "      <td>11-09-2020</td>\n",
       "    </tr>\n",
       "    <tr>\n",
       "      <th>863283</th>\n",
       "      <td>Для указания коронавируса как причины смерти ч...</td>\n",
       "      <td>Общество</td>\n",
       "      <td>2061</td>\n",
       "      <td>11-09-2020</td>\n",
       "    </tr>\n",
       "    <tr>\n",
       "      <th>863284</th>\n",
       "      <td>Президент США Дональд Трамп стал посредником в...</td>\n",
       "      <td>Политика</td>\n",
       "      <td>1020</td>\n",
       "      <td>11-09-2020</td>\n",
       "    </tr>\n",
       "  </tbody>\n",
       "</table>\n",
       "<p>863285 rows × 4 columns</p>\n",
       "</div>"
      ],
      "text/plain": [
       "                                                     text      tags   len  \\\n",
       "0       С 1 сентября на всей территории России вводитс...       Все  1654   \n",
       "1       По сведениям миссии ООН, передаваемым РИА \"Нов...       Все  1086   \n",
       "2       15 представителей национал-большевистской парт...       Все  1219   \n",
       "3       Намеченная на сегодняшний день церемония вступ...       Все  3094   \n",
       "4       На юге Киргизии, а именно в Баткенском и Чон-А...       Все  1354   \n",
       "...                                                   ...       ...   ...   \n",
       "863280  Популярное место среди туристов в Мурманской о...    Россия  1231   \n",
       "863281  Рейтинги от международного рейтингового агентс...       NaN  1425   \n",
       "863282  Российские ученые нашли в Якутии новый подвид ...   События  1299   \n",
       "863283  Для указания коронавируса как причины смерти ч...  Общество  2061   \n",
       "863284  Президент США Дональд Трамп стал посредником в...  Политика  1020   \n",
       "\n",
       "              date  \n",
       "0       31-08-1999  \n",
       "1       31-08-1999  \n",
       "2       31-08-1999  \n",
       "3       31-08-1999  \n",
       "4       31-08-1999  \n",
       "...            ...  \n",
       "863280  11-09-2020  \n",
       "863281  11-09-2020  \n",
       "863282  11-09-2020  \n",
       "863283  11-09-2020  \n",
       "863284  11-09-2020  \n",
       "\n",
       "[863285 rows x 4 columns]"
      ]
     },
     "execution_count": 6,
     "metadata": {},
     "output_type": "execute_result"
    }
   ],
   "source": [
    "data"
   ]
  },
  {
   "cell_type": "code",
   "execution_count": 7,
   "metadata": {
    "colab": {
     "base_uri": "https://localhost:8080/",
     "height": 297
    },
    "id": "_C06COevSipd",
    "outputId": "a835a0e3-2b29-48b8-dff8-04f9033da32d"
   },
   "outputs": [
    {
     "data": {
      "text/html": [
       "<div>\n",
       "<style scoped>\n",
       "    .dataframe tbody tr th:only-of-type {\n",
       "        vertical-align: middle;\n",
       "    }\n",
       "\n",
       "    .dataframe tbody tr th {\n",
       "        vertical-align: top;\n",
       "    }\n",
       "\n",
       "    .dataframe thead th {\n",
       "        text-align: right;\n",
       "    }\n",
       "</style>\n",
       "<table border=\"1\" class=\"dataframe\">\n",
       "  <thead>\n",
       "    <tr style=\"text-align: right;\">\n",
       "      <th></th>\n",
       "      <th>len</th>\n",
       "    </tr>\n",
       "  </thead>\n",
       "  <tbody>\n",
       "    <tr>\n",
       "      <th>count</th>\n",
       "      <td>863285.000000</td>\n",
       "    </tr>\n",
       "    <tr>\n",
       "      <th>mean</th>\n",
       "      <td>1341.245505</td>\n",
       "    </tr>\n",
       "    <tr>\n",
       "      <th>std</th>\n",
       "      <td>572.066583</td>\n",
       "    </tr>\n",
       "    <tr>\n",
       "      <th>min</th>\n",
       "      <td>3.000000</td>\n",
       "    </tr>\n",
       "    <tr>\n",
       "      <th>25%</th>\n",
       "      <td>980.000000</td>\n",
       "    </tr>\n",
       "    <tr>\n",
       "      <th>50%</th>\n",
       "      <td>1253.000000</td>\n",
       "    </tr>\n",
       "    <tr>\n",
       "      <th>75%</th>\n",
       "      <td>1596.000000</td>\n",
       "    </tr>\n",
       "    <tr>\n",
       "      <th>max</th>\n",
       "      <td>55387.000000</td>\n",
       "    </tr>\n",
       "  </tbody>\n",
       "</table>\n",
       "</div>"
      ],
      "text/plain": [
       "                 len\n",
       "count  863285.000000\n",
       "mean     1341.245505\n",
       "std       572.066583\n",
       "min         3.000000\n",
       "25%       980.000000\n",
       "50%      1253.000000\n",
       "75%      1596.000000\n",
       "max     55387.000000"
      ]
     },
     "execution_count": 7,
     "metadata": {},
     "output_type": "execute_result"
    }
   ],
   "source": [
    "data.describe()"
   ]
  },
  {
   "cell_type": "markdown",
   "metadata": {
    "id": "iYYlsT6QU7Er"
   },
   "source": [
    "Видно, что новостные заметки занимают порядка 1.2 кб текста, что является порядка 3/4 страницы А4 печатного текста. Данная длина текста приемлема для анализа, так как не является слишком короткими (как например твиты, порядка 0.2 кб)."
   ]
  },
  {
   "cell_type": "markdown",
   "metadata": {
    "id": "f0fSJ_ITRqqF"
   },
   "source": [
    "Заметим, что в данных присутсвует поле tags (посути это можно рассматривать как топик). Данное поле будет интерестно в последующем анализе."
   ]
  },
  {
   "cell_type": "code",
   "execution_count": 8,
   "metadata": {
    "id": "BmOtNSjmRECq"
   },
   "outputs": [],
   "source": [
    "topics = [x.lower() for x in np.unique(np.array(data['tags'].values, dtype=str)).tolist() if x != 'nan']"
   ]
  },
  {
   "cell_type": "code",
   "execution_count": 9,
   "metadata": {
    "colab": {
     "base_uri": "https://localhost:8080/"
    },
    "id": "jq-SSsoNSSSD",
    "outputId": "2e812f04-245d-44fe-9285-7993658c63a4"
   },
   "outputs": [
    {
     "data": {
      "text/plain": [
       "(94,\n",
       " ['69-я параллель',\n",
       "  'coцсети',\n",
       "  'авто',\n",
       "  'автобизнес',\n",
       "  'аналитика рынка',\n",
       "  'английский футбол',\n",
       "  'белоруссия',\n",
       "  'бизнес',\n",
       "  'бокс и мма',\n",
       "  'вещи'])"
      ]
     },
     "execution_count": 9,
     "metadata": {},
     "output_type": "execute_result"
    }
   ],
   "source": [
    "len(topics), topics[:10]"
   ]
  },
  {
   "cell_type": "markdown",
   "metadata": {
    "id": "8FFcgjxDRIV9"
   },
   "source": [
    "## Предобработка"
   ]
  },
  {
   "cell_type": "markdown",
   "metadata": {
    "id": "_J6S816aZIUs"
   },
   "source": [
    "Выполним простую предобработку текстов:\n",
    "- lowercase;\n",
    "- лемматизация при помощи pymorphy2;\n",
    "- удаление стоп слов из словаря nltk."
   ]
  },
  {
   "cell_type": "code",
   "execution_count": 10,
   "metadata": {
    "id": "SW8Qk9iUaqhl"
   },
   "outputs": [],
   "source": [
    "# Честно взято с реализации ru_sentencetokenizer от iPavlov.\n",
    "# Переписано в класс (к сожалению очень давно переписал и быстро сами пакет от \n",
    "#          iPavlov найти не смог,мне быстрее было взять свой пофикшеный код...)\n",
    "import re\n",
    "import logging\n",
    "from typing import Set, Tuple, List\n",
    "class RuSentenceTokenizer(object):\n",
    "    def __init__(self):\n",
    "        self.SENT_RE = re.compile(r'[^\\.?!…]+[\\.?!…]*[\"»“]*')\n",
    "\n",
    "        self._LAST_WORD = re.compile(r'(?:\\b|\\d)([a-zа-я]+)\\.$', re.IGNORECASE)\n",
    "        self._FIRST_WORD = re.compile(r'^\\W*(\\w+)')\n",
    "        self._ENDS_WITH_ONE_LETTER_LAT_AND_DOT = re.compile(r'(\\d|\\W|\\b)([a-zA-Z])\\.$')\n",
    "        self._HAS_DOT_INSIDE = re.compile(r'[\\w]+\\.[\\w]+\\.$', re.IGNORECASE)\n",
    "        self._INITIALS = re.compile(r'(\\W|\\b)([A-ZА-Я]{1})\\.$')\n",
    "        self._ONLY_RUS_CONSONANTS = re.compile(r'^[бвгджзйклмнпрстфхцчшщ]{1,4}$', re.IGNORECASE)\n",
    "        self._STARTS_WITH_EMPTYNESS = re.compile(r'^\\s+')\n",
    "        self._ENDS_WITH_EMOTION = re.compile(r'[!?…]|\\.{2,}\\s?[)\"«»,“]?$')\n",
    "        self._STARTS_WITH_LOWER = re.compile(r'^\\s*[–-—-(\"«]?\\s*[a-zа-я]')\n",
    "        self._STARTS_WITH_DIGIT = re.compile(r'^\\s*\\d')\n",
    "        self._NUMERATION = re.compile(r'^\\W*[IVXMCL\\d]+\\.$')\n",
    "        self._PAIRED_SHORTENING_IN_THE_END = re.compile(r'\\b(\\w+)\\. (\\w+)\\.\\W*$')\n",
    "\n",
    "        self._JOIN = 0\n",
    "        self._MAYBE = 1\n",
    "        self._SPLIT = 2\n",
    "\n",
    "        self.JOINING_SHORTENINGS = {'mr', 'mrs', 'ms', 'dr', 'vs', 'англ', 'итал', 'греч', 'евр', 'араб', 'яп', 'слав', 'кит',\n",
    "                               'тел', 'св', 'ул', 'устар', 'им', 'г', 'см', 'д', 'стр', 'корп', 'пл', 'пер', 'сокр', 'рис'}\n",
    "        self.SHORTENINGS = {'co', 'corp', 'inc', 'авт', 'адм', 'барр', 'внутр', 'га', 'дифф', 'дол', 'долл', 'зав', 'зам', 'искл',\n",
    "                       'коп', 'корп', 'куб', 'лат', 'мин', 'о', 'обл', 'обр', 'прим', 'проц', 'р', 'ред', 'руб', 'рус', 'русск',\n",
    "                       'сан', 'сек', 'тыс', 'эт', 'яз', 'гос', 'мн', 'жен', 'муж', 'накл', 'повел', 'букв', 'шутл', 'ед'}\n",
    "\n",
    "        self.PAIRED_SHORTENINGS = {('и', 'о'), ('т', 'е'), ('т', 'п'), ('у', 'е'), ('н', 'э')}\n",
    "        \n",
    "        # whitespaces\n",
    "        self.start_whitespace = re.compile('^\\s+')\n",
    "        self.end_whitespace = re.compile('\\s+$')\n",
    "    \n",
    "    \n",
    "    def _regex_split_separators(self, text: str) -> [str]:\n",
    "        return [x.strip() for x in self.SENT_RE.findall(text)]\n",
    "    \n",
    "    def _is_sentence_end(self, left: str, \n",
    "                               right: str,\n",
    "                               shortenings: Set[str],\n",
    "                               joining_shortenings: Set[str],\n",
    "                               paired_shortenings: Set[Tuple[str, str]]) -> int:\n",
    "        if not self._STARTS_WITH_EMPTYNESS.match(right):\n",
    "            return self._JOIN\n",
    "\n",
    "        if self._HAS_DOT_INSIDE.search(left):\n",
    "            return self._JOIN\n",
    "\n",
    "        left_last_word = self._LAST_WORD.search(left)\n",
    "        lw = ' '\n",
    "        if left_last_word:\n",
    "            lw = left_last_word.group(1)\n",
    "\n",
    "            if lw.lower() in joining_shortenings:\n",
    "                return self._JOIN\n",
    "\n",
    "            if self._ONLY_RUS_CONSONANTS.search(lw) and lw[-1].islower():\n",
    "                return self._MAYBE\n",
    "\n",
    "        pse = self._PAIRED_SHORTENING_IN_THE_END.search(left)\n",
    "        if pse:\n",
    "            s1, s2 = pse.groups()\n",
    "            if (s1, s2) in paired_shortenings:\n",
    "                return self._MAYBE\n",
    "\n",
    "        right_first_word = self._FIRST_WORD.match(right)\n",
    "        if right_first_word:\n",
    "            rw = right_first_word.group(1)\n",
    "            if (lw, rw) in paired_shortenings:\n",
    "                return self._MAYBE\n",
    "\n",
    "        if self._ENDS_WITH_EMOTION.search(left) and self._STARTS_WITH_LOWER.match(right):\n",
    "            return self._JOIN\n",
    "\n",
    "        initials = self._INITIALS.search(left)\n",
    "        if initials:\n",
    "            border, _ = initials.groups()\n",
    "            if (border or ' ') not in \"°'\":\n",
    "                return self._JOIN\n",
    "\n",
    "        if lw.lower() in shortenings:\n",
    "            return self._MAYBE\n",
    "\n",
    "        last_letter = self._ENDS_WITH_ONE_LETTER_LAT_AND_DOT.search(left)\n",
    "        if last_letter:\n",
    "            border, _ = last_letter.groups()\n",
    "            if (border or ' ') not in \"°'\":\n",
    "                return self._MAYBE\n",
    "        if self._NUMERATION.match(left):\n",
    "            return self._JOIN\n",
    "        return self._SPLIT\n",
    "    \n",
    "    def tokenize(self, text: str,\n",
    "                       shortenings: Set[str] = None,\n",
    "                       joining_shortenings: Set[str] = None,\n",
    "                       paired_shortenings: Set[Tuple[str, str]] = None) -> List[str]:\n",
    "        \n",
    "        spans = self.span_tokenize(text, shortenings, joining_shortenings, paired_shortenings)\n",
    "        \n",
    "        sentences = []\n",
    "        for span in spans:\n",
    "            sentences.append(text[span[0]:span[1]])\n",
    "        \n",
    "        return sentences\n",
    "    \n",
    "    def _span_strip(self, text, sent_start, span_end):\n",
    "        # delete whitespace start spans\n",
    "        start_whitespace = self.start_whitespace.search(text[sent_start: span_end])\n",
    "        if start_whitespace:\n",
    "            sent_start += (start_whitespace.span(0)[1] - start_whitespace.span(0)[0])\n",
    "        # delete whitespace end spans\n",
    "        end_whitespace = self.end_whitespace.search(text[sent_start: span_end])\n",
    "        if end_whitespace:\n",
    "            span_end -= (end_whitespace.span(0)[1] - end_whitespace.span(0)[0])\n",
    "            \n",
    "        return sent_start, span_end\n",
    "    \n",
    "    def span_tokenize(self, text,\n",
    "                            shortenings: Set[str] = None,\n",
    "                            joining_shortenings: Set[str] = None,\n",
    "                            paired_shortenings: Set[Tuple[str, str]] = None) -> List[Tuple]:\n",
    "        \n",
    "        if shortenings is None:\n",
    "            shortenings = self.SHORTENINGS\n",
    "        if joining_shortenings is None:\n",
    "            joining_shortenings = self.JOINING_SHORTENINGS\n",
    "        if paired_shortenings is None:\n",
    "            paired_shortenings = self.PAIRED_SHORTENINGS\n",
    "    \n",
    "        spans = []\n",
    "        sents = self._regex_split_separators(text)\n",
    "        si = 0\n",
    "        processed_index = 0\n",
    "        sent_start = 0\n",
    "        while si < len(sents):\n",
    "            s = sents[si]\n",
    "            span_start = text[processed_index:].index(s) + processed_index\n",
    "            span_end = span_start + len(s)\n",
    "            processed_index += len(s)\n",
    "\n",
    "            si += 1\n",
    "\n",
    "            send = self._is_sentence_end(text[sent_start: span_end], \n",
    "                                         text[span_end:],\n",
    "                                         shortenings, \n",
    "                                         joining_shortenings, \n",
    "                                         paired_shortenings)\n",
    "            if send == self._JOIN:\n",
    "                continue\n",
    "\n",
    "            if send == self._MAYBE:\n",
    "                if self._STARTS_WITH_LOWER.match(text[span_end:]):\n",
    "                    continue\n",
    "                if self._STARTS_WITH_DIGIT.match(text[span_end:]):\n",
    "                    continue\n",
    "                    \n",
    "            sent_start, span_end = self._span_strip(text, sent_start, span_end)\n",
    "\n",
    "            if not text[sent_start: span_end].strip():\n",
    "                logging.debug(\"Something went wrong while tokenizing\")\n",
    "            else:\n",
    "                spans.append((sent_start, span_end))\n",
    "            \n",
    "            sent_start = span_end\n",
    "            processed_index = span_end\n",
    "\n",
    "        if sent_start != len(text):\n",
    "            if text[sent_start:].strip():\n",
    "                sent_start, span_end = self._span_strip(text, sent_start, len(text))\n",
    "                spans.append((sent_start, span_end))\n",
    "        return spans"
   ]
  },
  {
   "cell_type": "code",
   "execution_count": 11,
   "metadata": {
    "id": "U9HVAmycbB6l"
   },
   "outputs": [],
   "source": [
    "# уже давно пользуюсь для себя унифицированными токенизаторами\n",
    "word_tokenizer = RegexpTokenizer('[a-zа-яёЁА-ЯA-Z]+|[^\\w\\s]|\\d+')\n",
    "sent_tokenizer = RuSentenceTokenizer()\n",
    "# pymorphy2 анализатор\n",
    "morph = pymorphy2.MorphAnalyzer()\n",
    "# стоп слова из nltk\n",
    "stops = stopwords.words('russian')"
   ]
  },
  {
   "cell_type": "code",
   "execution_count": 12,
   "metadata": {
    "id": "7X5qXVNlQupI"
   },
   "outputs": [],
   "source": [
    "def proccess_text(text):\n",
    "    text= text.lower()\n",
    "    sents = sent_tokenizer.tokenize(text)\n",
    "    words = list(\n",
    "        itertools.chain.from_iterable(\n",
    "            word_tokenizer.tokenize_sents(sents)))\n",
    "    return [x for x in [morph.normal_forms(word)[0] for word in words ]\\\n",
    "            if x not in stops]"
   ]
  },
  {
   "cell_type": "code",
   "execution_count": 319,
   "metadata": {
    "colab": {
     "base_uri": "https://localhost:8080/",
     "height": 478,
     "referenced_widgets": [
      "3374f80338da4d6a98c4d2cd9442fbe7",
      "b6154c0d1a61414bb3e95e327b8a3dc6",
      "676b7e9b301243889bcef3e65fb58c14",
      "b3b19874e74347108afb5e4b1a3c9358",
      "3dcfc7cbe112444d96ddd71189279a0c",
      "5befa34a7d2749738056954d024ca452",
      "418b17a17c1a4725b2bbaf3278d9ade2",
      "fd28626b8388425aa1a5cc944e7605e8"
     ]
    },
    "id": "Zd0uvPxAaAqb",
    "outputId": "ae09f94c-370f-46a6-f209-17224642ddb9"
   },
   "outputs": [],
   "source": [
    "# data_text = data['text']\n",
    "# for i in tqdm(range(len(data))):\n",
    "#     data_text.loc[i] = ' '.join(proccess_text(data_text.loc[i]))\n",
    "# data.to_csv('drive/MyDrive/DATASETS/MachineLearning/topicmodeling/lenta-ru-proccess.csv', index=False)\n",
    "\n",
    "# препроцесинг занимает порядка двух часов, поэтому рекомендуется загрузисть\n",
    "# сразу обработанную версию\n",
    "data = pd.read_csv('drive/MyDrive/DATASETS/MachineLearning/topicmodeling/lenta-ru-proccess.csv')"
   ]
  },
  {
   "cell_type": "code",
   "execution_count": 320,
   "metadata": {},
   "outputs": [
    {
     "data": {
      "text/html": [
       "<div>\n",
       "<style scoped>\n",
       "    .dataframe tbody tr th:only-of-type {\n",
       "        vertical-align: middle;\n",
       "    }\n",
       "\n",
       "    .dataframe tbody tr th {\n",
       "        vertical-align: top;\n",
       "    }\n",
       "\n",
       "    .dataframe thead th {\n",
       "        text-align: right;\n",
       "    }\n",
       "</style>\n",
       "<table border=\"1\" class=\"dataframe\">\n",
       "  <thead>\n",
       "    <tr style=\"text-align: right;\">\n",
       "      <th></th>\n",
       "      <th>text</th>\n",
       "      <th>tags</th>\n",
       "      <th>len</th>\n",
       "      <th>date</th>\n",
       "    </tr>\n",
       "  </thead>\n",
       "  <tbody>\n",
       "    <tr>\n",
       "      <th>0</th>\n",
       "      <td>1 сентябрь весь территория россия вводиться но...</td>\n",
       "      <td>Все</td>\n",
       "      <td>1654</td>\n",
       "      <td>31-08-1999</td>\n",
       "    </tr>\n",
       "    <tr>\n",
       "      <th>1</th>\n",
       "      <td>сведение миссия оон , передаваемый риа \" новос...</td>\n",
       "      <td>Все</td>\n",
       "      <td>1086</td>\n",
       "      <td>31-08-1999</td>\n",
       "    </tr>\n",
       "    <tr>\n",
       "      <th>2</th>\n",
       "      <td>15 представитель национал - большевистский пар...</td>\n",
       "      <td>Все</td>\n",
       "      <td>1219</td>\n",
       "      <td>31-08-1999</td>\n",
       "    </tr>\n",
       "    <tr>\n",
       "      <th>3</th>\n",
       "      <td>наметить сегодняшний день церемония вступление...</td>\n",
       "      <td>Все</td>\n",
       "      <td>3094</td>\n",
       "      <td>31-08-1999</td>\n",
       "    </tr>\n",
       "    <tr>\n",
       "      <th>4</th>\n",
       "      <td>юг киргизия , именно баткенский чон - алайском...</td>\n",
       "      <td>Все</td>\n",
       "      <td>1354</td>\n",
       "      <td>31-08-1999</td>\n",
       "    </tr>\n",
       "    <tr>\n",
       "      <th>...</th>\n",
       "      <td>...</td>\n",
       "      <td>...</td>\n",
       "      <td>...</td>\n",
       "      <td>...</td>\n",
       "    </tr>\n",
       "    <tr>\n",
       "      <th>863280</th>\n",
       "      <td>популярный место среди турист мурманский облас...</td>\n",
       "      <td>Россия</td>\n",
       "      <td>1231</td>\n",
       "      <td>11-09-2020</td>\n",
       "    </tr>\n",
       "    <tr>\n",
       "      <th>863281</th>\n",
       "      <td>рейтинг международный рейтинговый агентство s ...</td>\n",
       "      <td>NaN</td>\n",
       "      <td>1425</td>\n",
       "      <td>11-09-2020</td>\n",
       "    </tr>\n",
       "    <tr>\n",
       "      <th>863282</th>\n",
       "      <td>российский учёный найти якутия новый подвид ар...</td>\n",
       "      <td>События</td>\n",
       "      <td>1299</td>\n",
       "      <td>11-09-2020</td>\n",
       "    </tr>\n",
       "    <tr>\n",
       "      <th>863283</th>\n",
       "      <td>указание коронавирус причина смерть человек не...</td>\n",
       "      <td>Общество</td>\n",
       "      <td>2061</td>\n",
       "      <td>11-09-2020</td>\n",
       "    </tr>\n",
       "    <tr>\n",
       "      <th>863284</th>\n",
       "      <td>президент сша дональд трамп стать посредник но...</td>\n",
       "      <td>Политика</td>\n",
       "      <td>1020</td>\n",
       "      <td>11-09-2020</td>\n",
       "    </tr>\n",
       "  </tbody>\n",
       "</table>\n",
       "<p>863285 rows × 4 columns</p>\n",
       "</div>"
      ],
      "text/plain": [
       "                                                     text      tags   len  \\\n",
       "0       1 сентябрь весь территория россия вводиться но...       Все  1654   \n",
       "1       сведение миссия оон , передаваемый риа \" новос...       Все  1086   \n",
       "2       15 представитель национал - большевистский пар...       Все  1219   \n",
       "3       наметить сегодняшний день церемония вступление...       Все  3094   \n",
       "4       юг киргизия , именно баткенский чон - алайском...       Все  1354   \n",
       "...                                                   ...       ...   ...   \n",
       "863280  популярный место среди турист мурманский облас...    Россия  1231   \n",
       "863281  рейтинг международный рейтинговый агентство s ...       NaN  1425   \n",
       "863282  российский учёный найти якутия новый подвид ар...   События  1299   \n",
       "863283  указание коронавирус причина смерть человек не...  Общество  2061   \n",
       "863284  президент сша дональд трамп стать посредник но...  Политика  1020   \n",
       "\n",
       "              date  \n",
       "0       31-08-1999  \n",
       "1       31-08-1999  \n",
       "2       31-08-1999  \n",
       "3       31-08-1999  \n",
       "4       31-08-1999  \n",
       "...            ...  \n",
       "863280  11-09-2020  \n",
       "863281  11-09-2020  \n",
       "863282  11-09-2020  \n",
       "863283  11-09-2020  \n",
       "863284  11-09-2020  \n",
       "\n",
       "[863285 rows x 4 columns]"
      ]
     },
     "execution_count": 320,
     "metadata": {},
     "output_type": "execute_result"
    }
   ],
   "source": [
    "data"
   ]
  },
  {
   "cell_type": "markdown",
   "metadata": {},
   "source": [
    "## Перевод данных в формат данных для bigartm (+ деление на train/valid)"
   ]
  },
  {
   "cell_type": "code",
   "execution_count": null,
   "metadata": {},
   "outputs": [],
   "source": [
    "filename_valid = 'drive/MyDrive/DATASETS/MachineLearning/topicmodeling/texts_valid.vw.txt'\n",
    "filename_train = 'drive/MyDrive/DATASETS/MachineLearning/topicmodeling/texts_train.vw.txt'\n",
    "\n",
    "y_train = []\n",
    "y_valid = []\n",
    "\n",
    "counter_train = 0\n",
    "counter_valid = 0\n",
    "\n",
    "reg = re.compile(r'\\W+')\n",
    "with open(filename_valid, 'w') as fout_valid:\n",
    "    with open(filename_train, 'w') as fout_train:\n",
    "        for i in tqdm(range(len(data))):\n",
    "            text = (reg.sub(' ', data.loc[i]['text']).strip()).split()\n",
    "            label = '_'.join(data.loc[i]['date'].split('-')[1:])\n",
    "\n",
    "\n",
    "            if len(text) > 100:\n",
    "                if (i + 1) % 100 == 0:\n",
    "                    fout_valid.write('doc_{} {} |@month class_{}\\n'.format(counter_train, ' '.join(text), label))\n",
    "                    counter_train += 1\n",
    "                    y_valid.append(str(data.loc[i]['tags']).lower().strip())\n",
    "                else:\n",
    "                    fout_train.write('doc_{} {} |@month class_{}\\n'.format(counter_valid, ' '.join(text), label))\n",
    "                    counter_valid += 1\n",
    "                    y_train.append(str(data.loc[i]['tags']).lower().strip())\n",
    "                    "
   ]
  },
  {
   "cell_type": "code",
   "execution_count": null,
   "metadata": {},
   "outputs": [],
   "source": [
    "# освободим немного память\n",
    "del data\n",
    "\n",
    "gc.collect()"
   ]
  },
  {
   "cell_type": "code",
   "execution_count": 177,
   "metadata": {},
   "outputs": [
    {
     "name": "stdout",
     "output_type": "stream",
     "text": [
      "doc_0 причина смерть меньший мера 34 малазийский ребёнок возраст 5 месяц 7 год стать неизвестный вирус вызывающий прекращение деятельность сердце мозг утверждать учёный проводить свой исследование страна это сегодня утром сообщить радиостанция ввс первоначально предполагаться причина смерть стать давно известный врач сезонный лихорадка однако поздний выясниться сердце мозг ребёнок поразить неизвестный вирус наблюдение пациент госпиталь субить опубликовать исследователь журнал the lancet доказать большинство умерший ребёнок развиться миокардит воспаление мозг вызвать сезонный лихорадка возбудитель болезнь признанный аденовирус назвать учёный agent y правило аденовирус опасный жизнь вызывать нетяжелый заболевание тип известный простуда однако именно agent y обнаружить исследование ткань сердце мозг погибший ребёнок учёный вынудить признать видимо речь идти новый разновидность вирус возникнуть южный азия утверждение bbc вспышка похожий заболевание произойти 1998 год тайвань |@month class_09_1999\r\n",
      "doc_1 центральный разведывательный управление сша основать силиконовый долина компания деятельность который посвятить поддержка новый разработка область технология сообщать cnn цру получить конгресс сша 28 5 миллион доллар основание компания in q it сфера компетенция in q it войти инвестирование конкретный разработка информационный обеспечение американский университет участие совместный инициатива решение проблема безопасность интернет организация поиск информация далее разумеется цру планировать использовать разработка компания свой деятельность хотя in q it будущее собираться обслуживать коммерческий клиент предполагаться компания время стать самостоятельный приблизительный годовой бюджет около 100 миллион доллар совет директор in q it войти частность бывший министр оборона уильям перри директор исследовательский центр xerox corporation пасть альто бывший президент at t алекс мэндло in q it аббревиатура который in означать intelligence разведка it информационный технология q включить честь эксперт q сериал джеймс бонд цру демонстрировать наличие чувство юмор |@month class_09_1999\r\n"
     ]
    }
   ],
   "source": [
    "!head -2 drive/MyDrive/DATASETS/MachineLearning/topicmodeling/texts_valid.vw.txt"
   ]
  },
  {
   "cell_type": "code",
   "execution_count": 178,
   "metadata": {},
   "outputs": [
    {
     "name": "stdout",
     "output_type": "stream",
     "text": [
      "6604 drive/MyDrive/DATASETS/MachineLearning/topicmodeling/texts_valid.vw.txt\r\n"
     ]
    }
   ],
   "source": [
    "!wc -l drive/MyDrive/DATASETS/MachineLearning/topicmodeling/texts_valid.vw.txt"
   ]
  },
  {
   "cell_type": "code",
   "execution_count": 179,
   "metadata": {},
   "outputs": [
    {
     "name": "stdout",
     "output_type": "stream",
     "text": [
      "doc_0 1 сентябрь весь территория россия вводиться новый форма таможенный декларация физический лицо пояснить государственный таможенный комитет гтк форма декларация который одобрить совет руководитель таможенный служба государство участник содружество являться единый территория весь страна снг исключение армения данные итар тасс новый декларация содержаться подробный перечень товар подлежащее обязательный декларирование впервые число включить ядовитый сильно действующий вещество лекарство радиоактивный материал объект флор фауна также высокочастотный радио электронный устройство средство связь частность система радиолокация кабельный телевидение средство мобильный связь частота выше 9 килогерц кроме декларация необходимый приводить подробный сведение ввозить вывозить транспортный средство вид машинs год выпуск объесть двигатель номер двигатель кузов шасси россия новый форма декларация наряду прежний применяться 1 август лишь московский таможенный пункт шереметьево внуково домодедово чкаловский железнодорожный вокзал вводиться весь территория страна преимущество новый декларация пояснить гтк являться единый территория 11 государство снг подписать соглашение который пока присоединиться лишь армения вестись конструктивный переговоры новый таможенный декларация вступить сила территория украина белоруссия государство снг заявить свой готовность ввести свой территория концатекущий год |@month class_08_1999\r\n",
      "doc_1 сведение миссия оон передаваемый риа новость голосование вопрос самопределении бывший колония принять участие 95 зарегистрировать избиратель подсчёт голос начаться среда анонимный сначала присутствие свидетель вскрыть весь опечатать коробка затем весь бюллетень перемешать невозможно определить откуда поступить начаться подсчёт принцип голосование весь избиратель участок сообщать риа новость администрация клинтон отмечать чрезвычайный явка успех провести восточный тимор референдум вопрос независимость индонезийский провинция сша призывать весь участник признать результат референдум вне зависимость исход голосование сказать заместитель официальный представитель госдепартамент сша джеймс фоуля указывать случай насилие отметить время референдум представитель госдепартамент подчеркнуть ответственность правительство индонезия обеспечение порядок время подсчёт голос последующий этап решение проблема восточный тимор |@month class_08_1999\r\n"
     ]
    }
   ],
   "source": [
    "!head -2 drive/MyDrive/DATASETS/MachineLearning/topicmodeling/texts_train.vw.txt"
   ]
  },
  {
   "cell_type": "code",
   "execution_count": 180,
   "metadata": {},
   "outputs": [
    {
     "name": "stdout",
     "output_type": "stream",
     "text": [
      "653795 drive/MyDrive/DATASETS/MachineLearning/topicmodeling/texts_train.vw.txt\r\n"
     ]
    }
   ],
   "source": [
    "!wc -l drive/MyDrive/DATASETS/MachineLearning/topicmodeling/texts_train.vw.txt"
   ]
  },
  {
   "cell_type": "markdown",
   "metadata": {},
   "source": [
    "# BigARTM модель"
   ]
  },
  {
   "cell_type": "code",
   "execution_count": 181,
   "metadata": {},
   "outputs": [],
   "source": [
    "import artm\n",
    "import pyLDAvis"
   ]
  },
  {
   "cell_type": "code",
   "execution_count": 182,
   "metadata": {},
   "outputs": [
    {
     "name": "stdout",
     "output_type": "stream",
     "text": [
      "0.9.2\n"
     ]
    }
   ],
   "source": [
    "artm.ARTM(num_topics=1)\n",
    "print(artm.version())"
   ]
  },
  {
   "cell_type": "markdown",
   "metadata": {},
   "source": [
    "## Создаем батчи"
   ]
  },
  {
   "cell_type": "code",
   "execution_count": 185,
   "metadata": {},
   "outputs": [],
   "source": [
    "bv_train = artm.BatchVectorizer(data_path=filename_train, \n",
    "                                data_format='vowpal_wabbit', \n",
    "                                batch_size=10000, \n",
    "                                target_folder='drive/MyDrive/DATASETS/MachineLearning/topicmodeling/batches_train')\n"
   ]
  },
  {
   "cell_type": "code",
   "execution_count": 187,
   "metadata": {},
   "outputs": [],
   "source": [
    "# Важно, пути target_folder должны быть отличны от предыдущей\n",
    "bv_test = artm.BatchVectorizer(data_path=filename_valid, \n",
    "                               data_format='vowpal_wabbit', \n",
    "                               batch_size=10000, \n",
    "                               target_folder='drive/MyDrive/DATASETS/MachineLearning/topicmodeling/batches_valid')\n",
    "\n"
   ]
  },
  {
   "cell_type": "markdown",
   "metadata": {},
   "source": [
    "## Создаем словарь слов по заданым батчам"
   ]
  },
  {
   "cell_type": "code",
   "execution_count": 188,
   "metadata": {},
   "outputs": [],
   "source": [
    "dictionary = artm.Dictionary()\n",
    "dictionary.gather(data_path='drive/MyDrive/DATASETS/MachineLearning/topicmodeling/batches_train')"
   ]
  },
  {
   "cell_type": "markdown",
   "metadata": {},
   "source": [
    "## Инициализируем модель"
   ]
  },
  {
   "cell_type": "code",
   "execution_count": 189,
   "metadata": {},
   "outputs": [],
   "source": [
    "model = artm.ARTM(num_topics=200,\n",
    "                  dictionary=dictionary, \n",
    "                  class_ids={'@default_class': 1.0, \n",
    "                             '@month': 10.0})\n",
    "\n",
    "model.scores.add(artm.PerplexityScore(name='perplexity', dictionary=bv.dictionary))\n",
    "model.scores.add(artm.TopTokensScore(name='top-tokens', num_tokens=10))\n",
    "model.scores.add(artm.SparsityPhiScore(name='sparsity', class_id='@month'))"
   ]
  },
  {
   "cell_type": "markdown",
   "metadata": {},
   "source": [
    "## Обучаем модель с самого начала, без регуляризаторов"
   ]
  },
  {
   "cell_type": "code",
   "execution_count": 272,
   "metadata": {},
   "outputs": [
    {
     "data": {
      "application/vnd.jupyter.widget-view+json": {
       "model_id": "a2337652b3244a6ca8dc9f11777889b1",
       "version_major": 2,
       "version_minor": 0
      },
      "text/plain": [
       "HBox(children=(IntProgress(value=0, max=1), HTML(value='')))"
      ]
     },
     "metadata": {},
     "output_type": "display_data"
    },
    {
     "name": "stdout",
     "output_type": "stream",
     "text": [
      "\n"
     ]
    }
   ],
   "source": [
    "iterator = tqdm(range(1))\n",
    "for i in iterator:\n",
    "    model.fit_offline(bv_train, num_collection_passes=1)\n",
    "    iterator.set_postfix({'perplexity': model.score_tracker['perplexity'].value[-1],  \n",
    "                          'sparsity': model.score_tracker['sparsity'].value[-1],})"
   ]
  },
  {
   "cell_type": "code",
   "execution_count": 193,
   "metadata": {},
   "outputs": [],
   "source": [
    "# model.dump_artm_model('drive/MyDrive/DATASETS/MachineLearning/topicmodeling/model/without_regular')"
   ]
  },
  {
   "cell_type": "markdown",
   "metadata": {},
   "source": [
    "## Анализ скоров моделей"
   ]
  },
  {
   "cell_type": "code",
   "execution_count": 198,
   "metadata": {},
   "outputs": [
    {
     "data": {
      "image/png": "[encoded data removed]",
      "text/plain": [
       "<Figure size 432x288 with 1 Axes>"
      ]
     },
     "metadata": {
      "needs_background": "light"
     },
     "output_type": "display_data"
    }
   ],
   "source": [
    "plt.plot(model.score_tracker['sparsity'].value, label = 'sparsity')\n",
    "\n",
    "plt.legend(loc = 'best')\n",
    "\n",
    "plt.xlabel('iteration')\n",
    "plt.ylabel('score')\n",
    "plt.show()"
   ]
  },
  {
   "cell_type": "code",
   "execution_count": 199,
   "metadata": {},
   "outputs": [
    {
     "data": {
      "image/png": "[encoded data removed]",
      "text/plain": [
       "<Figure size 432x288 with 1 Axes>"
      ]
     },
     "metadata": {
      "needs_background": "light"
     },
     "output_type": "display_data"
    }
   ],
   "source": [
    "plt.plot(model.score_tracker['perplexity'].value, label = 'perplexity')\n",
    "\n",
    "plt.legend(loc = 'best')\n",
    "\n",
    "plt.xlabel('iteration')\n",
    "plt.ylabel('score')\n",
    "plt.show()"
   ]
  },
  {
   "cell_type": "markdown",
   "metadata": {},
   "source": [
    "## Посмотрим на полученые топики"
   ]
  },
  {
   "cell_type": "code",
   "execution_count": 192,
   "metadata": {
    "scrolled": true
   },
   "outputs": [
    {
     "name": "stdout",
     "output_type": "stream",
     "text": [
      "['учёный', 'исследование', 'который', 'исследователь', 'человек', 'анализ', 'вывод', 'клетка', 'журнал', 'это']\n",
      "['английский', 'перейти', 'переход', 'лондонский', 'англия', 'который', 'челси', 'манчестер', 'арсенал', 'это']\n",
      "['германия', 'немецкий', 'который', 'берлин', 'фрг', 'меркель', 'канцлер', 'свой', 'ангел', 'австрия']\n",
      "['создать', 'создание', 'зона', 'который', 'конференция', 'структура', 'объединить', 'новый', 'объединение', 'весь']\n",
      "['решение', 'принять', 'должный', 'срок', 'договор', 'условие', 'документ', 'отказ', 'подписать', 'отказаться']\n",
      "['заявление', 'отношение', 'ситуация', 'выразить', 'мид', 'заявить', 'позиция', 'свой', 'подчеркнуть', 'интерес']\n",
      "['министерство', 'ведомство', 'чиновник', 'внутренний', 'департамент', 'государственный', 'анатолий', 'глава', 'оборона', 'юстиция']\n",
      "['октябрь', '17', '23', '26', '18', '13', '21', '27', '14', 'это']\n",
      "['июль', 'культура', 'это', 'который', 'деятель', 'вино', 'сообщать', 'никита', 'также', 'соколов']\n",
      "['индия', 'индийский', 'пакистан', 'послание', 'который', 'пакистанский', 'сообщать', 'это', 'сентябрь', 'дубай']\n",
      "['долг', 'фирма', 'имущество', 'управлять', 'менеджер', 'принадлежащий', 'задолженность', 'претензия', 'собственность', 'оао']\n",
      "['сайт', 'сообщение', 'говориться', 'опубликовать', 'письмо', 'обращение', 'официальный', 'отмечаться', 'материал', 'публикация']\n",
      "['преступление', 'совершить', 'подозревать', 'преступник', 'совершение', 'совершенный', 'личность', 'розыск', 'который', 'совершать']\n",
      "['форма', 'одежда', 'носить', 'вещий', 'костюм', 'женский', 'характер', 'модный', 'дизайнер', 'обувь']\n",
      "['боевик', 'азербайджан', 'армения', 'дагестан', 'силовой', 'уничтожить', 'ингушетия', 'район', 'фсб', 'спецоперация']\n",
      "['минута', 'счёт', 'й', 'матч', '0', 'очки', '1', 'победа', 'встреча', 'ворот']\n",
      "['декабрь', 'ноябрь', 'это', 'ким', 'стать', 'джонсон', 'сообщить', 'сообщать', '15', 'который']\n",
      "['нью', 'йорк', 'австралия', 'австралийский', 'де', 'бельгия', 'йоркский', 'пригород', 'который', 'сообщать']\n",
      "['турист', 'билет', 'отель', 'поездка', 'отправиться', 'посетить', 'номер', 'гостиница', 'направление', 'отдых']\n",
      "['европейский', 'европа', 'союз', 'ес', 'евросоюз', 'отменить', 'ассоциация', 'свободный', 'отмена', 'вступление']\n",
      "['сотрудничество', 'совместный', 'партнёр', 'форум', 'роснефть', 'деловой', 'энергетический', 'электроэнергия', 'энергетика', 'экономический']\n",
      "['год', '2007', '2006', '2005', '2004', 'напомнить', 'сообщать', '2008', 'сигарета', 'агентство']\n",
      "['безопасность', 'сила', 'проведение', 'угроза', 'мера', 'нато', 'обеспечение', 'обеспечить', 'альянс', 'также']\n",
      "['александр', 'белоруссия', 'белорусский', 'лукашенко', 'минск', 'литва', 'президент', 'это', 'который', 'республика']\n",
      "['управление', 'проверка', 'начальник', 'мвд', 'отдел', 'юрий', 'главный', 'заместитель', 'взятка', 'руководитель']\n",
      "['год', '2009', '2010', '2012', '2011', '2008', 'прошлое', 'конец', 'январь', '2000']\n",
      "['грузия', 'грузинский', 'осетия', 'саакашвили', 'абхазия', 'южный', 'тбилиси', 'президент', 'республика', 'михаил']\n",
      "['женщина', 'мужчина', 'летний', 'рука', 'попытаться', 'нога', 'жительница', 'голова', 'это', 'домой']\n",
      "['россия', 'российский', 'рф', 'россиянин', 'тасс', 'это', 'международный', 'интерфакс', 'федерация', 'отметить']\n",
      "['комитет', 'олимпийский', 'сочи', 'спортсмен', 'игра', 'олимпиада', 'международный', 'допинг', 'это', 'отстранить']\n",
      "['пара', 'сексуальный', 'брак', 'принц', 'королевский', 'королева', 'насилие', 'секс', 'король', 'отношение']\n",
      "['год', 'война', 'х', 'советский', 'ссср', '1990', 'история', 'великий', 'память', 'отечественный']\n",
      "['налог', 'налоговый', 'юкос', 'ходорковский', 'компания', 'который', 'уплата', 'тнк', 'михаил', 'bp']\n",
      "['вызвать', 'назвать', 'это', 'свой', 'который', 'критика', 'ошибка', 'заявить', 'повод', 'принести']\n",
      "['квартира', 'жильё', 'недвижимость', 'дом', 'помещение', 'аренда', 'стоимость', 'жилищный', 'ремонт', 'комната']\n",
      "['свой', 'хотеть', 'друг', 'человек', 'знать', 'жизнь', 'рассказать', 'весь', 'признаться', 'просто']\n",
      "['город', 'житель', 'местный', 'человек', 'население', 'район', 'эстония', 'мигрант', 'деревня', 'беженец']\n",
      "['москва', 'московский', 'столица', 'столичный', 'улица', 'метро', 'станция', 'москвич', 'также', 'департамент']\n",
      "['человек', 'погибнуть', 'взрыв', 'погибший', 'теракт', 'жертва', 'результат', 'гибель', 'данные', 'число']\n",
      "['хороший', 'премия', 'книга', 'церемония', 'роман', 'награда', 'получить', 'писатель', 'номинация', 'приз']\n",
      "['ru', 'портал', 'передача', 'шоу', 'который', 'нтв', 'медиа', 'выпуск', 'это', 'также']\n",
      "['партия', 'единый', 'лидер', 'депутат', 'политический', 'госдума', 'демократический', 'политик', 'кпрф', 'член']\n",
      "['матч', 'клуб', 'лига', 'футбольный', 'спартак', 'цска', 'зенит', 'стадион', 'болельщик', 'пол']\n",
      "['сша', 'американский', 'американец', 'который', 'америка', 'соединить', 'сообщать', 'свой', 'reuters', 'street']\n",
      "['место', 'список', 'рейтинг', 'занять', 'третье', 'самый', 'второе', 'первое', 'оказаться', 'занимать']\n",
      "['производство', 'предприятие', 'завод', 'оборудование', 'заказ', 'промышленный', 'промышленность', 'производить', 'произвести', 'производитель']\n",
      "['военный', 'войско', 'армия', 'военнослужащий', 'сила', 'генерал', 'вооружённый', 'солдат', 'подразделение', 'оборона']\n",
      "['сеть', 'социальный', 'facebook', 'страница', 'соцсеть', 'свой', 'вконтакте', 'это', 'написать', 'который']\n",
      "['военный', 'действие', 'операция', 'база', 'удар', 'нанести', 'территория', 'это', 'пентагон', 'уничтожение']\n",
      "['france', 'presse', 'египет', 'agence', 'ливия', 'январь', 'который', 'каддафи', 'сообщать', 'египетский']\n",
      "['машина', 'автомобиль', 'дорога', 'водитель', 'движение', 'автобус', 'транспортный', 'дорожный', 'транспорт', 'авария']\n",
      "['оон', 'польша', 'постоянный', 'польский', 'делегация', 'резолюция', 'миссия', 'гуманитарный', 'международный', 'совбез']\n",
      "['корабль', 'морской', 'флот', 'лодка', 'подводный', 'вмс', 'мор', 'проект', 'вмф', 'море']\n",
      "['мэр', 'городской', 'памятник', 'это', 'исторический', 'который', 'лужков', 'администрация', 'мэрия', 'здание']\n",
      "['полиция', 'полицейский', 'наркотик', 'порядок', 'который', 'сотрудник', 'сообщать', 'бросить', 'вещество', 'стража']\n",
      "['иран', 'ядерный', 'посольство', 'дипломат', 'посол', 'иранский', 'дипломатический', 'тегеран', 'представительство', 'февраль']\n",
      "['пожар', 'мчс', 'авария', 'пожарный', 'ликвидация', 'последствие', 'чрезвычайный', 'экологический', 'склад', 'возгорание']\n",
      "['100', 'торговый', 'торговля', 'знак', 'алкоголь', 'это', 'напиток', 'который', 'пиво', 'алкогольный']\n",
      "['май', 'июнь', '2016', 'го', '2017', 'год', 'это', 'конец', '22', '12']\n",
      "['самолёт', 'аэропорт', 'авиакомпания', 'пассажир', 'рейс', 'борт', 'полёт', 'воздушный', 'пилот', 'лайнер']\n",
      "['суд', 'признать', 'иск', 'подать', 'судебный', 'адвокат', 'приговор', 'судья', 'решение', 'жалоба']\n",
      "['март', 'режим', 'это', 'закрытый', 'скорее', 'обращаться', 'который', 'регулярно', 'опасность', 'закрыть']\n",
      "['газпром', 'газа', 'поставка', 'контракт', 'газ', 'поток', 'кубометр', 'газовый', 'газопровод', 'топливо']\n",
      "['фильм', 'роль', 'картина', 'режиссёр', 'актёр', 'сыграть', 'прокат', 'главный', 'съёмка', 'который']\n",
      "['километр', 'способный', 'испытание', 'скорость', 'ракета', 'установка', 'цель', 'предназначить', 'система', 'тип']\n",
      "['испания', 'молдавия', 'испанский', 'чехия', 'дон', 'болгария', 'кипр', 'румыния', 'ростов', 'чешский']\n",
      "['нефть', 'цена', 'добыча', 'тонна', 'нефтяной', 'баррель', 'месторождение', 'запас', 'топливо', 'опека']\n",
      "['команда', 'сборный', 'тренер', 'чемпионат', 'италия', 'сборная', 'итальянский', 'матч', 'футбол', 'главный']\n",
      "['запустить', 'запуск', 'ракета', 'вывести', 'спутник', 'аппарат', 'носитель', 'успешно', 'космический', 'орбита']\n",
      "['сторона', 'переговоры', 'соглашение', 'санкция', 'против', 'договориться', 'готовый', 'обмен', 'ввести', 'шаг']\n",
      "['площадка', 'парк', 'высота', 'гора', 'стена', 'февраль', 'парка', 'который', 'это', 'дерево']\n",
      "['тысяча', 'метр', 'около', 'составлять', 'квадратный', 'площадь', 'класс', '200', '50', 'квадрат']\n",
      "['the', 'daily', 'mail', 'лос', 'guardian', 'майкл', 'анджелес', 'дэвид', 'джеймс', 'telegraph']\n",
      "['школа', 'язык', 'образование', 'институт', 'университет', 'студент', 'наука', 'учебный', 'вуз', 'академия']\n",
      "['6', 'круг', 'выиграть', 'турнир', 'финал', 'мария', 'россиянка', 'матч', 'кузнецов', 'уильямс']\n",
      "['задержать', 'орган', 'сотрудник', 'правоохранительный', 'задержание', 'незаконный', 'подозревать', 'обыск', 'изъять', 'мвд']\n",
      "['животное', 'животный', 'вид', 'птица', 'который', 'собака', 'медведь', 'рыба', 'это', 'кошка']\n",
      "['произойти', 'результат', 'инцидент', 'получить', 'нападение', 'пострадать', 'пострадавший', 'двое', 'человек', 'неизвестный']\n",
      "['устройство', 'apple', 'смартфон', 'iphone', 'компьютер', 'экран', 'windows', 'мобильный', 'операционный', 'телефон']\n",
      "['клуб', 'бразилия', 'футболист', 'барселона', 'реал', 'чемпион', 'игрок', 'аргентина', 'нападать', 'бразильский']\n",
      "['власть', 'иностранный', 'политический', 'обратиться', 'предоставить', 'просьба', 'статус', 'запрос', 'возвращение', 'родина']\n",
      "['депутат', 'парламент', 'виктор', 'верховный', 'президент', 'рад', 'конституция', 'тимошенко', 'янукович', 'блок']\n",
      "['ру', 'лента', 'поступить', 'это', 'общество', 'корреспондент', 'редакция', 'релиз', 'прима', 'далее']\n",
      "['область', 'петербург', 'санкт', 'губернатор', 'округа', 'областной', 'петербургский', 'администрация', 'автономный', 'ленинградский']\n",
      "['израиль', 'израильский', 'палестинский', 'сектор', 'газа', 'хамас', 'автономия', 'палестинец', 'еврейский', 'который']\n",
      "['украина', 'украинский', 'киев', 'порошенко', 'это', 'пётр', 'зеленский', 'киевский', 'украинец', 'который']\n",
      "['интернет', 'пользователь', 'сервис', 'доступ', 'google', 'сайт', 'приложение', 'com', 'онлайн', 'ресурс']\n",
      "['август', '29', '31', 'это', 'стать', '30', '28', 'сообщать', 'rambler', 'который']\n",
      "['издание', 'газета', 'писать', 'источник', 'ссылка', 'данные', 'коммерсант', 'отмечать', 'ведомость', 'мочь']\n",
      "['миллион', 'доллар', 'около', 'сумма', '300', '500', 'сбор', 'собрать', '200', 'заработать']\n",
      "['рука', 'это', 'человек', 'вирус', 'нужно', 'мочь', 'коронавирус', 'кашель', 'нос', 'телефон']\n",
      "['который', 'метод', 'учёный', 'волна', 'элемент', 'это', 'эксперимент', 'свет', 'использовать', 'частица']\n",
      "['апрель', 'независимость', 'сербия', 'который', 'сообщать', 'дания', 'это', 'сербский', 'косово', 'трибунал']\n",
      "['компания', 'магазин', 'корпорация', 'крупный', 'свой', 'производитель', 'который', 'конкурент', 'представитель', 'заниматься']\n",
      "['мнение', 'считать', 'проблема', 'мочь', 'эксперт', 'внимание', 'важный', 'большой', 'точка', 'пример']\n",
      "['группа', 'the', 'a', 'and', 'i', 'of', 'коллектив', 'in', 'to', 'for']\n",
      "['министр', 'правительство', 'премьер', 'вица', 'медведев', 'глава', 'кабинет', 'премьера', 'заявить', 'дмитрий']\n",
      "['килограмм', 'продукт', 'питание', 'вес', 'это', 'еда', 'также', 'который', 'стол', 'лишний']\n",
      "['летний', 'семья', 'сын', 'жена', 'отец', 'брат', 'родственник', 'дочь', 'жить', 'старший']\n",
      "['комплекс', 'вооружение', 'техника', 'ракета', 'ракетный', 'оборона', 'танк', 'стратегический', 'военный', 'система']\n",
      "['средство', 'фонд', 'бюджет', 'доход', 'расход', 'год', 'выделить', 'финансирование', 'бюджетный', 'пенсионный']\n",
      "['система', 'счёт', 'услуга', 'клиент', 'карта', 'схема', 'перевести', 'оплата', 'перевод', 'предоставлять']\n",
      "['убийство', 'смерть', 'версия', 'убитый', 'тело', 'покушение', 'убить', 'экспертиза', 'следствие', 'убийца']\n",
      "['видео', 'запись', 'ролик', 'который', 'youtube', 'снять', 'опубликовать', 'показать', 'кадр', 'посмотреть']\n",
      "['5', '2', '1', '3', '4', '6', '7', '8', '9', '10']\n",
      "['фотография', 'twitter', 'пользователь', 'опубликовать', 'снимка', 'фото', 'instagram', 'девушка', 'аккаунт', 'который']\n",
      "['автомобиль', 'машина', 'модель', 'формула', 'новый', 'двигатель', 'январь', 'также', 'автомобильный', 'автоваз']\n",
      "['музыкант', 'альбом', 'концерт', 'певица', 'песня', 'музыкальный', 'певец', 'музыка', 'исполнитель', 'песнь']\n",
      "['день', 'русский', 'следующий', 'название', 'честь', 'сегодняшний', 'праздник', 'рождение', 'днём', 'выходной']\n",
      "['музей', 'выставка', 'художник', 'искусство', 'картина', 'изображение', 'предмет', 'подарок', 'современный', 'благотворительный']\n",
      "['журналист', 'телеканал', 'канал', 'эфир', 'ведущий', 'радиостанция', 'прямая', 'телевидение', 'программа', 'сми']\n",
      "['гражданин', 'разрешение', 'документ', 'получение', 'латвия', 'паспорт', 'гражданство', 'выдать', 'въезд', 'получить']\n",
      "['реформа', 'казахстан', 'который', 'это', 'год', 'сообщать', 'президент', 'также', 'январь', 'туркмения']\n",
      "['право', 'закон', 'нарушение', 'правило', 'соответствие', 'законодательство', 'защита', 'требование', 'иметь', 'норма']\n",
      "['ирак', 'аль', 'иракский', 'саудовский', 'каеда', 'аравия', 'казнь', 'хусейн', 'террорист', 'бин']\n",
      "['вопрос', 'встреча', 'лидер', 'ход', 'разговор', 'тема', 'состояться', 'песок', 'беседа', 'саммит']\n",
      "['центр', 'зал', 'учреждение', 'би', 'исследовательский', 'инструмент', 'научно', 'библиотека', 'си', 'культурный']\n",
      "['сирия', 'боевик', 'группировка', 'сирийский', 'исламский', 'террористический', 'террорист', 'иго', 'государство', 'атака']\n",
      "['владелец', 'бизнесмен', 'предприниматель', 'основатель', 'богатый', 'миллиардер', 'forbes', 'состояние', 'бизнес', 'который']\n",
      "['пункт', 'доллар', 'процент', 'индекс', '0', 'биржа', 'торг', 'упасть', 'рынок', 'падение']\n",
      "['звезда', 'учёный', 'планета', 'земля', 'который', 'масса', 'солнечный', 'это', 'атмосфера', 'солнце']\n",
      "['штат', 'press', 'associated', 'буш', 'джон', 'джордж', 'cnn', 'калифорния', 'сообщать', 'свой']\n",
      "['s', 'продать', 'фунт', 'аукцион', 'выставить', 'заплатить', 'стерлинг', 'дорогой', 'торг', 'доллар']\n",
      "['британский', 'великобритания', 'news', 'лондон', 'bbc', 'греция', 'который', 'сообщать', 'швейцария', 'швеция']\n",
      "['работа', 'работать', 'сотрудник', 'рабочий', 'работник', 'зарплата', 'труд', 'человек', 'руководство', 'офис']\n",
      "['спорт', 'медаль', 'золотой', 'спортивный', 'соревнование', 'гонка', 'олимпийский', 'спортсмен', 'завоевать', 'чемпионат']\n",
      "['уровень', 'экономический', 'экономика', 'ставка', 'кризис', 'высокий', 'повышение', 'снижение', 'ввп', 'рост']\n",
      "['оружие', 'открыть', 'стрельба', 'пистолет', 'огонь', 'автомат', 'боеприпас', 'стрелять', 'выстрел', 'огнестрельный']\n",
      "['дата', 'копия', 'игра', 'консоль', '360', '3', 'анонсировать', 'игровой', 'xbox', 'sony']\n",
      "['участие', 'пройти', 'участник', 'принимать', 'мероприятие', 'принять', 'конкурс', 'участвовать', 'проходить', 'организатор']\n",
      "['вода', 'сильный', 'река', 'температура', 'градус', 'океан', 'ветер', 'воздух', 'вод', 'это']\n",
      "['новость', 'служба', 'пресс', 'риа', 'сентябрь', 'сообщить', 'агентство', 'передавать', 'ссылка', 'секретарь']\n",
      "['это', 'сказать', 'добавить', 'весь', 'отметить', 'наш', 'заявить', 'подчеркнуть', 'говорить', 'очень']\n",
      "['алексей', 'олег', 'полномочие', 'обязанность', 'исполнять', 'исполнение', 'навальный', 'должностной', 'временно', 'служебный']\n",
      "['ребёнок', 'возраст', 'родитель', 'детский', 'девочка', 'подросток', 'мальчик', 'несовершеннолетний', 'взрослый', 'который']\n",
      "['игра', 'of', 'студия', 'который', 'разработчик', 'проект', 'world', 'также', 'это', 'релиз']\n",
      "['деньга', 'размер', '2018', 'получать', 'получить', 'выплата', 'это', '2019', 'сумма', 'компенсация']\n",
      "['донбасс', 'народный', 'донецкий', 'республика', 'прекращение', 'конфликт', 'луганский', 'самопровозгласить', 'днр', 'украинский']\n",
      "['сергей', 'андрей', 'николай', 'евгений', 'дмитрий', 'иван', 'павел', 'максим', 'иванов', 'константин']\n",
      "['леонид', 'венесуэла', 'президент', 'гривна', 'окружение', 'колумбия', 'чавес', 'кучма', 'венгрия', 'это']\n",
      "['рубль', 'евро', 'курс', 'стоимость', 'валюта', 'минимальный', 'цена', 'резерв', 'стоить', 'составлять']\n",
      "['нижний', 'екатеринбург', 'это', 'татьяна', 'свердловский', 'казань', 'уполномоченный', 'новосибирск', 'отпуск', 'челябинский']\n",
      "['год', '2014', '2015', '2013', 'игорь', 'это', 'согласие', 'нидерланды', 'частный', 'февраль']\n",
      "['северный', 'южный', 'остров', 'япония', 'корея', 'визит', 'японский', 'кндр', 'пхеньян', 'южнокорейский']\n",
      "['франция', 'французский', 'париж', 'блэр', 'de', 'француз', 'жан', 'который', 'тони', 'парижский']\n",
      "['самолёт', 'истребитель', 'ввс', 'f', '35', 'су', 'c', 'военный', 'поставка', 'контракт']\n",
      "['регион', 'край', 'подмосковье', 'район', 'подмосковный', 'посёлок', 'губернатор', 'краснодарский', 'владивосток', 'красноярский']\n",
      "['китай', 'китайский', 'кнр', 'пекин', 'провинция', 'это', 'год', 'который', 'гонконг', 'сообщать']\n",
      "['победа', 'поражение', 'одержать', 'боец', 'победить', 'абсолютный', 'поединок', 'бой', 'ufc', 'россиянин']\n",
      "['активист', 'административный', 'ответственность', 'устроить', 'привлечь', 'сутки', 'протокол', 'десяток', 'лагерь', 'штраф']\n",
      "['акция', 'процент', 'компания', 'принадлежать', 'актив', 'акционер', 'бумага', 'инвестор', 'владеть', 'доля']\n",
      "['выйти', 'выход', 'серия', 'герой', 'выходить', 'выпустить', 'сериал', 'который', 'эпизод', 'продолжение']\n",
      "['использоваться', 'электронный', 'аппарат', 'использовать', 'использование', 'специальный', 'который', 'почта', 'помощь', 'беспилотник']\n",
      "['случай', 'коронавирус', 'выявить', 'человек', 'распространение', 'зафиксировать', 'число', 'вирус', 'пандемия', 'это']\n",
      "['дело', 'прокуратура', 'следствие', 'уголовный', 'прокурор', 'генпрокуратура', 'отношение', 'бывший', 'адвокат', 'расследование']\n",
      "['временной', 'киргизия', 'юг', 'узбекистан', 'это', 'который', 'республика', 'также', 'бакиев', 'президент']\n",
      "['оператор', 'реклама', 'связь', 'рекламный', 'тариф', 'стандарт', 'лицензия', 'фас', 'размещение', 'сотовый']\n",
      "['турция', 'турецкий', 'это', 'анкара', 'сбить', 'который', '24', 'ливан', 'заявить', 'эрдогать']\n",
      "['театр', 'фестиваль', 'артист', 'спектакль', 'сцена', 'актёр', 'театральный', 'постановка', 'опера', 'большой']\n",
      "['слово', 'заявить', 'рассказать', 'это', 'интервью', 'приводить', 'отметить', 'ничто', 'подготовка', 'мочь']\n",
      "['президент', 'сша', 'трамп', 'обама', 'вашингтон', 'администрация', 'дональд', 'белый', 'конгресс', 'барак']\n",
      "['страна', 'государство', 'международный', 'канада', 'помощь', 'африка', 'весь', 'число', 'население', 'территория']\n",
      "['президент', 'владимир', 'путин', 'крым', 'глава', 'государство', 'указ', 'россия', 'полуостров', 'рф']\n",
      "['чёрный', 'бренд', 'модель', 'красный', 'марка', 'представить', 'цвета', 'цвет', 'часы', 'дизайн']\n",
      "['статья', 'рф', 'уголовный', 'факт', 'следственный', 'возбудить', 'дело', 'комитет', 'ук', 'часть']\n",
      "['мир', 'мировой', 'этап', 'самый', 'весь', 'рекорд', 'стать', 'достижение', 'секунда', 'суметь']\n",
      "['врач', 'больница', 'состояние', 'медицинский', 'здоровье', 'помощь', 'лечение', 'смерть', 'тяжёлый', 'пациент']\n",
      "['освободить', 'захватить', 'освобождение', 'заложник', 'захват', 'похищение', 'который', 'мексика', 'похитить', 'взять']\n",
      "['акция', 'массовый', 'протест', 'человек', 'митинг', 'против', 'беспорядок', 'участник', 'оппозиция', 'площадь']\n",
      "['информация', 'сведение', 'дать', 'times', 'спецслужба', 'документ', 'опровергнуть', 'new', 'доклад', 'сми']\n",
      "['организация', 'деятельность', 'общественный', 'мусульманин', 'член', 'экстремистский', 'религиозный', 'который', 'терроризм', 'борьба']\n",
      "['федеральный', 'региональный', 'участок', 'земля', '2020', 'ресурс', 'это', 'увеличить', 'дальний', 'значение']\n",
      "['рынок', 'продажа', 'сделка', 'бизнес', 'покупка', 'приобрести', 'купить', 'покупатель', 'продавать', 'пакет']\n",
      "['строительство', 'объект', 'проект', 'построить', 'комплекс', 'площадь', 'квадратный', 'строительный', 'территория', 'строить']\n",
      "['банка', 'финансовый', 'банк', 'кредит', 'кредитный', 'сбербанк', 'цб', 'банковский', 'организация', 'вклад']\n",
      "['бой', 'всемирный', 'профессиональный', 'боксёр', 'кличко', 'чемпион', 'виталий', 'титул', 'поединок', 'собака']\n",
      "['церковь', 'храм', 'православный', 'святой', 'который', 'священник', 'папа', 'собор', 'ii', 'это']\n",
      "['выбор', 'комиссия', 'кандидат', 'голосование', 'выборы', 'президентский', 'избирательный', 'голос', 'кампания', 'избиратель']\n",
      "['миллиард', 'доллар', 'составить', 'общий', 'год', 'сложность', 'объесть', 'сумма', 'оцениваться', '1']\n",
      "['ресторан', 'быстрый', 'посетитель', 'заведение', 'кафе', 'который', 'посещать', 'гарри', 'бар', 'это']\n",
      "['обвинение', 'обвинять', 'обвинить', 'арест', 'арестовать', 'предъявить', 'расследование', 'вина', 'грозить', 'бывший']\n",
      "['граница', 'судно', 'порт', 'судный', 'груз', 'берег', 'пограничный', 'находиться', 'капитан', 'экипаж']\n",
      "['бывший', 'пост', 'глава', 'должность', 'отставка', 'назначить', 'президент', 'занимать', 'свой', 'возглавлять']\n",
      "['найти', 'обнаружить', 'век', 'год', 'останки', 'который', 'след', 'кладбище', 'фрагмент', 'находка']\n",
      "['предложить', 'законопроект', 'предложение', 'госдума', 'изменение', 'закон', 'внести', 'инициатива', 'документ', 'поправка']\n",
      "['милиция', 'конфликт', 'милиционер', 'драка', 'сотрудник', 'гувд', 'ударить', 'избить', 'шахта', 'голов']\n",
      "['вертолёт', 'западный', 'восток', 'восточный', 'запад', 'северо', 'юго', 'землетрясение', 'ми', '52']\n",
      "['станция', 'космический', 'корабль', 'полёт', 'мкс', 'космос', 'рогозин', 'прогресс', 'астронавт', 'nasa']\n",
      "['процент', 'большинство', 'результат', 'опрос', 'россиянин', 'голос', 'опросить', 'провести', 'набрать', 'это']\n",
      "['часы', '00', 'час', 'путь', 'поезд', 'около', 'приостановить', 'суббота', 'утром', 'утро']\n",
      "['молодая', 'девушка', 'выясниться', 'телефон', 'угрожать', 'знакомый', 'затем', 'судить', 'заставить', 'дверь']\n",
      "['дом', 'здание', 'поиск', 'находиться', 'пропасть', 'человек', 'спасатель', 'расположить', 'район', 'улица']\n",
      "['запретить', 'запрет', 'товар', 'продукция', 'ограничение', 'ввести', 'продукт', 'таможенный', 'экспорт', 'поставка']\n",
      "['совет', 'директор', 'председатель', 'заместитель', 'руководитель', 'генеральный', 'член', 'заседание', 'михаил', 'исполнительный']\n",
      "['процент', 'год', 'рост', 'показатель', 'вырасти', 'цена', 'сравнение', 'составить', 'квартал', 'увеличиться']\n",
      "['республика', 'чечня', 'чеченский', 'кадыров', 'глава', 'это', 'грозный', 'руслан', 'который', 'татарстан']\n",
      "['клуб', 'сезон', 'игрок', 'нхл', 'матч', 'регулярный', 'команда', 'состав', 'хоккеист', 'лига']\n",
      "['время', 'пока', 'однако', 'настоящее', 'ближний', 'пора', 'который', 'ещё', 'это', 'мочь']\n",
      "['проект', 'программа', 'развитие', 'план', 'рамка', 'планироваться', 'сфера', 'новый', 'реализация', 'поддержка']\n",
      "['свобода', 'заключение', 'приговорить', 'тюрьма', 'наказание', 'осудить', 'лишение', 'срок', 'колония', 'заключённый']\n"
     ]
    }
   ],
   "source": [
    "top_tokens = model.score_tracker['top-tokens'].last_tokens\n",
    "\n",
    "for topic_name in model.topic_names:\n",
    "    print(top_tokens[topic_name])"
   ]
  },
  {
   "cell_type": "code",
   "execution_count": null,
   "metadata": {},
   "outputs": [],
   "source": [
    "month_modal = []\n",
    "with open('drive/MyDrive/DATASETS/MachineLearning/topicmodeling/texts_train.vw.txt') as f:\n",
    "    for line in tqdm(f):\n",
    "        string = re.search(r'@month class_(\\d\\d_\\d\\d\\d\\d)\\n', line).group(1)\n",
    "        month_modal.append(datetime.datetime.strptime(string, '%m_%Y'))\n",
    "\n",
    "month_modal = np.array(month_modal)"
   ]
  },
  {
   "cell_type": "code",
   "execution_count": 201,
   "metadata": {},
   "outputs": [],
   "source": [
    "predict = model.transform(bv_train)"
   ]
  },
  {
   "cell_type": "code",
   "execution_count": 202,
   "metadata": {},
   "outputs": [],
   "source": [
    "unique_modal = np.unique(month_modal)"
   ]
  },
  {
   "cell_type": "code",
   "execution_count": null,
   "metadata": {},
   "outputs": [],
   "source": [
    "mean_vectors = []\n",
    "for modal in tqdm(unique_modal):\n",
    "    mean_vectors.append(predict[np.where(month_modal == modal)[0]].values.mean(axis=-1))\n",
    "    \n",
    "mean_vectors = np.array(mean_vectors)"
   ]
  },
  {
   "cell_type": "code",
   "execution_count": 234,
   "metadata": {},
   "outputs": [
    {
     "data": {
      "image/png": "[encoded data removed]",
      "text/plain": [
       "<Figure size 8640x576 with 2 Axes>"
      ]
     },
     "metadata": {
      "needs_background": "light"
     },
     "output_type": "display_data"
    }
   ],
   "source": [
    "fig = plt.figure(figsize=(120, 8))\n",
    "\n",
    "im = plt.imshow(mean_vectors.T, cmap='gray')\n",
    "_ = fig.colorbar(im)\n",
    "\n",
    "plt.show()"
   ]
  },
  {
   "cell_type": "markdown",
   "metadata": {},
   "source": [
    "### Очень много явных топиков (большой шум на изображении)\n",
    "Посмотрим на эти пики"
   ]
  },
  {
   "cell_type": "code",
   "execution_count": 242,
   "metadata": {
    "scrolled": false
   },
   "outputs": [
    {
     "name": "stdout",
     "output_type": "stream",
     "text": [
      "1914-09 фотография,twitter,пользователь,опубликовать,снимка,фото,instagram,девушка,аккаунт,который\n",
      "1999-08 северный,южный,остров,япония,корея,визит,японский,кндр,пхеньян,южнокорейский\n",
      "2000-01 индия,индийский,пакистан,послание,который,пакистанский,сообщать,это,сентябрь,дубай\n",
      "2000-02 республика,чечня,чеченский,кадыров,глава,это,грозный,руслан,который,татарстан\n",
      "2000-12 пожар,мчс,авария,пожарный,ликвидация,последствие,чрезвычайный,экологический,склад,возгорание\n",
      "2001-03 фильм,роль,картина,режиссёр,актёр,сыграть,прокат,главный,съёмка,который\n",
      "2001-05 фильм,роль,картина,режиссёр,актёр,сыграть,прокат,главный,съёмка,который\n",
      "2001-08 часы,00,час,путь,поезд,около,приостановить,суббота,утром,утро\n",
      "2001-11 минута,счёт,й,матч,0,очки,1,победа,встреча,ворот\n",
      "2002-05 израиль,израильский,палестинский,сектор,газа,хамас,автономия,палестинец,еврейский,который\n",
      "2002-06 израиль,израильский,палестинский,сектор,газа,хамас,автономия,палестинец,еврейский,который\n",
      "2002-08 грузия,грузинский,осетия,саакашвили,абхазия,южный,тбилиси,президент,республика,михаил\n",
      "2002-12 республика,чечня,чеченский,кадыров,глава,это,грозный,руслан,который,татарстан\n",
      "2003-04 создать,создание,зона,который,конференция,структура,объединить,новый,объединение,весь\n",
      "2003-07 ирак,аль,иракский,саудовский,каеда,аравия,казнь,хусейн,террорист,бин\n",
      "2003-08 дом,здание,поиск,находиться,пропасть,человек,спасатель,расположить,район,улица\n",
      "2003-12 выбор,комиссия,кандидат,голосование,выборы,президентский,избирательный,голос,кампания,избиратель\n",
      "2004-06 команда,сборный,тренер,чемпионат,италия,сборная,итальянский,матч,футбол,главный\n",
      "2004-08 ирак,аль,иракский,саудовский,каеда,аравия,казнь,хусейн,террорист,бин\n",
      "2004-09 израиль,израильский,палестинский,сектор,газа,хамас,автономия,палестинец,еврейский,который\n",
      "2006-04 апрель,независимость,сербия,который,сообщать,дания,это,сербский,косово,трибунал\n",
      "2006-08 год,2007,2006,2005,2004,напомнить,сообщать,2008,сигарета,агентство\n",
      "2007-02 создать,создание,зона,который,конференция,структура,объединить,новый,объединение,весь\n",
      "2007-08 налог,налоговый,юкос,ходорковский,компания,который,уплата,тнк,михаил,bp\n",
      "2007-10 акция,процент,компания,принадлежать,актив,акционер,бумага,инвестор,владеть,доля\n",
      "2007-12 год,2007,2006,2005,2004,напомнить,сообщать,2008,сигарета,агентство\n",
      "2008-01 английский,перейти,переход,лондонский,англия,который,челси,манчестер,арсенал,это\n",
      "2008-07 дата,копия,игра,консоль,360,3,анонсировать,игровой,xbox,sony\n",
      "2008-10 банка,финансовый,банк,кредит,кредитный,сбербанк,цб,банковский,организация,вклад\n",
      "2009-04 процент,год,рост,показатель,вырасти,цена,сравнение,составить,квартал,увеличиться\n",
      "2010-01 время,пока,однако,настоящее,ближний,пора,который,ещё,это,мочь\n",
      "2011-02 английский,перейти,переход,лондонский,англия,который,челси,манчестер,арсенал,это\n",
      "2011-07 июль,культура,это,который,деятель,вино,сообщать,никита,также,соколов\n",
      "2011-10 октябрь,17,23,26,18,13,21,27,14,это\n",
      "2012-01 реформа,казахстан,который,это,год,сообщать,президент,также,январь,туркмения\n",
      "2012-02 игра,of,студия,который,разработчик,проект,world,также,это,релиз\n",
      "2013-10 реформа,казахстан,который,это,год,сообщать,президент,также,январь,туркмения\n",
      "2014-03 президент,владимир,путин,крым,глава,государство,указ,россия,полуостров,рф\n",
      "2015-01 произойти,результат,инцидент,получить,нападение,пострадать,пострадавший,двое,человек,неизвестный\n",
      "2015-02 донбасс,народный,донецкий,республика,прекращение,конфликт,луганский,самопровозгласить,днр,украинский\n",
      "2015-12 турция,турецкий,это,анкара,сбить,который,24,ливан,заявить,эрдогать\n",
      "2016-04 учёный,исследование,который,исследователь,человек,анализ,вывод,клетка,журнал,это\n",
      "2016-06 май,июнь,2016,го,2017,год,это,конец,22,12\n",
      "2016-08 август,29,31,это,стать,30,28,сообщать,rambler,который\n",
      "2016-11 декабрь,ноябрь,это,ким,стать,джонсон,сообщить,сообщать,15,который\n",
      "2017-01 вызвать,назвать,это,свой,который,критика,ошибка,заявить,повод,принести\n",
      "2017-03 ру,лента,поступить,это,общество,корреспондент,редакция,релиз,прима,далее\n",
      "2017-05 турция,турецкий,это,анкара,сбить,который,24,ливан,заявить,эрдогать\n",
      "2017-12 форма,одежда,носить,вещий,костюм,женский,характер,модный,дизайнер,обувь\n",
      "2018-01 женщина,мужчина,летний,рука,попытаться,нога,жительница,голова,это,домой\n",
      "2018-02 комитет,олимпийский,сочи,спортсмен,игра,олимпиада,международный,допинг,это,отстранить\n",
      "2018-03 фотография,twitter,пользователь,опубликовать,снимка,фото,instagram,девушка,аккаунт,который\n",
      "2018-07 вызвать,назвать,это,свой,который,критика,ошибка,заявить,повод,принести\n",
      "2018-10 это,сказать,добавить,весь,отметить,наш,заявить,подчеркнуть,говорить,очень\n",
      "2019-01 дом,здание,поиск,находиться,пропасть,человек,спасатель,расположить,район,улица\n",
      "2019-10 временной,киргизия,юг,узбекистан,это,который,республика,также,бакиев,президент\n",
      "2020-01 france,presse,египет,agence,ливия,январь,который,каддафи,сообщать,египетский\n",
      "2020-03 рука,это,человек,вирус,нужно,мочь,коронавирус,кашель,нос,телефон\n",
      "2020-04 рука,это,человек,вирус,нужно,мочь,коронавирус,кашель,нос,телефон\n",
      "2020-07 случай,коронавирус,выявить,человек,распространение,зафиксировать,число,вирус,пандемия,это\n"
     ]
    }
   ],
   "source": [
    "for modal_id, topic_id in zip(*np.where(mean_vectors > 0.10)):\n",
    "    print(unique_modal[modal_id].strftime('%Y-%m'), \n",
    "          ','.join(top_tokens[model.topic_names[topic_id]]))"
   ]
  },
  {
   "cell_type": "markdown",
   "metadata": {},
   "source": [
    "### Удалим слишком большие засветы тем"
   ]
  },
  {
   "cell_type": "code",
   "execution_count": 224,
   "metadata": {},
   "outputs": [],
   "source": [
    "damage_mean_vectors = mean_vectors.copy()\n",
    "damage_mean_vectors[np.where(mean_vectors > 0.1)] = 0"
   ]
  },
  {
   "cell_type": "code",
   "execution_count": 261,
   "metadata": {},
   "outputs": [
    {
     "data": {
      "image/png": "[encoded data removed]",
      "text/plain": [
       "<Figure size 8640x576 with 2 Axes>"
      ]
     },
     "metadata": {
      "needs_background": "light"
     },
     "output_type": "display_data"
    }
   ],
   "source": [
    "fig = plt.figure(figsize=(120, 8))\n",
    "\n",
    "im = plt.imshow(damage_mean_vectors.T, cmap='gray')\n",
    "_ = fig.colorbar(im)\n",
    "\n",
    "plt.show()"
   ]
  },
  {
   "cell_type": "markdown",
   "metadata": {},
   "source": [
    "### Появились интересные топики сквозь года - посмотрим на них"
   ]
  },
  {
   "cell_type": "code",
   "execution_count": 268,
   "metadata": {},
   "outputs": [
    {
     "data": {
      "text/plain": [
       "'суд,признать,иск,подать,судебный,адвокат,приговор,судья,решение,жалоба'"
      ]
     },
     "execution_count": 268,
     "metadata": {},
     "output_type": "execute_result"
    }
   ],
   "source": [
    "','.join(top_tokens[model.topic_names[60]])"
   ]
  },
  {
   "cell_type": "code",
   "execution_count": 270,
   "metadata": {},
   "outputs": [
    {
     "data": {
      "text/plain": [
       "'группа,the,a,and,i,of,коллектив,in,to,for'"
      ]
     },
     "execution_count": 270,
     "metadata": {},
     "output_type": "execute_result"
    }
   ],
   "source": [
    "','.join(top_tokens[model.topic_names[95]])"
   ]
  },
  {
   "cell_type": "code",
   "execution_count": 255,
   "metadata": {},
   "outputs": [
    {
     "data": {
      "text/plain": [
       "'участие,пройти,участник,принимать,мероприятие,принять,конкурс,участвовать,проходить,организатор'"
      ]
     },
     "execution_count": 255,
     "metadata": {},
     "output_type": "execute_result"
    }
   ],
   "source": [
    "','.join(top_tokens[model.topic_names[129]])"
   ]
  },
  {
   "cell_type": "code",
   "execution_count": 256,
   "metadata": {},
   "outputs": [
    {
     "data": {
      "text/plain": [
       "'проект,программа,развитие,план,рамка,планироваться,сфера,новый,реализация,поддержка'"
      ]
     },
     "execution_count": 256,
     "metadata": {},
     "output_type": "execute_result"
    }
   ],
   "source": [
    "','.join(top_tokens[model.topic_names[198]])"
   ]
  },
  {
   "cell_type": "markdown",
   "metadata": {},
   "source": [
    "### Анализ матрицы $\\Phi$"
   ]
  },
  {
   "cell_type": "code",
   "execution_count": 296,
   "metadata": {},
   "outputs": [],
   "source": [
    "vector_pd = model.get_phi(class_ids=['@month']).T"
   ]
  },
  {
   "cell_type": "code",
   "execution_count": null,
   "metadata": {},
   "outputs": [],
   "source": [
    "vectors = []\n",
    "for modal in tqdm(unique_modal):\n",
    "    vectors.append(vector_pd['class_' + modal.strftime('%m_%Y')].values)\n",
    "    \n",
    "vectors = np.array(vectors).T"
   ]
  },
  {
   "cell_type": "code",
   "execution_count": 311,
   "metadata": {},
   "outputs": [
    {
     "data": {
      "image/png": "[encoded data removed]",
      "text/plain": [
       "<Figure size 8640x576 with 2 Axes>"
      ]
     },
     "metadata": {
      "needs_background": "light"
     },
     "output_type": "display_data"
    }
   ],
   "source": [
    "fig = plt.figure(figsize=(120, 8))\n",
    "\n",
    "im = plt.imshow(vectors, cmap='gray')\n",
    "_ = fig.colorbar(im)\n",
    "\n",
    "plt.show()"
   ]
  },
  {
   "cell_type": "code",
   "execution_count": 318,
   "metadata": {
    "scrolled": false
   },
   "outputs": [
    {
     "name": "stdout",
     "output_type": "stream",
     "text": [
      "1999-12 граница,судно,порт,судный,груз,берег,пограничный\n",
      "2001-10 информация,сведение,дать,times,спецслужба,документ,опровергнуть\n",
      "2002-03 власть,иностранный,политический,обратиться,предоставить,просьба,статус\n",
      "2003-05 свобода,заключение,приговорить,тюрьма,наказание,осудить,лишение\n",
      "2003-09 человек,погибнуть,взрыв,погибший,теракт,жертва,результат\n",
      "2003-11 партия,единый,лидер,депутат,политический,госдума,демократический\n",
      "2004-03 станция,космический,корабль,полёт,мкс,космос,рогозин\n",
      "2004-06 команда,сборный,тренер,чемпионат,италия,сборная,итальянский\n",
      "2004-07 решение,принять,должный,срок,договор,условие,документ\n",
      "2005-01 акция,массовый,протест,человек,митинг,против,беспорядок\n",
      "2005-07 статья,рф,уголовный,факт,следственный,возбудить,дело\n",
      "2005-08 активист,административный,ответственность,устроить,привлечь,сутки,протокол\n",
      "2005-09 школа,язык,образование,институт,университет,студент,наука\n",
      "2005-11 франция,французский,париж,блэр,de,француз,жан\n",
      "2005-12 хороший,премия,книга,церемония,роман,награда,получить\n",
      "2006-03 сторона,переговоры,соглашение,санкция,против,договориться,готовый\n",
      "2006-06 мнение,считать,проблема,мочь,эксперт,внимание,важный\n",
      "2006-07 километр,способный,испытание,скорость,ракета,установка,цель\n",
      "2006-09 6,круг,выиграть,турнир,финал,мария,россиянка\n",
      "2007-03 оператор,реклама,связь,рекламный,тариф,стандарт,лицензия\n",
      "2007-05 вертолёт,западный,восток,восточный,запад,северо,юго\n",
      "2007-06 испания,молдавия,испанский,чехия,дон,болгария,кипр\n",
      "2007-07 the,daily,mail,лос,guardian,майкл,анджелес\n",
      "2007-09 производство,предприятие,завод,оборудование,заказ,промышленный,промышленность\n",
      "2007-10 акция,процент,компания,принадлежать,актив,акционер,бумага\n",
      "2008-02 s,продать,фунт,аукцион,выставить,заплатить,стерлинг\n",
      "2008-02 театр,фестиваль,артист,спектакль,сцена,актёр,театральный\n",
      "2008-06 найти,обнаружить,век,год,останки,который,след\n",
      "2008-08 военный,войско,армия,военнослужащий,сила,генерал,вооружённый\n",
      "2008-09 сотрудничество,совместный,партнёр,форум,роснефть,деловой,энергетический\n",
      "2008-11 строительство,объект,проект,построить,комплекс,площадь,квадратный\n",
      "2008-12 музыкант,альбом,концерт,певица,песня,музыкальный,певец\n",
      "2009-01 нефть,цена,добыча,тонна,нефтяной,баррель,месторождение\n",
      "2009-03 алексей,олег,полномочие,обязанность,исполнять,исполнение,навальный\n",
      "2009-04 процент,год,рост,показатель,вырасти,цена,сравнение\n",
      "2009-06 звезда,учёный,планета,земля,который,масса,солнечный\n",
      "2009-07 суд,признать,иск,подать,судебный,адвокат,приговор\n",
      "2009-08 обвинение,обвинять,обвинить,арест,арестовать,предъявить,расследование\n",
      "2009-09 место,список,рейтинг,занять,третье,самый,второе\n",
      "2009-10 издание,газета,писать,источник,ссылка,данные,коммерсант\n",
      "2009-11 год,война,х,советский,ссср,1990,история\n",
      "2010-02 использоваться,электронный,аппарат,использовать,использование,специальный,который\n",
      "2010-03 самолёт,истребитель,ввс,f,35,су,c\n",
      "2010-04 депутат,парламент,виктор,верховный,президент,рад,конституция\n",
      "2010-06 спорт,медаль,золотой,спортивный,соревнование,гонка,олимпийский\n",
      "2010-08 город,житель,местный,человек,население,район,эстония\n",
      "2010-09 корабль,морской,флот,лодка,подводный,вмс,мор\n",
      "2010-12 сергей,андрей,николай,евгений,дмитрий,иван,павел\n",
      "2011-03 бывший,пост,глава,должность,отставка,назначить,президент\n",
      "2011-04 область,петербург,санкт,губернатор,округа,областной,петербургский\n",
      "2011-05 год,2009,2010,2012,2011,2008,прошлое\n",
      "2011-08 миллион,доллар,около,сумма,300,500,сбор\n",
      "2011-09 клуб,сезон,игрок,нхл,матч,регулярный,команда\n",
      "2011-10 октябрь,17,23,26,18,13,21\n",
      "2011-11 долг,фирма,имущество,управлять,менеджер,принадлежащий,задолженность\n",
      "2011-12 полиция,полицейский,наркотик,порядок,который,сотрудник,сообщать\n",
      "2012-03 освободить,захватить,освобождение,заложник,захват,похищение,который\n",
      "2012-04 миллиард,доллар,составить,общий,год,сложность,объесть\n",
      "2012-05 запустить,запуск,ракета,вывести,спутник,аппарат,носитель\n",
      "2012-07 москва,московский,столица,столичный,улица,метро,станция\n",
      "2012-10 машина,автомобиль,дорога,водитель,движение,автобус,транспортный\n",
      "2012-11 пара,сексуальный,брак,принц,королевский,королева,насилие\n",
      "2012-11 квартира,жильё,недвижимость,дом,помещение,аренда,стоимость\n",
      "2012-12 право,закон,нарушение,правило,соответствие,законодательство,защита\n",
      "2013-01 выйти,выход,серия,герой,выходить,выпустить,сериал\n",
      "2013-02 тысяча,метр,около,составлять,квадратный,площадь,класс\n",
      "2013-03 рубль,евро,курс,стоимость,валюта,минимальный,цена\n",
      "2013-04 слово,заявить,рассказать,это,интервью,приводить,отметить\n",
      "2013-05 музей,выставка,художник,искусство,картина,изображение,предмет\n",
      "2013-05 милиция,конфликт,милиционер,драка,сотрудник,гувд,ударить\n",
      "2013-06 министерство,ведомство,чиновник,внутренний,департамент,государственный,анатолий\n",
      "2013-07 организация,деятельность,общественный,мусульманин,член,экстремистский,религиозный\n",
      "2013-08 молодая,девушка,выясниться,телефон,угрожать,знакомый,затем\n",
      "2013-09 ресторан,быстрый,посетитель,заведение,кафе,который,посещать\n",
      "2013-11 компания,магазин,корпорация,крупный,свой,производитель,который\n",
      "2013-12 газпром,газа,поставка,контракт,газ,поток,кубометр\n",
      "2014-01 интернет,пользователь,сервис,доступ,google,сайт,приложение\n",
      "2014-02 оон,польша,постоянный,польский,делегация,резолюция,миссия\n",
      "2014-02 министр,правительство,премьер,вица,медведев,глава,кабинет\n",
      "2014-08 клуб,бразилия,футболист,барселона,реал,чемпион,игрок\n",
      "2014-09 комплекс,вооружение,техника,ракета,ракетный,оборона,танк\n",
      "2014-10 устройство,apple,смартфон,iphone,компьютер,экран,windows\n",
      "2014-11 федеральный,региональный,участок,земля,2020,ресурс,это\n",
      "2015-02 донбасс,народный,донецкий,республика,прекращение,конфликт,луганский\n",
      "2015-03 год,2014,2015,2013,игорь,это,согласие\n",
      "2015-10 совет,директор,председатель,заместитель,руководитель,генеральный,член\n",
      "2015-11 нью,йорк,австралия,австралийский,де,бельгия,йоркский\n",
      "2016-01 автомобиль,машина,модель,формула,новый,двигатель,январь\n",
      "2016-02 иран,ядерный,посольство,дипломат,посол,иранский,дипломатический\n",
      "2016-02 центр,зал,учреждение,би,исследовательский,инструмент,научно\n",
      "2016-03 россия,российский,рф,россиянин,тасс,это,международный\n",
      "2016-04 учёный,исследование,который,исследователь,человек,анализ,вывод\n",
      "2016-05 предложить,законопроект,предложение,госдума,изменение,закон,внести\n",
      "2016-06 май,июнь,2016,го,2017,год,это\n",
      "2016-07 который,метод,учёный,волна,элемент,это,эксперимент\n",
      "2016-08 август,29,31,это,стать,30,28\n",
      "2016-09 группа,the,a,and,i,of,коллектив\n",
      "2016-10 новость,служба,пресс,риа,сентябрь,сообщить,агентство\n",
      "2016-11 декабрь,ноябрь,это,ким,стать,джонсон,сообщить\n",
      "2016-12 военный,действие,операция,база,удар,нанести,территория\n",
      "2017-02 площадка,парк,высота,гора,стена,февраль,парка\n",
      "2017-04 видео,запись,ролик,который,youtube,снять,опубликовать\n",
      "2017-06 процент,большинство,результат,опрос,россиянин,голос,опросить\n",
      "2017-07 китай,китайский,кнр,пекин,провинция,это,год\n",
      "2017-08 день,русский,следующий,название,честь,сегодняшний,праздник\n",
      "2017-08 леонид,венесуэла,президент,гривна,окружение,колумбия,чавес\n",
      "2017-09 оружие,открыть,стрельба,пистолет,огонь,автомат,боеприпас\n",
      "2017-10 система,счёт,услуга,клиент,карта,схема,перевести\n",
      "2017-11 владелец,бизнесмен,предприниматель,основатель,богатый,миллиардер,forbes\n",
      "2017-12 форма,одежда,носить,вещий,костюм,женский,характер\n",
      "2018-01 женщина,мужчина,летний,рука,попытаться,нога,жительница\n",
      "2018-03 фотография,twitter,пользователь,опубликовать,снимка,фото,instagram\n",
      "2018-04 ребёнок,возраст,родитель,детский,девочка,подросток,мальчик\n",
      "2018-05 уровень,экономический,экономика,ставка,кризис,высокий,повышение\n",
      "2018-09 бой,всемирный,профессиональный,боксёр,кличко,чемпион,виталий\n",
      "2018-11 вопрос,встреча,лидер,ход,разговор,тема,состояться\n",
      "2019-02 летний,семья,сын,жена,отец,брат,родственник\n",
      "2019-03 сеть,социальный,facebook,страница,соцсеть,свой,вконтакте\n",
      "2019-04 задержать,орган,сотрудник,правоохранительный,задержание,незаконный,подозревать\n",
      "2019-06 запретить,запрет,товар,продукция,ограничение,ввести,продукт\n",
      "2019-07 5,2,1,3,4,6,7\n",
      "2019-08 килограмм,продукт,питание,вес,это,еда,также\n",
      "2019-09 вода,сильный,река,температура,градус,океан,ветер\n",
      "2019-10 временной,киргизия,юг,узбекистан,это,который,республика\n",
      "2019-11 участие,пройти,участник,принимать,мероприятие,принять,конкурс\n",
      "2019-12 украина,украинский,киев,порошенко,это,пётр,зеленский\n",
      "2020-01 france,presse,египет,agence,ливия,январь,который\n",
      "2020-02 свой,хотеть,друг,человек,знать,жизнь,рассказать\n",
      "2020-03 март,режим,это,закрытый,скорее,обращаться,который\n",
      "2020-05 страна,государство,международный,канада,помощь,африка,весь\n",
      "2020-05 врач,больница,состояние,медицинский,здоровье,помощь,лечение\n",
      "2020-06 нижний,екатеринбург,это,татьяна,свердловский,казань,уполномоченный\n",
      "2020-06 мир,мировой,этап,самый,весь,рекорд,стать\n",
      "2020-07 регион,край,подмосковье,район,подмосковный,посёлок,губернатор\n",
      "2020-07 случай,коронавирус,выявить,человек,распространение,зафиксировать,число\n",
      "2020-08 победа,поражение,одержать,боец,победить,абсолютный,поединок\n",
      "2020-08 проект,программа,развитие,план,рамка,планироваться,сфера\n"
     ]
    }
   ],
   "source": [
    "for modal_id, topic_id in zip(*np.where(vectors.T > 0.999)):\n",
    "    print(unique_modal[modal_id].strftime('%Y-%m'), \n",
    "          ','.join(top_tokens[model.topic_names[topic_id]][:7]))"
   ]
  },
  {
   "cell_type": "markdown",
   "metadata": {},
   "source": [
    "### Вспомним, что в выборке есть тэги классов. Попробуем решить задачу классификации"
   ]
  },
  {
   "cell_type": "code",
   "execution_count": 326,
   "metadata": {},
   "outputs": [],
   "source": [
    "X_train_pd = model.transform(bv_train)"
   ]
  },
  {
   "cell_type": "code",
   "execution_count": null,
   "metadata": {},
   "outputs": [],
   "source": [
    "X_train = []\n",
    "for i in tqdm(range(len(y_train))):\n",
    "    X_train.append(X_train_pd[i].values)"
   ]
  },
  {
   "cell_type": "code",
   "execution_count": 335,
   "metadata": {},
   "outputs": [],
   "source": [
    "X_train = np.array(X_train)\n",
    "y_train = np.array(y_train)"
   ]
  },
  {
   "cell_type": "code",
   "execution_count": 325,
   "metadata": {},
   "outputs": [],
   "source": [
    "classifier = RandomForestClassifier(n_estimators=10)"
   ]
  },
  {
   "cell_type": "code",
   "execution_count": 336,
   "metadata": {},
   "outputs": [
    {
     "data": {
      "text/plain": [
       "RandomForestClassifier(n_estimators=10)"
      ]
     },
     "execution_count": 336,
     "metadata": {},
     "output_type": "execute_result"
    }
   ],
   "source": [
    "classifier.fit(X_train, y_train)"
   ]
  },
  {
   "cell_type": "code",
   "execution_count": 337,
   "metadata": {},
   "outputs": [],
   "source": [
    "X_valid_pd = model.transform(bv_test)"
   ]
  },
  {
   "cell_type": "code",
   "execution_count": null,
   "metadata": {},
   "outputs": [],
   "source": [
    "X_valid = []\n",
    "for i in tqdm(range(len(y_valid))):\n",
    "    X_valid.append(X_valid_pd[i].values)"
   ]
  },
  {
   "cell_type": "code",
   "execution_count": 342,
   "metadata": {},
   "outputs": [],
   "source": [
    "pred = classifier.predict(X_valid)"
   ]
  },
  {
   "cell_type": "code",
   "execution_count": 346,
   "metadata": {},
   "outputs": [
    {
     "name": "stdout",
     "output_type": "stream",
     "text": [
      "                      precision    recall  f1-score   support\n",
      "\n",
      "             coцсети       0.21      0.21      0.21        39\n",
      "                 nan       0.37      0.34      0.35       208\n",
      "          автобизнес       1.00      0.50      0.67         2\n",
      "   английский футбол       1.00      1.00      1.00         1\n",
      "          белоруссия       0.80      0.33      0.47        24\n",
      "              бизнес       0.24      0.20      0.22        70\n",
      "          бокс и мма       0.90      0.56      0.69        32\n",
      "                вещи       1.00      0.00      0.00         5\n",
      "     вирусные ролики       1.00      0.00      0.00         2\n",
      "         внешний вид       0.53      0.50      0.52        16\n",
      "                 все       0.68      0.96      0.80      3356\n",
      "             гаджеты       0.53      0.33      0.41        24\n",
      "               город       0.20      0.06      0.09        18\n",
      "        госэкономика       0.53      0.36      0.43       162\n",
      "                дача       1.00      0.00      0.00        13\n",
      "            движение       0.67      0.33      0.44         6\n",
      "      деловой климат       0.11      0.03      0.05        35\n",
      "              деньги       0.50      0.05      0.10        19\n",
      "          достижения       1.00      0.00      0.00         7\n",
      "                 еда       1.00      0.00      0.00         9\n",
      "               жизнь       1.00      0.00      0.00        11\n",
      "          закавказье       1.00      0.22      0.36         9\n",
      "               звери       0.86      0.29      0.43        21\n",
      "         зимние виды       0.75      0.38      0.50        16\n",
      "                игры       0.86      0.35      0.50        17\n",
      "         инструменты       1.00      0.43      0.60         7\n",
      "            интернет       0.31      0.14      0.19        87\n",
      "           искусство       1.00      0.00      0.00        17\n",
      "             история       1.00      0.00      0.00         4\n",
      "           казахстан       0.00      0.00      0.00         2\n",
      "            квартира       0.75      0.40      0.52        83\n",
      "   киберпреступность       1.00      0.00      0.00         1\n",
      "                кино       0.62      0.52      0.57        77\n",
      "               книги       0.00      0.00      0.00         6\n",
      "           конфликты       0.52      0.33      0.41        33\n",
      "              космос       0.64      0.23      0.34        39\n",
      "            криминал       0.25      0.05      0.08        21\n",
      "            культура       1.00      0.60      0.75         5\n",
      "         летние виды       1.00      0.33      0.50        24\n",
      "                люди       0.44      0.21      0.29        75\n",
      "                мемы       1.00      0.00      0.00         5\n",
      "                 мир       0.29      0.16      0.21        31\n",
      "      мировой бизнес       1.00      0.00      0.00        14\n",
      "        мировой опыт       1.00      0.00      0.00         1\n",
      "              мнения       0.50      0.08      0.13        13\n",
      "            молдавия       1.00      0.00      0.00         4\n",
      "              москва       1.00      0.00      0.00        19\n",
      "              музыка       0.68      0.43      0.52        54\n",
      "            наследие       1.00      0.00      0.00         1\n",
      "               наука       0.66      0.44      0.53        86\n",
      "            общество       0.43      0.28      0.34       369\n",
      "              оружие       1.00      0.21      0.34        29\n",
      "                офис       1.00      0.00      0.00        12\n",
      "            политика       0.59      0.44      0.51       418\n",
      "полиция и спецслужбы       0.00      0.00      0.00        14\n",
      "              пресса       1.00      0.00      0.00        19\n",
      "   преступная россия       0.00      0.00      0.00         3\n",
      "        преступность       0.67      0.06      0.10        36\n",
      "          прибалтика       1.00      0.00      0.00        13\n",
      "        происшествия       0.31      0.07      0.12       124\n",
      "             регионы       1.00      0.26      0.41        27\n",
      "             реклама       1.00      0.00      0.00         1\n",
      "              россия       0.50      0.11      0.17        19\n",
      "               рынки       0.33      0.05      0.09        39\n",
      "     следствие и суд       0.55      0.25      0.34       108\n",
      "             события       0.33      0.03      0.06        31\n",
      "                софт       1.00      0.00      0.00         5\n",
      "    социальная сфера       1.00      0.00      0.00         5\n",
      "        средняя азия       1.00      0.08      0.14        13\n",
      "               стиль       0.48      0.54      0.51        26\n",
      "          тв и радио       0.53      0.16      0.24        51\n",
      "               театр       1.00      0.18      0.31        11\n",
      "             техника       1.00      0.00      0.00        10\n",
      "             украина       0.75      0.76      0.76       238\n",
      "    финансы компаний       1.00      0.00      0.00         3\n",
      "              футбол       0.77      0.46      0.57       101\n",
      "              хоккей       1.00      0.20      0.33         5\n",
      "                часы       1.00      0.75      0.86         4\n",
      "           экономика       0.50      0.30      0.37        10\n",
      "             явления       0.45      0.17      0.25        29\n",
      "\n",
      "            accuracy                           0.64      6604\n",
      "           macro avg       0.71      0.21      0.26      6604\n",
      "        weighted avg       0.63      0.64      0.59      6604\n",
      "\n"
     ]
    }
   ],
   "source": [
    "print(classification_report(y_valid, pred, zero_division=1))"
   ]
  },
  {
   "cell_type": "markdown",
   "metadata": {},
   "source": [
    "## Продолжаем обучать модель, добавив регуляризаторы\n",
    "- Добавим декорелирующий регуляризатор на токены\n",
    "- Добавим сглаживающий регуляризатор на время"
   ]
  },
  {
   "cell_type": "code",
   "execution_count": 347,
   "metadata": {},
   "outputs": [],
   "source": [
    "model.regularizers.add(artm.DecorrelatorPhiRegularizer(name='decorrelator', \n",
    "                                                       tau=1e+4, \n",
    "                                                       class_ids=['@default_class']))\n",
    "\n",
    "model.regularizers.add(artm.SmoothSparsePhiRegularizer(name='smoothing', \n",
    "                                                       tau=10,\n",
    "                                                       class_ids=['@month']))\n"
   ]
  },
  {
   "cell_type": "code",
   "execution_count": null,
   "metadata": {},
   "outputs": [
    {
     "data": {
      "application/vnd.jupyter.widget-view+json": {
       "model_id": "cbcc116203034280a59dd31dfbad34be",
       "version_major": 2,
       "version_minor": 0
      },
      "text/plain": [
       "HBox(children=(IntProgress(value=0, max=20), HTML(value='')))"
      ]
     },
     "metadata": {},
     "output_type": "display_data"
    }
   ],
   "source": [
    "iterator = tqdm(range(20))\n",
    "for i in iterator:\n",
    "    model.fit_offline(bv_train, num_collection_passes=1)\n",
    "    iterator.set_postfix({'perplexity': model.score_tracker['perplexity'].value[-1],  \n",
    "                          'sparsity': model.score_tracker['sparsity'].value[-1],})"
   ]
  },
  {
   "cell_type": "code",
   "execution_count": null,
   "metadata": {},
   "outputs": [],
   "source": [
    "model.dump_artm_model('drive/MyDrive/DATASETS/MachineLearning/topicmodeling/model/model_regular')"
   ]
  },
  {
   "cell_type": "markdown",
   "metadata": {},
   "source": [
    "## Анализ скоров моделей"
   ]
  },
  {
   "cell_type": "code",
   "execution_count": null,
   "metadata": {},
   "outputs": [],
   "source": [
    "plt.plot(model.score_tracker['sparsity'].value, label = 'sparsity')\n",
    "\n",
    "plt.legend(loc = 'best')\n",
    "\n",
    "plt.xlabel('iteration')\n",
    "plt.ylabel('score')\n",
    "plt.show()"
   ]
  },
  {
   "cell_type": "markdown",
   "metadata": {},
   "source": [
    "## Анализ скоров моделей"
   ]
  },
  {
   "cell_type": "code",
   "execution_count": null,
   "metadata": {},
   "outputs": [],
   "source": [
    "plt.plot(model.score_tracker['sparsity'].value, label = 'sparsity')\n",
    "\n",
    "plt.legend(loc = 'best')\n",
    "\n",
    "plt.xlabel('iteration')\n",
    "plt.ylabel('score')\n",
    "plt.show()"
   ]
  },
  {
   "cell_type": "code",
   "execution_count": null,
   "metadata": {},
   "outputs": [],
   "source": [
    "plt.plot(model.score_tracker['perplexity'].value, label = 'perplexity')\n",
    "\n",
    "plt.legend(loc = 'best')\n",
    "\n",
    "plt.xlabel('iteration')\n",
    "plt.ylabel('score')\n",
    "plt.show()"
   ]
  },
  {
   "cell_type": "markdown",
   "metadata": {},
   "source": [
    "## Посмотрим на полученые топики"
   ]
  },
  {
   "cell_type": "code",
   "execution_count": null,
   "metadata": {
    "scrolled": true
   },
   "outputs": [],
   "source": [
    "top_tokens = model.score_tracker['top-tokens'].last_tokens\n",
    "\n",
    "for topic_name in model.topic_names:\n",
    "    print(top_tokens[topic_name])"
   ]
  },
  {
   "cell_type": "code",
   "execution_count": null,
   "metadata": {},
   "outputs": [],
   "source": [
    "month_modal = []\n",
    "with open('drive/MyDrive/DATASETS/MachineLearning/topicmodeling/texts_train.vw.txt') as f:\n",
    "    for line in tqdm(f):\n",
    "        string = re.search(r'@month class_(\\d\\d_\\d\\d\\d\\d)\\n', line).group(1)\n",
    "        month_modal.append(datetime.datetime.strptime(string, '%m_%Y'))\n",
    "\n",
    "month_modal = np.array(month_modal)"
   ]
  },
  {
   "cell_type": "code",
   "execution_count": null,
   "metadata": {},
   "outputs": [],
   "source": [
    "predict = model.transform(bv_train)"
   ]
  },
  {
   "cell_type": "code",
   "execution_count": null,
   "metadata": {},
   "outputs": [],
   "source": [
    "unique_modal = np.unique(month_modal)"
   ]
  },
  {
   "cell_type": "code",
   "execution_count": null,
   "metadata": {},
   "outputs": [],
   "source": [
    "mean_vectors = []\n",
    "for modal in tqdm(unique_modal):\n",
    "    mean_vectors.append(predict[np.where(month_modal == modal)[0]].values.mean(axis=-1))\n",
    "    \n",
    "mean_vectors = np.array(mean_vectors)"
   ]
  },
  {
   "cell_type": "code",
   "execution_count": null,
   "metadata": {},
   "outputs": [],
   "source": [
    "fig = plt.figure(figsize=(120, 8))\n",
    "\n",
    "im = plt.imshow(mean_vectors.T, cmap='gray')\n",
    "_ = fig.colorbar(im)\n",
    "\n",
    "plt.show()"
   ]
  },
  {
   "cell_type": "markdown",
   "metadata": {},
   "source": [
    "### Анализ матрицы $\\Phi$"
   ]
  },
  {
   "cell_type": "code",
   "execution_count": null,
   "metadata": {},
   "outputs": [],
   "source": [
    "vector_pd = model.get_phi(class_ids=['@month']).T"
   ]
  },
  {
   "cell_type": "code",
   "execution_count": null,
   "metadata": {},
   "outputs": [],
   "source": [
    "vectors = []\n",
    "for modal in tqdm(unique_modal):\n",
    "    vectors.append(vector_pd['class_' + modal.strftime('%m_%Y')].values)\n",
    "    \n",
    "vectors = np.array(vectors).T"
   ]
  },
  {
   "cell_type": "code",
   "execution_count": null,
   "metadata": {},
   "outputs": [],
   "source": [
    "fig = plt.figure(figsize=(120, 8))\n",
    "\n",
    "im = plt.imshow(vectors, cmap='gray')\n",
    "_ = fig.colorbar(im)\n",
    "\n",
    "plt.show()"
   ]
  },
  {
   "cell_type": "code",
   "execution_count": null,
   "metadata": {
    "scrolled": false
   },
   "outputs": [],
   "source": [
    "for modal_id, topic_id in zip(*np.where(vectors.T > 0.999)):\n",
    "    print(unique_modal[modal_id].strftime('%Y-%m'), \n",
    "          ','.join(top_tokens[model.topic_names[topic_id]][:7]))"
   ]
  },
  {
   "cell_type": "markdown",
   "metadata": {},
   "source": [
    "### Вспомним, что в выборке есть тэги классов. Попробуем решить задачу классификации"
   ]
  },
  {
   "cell_type": "code",
   "execution_count": null,
   "metadata": {},
   "outputs": [],
   "source": [
    "X_train_pd = model.transform(bv_train)"
   ]
  },
  {
   "cell_type": "code",
   "execution_count": null,
   "metadata": {},
   "outputs": [],
   "source": [
    "X_train = []\n",
    "for i in tqdm(range(len(y_train))):\n",
    "    X_train.append(X_train_pd[i].values)"
   ]
  },
  {
   "cell_type": "code",
   "execution_count": null,
   "metadata": {},
   "outputs": [],
   "source": [
    "X_train = np.array(X_train)\n",
    "y_train = np.array(y_train)"
   ]
  },
  {
   "cell_type": "code",
   "execution_count": null,
   "metadata": {},
   "outputs": [],
   "source": [
    "classifier = RandomForestClassifier(n_estimators=10)"
   ]
  },
  {
   "cell_type": "code",
   "execution_count": null,
   "metadata": {},
   "outputs": [],
   "source": [
    "classifier.fit(X_train, y_train)"
   ]
  },
  {
   "cell_type": "code",
   "execution_count": null,
   "metadata": {},
   "outputs": [],
   "source": [
    "X_valid_pd = model.transform(bv_test)"
   ]
  },
  {
   "cell_type": "code",
   "execution_count": null,
   "metadata": {},
   "outputs": [],
   "source": [
    "X_valid = []\n",
    "for i in tqdm(range(len(y_valid))):\n",
    "    X_valid.append(X_valid_pd[i].values)"
   ]
  },
  {
   "cell_type": "code",
   "execution_count": null,
   "metadata": {},
   "outputs": [],
   "source": [
    "pred = classifier.predict(X_valid)"
   ]
  },
  {
   "cell_type": "code",
   "execution_count": null,
   "metadata": {},
   "outputs": [],
   "source": [
    "print(classification_report(y_valid, pred, zero_division=1))"
   ]
  }
 ],
 "metadata": {
  "colab": {
   "name": "main.ipynb",
   "provenance": []
  },
  "kernelspec": {
   "display_name": "Python 3",
   "language": "python",
   "name": "python3"
  },
  "language_info": {
   "codemirror_mode": {
    "name": "ipython",
    "version": 3
   },
   "file_extension": ".py",
   "mimetype": "text/x-python",
   "name": "python",
   "nbconvert_exporter": "python",
   "pygments_lexer": "ipython3",
   "version": "3.7.3"
  },
  "widgets": {
   "application/vnd.jupyter.widget-state+json": {
    "3374f80338da4d6a98c4d2cd9442fbe7": {
     "model_module": "@jupyter-widgets/controls",
     "model_name": "HBoxModel",
     "state": {
      "_dom_classes": [],
      "_model_module": "@jupyter-widgets/controls",
      "_model_module_version": "1.5.0",
      "_model_name": "HBoxModel",
      "_view_count": null,
      "_view_module": "@jupyter-widgets/controls",
      "_view_module_version": "1.5.0",
      "_view_name": "HBoxView",
      "box_style": "",
      "children": [
       "IPY_MODEL_676b7e9b301243889bcef3e65fb58c14",
       "IPY_MODEL_b3b19874e74347108afb5e4b1a3c9358"
      ],
      "layout": "IPY_MODEL_b6154c0d1a61414bb3e95e327b8a3dc6"
     }
    },
    "3dcfc7cbe112444d96ddd71189279a0c": {
     "model_module": "@jupyter-widgets/controls",
     "model_name": "ProgressStyleModel",
     "state": {
      "_model_module": "@jupyter-widgets/controls",
      "_model_module_version": "1.5.0",
      "_model_name": "ProgressStyleModel",
      "_view_count": null,
      "_view_module": "@jupyter-widgets/base",
      "_view_module_version": "1.2.0",
      "_view_name": "StyleView",
      "bar_color": null,
      "description_width": "initial"
     }
    },
    "418b17a17c1a4725b2bbaf3278d9ade2": {
     "model_module": "@jupyter-widgets/controls",
     "model_name": "DescriptionStyleModel",
     "state": {
      "_model_module": "@jupyter-widgets/controls",
      "_model_module_version": "1.5.0",
      "_model_name": "DescriptionStyleModel",
      "_view_count": null,
      "_view_module": "@jupyter-widgets/base",
      "_view_module_version": "1.2.0",
      "_view_name": "StyleView",
      "description_width": ""
     }
    },
    "5befa34a7d2749738056954d024ca452": {
     "model_module": "@jupyter-widgets/base",
     "model_name": "LayoutModel",
     "state": {
      "_model_module": "@jupyter-widgets/base",
      "_model_module_version": "1.2.0",
      "_model_name": "LayoutModel",
      "_view_count": null,
      "_view_module": "@jupyter-widgets/base",
      "_view_module_version": "1.2.0",
      "_view_name": "LayoutView",
      "align_content": null,
      "align_items": null,
      "align_self": null,
      "border": null,
      "bottom": null,
      "display": null,
      "flex": null,
      "flex_flow": null,
      "grid_area": null,
      "grid_auto_columns": null,
      "grid_auto_flow": null,
      "grid_auto_rows": null,
      "grid_column": null,
      "grid_gap": null,
      "grid_row": null,
      "grid_template_areas": null,
      "grid_template_columns": null,
      "grid_template_rows": null,
      "height": null,
      "justify_content": null,
      "justify_items": null,
      "left": null,
      "margin": null,
      "max_height": null,
      "max_width": null,
      "min_height": null,
      "min_width": null,
      "object_fit": null,
      "object_position": null,
      "order": null,
      "overflow": null,
      "overflow_x": null,
      "overflow_y": null,
      "padding": null,
      "right": null,
      "top": null,
      "visibility": null,
      "width": null
     }
    },
    "676b7e9b301243889bcef3e65fb58c14": {
     "model_module": "@jupyter-widgets/controls",
     "model_name": "FloatProgressModel",
     "state": {
      "_dom_classes": [],
      "_model_module": "@jupyter-widgets/controls",
      "_model_module_version": "1.5.0",
      "_model_name": "FloatProgressModel",
      "_view_count": null,
      "_view_module": "@jupyter-widgets/controls",
      "_view_module_version": "1.5.0",
      "_view_name": "ProgressView",
      "bar_style": "danger",
      "description": "  3%",
      "description_tooltip": null,
      "layout": "IPY_MODEL_5befa34a7d2749738056954d024ca452",
      "max": 863285,
      "min": 0,
      "orientation": "horizontal",
      "style": "IPY_MODEL_3dcfc7cbe112444d96ddd71189279a0c",
      "value": 26277
     }
    },
    "b3b19874e74347108afb5e4b1a3c9358": {
     "model_module": "@jupyter-widgets/controls",
     "model_name": "HTMLModel",
     "state": {
      "_dom_classes": [],
      "_model_module": "@jupyter-widgets/controls",
      "_model_module_version": "1.5.0",
      "_model_name": "HTMLModel",
      "_view_count": null,
      "_view_module": "@jupyter-widgets/controls",
      "_view_module_version": "1.5.0",
      "_view_name": "HTMLView",
      "description": "",
      "description_tooltip": null,
      "layout": "IPY_MODEL_fd28626b8388425aa1a5cc944e7605e8",
      "placeholder": "​",
      "style": "IPY_MODEL_418b17a17c1a4725b2bbaf3278d9ade2",
      "value": " 26277/863285 [03:20&lt;1:30:01, 154.96it/s]"
     }
    },
    "b6154c0d1a61414bb3e95e327b8a3dc6": {
     "model_module": "@jupyter-widgets/base",
     "model_name": "LayoutModel",
     "state": {
      "_model_module": "@jupyter-widgets/base",
      "_model_module_version": "1.2.0",
      "_model_name": "LayoutModel",
      "_view_count": null,
      "_view_module": "@jupyter-widgets/base",
      "_view_module_version": "1.2.0",
      "_view_name": "LayoutView",
      "align_content": null,
      "align_items": null,
      "align_self": null,
      "border": null,
      "bottom": null,
      "display": null,
      "flex": null,
      "flex_flow": null,
      "grid_area": null,
      "grid_auto_columns": null,
      "grid_auto_flow": null,
      "grid_auto_rows": null,
      "grid_column": null,
      "grid_gap": null,
      "grid_row": null,
      "grid_template_areas": null,
      "grid_template_columns": null,
      "grid_template_rows": null,
      "height": null,
      "justify_content": null,
      "justify_items": null,
      "left": null,
      "margin": null,
      "max_height": null,
      "max_width": null,
      "min_height": null,
      "min_width": null,
      "object_fit": null,
      "object_position": null,
      "order": null,
      "overflow": null,
      "overflow_x": null,
      "overflow_y": null,
      "padding": null,
      "right": null,
      "top": null,
      "visibility": null,
      "width": null
     }
    },
    "fd28626b8388425aa1a5cc944e7605e8": {
     "model_module": "@jupyter-widgets/base",
     "model_name": "LayoutModel",
     "state": {
      "_model_module": "@jupyter-widgets/base",
      "_model_module_version": "1.2.0",
      "_model_name": "LayoutModel",
      "_view_count": null,
      "_view_module": "@jupyter-widgets/base",
      "_view_module_version": "1.2.0",
      "_view_name": "LayoutView",
      "align_content": null,
      "align_items": null,
      "align_self": null,
      "border": null,
      "bottom": null,
      "display": null,
      "flex": null,
      "flex_flow": null,
      "grid_area": null,
      "grid_auto_columns": null,
      "grid_auto_flow": null,
      "grid_auto_rows": null,
      "grid_column": null,
      "grid_gap": null,
      "grid_row": null,
      "grid_template_areas": null,
      "grid_template_columns": null,
      "grid_template_rows": null,
      "height": null,
      "justify_content": null,
      "justify_items": null,
      "left": null,
      "margin": null,
      "max_height": null,
      "max_width": null,
      "min_height": null,
      "min_width": null,
      "object_fit": null,
      "object_position": null,
      "order": null,
      "overflow": null,
      "overflow_x": null,
      "overflow_y": null,
      "padding": null,
      "right": null,
      "top": null,
      "visibility": null,
      "width": null
     }
    }
   }
  }
 },
 "nbformat": 4,
 "nbformat_minor": 1
}
