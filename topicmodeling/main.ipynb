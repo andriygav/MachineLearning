{
  "nbformat": 4,
  "nbformat_minor": 0,
  "metadata": {
    "colab": {
      "name": "main.ipynb",
      "provenance": []
    },
    "kernelspec": {
      "display_name": "Python 3",
      "language": "python",
      "name": "python3"
    },
    "language_info": {
      "codemirror_mode": {
        "name": "ipython",
        "version": 3
      },
      "file_extension": ".py",
      "mimetype": "text/x-python",
      "name": "python",
      "nbconvert_exporter": "python",
      "pygments_lexer": "ipython3",
      "version": "3.7.3"
    },
    "widgets": {
      "application/vnd.jupyter.widget-state+json": {}
    }
  },
  "cells": [
    {
      "cell_type": "markdown",
      "metadata": {
        "id": "XsMCvH7-QXGM"
      },
      "source": [
        "# Для запуска в colab"
      ]
    },
    {
      "cell_type": "code",
      "metadata": {
        "id": "-8bH11qly5iH"
      },
      "source": [
        "# fast версия для pymotphy2 не работает на python3.7!!!\n",
        "# Использовать только python3.6 либо python3.8\n",
        "# !pip install -U --user bigartm pymorphy2[fast] pyLDAvis"
      ],
      "execution_count": null,
      "outputs": []
    },
    {
      "cell_type": "code",
      "metadata": {
        "id": "_DsuKmRxQJHu"
      },
      "source": [
        "# from google.colab import drive\n",
        "# drive.mount('/content/drive')"
      ],
      "execution_count": null,
      "outputs": []
    },
    {
      "cell_type": "markdown",
      "metadata": {
        "id": "eRImbPUyYp5b"
      },
      "source": [
        "# Библиотеки"
      ]
    },
    {
      "cell_type": "code",
      "metadata": {
        "id": "l4DpoT2iy781"
      },
      "source": [
        "import itertools\n",
        "\n",
        "from tqdm.notebook import tqdm\n",
        "from nltk.tokenize import RegexpTokenizer\n",
        "import matplotlib.pyplot as plt\n",
        "# не очень много стоп слов, но для задания хватит\n",
        "from nltk.corpus import stopwords\n",
        "import pandas as pd\n",
        "import numpy as np\n",
        "import pymorphy2\n",
        "import seaborn as sns\n",
        "import scipy\n",
        "import nltk\n",
        "import gc\n",
        "\n",
        "import re\n",
        "import logging\n",
        "from typing import Set, Tuple, List\n",
        "\n",
        "import datetime\n",
        "\n",
        "from sklearn.ensemble import RandomForestClassifier\n",
        "from sklearn.metrics import classification_report, confusion_matrix\n",
        "from sklearn.model_selection import ParameterGrid"
      ],
      "execution_count": null,
      "outputs": []
    },
    {
      "cell_type": "code",
      "metadata": {
        "id": "kHZ7_MRHdSSs"
      },
      "source": [
        "# nltk.download('stopwords')"
      ],
      "execution_count": null,
      "outputs": []
    },
    {
      "cell_type": "markdown",
      "metadata": {
        "id": "ep6G7r0PQ94a"
      },
      "source": [
        "# Работа с данными"
      ]
    },
    {
      "cell_type": "markdown",
      "metadata": {
        "id": "4dNcPw-CRB34"
      },
      "source": [
        "## Загрузка датасета"
      ]
    },
    {
      "cell_type": "code",
      "metadata": {
        "id": "TA009Oa8QdZ1"
      },
      "source": [
        "data = pd.read_csv('drive/MyDrive/DATASETS/MachineLearning/topicmodeling/lenta-ru-filtered.csv')"
      ],
      "execution_count": null,
      "outputs": []
    },
    {
      "cell_type": "markdown",
      "metadata": {
        "id": "AVf3afIuRo0-"
      },
      "source": [
        "## Анализ"
      ]
    },
    {
      "cell_type": "code",
      "metadata": {
        "colab": {
          "base_uri": "https://localhost:8080/",
          "height": 419
        },
        "id": "AODYWUEMQs7L",
        "outputId": "db7b881a-9313-489d-a32c-c48503888dbe"
      },
      "source": [
        "data"
      ],
      "execution_count": null,
      "outputs": [
        {
          "output_type": "execute_result",
          "data": {
            "text/html": [
              "<div>\n",
              "<style scoped>\n",
              "    .dataframe tbody tr th:only-of-type {\n",
              "        vertical-align: middle;\n",
              "    }\n",
              "\n",
              "    .dataframe tbody tr th {\n",
              "        vertical-align: top;\n",
              "    }\n",
              "\n",
              "    .dataframe thead th {\n",
              "        text-align: right;\n",
              "    }\n",
              "</style>\n",
              "<table border=\"1\" class=\"dataframe\">\n",
              "  <thead>\n",
              "    <tr style=\"text-align: right;\">\n",
              "      <th></th>\n",
              "      <th>text</th>\n",
              "      <th>tags</th>\n",
              "      <th>len</th>\n",
              "      <th>date</th>\n",
              "    </tr>\n",
              "  </thead>\n",
              "  <tbody>\n",
              "    <tr>\n",
              "      <th>0</th>\n",
              "      <td>С 1 сентября на всей территории России вводитс...</td>\n",
              "      <td>Все</td>\n",
              "      <td>1654</td>\n",
              "      <td>31-08-1999</td>\n",
              "    </tr>\n",
              "    <tr>\n",
              "      <th>1</th>\n",
              "      <td>По сведениям миссии ООН, передаваемым РИА \"Нов...</td>\n",
              "      <td>Все</td>\n",
              "      <td>1086</td>\n",
              "      <td>31-08-1999</td>\n",
              "    </tr>\n",
              "    <tr>\n",
              "      <th>2</th>\n",
              "      <td>15 представителей национал-большевистской парт...</td>\n",
              "      <td>Все</td>\n",
              "      <td>1219</td>\n",
              "      <td>31-08-1999</td>\n",
              "    </tr>\n",
              "    <tr>\n",
              "      <th>3</th>\n",
              "      <td>Намеченная на сегодняшний день церемония вступ...</td>\n",
              "      <td>Все</td>\n",
              "      <td>3094</td>\n",
              "      <td>31-08-1999</td>\n",
              "    </tr>\n",
              "    <tr>\n",
              "      <th>4</th>\n",
              "      <td>На юге Киргизии, а именно в Баткенском и Чон-А...</td>\n",
              "      <td>Все</td>\n",
              "      <td>1354</td>\n",
              "      <td>31-08-1999</td>\n",
              "    </tr>\n",
              "    <tr>\n",
              "      <th>...</th>\n",
              "      <td>...</td>\n",
              "      <td>...</td>\n",
              "      <td>...</td>\n",
              "      <td>...</td>\n",
              "    </tr>\n",
              "    <tr>\n",
              "      <th>863280</th>\n",
              "      <td>Популярное место среди туристов в Мурманской о...</td>\n",
              "      <td>Россия</td>\n",
              "      <td>1231</td>\n",
              "      <td>11-09-2020</td>\n",
              "    </tr>\n",
              "    <tr>\n",
              "      <th>863281</th>\n",
              "      <td>Рейтинги от международного рейтингового агентс...</td>\n",
              "      <td>NaN</td>\n",
              "      <td>1425</td>\n",
              "      <td>11-09-2020</td>\n",
              "    </tr>\n",
              "    <tr>\n",
              "      <th>863282</th>\n",
              "      <td>Российские ученые нашли в Якутии новый подвид ...</td>\n",
              "      <td>События</td>\n",
              "      <td>1299</td>\n",
              "      <td>11-09-2020</td>\n",
              "    </tr>\n",
              "    <tr>\n",
              "      <th>863283</th>\n",
              "      <td>Для указания коронавируса как причины смерти ч...</td>\n",
              "      <td>Общество</td>\n",
              "      <td>2061</td>\n",
              "      <td>11-09-2020</td>\n",
              "    </tr>\n",
              "    <tr>\n",
              "      <th>863284</th>\n",
              "      <td>Президент США Дональд Трамп стал посредником в...</td>\n",
              "      <td>Политика</td>\n",
              "      <td>1020</td>\n",
              "      <td>11-09-2020</td>\n",
              "    </tr>\n",
              "  </tbody>\n",
              "</table>\n",
              "<p>863285 rows × 4 columns</p>\n",
              "</div>"
            ],
            "text/plain": [
              "                                                     text      tags   len  \\\n",
              "0       С 1 сентября на всей территории России вводитс...       Все  1654   \n",
              "1       По сведениям миссии ООН, передаваемым РИА \"Нов...       Все  1086   \n",
              "2       15 представителей национал-большевистской парт...       Все  1219   \n",
              "3       Намеченная на сегодняшний день церемония вступ...       Все  3094   \n",
              "4       На юге Киргизии, а именно в Баткенском и Чон-А...       Все  1354   \n",
              "...                                                   ...       ...   ...   \n",
              "863280  Популярное место среди туристов в Мурманской о...    Россия  1231   \n",
              "863281  Рейтинги от международного рейтингового агентс...       NaN  1425   \n",
              "863282  Российские ученые нашли в Якутии новый подвид ...   События  1299   \n",
              "863283  Для указания коронавируса как причины смерти ч...  Общество  2061   \n",
              "863284  Президент США Дональд Трамп стал посредником в...  Политика  1020   \n",
              "\n",
              "              date  \n",
              "0       31-08-1999  \n",
              "1       31-08-1999  \n",
              "2       31-08-1999  \n",
              "3       31-08-1999  \n",
              "4       31-08-1999  \n",
              "...            ...  \n",
              "863280  11-09-2020  \n",
              "863281  11-09-2020  \n",
              "863282  11-09-2020  \n",
              "863283  11-09-2020  \n",
              "863284  11-09-2020  \n",
              "\n",
              "[863285 rows x 4 columns]"
            ]
          },
          "metadata": {
            "tags": []
          },
          "execution_count": 6
        }
      ]
    },
    {
      "cell_type": "code",
      "metadata": {
        "colab": {
          "base_uri": "https://localhost:8080/",
          "height": 297
        },
        "id": "_C06COevSipd",
        "outputId": "a835a0e3-2b29-48b8-dff8-04f9033da32d"
      },
      "source": [
        "data.describe()"
      ],
      "execution_count": null,
      "outputs": [
        {
          "output_type": "execute_result",
          "data": {
            "text/html": [
              "<div>\n",
              "<style scoped>\n",
              "    .dataframe tbody tr th:only-of-type {\n",
              "        vertical-align: middle;\n",
              "    }\n",
              "\n",
              "    .dataframe tbody tr th {\n",
              "        vertical-align: top;\n",
              "    }\n",
              "\n",
              "    .dataframe thead th {\n",
              "        text-align: right;\n",
              "    }\n",
              "</style>\n",
              "<table border=\"1\" class=\"dataframe\">\n",
              "  <thead>\n",
              "    <tr style=\"text-align: right;\">\n",
              "      <th></th>\n",
              "      <th>len</th>\n",
              "    </tr>\n",
              "  </thead>\n",
              "  <tbody>\n",
              "    <tr>\n",
              "      <th>count</th>\n",
              "      <td>863285.000000</td>\n",
              "    </tr>\n",
              "    <tr>\n",
              "      <th>mean</th>\n",
              "      <td>1341.245505</td>\n",
              "    </tr>\n",
              "    <tr>\n",
              "      <th>std</th>\n",
              "      <td>572.066583</td>\n",
              "    </tr>\n",
              "    <tr>\n",
              "      <th>min</th>\n",
              "      <td>3.000000</td>\n",
              "    </tr>\n",
              "    <tr>\n",
              "      <th>25%</th>\n",
              "      <td>980.000000</td>\n",
              "    </tr>\n",
              "    <tr>\n",
              "      <th>50%</th>\n",
              "      <td>1253.000000</td>\n",
              "    </tr>\n",
              "    <tr>\n",
              "      <th>75%</th>\n",
              "      <td>1596.000000</td>\n",
              "    </tr>\n",
              "    <tr>\n",
              "      <th>max</th>\n",
              "      <td>55387.000000</td>\n",
              "    </tr>\n",
              "  </tbody>\n",
              "</table>\n",
              "</div>"
            ],
            "text/plain": [
              "                 len\n",
              "count  863285.000000\n",
              "mean     1341.245505\n",
              "std       572.066583\n",
              "min         3.000000\n",
              "25%       980.000000\n",
              "50%      1253.000000\n",
              "75%      1596.000000\n",
              "max     55387.000000"
            ]
          },
          "metadata": {
            "tags": []
          },
          "execution_count": 7
        }
      ]
    },
    {
      "cell_type": "markdown",
      "metadata": {
        "id": "iYYlsT6QU7Er"
      },
      "source": [
        "Видно, что новостные заметки занимают порядка 1.2 кб текста, что является порядка 3/4 страницы А4 печатного текста. Данная длина текста приемлема для анализа, так как не является слишком короткими (как например твиты, порядка 0.2 кб)."
      ]
    },
    {
      "cell_type": "markdown",
      "metadata": {
        "id": "f0fSJ_ITRqqF"
      },
      "source": [
        "Заметим, что в данных присутсвует поле tags (посути это можно рассматривать как топик). Данное поле будет интерестно в последующем анализе."
      ]
    },
    {
      "cell_type": "code",
      "metadata": {
        "id": "BmOtNSjmRECq"
      },
      "source": [
        "topics = [x.lower() for x in np.unique(np.array(data['tags'].values, dtype=str)).tolist() if x != 'nan']"
      ],
      "execution_count": null,
      "outputs": []
    },
    {
      "cell_type": "code",
      "metadata": {
        "colab": {
          "base_uri": "https://localhost:8080/"
        },
        "id": "jq-SSsoNSSSD",
        "outputId": "2e812f04-245d-44fe-9285-7993658c63a4"
      },
      "source": [
        "len(topics), topics[:10]"
      ],
      "execution_count": null,
      "outputs": [
        {
          "output_type": "execute_result",
          "data": {
            "text/plain": [
              "(94,\n",
              " ['69-я параллель',\n",
              "  'coцсети',\n",
              "  'авто',\n",
              "  'автобизнес',\n",
              "  'аналитика рынка',\n",
              "  'английский футбол',\n",
              "  'белоруссия',\n",
              "  'бизнес',\n",
              "  'бокс и мма',\n",
              "  'вещи'])"
            ]
          },
          "metadata": {
            "tags": []
          },
          "execution_count": 9
        }
      ]
    },
    {
      "cell_type": "markdown",
      "metadata": {
        "id": "8FFcgjxDRIV9"
      },
      "source": [
        "## Предобработка"
      ]
    },
    {
      "cell_type": "markdown",
      "metadata": {
        "id": "_J6S816aZIUs"
      },
      "source": [
        "Выполним простую предобработку текстов:\n",
        "- lowercase;\n",
        "- лемматизация при помощи pymorphy2;\n",
        "- удаление стоп слов из словаря nltk."
      ]
    },
    {
      "cell_type": "code",
      "metadata": {
        "id": "SW8Qk9iUaqhl"
      },
      "source": [
        "# Честно взято с реализации ru_sentencetokenizer от iPavlov.\n",
        "# Переписано в класс (к сожалению очень давно переписал и быстро сами пакет от \n",
        "#          iPavlov найти не смог,мне быстрее было взять свой пофикшеный код...)\n",
        "class RuSentenceTokenizer(object):\n",
        "    def __init__(self):\n",
        "        self.SENT_RE = re.compile(r'[^\\.?!…]+[\\.?!…]*[\"»“]*')\n",
        "\n",
        "        self._LAST_WORD = re.compile(r'(?:\\b|\\d)([a-zа-я]+)\\.$', re.IGNORECASE)\n",
        "        self._FIRST_WORD = re.compile(r'^\\W*(\\w+)')\n",
        "        self._ENDS_WITH_ONE_LETTER_LAT_AND_DOT = re.compile(r'(\\d|\\W|\\b)([a-zA-Z])\\.$')\n",
        "        self._HAS_DOT_INSIDE = re.compile(r'[\\w]+\\.[\\w]+\\.$', re.IGNORECASE)\n",
        "        self._INITIALS = re.compile(r'(\\W|\\b)([A-ZА-Я]{1})\\.$')\n",
        "        self._ONLY_RUS_CONSONANTS = re.compile(r'^[бвгджзйклмнпрстфхцчшщ]{1,4}$', re.IGNORECASE)\n",
        "        self._STARTS_WITH_EMPTYNESS = re.compile(r'^\\s+')\n",
        "        self._ENDS_WITH_EMOTION = re.compile(r'[!?…]|\\.{2,}\\s?[)\"«»,“]?$')\n",
        "        self._STARTS_WITH_LOWER = re.compile(r'^\\s*[–-—-(\"«]?\\s*[a-zа-я]')\n",
        "        self._STARTS_WITH_DIGIT = re.compile(r'^\\s*\\d')\n",
        "        self._NUMERATION = re.compile(r'^\\W*[IVXMCL\\d]+\\.$')\n",
        "        self._PAIRED_SHORTENING_IN_THE_END = re.compile(r'\\b(\\w+)\\. (\\w+)\\.\\W*$')\n",
        "\n",
        "        self._JOIN = 0\n",
        "        self._MAYBE = 1\n",
        "        self._SPLIT = 2\n",
        "\n",
        "        self.JOINING_SHORTENINGS = {'mr', 'mrs', 'ms', 'dr', 'vs', 'англ', 'итал', 'греч', 'евр', 'араб', 'яп', 'слав', 'кит',\n",
        "                               'тел', 'св', 'ул', 'устар', 'им', 'г', 'см', 'д', 'стр', 'корп', 'пл', 'пер', 'сокр', 'рис'}\n",
        "        self.SHORTENINGS = {'co', 'corp', 'inc', 'авт', 'адм', 'барр', 'внутр', 'га', 'дифф', 'дол', 'долл', 'зав', 'зам', 'искл',\n",
        "                       'коп', 'корп', 'куб', 'лат', 'мин', 'о', 'обл', 'обр', 'прим', 'проц', 'р', 'ред', 'руб', 'рус', 'русск',\n",
        "                       'сан', 'сек', 'тыс', 'эт', 'яз', 'гос', 'мн', 'жен', 'муж', 'накл', 'повел', 'букв', 'шутл', 'ед'}\n",
        "\n",
        "        self.PAIRED_SHORTENINGS = {('и', 'о'), ('т', 'е'), ('т', 'п'), ('у', 'е'), ('н', 'э')}\n",
        "        \n",
        "        # whitespaces\n",
        "        self.start_whitespace = re.compile('^\\s+')\n",
        "        self.end_whitespace = re.compile('\\s+$')\n",
        "    \n",
        "    \n",
        "    def _regex_split_separators(self, text: str) -> [str]:\n",
        "        return [x.strip() for x in self.SENT_RE.findall(text)]\n",
        "    \n",
        "    def _is_sentence_end(self, left: str, \n",
        "                               right: str,\n",
        "                               shortenings: Set[str],\n",
        "                               joining_shortenings: Set[str],\n",
        "                               paired_shortenings: Set[Tuple[str, str]]) -> int:\n",
        "        if not self._STARTS_WITH_EMPTYNESS.match(right):\n",
        "            return self._JOIN\n",
        "\n",
        "        if self._HAS_DOT_INSIDE.search(left):\n",
        "            return self._JOIN\n",
        "\n",
        "        left_last_word = self._LAST_WORD.search(left)\n",
        "        lw = ' '\n",
        "        if left_last_word:\n",
        "            lw = left_last_word.group(1)\n",
        "\n",
        "            if lw.lower() in joining_shortenings:\n",
        "                return self._JOIN\n",
        "\n",
        "            if self._ONLY_RUS_CONSONANTS.search(lw) and lw[-1].islower():\n",
        "                return self._MAYBE\n",
        "\n",
        "        pse = self._PAIRED_SHORTENING_IN_THE_END.search(left)\n",
        "        if pse:\n",
        "            s1, s2 = pse.groups()\n",
        "            if (s1, s2) in paired_shortenings:\n",
        "                return self._MAYBE\n",
        "\n",
        "        right_first_word = self._FIRST_WORD.match(right)\n",
        "        if right_first_word:\n",
        "            rw = right_first_word.group(1)\n",
        "            if (lw, rw) in paired_shortenings:\n",
        "                return self._MAYBE\n",
        "\n",
        "        if self._ENDS_WITH_EMOTION.search(left) and self._STARTS_WITH_LOWER.match(right):\n",
        "            return self._JOIN\n",
        "\n",
        "        initials = self._INITIALS.search(left)\n",
        "        if initials:\n",
        "            border, _ = initials.groups()\n",
        "            if (border or ' ') not in \"°'\":\n",
        "                return self._JOIN\n",
        "\n",
        "        if lw.lower() in shortenings:\n",
        "            return self._MAYBE\n",
        "\n",
        "        last_letter = self._ENDS_WITH_ONE_LETTER_LAT_AND_DOT.search(left)\n",
        "        if last_letter:\n",
        "            border, _ = last_letter.groups()\n",
        "            if (border or ' ') not in \"°'\":\n",
        "                return self._MAYBE\n",
        "        if self._NUMERATION.match(left):\n",
        "            return self._JOIN\n",
        "        return self._SPLIT\n",
        "    \n",
        "    def tokenize(self, text: str,\n",
        "                       shortenings: Set[str] = None,\n",
        "                       joining_shortenings: Set[str] = None,\n",
        "                       paired_shortenings: Set[Tuple[str, str]] = None) -> List[str]:\n",
        "        \n",
        "        spans = self.span_tokenize(text, shortenings, joining_shortenings, paired_shortenings)\n",
        "        \n",
        "        sentences = []\n",
        "        for span in spans:\n",
        "            sentences.append(text[span[0]:span[1]])\n",
        "        \n",
        "        return sentences\n",
        "    \n",
        "    def _span_strip(self, text, sent_start, span_end):\n",
        "        # delete whitespace start spans\n",
        "        start_whitespace = self.start_whitespace.search(text[sent_start: span_end])\n",
        "        if start_whitespace:\n",
        "            sent_start += (start_whitespace.span(0)[1] - start_whitespace.span(0)[0])\n",
        "        # delete whitespace end spans\n",
        "        end_whitespace = self.end_whitespace.search(text[sent_start: span_end])\n",
        "        if end_whitespace:\n",
        "            span_end -= (end_whitespace.span(0)[1] - end_whitespace.span(0)[0])\n",
        "            \n",
        "        return sent_start, span_end\n",
        "    \n",
        "    def span_tokenize(self, text,\n",
        "                            shortenings: Set[str] = None,\n",
        "                            joining_shortenings: Set[str] = None,\n",
        "                            paired_shortenings: Set[Tuple[str, str]] = None) -> List[Tuple]:\n",
        "        \n",
        "        if shortenings is None:\n",
        "            shortenings = self.SHORTENINGS\n",
        "        if joining_shortenings is None:\n",
        "            joining_shortenings = self.JOINING_SHORTENINGS\n",
        "        if paired_shortenings is None:\n",
        "            paired_shortenings = self.PAIRED_SHORTENINGS\n",
        "    \n",
        "        spans = []\n",
        "        sents = self._regex_split_separators(text)\n",
        "        si = 0\n",
        "        processed_index = 0\n",
        "        sent_start = 0\n",
        "        while si < len(sents):\n",
        "            s = sents[si]\n",
        "            span_start = text[processed_index:].index(s) + processed_index\n",
        "            span_end = span_start + len(s)\n",
        "            processed_index += len(s)\n",
        "\n",
        "            si += 1\n",
        "\n",
        "            send = self._is_sentence_end(text[sent_start: span_end], \n",
        "                                         text[span_end:],\n",
        "                                         shortenings, \n",
        "                                         joining_shortenings, \n",
        "                                         paired_shortenings)\n",
        "            if send == self._JOIN:\n",
        "                continue\n",
        "\n",
        "            if send == self._MAYBE:\n",
        "                if self._STARTS_WITH_LOWER.match(text[span_end:]):\n",
        "                    continue\n",
        "                if self._STARTS_WITH_DIGIT.match(text[span_end:]):\n",
        "                    continue\n",
        "                    \n",
        "            sent_start, span_end = self._span_strip(text, sent_start, span_end)\n",
        "\n",
        "            if not text[sent_start: span_end].strip():\n",
        "                logging.debug(\"Something went wrong while tokenizing\")\n",
        "            else:\n",
        "                spans.append((sent_start, span_end))\n",
        "            \n",
        "            sent_start = span_end\n",
        "            processed_index = span_end\n",
        "\n",
        "        if sent_start != len(text):\n",
        "            if text[sent_start:].strip():\n",
        "                sent_start, span_end = self._span_strip(text, sent_start, len(text))\n",
        "                spans.append((sent_start, span_end))\n",
        "        return spans"
      ],
      "execution_count": null,
      "outputs": []
    },
    {
      "cell_type": "code",
      "metadata": {
        "id": "U9HVAmycbB6l"
      },
      "source": [
        "# уже давно пользуюсь для себя унифицированными токенизаторами\n",
        "word_tokenizer = RegexpTokenizer('[a-zа-яёЁА-ЯA-Z]+|[^\\w\\s]|\\d+')\n",
        "sent_tokenizer = RuSentenceTokenizer()\n",
        "# pymorphy2 анализатор\n",
        "morph = pymorphy2.MorphAnalyzer()\n",
        "# стоп слова из nltk\n",
        "stops = stopwords.words('russian')"
      ],
      "execution_count": null,
      "outputs": []
    },
    {
      "cell_type": "code",
      "metadata": {
        "id": "7X5qXVNlQupI"
      },
      "source": [
        "def proccess_text(text):\n",
        "    text= text.lower()\n",
        "    sents = sent_tokenizer.tokenize(text)\n",
        "    words = list(\n",
        "        itertools.chain.from_iterable(\n",
        "            word_tokenizer.tokenize_sents(sents)))\n",
        "    return [x for x in [morph.normal_forms(word)[0] for word in words ]\\\n",
        "            if x not in stops]"
      ],
      "execution_count": null,
      "outputs": []
    },
    {
      "cell_type": "code",
      "metadata": {
        "id": "Zd0uvPxAaAqb"
      },
      "source": [
        "# data_text = data['text']\n",
        "# for i in tqdm(range(len(data))):\n",
        "#     data_text.loc[i] = ' '.join(proccess_text(data_text.loc[i]))\n",
        "# data.to_csv('drive/MyDrive/DATASETS/MachineLearning/topicmodeling/lenta-ru-proccess.csv', index=False)\n",
        "\n",
        "# препроцесинг занимает порядка двух часов, поэтому рекомендуется загрузисть\n",
        "# сразу обработанную версию\n",
        "data = pd.read_csv('drive/MyDrive/DATASETS/MachineLearning/topicmodeling/lenta-ru-proccess.csv')"
      ],
      "execution_count": null,
      "outputs": []
    },
    {
      "cell_type": "code",
      "metadata": {
        "id": "E79QdOsDSd_Z",
        "outputId": "c942c2d6-591b-4adc-e215-42c7e78f3d85"
      },
      "source": [
        "data"
      ],
      "execution_count": null,
      "outputs": [
        {
          "output_type": "execute_result",
          "data": {
            "text/html": [
              "<div>\n",
              "<style scoped>\n",
              "    .dataframe tbody tr th:only-of-type {\n",
              "        vertical-align: middle;\n",
              "    }\n",
              "\n",
              "    .dataframe tbody tr th {\n",
              "        vertical-align: top;\n",
              "    }\n",
              "\n",
              "    .dataframe thead th {\n",
              "        text-align: right;\n",
              "    }\n",
              "</style>\n",
              "<table border=\"1\" class=\"dataframe\">\n",
              "  <thead>\n",
              "    <tr style=\"text-align: right;\">\n",
              "      <th></th>\n",
              "      <th>text</th>\n",
              "      <th>tags</th>\n",
              "      <th>len</th>\n",
              "      <th>date</th>\n",
              "    </tr>\n",
              "  </thead>\n",
              "  <tbody>\n",
              "    <tr>\n",
              "      <th>0</th>\n",
              "      <td>1 сентябрь весь территория россия вводиться но...</td>\n",
              "      <td>Все</td>\n",
              "      <td>1654</td>\n",
              "      <td>31-08-1999</td>\n",
              "    </tr>\n",
              "    <tr>\n",
              "      <th>1</th>\n",
              "      <td>сведение миссия оон , передаваемый риа \" новос...</td>\n",
              "      <td>Все</td>\n",
              "      <td>1086</td>\n",
              "      <td>31-08-1999</td>\n",
              "    </tr>\n",
              "    <tr>\n",
              "      <th>2</th>\n",
              "      <td>15 представитель национал - большевистский пар...</td>\n",
              "      <td>Все</td>\n",
              "      <td>1219</td>\n",
              "      <td>31-08-1999</td>\n",
              "    </tr>\n",
              "    <tr>\n",
              "      <th>3</th>\n",
              "      <td>наметить сегодняшний день церемония вступление...</td>\n",
              "      <td>Все</td>\n",
              "      <td>3094</td>\n",
              "      <td>31-08-1999</td>\n",
              "    </tr>\n",
              "    <tr>\n",
              "      <th>4</th>\n",
              "      <td>юг киргизия , именно баткенский чон - алайском...</td>\n",
              "      <td>Все</td>\n",
              "      <td>1354</td>\n",
              "      <td>31-08-1999</td>\n",
              "    </tr>\n",
              "    <tr>\n",
              "      <th>...</th>\n",
              "      <td>...</td>\n",
              "      <td>...</td>\n",
              "      <td>...</td>\n",
              "      <td>...</td>\n",
              "    </tr>\n",
              "    <tr>\n",
              "      <th>863280</th>\n",
              "      <td>популярный место среди турист мурманский облас...</td>\n",
              "      <td>Россия</td>\n",
              "      <td>1231</td>\n",
              "      <td>11-09-2020</td>\n",
              "    </tr>\n",
              "    <tr>\n",
              "      <th>863281</th>\n",
              "      <td>рейтинг международный рейтинговый агентство s ...</td>\n",
              "      <td>NaN</td>\n",
              "      <td>1425</td>\n",
              "      <td>11-09-2020</td>\n",
              "    </tr>\n",
              "    <tr>\n",
              "      <th>863282</th>\n",
              "      <td>российский учёный найти якутия новый подвид ар...</td>\n",
              "      <td>События</td>\n",
              "      <td>1299</td>\n",
              "      <td>11-09-2020</td>\n",
              "    </tr>\n",
              "    <tr>\n",
              "      <th>863283</th>\n",
              "      <td>указание коронавирус причина смерть человек не...</td>\n",
              "      <td>Общество</td>\n",
              "      <td>2061</td>\n",
              "      <td>11-09-2020</td>\n",
              "    </tr>\n",
              "    <tr>\n",
              "      <th>863284</th>\n",
              "      <td>президент сша дональд трамп стать посредник но...</td>\n",
              "      <td>Политика</td>\n",
              "      <td>1020</td>\n",
              "      <td>11-09-2020</td>\n",
              "    </tr>\n",
              "  </tbody>\n",
              "</table>\n",
              "<p>863285 rows × 4 columns</p>\n",
              "</div>"
            ],
            "text/plain": [
              "                                                     text      tags   len  \\\n",
              "0       1 сентябрь весь территория россия вводиться но...       Все  1654   \n",
              "1       сведение миссия оон , передаваемый риа \" новос...       Все  1086   \n",
              "2       15 представитель национал - большевистский пар...       Все  1219   \n",
              "3       наметить сегодняшний день церемония вступление...       Все  3094   \n",
              "4       юг киргизия , именно баткенский чон - алайском...       Все  1354   \n",
              "...                                                   ...       ...   ...   \n",
              "863280  популярный место среди турист мурманский облас...    Россия  1231   \n",
              "863281  рейтинг международный рейтинговый агентство s ...       NaN  1425   \n",
              "863282  российский учёный найти якутия новый подвид ар...   События  1299   \n",
              "863283  указание коронавирус причина смерть человек не...  Общество  2061   \n",
              "863284  президент сша дональд трамп стать посредник но...  Политика  1020   \n",
              "\n",
              "              date  \n",
              "0       31-08-1999  \n",
              "1       31-08-1999  \n",
              "2       31-08-1999  \n",
              "3       31-08-1999  \n",
              "4       31-08-1999  \n",
              "...            ...  \n",
              "863280  11-09-2020  \n",
              "863281  11-09-2020  \n",
              "863282  11-09-2020  \n",
              "863283  11-09-2020  \n",
              "863284  11-09-2020  \n",
              "\n",
              "[863285 rows x 4 columns]"
            ]
          },
          "metadata": {
            "tags": []
          },
          "execution_count": 8
        }
      ]
    },
    {
      "cell_type": "markdown",
      "metadata": {
        "id": "pHJyH-8HSd_Z"
      },
      "source": [
        "## Перевод данных в формат данных для bigartm (+ деление на train/valid)"
      ]
    },
    {
      "cell_type": "code",
      "metadata": {
        "id": "jbZ2-uQxSd_a"
      },
      "source": [
        "filename_valid = 'drive/MyDrive/DATASETS/MachineLearning/topicmodeling/texts_valid.vw.txt'\n",
        "filename_train = 'drive/MyDrive/DATASETS/MachineLearning/topicmodeling/texts_train.vw.txt'\n"
      ],
      "execution_count": null,
      "outputs": []
    },
    {
      "cell_type": "code",
      "metadata": {
        "id": "vet47PX4Sd_a"
      },
      "source": [
        "counter_train = 0\n",
        "counter_valid = 0\n",
        "\n",
        "reg = re.compile(r'\\W+')\n",
        "with open(filename_valid, 'w') as fout_valid:\n",
        "    with open(filename_train, 'w') as fout_train:\n",
        "        for i in tqdm(range(len(data))):\n",
        "            text = (reg.sub(' ', data.loc[i]['text']).strip()).split()\n",
        "            label = '_'.join(data.loc[i]['date'].split('-')[1:])\n",
        "\n",
        "\n",
        "            if len(text) > 100:\n",
        "                if (i + 1) % 100 == 0:\n",
        "                    fout_valid.write('doc_{} {} |@month class_{}\\n'.format(counter_train, ' '.join(text), label))\n",
        "                    counter_train += 1\n",
        "                else:\n",
        "                    fout_train.write('doc_{} {} |@month class_{}\\n'.format(counter_valid, ' '.join(text), label))\n",
        "                    counter_valid += 1\n",
        "                    "
      ],
      "execution_count": null,
      "outputs": []
    },
    {
      "cell_type": "code",
      "metadata": {
        "id": "5nwTacPgSd_a"
      },
      "source": [
        "y_train = []\n",
        "y_valid = []\n",
        "\n",
        "counter_train = 0\n",
        "counter_valid = 0\n",
        "\n",
        "reg = re.compile(r'\\W+')\n",
        "for i in tqdm(range(len(data))):\n",
        "    text = (reg.sub(' ', data.loc[i]['text']).strip()).split()\n",
        "    label = '_'.join(data.loc[i]['date'].split('-')[1:])\n",
        "\n",
        "\n",
        "    if len(text) > 100:\n",
        "        if (i + 1) % 100 == 0:\n",
        "            y_valid.append(str(data.loc[i]['tags']).lower().strip())\n",
        "        else:\n",
        "            y_train.append(str(data.loc[i]['tags']).lower().strip())\n",
        "                    "
      ],
      "execution_count": null,
      "outputs": []
    },
    {
      "cell_type": "code",
      "metadata": {
        "id": "TuSo_ECbSd_a",
        "outputId": "402d6577-7c7d-4f3e-c1a2-c6943f362ad0"
      },
      "source": [
        "# освободим немного память\n",
        "del data\n",
        "\n",
        "gc.collect()"
      ],
      "execution_count": null,
      "outputs": [
        {
          "output_type": "execute_result",
          "data": {
            "text/plain": [
              "53"
            ]
          },
          "metadata": {
            "tags": []
          },
          "execution_count": 12
        }
      ]
    },
    {
      "cell_type": "code",
      "metadata": {
        "id": "3d-1eyqNSd_b",
        "outputId": "421fab3f-525a-4063-db16-65e139c5ca11"
      },
      "source": [
        "!head -2 drive/MyDrive/DATASETS/MachineLearning/topicmodeling/texts_valid.vw.txt"
      ],
      "execution_count": null,
      "outputs": [
        {
          "output_type": "stream",
          "text": [
            "doc_0 причина смерть меньший мера 34 малазийский ребёнок возраст 5 месяц 7 год стать неизвестный вирус вызывающий прекращение деятельность сердце мозг утверждать учёный проводить свой исследование страна это сегодня утром сообщить радиостанция ввс первоначально предполагаться причина смерть стать давно известный врач сезонный лихорадка однако поздний выясниться сердце мозг ребёнок поразить неизвестный вирус наблюдение пациент госпиталь субить опубликовать исследователь журнал the lancet доказать большинство умерший ребёнок развиться миокардит воспаление мозг вызвать сезонный лихорадка возбудитель болезнь признанный аденовирус назвать учёный agent y правило аденовирус опасный жизнь вызывать нетяжелый заболевание тип известный простуда однако именно agent y обнаружить исследование ткань сердце мозг погибший ребёнок учёный вынудить признать видимо речь идти новый разновидность вирус возникнуть южный азия утверждение bbc вспышка похожий заболевание произойти 1998 год тайвань |@month class_09_1999\r\n",
            "doc_1 центральный разведывательный управление сша основать силиконовый долина компания деятельность который посвятить поддержка новый разработка область технология сообщать cnn цру получить конгресс сша 28 5 миллион доллар основание компания in q it сфера компетенция in q it войти инвестирование конкретный разработка информационный обеспечение американский университет участие совместный инициатива решение проблема безопасность интернет организация поиск информация далее разумеется цру планировать использовать разработка компания свой деятельность хотя in q it будущее собираться обслуживать коммерческий клиент предполагаться компания время стать самостоятельный приблизительный годовой бюджет около 100 миллион доллар совет директор in q it войти частность бывший министр оборона уильям перри директор исследовательский центр xerox corporation пасть альто бывший президент at t алекс мэндло in q it аббревиатура который in означать intelligence разведка it информационный технология q включить честь эксперт q сериал джеймс бонд цру демонстрировать наличие чувство юмор |@month class_09_1999\r\n"
          ],
          "name": "stdout"
        }
      ]
    },
    {
      "cell_type": "code",
      "metadata": {
        "id": "Op02E4MlSd_b",
        "outputId": "bcba8942-7c47-4a2f-ffe6-245e1cff64e5"
      },
      "source": [
        "!wc -l drive/MyDrive/DATASETS/MachineLearning/topicmodeling/texts_valid.vw.txt"
      ],
      "execution_count": null,
      "outputs": [
        {
          "output_type": "stream",
          "text": [
            "6604 drive/MyDrive/DATASETS/MachineLearning/topicmodeling/texts_valid.vw.txt\r\n"
          ],
          "name": "stdout"
        }
      ]
    },
    {
      "cell_type": "code",
      "metadata": {
        "id": "ddD2VOpESd_b",
        "outputId": "33d0b096-285a-4e29-cc63-6987d9a81057"
      },
      "source": [
        "!head -2 drive/MyDrive/DATASETS/MachineLearning/topicmodeling/texts_train.vw.txt"
      ],
      "execution_count": null,
      "outputs": [
        {
          "output_type": "stream",
          "text": [
            "doc_0 1 сентябрь весь территория россия вводиться новый форма таможенный декларация физический лицо пояснить государственный таможенный комитет гтк форма декларация который одобрить совет руководитель таможенный служба государство участник содружество являться единый территория весь страна снг исключение армения данные итар тасс новый декларация содержаться подробный перечень товар подлежащее обязательный декларирование впервые число включить ядовитый сильно действующий вещество лекарство радиоактивный материал объект флор фауна также высокочастотный радио электронный устройство средство связь частность система радиолокация кабельный телевидение средство мобильный связь частота выше 9 килогерц кроме декларация необходимый приводить подробный сведение ввозить вывозить транспортный средство вид машинs год выпуск объесть двигатель номер двигатель кузов шасси россия новый форма декларация наряду прежний применяться 1 август лишь московский таможенный пункт шереметьево внуково домодедово чкаловский железнодорожный вокзал вводиться весь территория страна преимущество новый декларация пояснить гтк являться единый территория 11 государство снг подписать соглашение который пока присоединиться лишь армения вестись конструктивный переговоры новый таможенный декларация вступить сила территория украина белоруссия государство снг заявить свой готовность ввести свой территория концатекущий год |@month class_08_1999\r\n",
            "doc_1 сведение миссия оон передаваемый риа новость голосование вопрос самопределении бывший колония принять участие 95 зарегистрировать избиратель подсчёт голос начаться среда анонимный сначала присутствие свидетель вскрыть весь опечатать коробка затем весь бюллетень перемешать невозможно определить откуда поступить начаться подсчёт принцип голосование весь избиратель участок сообщать риа новость администрация клинтон отмечать чрезвычайный явка успех провести восточный тимор референдум вопрос независимость индонезийский провинция сша призывать весь участник признать результат референдум вне зависимость исход голосование сказать заместитель официальный представитель госдепартамент сша джеймс фоуля указывать случай насилие отметить время референдум представитель госдепартамент подчеркнуть ответственность правительство индонезия обеспечение порядок время подсчёт голос последующий этап решение проблема восточный тимор |@month class_08_1999\r\n"
          ],
          "name": "stdout"
        }
      ]
    },
    {
      "cell_type": "code",
      "metadata": {
        "id": "hXXZTx8zSd_c",
        "outputId": "1d57ceb4-d2d0-49ec-f805-83ec7140bd5b"
      },
      "source": [
        "!wc -l drive/MyDrive/DATASETS/MachineLearning/topicmodeling/texts_train.vw.txt"
      ],
      "execution_count": null,
      "outputs": [
        {
          "output_type": "stream",
          "text": [
            "653795 drive/MyDrive/DATASETS/MachineLearning/topicmodeling/texts_train.vw.txt\r\n"
          ],
          "name": "stdout"
        }
      ]
    },
    {
      "cell_type": "markdown",
      "metadata": {
        "id": "MFnqUQw6Sd_c"
      },
      "source": [
        "# BigARTM модель"
      ]
    },
    {
      "cell_type": "code",
      "metadata": {
        "id": "uzVsHhwBSd_d",
        "outputId": "08213a4d-ae3c-452f-fb48-8eb4eae329bd"
      },
      "source": [
        "import artm\n",
        "import pyLDAvis\n",
        "\n",
        "artm.ARTM(num_topics=1)\n",
        "print(artm.version())"
      ],
      "execution_count": null,
      "outputs": [
        {
          "output_type": "stream",
          "text": [
            "0.9.2\n"
          ],
          "name": "stdout"
        }
      ]
    },
    {
      "cell_type": "markdown",
      "metadata": {
        "id": "J4wMjGMlSd_d"
      },
      "source": [
        "## Создаем батчи"
      ]
    },
    {
      "cell_type": "code",
      "metadata": {
        "id": "pUz-tl0vSd_e"
      },
      "source": [
        "bv_train = artm.BatchVectorizer(data_path=filename_train, \n",
        "                                data_format='vowpal_wabbit', \n",
        "                                batch_size=10000, \n",
        "                                target_folder='drive/MyDrive/DATASETS/MachineLearning/topicmodeling/batches_train')\n"
      ],
      "execution_count": null,
      "outputs": []
    },
    {
      "cell_type": "code",
      "metadata": {
        "id": "yORvcH8ISd_e"
      },
      "source": [
        "# Важно, пути target_folder должны быть отличны от предыдущей\n",
        "bv_test = artm.BatchVectorizer(data_path=filename_valid, \n",
        "                               data_format='vowpal_wabbit', \n",
        "                               batch_size=10000, \n",
        "                               target_folder='drive/MyDrive/DATASETS/MachineLearning/topicmodeling/batches_valid')\n",
        "\n"
      ],
      "execution_count": null,
      "outputs": []
    },
    {
      "cell_type": "markdown",
      "metadata": {
        "id": "2Fplb6dNSd_e"
      },
      "source": [
        "## Создаем словарь слов по заданым батчам"
      ]
    },
    {
      "cell_type": "code",
      "metadata": {
        "id": "I8v8q3AFSd_e"
      },
      "source": [
        "dictionary = artm.Dictionary()\n",
        "dictionary.gather(data_path='drive/MyDrive/DATASETS/MachineLearning/topicmodeling/batches_train')"
      ],
      "execution_count": null,
      "outputs": []
    },
    {
      "cell_type": "markdown",
      "metadata": {
        "id": "sNgF7LzZSd_f"
      },
      "source": [
        "## Инициализируем модель"
      ]
    },
    {
      "cell_type": "code",
      "metadata": {
        "id": "BrMouNcnSd_f"
      },
      "source": [
        "# # обучать долго - есть дампы\n",
        "# model = artm.load_artm_model('./drive/MyDrive/DATASETS/MachineLearning/topicmodeling/model/without_regular/')\n",
        "\n",
        "# model.scores.add(artm.PerplexityScore(name='perplexity', dictionary=dictionary), overwrite=True)"
      ],
      "execution_count": null,
      "outputs": []
    },
    {
      "cell_type": "code",
      "metadata": {
        "id": "3hgo2gGwSd_f"
      },
      "source": [
        "model = artm.ARTM(num_topics=200,\n",
        "                  dictionary=dictionary, \n",
        "                  class_ids={'@default_class': 1.0, \n",
        "                             '@month': 10.0})\n",
        "\n",
        "model.scores.add(artm.PerplexityScore(name='perplexity', dictionary=dictionary))\n",
        "model.scores.add(artm.TopTokensScore(name='top-tokens', num_tokens=10))\n",
        "model.scores.add(artm.SparsityPhiScore(name='sparsity', class_id='@month'))"
      ],
      "execution_count": null,
      "outputs": []
    },
    {
      "cell_type": "markdown",
      "metadata": {
        "id": "9voLusvdSd_f"
      },
      "source": [
        "## Обучаем модель с самого начала, без регуляризаторов"
      ]
    },
    {
      "cell_type": "code",
      "metadata": {
        "id": "OGcWA5k4Sd_f"
      },
      "source": [
        "iterator = tqdm(range(10))\n",
        "for i in iterator:\n",
        "    model.fit_offline(bv_train, num_collection_passes=1)\n",
        "    iterator.set_postfix({'perplexity': model.score_tracker['perplexity'].value[-1],  \n",
        "                          'sparsity': model.score_tracker['sparsity'].value[-1],})"
      ],
      "execution_count": null,
      "outputs": []
    },
    {
      "cell_type": "code",
      "metadata": {
        "id": "d_mvniM-Sd_f"
      },
      "source": [
        "# model.dump_artm_model('drive/MyDrive/DATASETS/MachineLearning/topicmodeling/model/without_regular')"
      ],
      "execution_count": null,
      "outputs": []
    },
    {
      "cell_type": "markdown",
      "metadata": {
        "id": "RVAcsQRZSd_g"
      },
      "source": [
        "## Анализ скоров моделей"
      ]
    },
    {
      "cell_type": "code",
      "metadata": {
        "id": "kL7YMtOoSd_g",
        "outputId": "dbd04cca-3497-4650-c6e8-4866c974e7d2"
      },
      "source": [
        "plt.plot(model.score_tracker['sparsity'].value, label = 'sparsity')\n",
        "\n",
        "plt.legend(loc = 'best')\n",
        "\n",
        "plt.xlabel('iteration')\n",
        "plt.ylabel('score')\n",
        "plt.show()"
      ],
      "execution_count": null,
      "outputs": [
        {
          "output_type": "display_data",
          "data": {
            "image/png": "[encoded data removed]",
            "text/plain": [
              "<Figure size 432x288 with 1 Axes>"
            ]
          },
          "metadata": {
            "tags": [],
            "needs_background": "light"
          }
        }
      ]
    },
    {
      "cell_type": "code",
      "metadata": {
        "id": "u4QPUJVzSd_h",
        "outputId": "972d6907-efbf-4644-afae-7d7676c138f8"
      },
      "source": [
        "plt.plot(model.score_tracker['perplexity'].value, label = 'perplexity')\n",
        "\n",
        "plt.legend(loc = 'best')\n",
        "\n",
        "plt.xlabel('iteration')\n",
        "plt.ylabel('score')\n",
        "plt.show()"
      ],
      "execution_count": null,
      "outputs": [
        {
          "output_type": "display_data",
          "data": {
            "image/png": "[encoded data removed]",
            "text/plain": [
              "<Figure size 432x288 with 1 Axes>"
            ]
          },
          "metadata": {
            "tags": [],
            "needs_background": "light"
          }
        }
      ]
    },
    {
      "cell_type": "markdown",
      "metadata": {
        "id": "CPms1ppYSd_h"
      },
      "source": [
        "## Посмотрим на полученые топики"
      ]
    },
    {
      "cell_type": "code",
      "metadata": {
        "scrolled": true,
        "id": "xknwduSpSd_h",
        "outputId": "1b5c7200-cc56-4255-ab28-0c76fd07ee6e"
      },
      "source": [
        "top_tokens = model.score_tracker['top-tokens'].last_tokens\n",
        "\n",
        "for topic_name in model.topic_names:\n",
        "    print(top_tokens[topic_name])"
      ],
      "execution_count": null,
      "outputs": [
        {
          "output_type": "stream",
          "text": [
            "['учёный', 'исследование', 'который', 'исследователь', 'человек', 'анализ', 'вывод', 'клетка', 'журнал', 'это']\n",
            "['английский', 'перейти', 'переход', 'лондонский', 'англия', 'который', 'челси', 'манчестер', 'арсенал', 'это']\n",
            "['германия', 'немецкий', 'который', 'берлин', 'фрг', 'меркель', 'канцлер', 'свой', 'ангел', 'австрия']\n",
            "['создать', 'создание', 'зона', 'который', 'конференция', 'структура', 'объединить', 'новый', 'объединение', 'весь']\n",
            "['решение', 'принять', 'должный', 'срок', 'договор', 'условие', 'документ', 'отказ', 'подписать', 'отказаться']\n",
            "['заявление', 'отношение', 'ситуация', 'выразить', 'мид', 'заявить', 'позиция', 'свой', 'подчеркнуть', 'интерес']\n",
            "['министерство', 'ведомство', 'чиновник', 'внутренний', 'департамент', 'государственный', 'анатолий', 'глава', 'оборона', 'юстиция']\n",
            "['октябрь', '17', '23', '26', '18', '13', '21', '27', '14', 'это']\n",
            "['июль', 'культура', 'это', 'который', 'деятель', 'вино', 'сообщать', 'никита', 'также', 'соколов']\n",
            "['индия', 'индийский', 'пакистан', 'послание', 'который', 'пакистанский', 'сообщать', 'это', 'сентябрь', 'дубай']\n",
            "['долг', 'фирма', 'имущество', 'управлять', 'менеджер', 'принадлежащий', 'задолженность', 'претензия', 'собственность', 'оао']\n",
            "['сайт', 'сообщение', 'говориться', 'опубликовать', 'письмо', 'обращение', 'официальный', 'отмечаться', 'материал', 'публикация']\n",
            "['преступление', 'совершить', 'подозревать', 'преступник', 'совершение', 'совершенный', 'личность', 'розыск', 'который', 'совершать']\n",
            "['форма', 'одежда', 'носить', 'вещий', 'костюм', 'женский', 'характер', 'модный', 'дизайнер', 'обувь']\n",
            "['боевик', 'азербайджан', 'армения', 'дагестан', 'силовой', 'уничтожить', 'ингушетия', 'район', 'фсб', 'спецоперация']\n",
            "['минута', 'счёт', 'й', 'матч', '0', 'очки', '1', 'победа', 'встреча', 'ворот']\n",
            "['декабрь', 'ноябрь', 'это', 'ким', 'стать', 'джонсон', 'сообщить', 'сообщать', '15', 'который']\n",
            "['нью', 'йорк', 'австралия', 'австралийский', 'де', 'бельгия', 'йоркский', 'пригород', 'который', 'сообщать']\n",
            "['турист', 'билет', 'отель', 'поездка', 'отправиться', 'посетить', 'номер', 'гостиница', 'направление', 'отдых']\n",
            "['европейский', 'европа', 'союз', 'ес', 'евросоюз', 'отменить', 'ассоциация', 'свободный', 'отмена', 'вступление']\n",
            "['сотрудничество', 'совместный', 'партнёр', 'форум', 'роснефть', 'деловой', 'энергетический', 'электроэнергия', 'энергетика', 'экономический']\n",
            "['год', '2007', '2006', '2005', '2004', 'напомнить', 'сообщать', '2008', 'сигарета', 'агентство']\n",
            "['безопасность', 'сила', 'проведение', 'угроза', 'мера', 'нато', 'обеспечение', 'обеспечить', 'альянс', 'также']\n",
            "['александр', 'белоруссия', 'белорусский', 'лукашенко', 'минск', 'литва', 'президент', 'это', 'который', 'республика']\n",
            "['управление', 'проверка', 'начальник', 'мвд', 'отдел', 'юрий', 'главный', 'заместитель', 'взятка', 'руководитель']\n",
            "['год', '2009', '2010', '2012', '2011', '2008', 'прошлое', 'конец', 'январь', '2000']\n",
            "['грузия', 'грузинский', 'осетия', 'саакашвили', 'абхазия', 'южный', 'тбилиси', 'президент', 'республика', 'михаил']\n",
            "['женщина', 'мужчина', 'летний', 'рука', 'попытаться', 'нога', 'жительница', 'голова', 'это', 'домой']\n",
            "['россия', 'российский', 'рф', 'россиянин', 'тасс', 'это', 'международный', 'интерфакс', 'федерация', 'отметить']\n",
            "['комитет', 'олимпийский', 'сочи', 'спортсмен', 'игра', 'олимпиада', 'международный', 'допинг', 'это', 'отстранить']\n",
            "['пара', 'сексуальный', 'брак', 'принц', 'королевский', 'королева', 'насилие', 'секс', 'король', 'отношение']\n",
            "['год', 'война', 'х', 'советский', 'ссср', '1990', 'история', 'великий', 'память', 'отечественный']\n",
            "['налог', 'налоговый', 'юкос', 'ходорковский', 'компания', 'который', 'уплата', 'тнк', 'михаил', 'bp']\n",
            "['вызвать', 'назвать', 'это', 'свой', 'который', 'критика', 'ошибка', 'заявить', 'повод', 'принести']\n",
            "['квартира', 'жильё', 'недвижимость', 'дом', 'помещение', 'аренда', 'стоимость', 'жилищный', 'ремонт', 'комната']\n",
            "['свой', 'хотеть', 'друг', 'человек', 'знать', 'жизнь', 'рассказать', 'весь', 'признаться', 'просто']\n",
            "['город', 'житель', 'местный', 'человек', 'население', 'район', 'эстония', 'мигрант', 'деревня', 'беженец']\n",
            "['москва', 'московский', 'столица', 'столичный', 'улица', 'метро', 'станция', 'москвич', 'также', 'департамент']\n",
            "['человек', 'погибнуть', 'взрыв', 'погибший', 'теракт', 'жертва', 'результат', 'гибель', 'данные', 'число']\n",
            "['хороший', 'премия', 'книга', 'церемония', 'роман', 'награда', 'получить', 'писатель', 'номинация', 'приз']\n",
            "['ru', 'портал', 'передача', 'шоу', 'который', 'нтв', 'медиа', 'выпуск', 'это', 'также']\n",
            "['партия', 'единый', 'лидер', 'депутат', 'политический', 'госдума', 'демократический', 'политик', 'кпрф', 'член']\n",
            "['матч', 'клуб', 'лига', 'футбольный', 'спартак', 'цска', 'зенит', 'стадион', 'болельщик', 'пол']\n",
            "['сша', 'американский', 'американец', 'который', 'америка', 'соединить', 'сообщать', 'свой', 'reuters', 'street']\n",
            "['место', 'список', 'рейтинг', 'занять', 'третье', 'самый', 'второе', 'первое', 'оказаться', 'занимать']\n",
            "['производство', 'предприятие', 'завод', 'оборудование', 'заказ', 'промышленный', 'промышленность', 'производить', 'произвести', 'производитель']\n",
            "['военный', 'войско', 'армия', 'военнослужащий', 'сила', 'генерал', 'вооружённый', 'солдат', 'подразделение', 'оборона']\n",
            "['сеть', 'социальный', 'facebook', 'страница', 'соцсеть', 'свой', 'вконтакте', 'это', 'написать', 'который']\n",
            "['военный', 'действие', 'операция', 'база', 'удар', 'нанести', 'территория', 'это', 'пентагон', 'уничтожение']\n",
            "['france', 'presse', 'египет', 'agence', 'ливия', 'январь', 'который', 'каддафи', 'сообщать', 'египетский']\n",
            "['машина', 'автомобиль', 'дорога', 'водитель', 'движение', 'автобус', 'транспортный', 'дорожный', 'транспорт', 'авария']\n",
            "['оон', 'польша', 'постоянный', 'польский', 'делегация', 'резолюция', 'миссия', 'гуманитарный', 'международный', 'совбез']\n",
            "['корабль', 'морской', 'флот', 'лодка', 'подводный', 'вмс', 'мор', 'проект', 'вмф', 'море']\n",
            "['мэр', 'городской', 'памятник', 'это', 'исторический', 'который', 'лужков', 'администрация', 'мэрия', 'здание']\n",
            "['полиция', 'полицейский', 'наркотик', 'порядок', 'который', 'сотрудник', 'сообщать', 'бросить', 'вещество', 'стража']\n",
            "['иран', 'ядерный', 'посольство', 'дипломат', 'посол', 'иранский', 'дипломатический', 'тегеран', 'представительство', 'февраль']\n",
            "['пожар', 'мчс', 'авария', 'пожарный', 'ликвидация', 'последствие', 'чрезвычайный', 'экологический', 'склад', 'возгорание']\n",
            "['100', 'торговый', 'торговля', 'знак', 'алкоголь', 'это', 'напиток', 'который', 'пиво', 'алкогольный']\n",
            "['май', 'июнь', '2016', 'го', '2017', 'год', 'это', 'конец', '22', '12']\n",
            "['самолёт', 'аэропорт', 'авиакомпания', 'пассажир', 'рейс', 'борт', 'полёт', 'воздушный', 'пилот', 'лайнер']\n",
            "['суд', 'признать', 'иск', 'подать', 'судебный', 'адвокат', 'приговор', 'судья', 'решение', 'жалоба']\n",
            "['март', 'режим', 'это', 'закрытый', 'скорее', 'обращаться', 'который', 'регулярно', 'опасность', 'закрыть']\n",
            "['газпром', 'газа', 'поставка', 'контракт', 'газ', 'поток', 'кубометр', 'газовый', 'газопровод', 'топливо']\n",
            "['фильм', 'роль', 'картина', 'режиссёр', 'актёр', 'сыграть', 'прокат', 'главный', 'съёмка', 'который']\n",
            "['километр', 'способный', 'испытание', 'скорость', 'ракета', 'установка', 'цель', 'предназначить', 'система', 'тип']\n",
            "['испания', 'молдавия', 'испанский', 'чехия', 'дон', 'болгария', 'кипр', 'румыния', 'ростов', 'чешский']\n",
            "['нефть', 'цена', 'добыча', 'тонна', 'нефтяной', 'баррель', 'месторождение', 'запас', 'топливо', 'опека']\n",
            "['команда', 'сборный', 'тренер', 'чемпионат', 'италия', 'сборная', 'итальянский', 'матч', 'футбол', 'главный']\n",
            "['запустить', 'запуск', 'ракета', 'вывести', 'спутник', 'аппарат', 'носитель', 'успешно', 'космический', 'орбита']\n",
            "['сторона', 'переговоры', 'соглашение', 'санкция', 'против', 'договориться', 'готовый', 'обмен', 'ввести', 'шаг']\n",
            "['площадка', 'парк', 'высота', 'гора', 'стена', 'февраль', 'парка', 'который', 'это', 'дерево']\n",
            "['тысяча', 'метр', 'около', 'составлять', 'квадратный', 'площадь', 'класс', '200', '50', 'квадрат']\n",
            "['the', 'daily', 'mail', 'лос', 'guardian', 'майкл', 'анджелес', 'дэвид', 'джеймс', 'telegraph']\n",
            "['школа', 'язык', 'образование', 'институт', 'университет', 'студент', 'наука', 'учебный', 'вуз', 'академия']\n",
            "['6', 'круг', 'выиграть', 'турнир', 'финал', 'мария', 'россиянка', 'матч', 'кузнецов', 'уильямс']\n",
            "['задержать', 'орган', 'сотрудник', 'правоохранительный', 'задержание', 'незаконный', 'подозревать', 'обыск', 'изъять', 'мвд']\n",
            "['животное', 'животный', 'вид', 'птица', 'который', 'собака', 'медведь', 'рыба', 'это', 'кошка']\n",
            "['произойти', 'результат', 'инцидент', 'получить', 'нападение', 'пострадать', 'пострадавший', 'двое', 'человек', 'неизвестный']\n",
            "['устройство', 'apple', 'смартфон', 'iphone', 'компьютер', 'экран', 'windows', 'мобильный', 'операционный', 'телефон']\n",
            "['клуб', 'бразилия', 'футболист', 'барселона', 'реал', 'чемпион', 'игрок', 'аргентина', 'нападать', 'бразильский']\n",
            "['власть', 'иностранный', 'политический', 'обратиться', 'предоставить', 'просьба', 'статус', 'запрос', 'возвращение', 'родина']\n",
            "['депутат', 'парламент', 'виктор', 'верховный', 'президент', 'рад', 'конституция', 'тимошенко', 'янукович', 'блок']\n",
            "['ру', 'лента', 'поступить', 'это', 'общество', 'корреспондент', 'редакция', 'релиз', 'прима', 'далее']\n",
            "['область', 'петербург', 'санкт', 'губернатор', 'округа', 'областной', 'петербургский', 'администрация', 'автономный', 'ленинградский']\n",
            "['израиль', 'израильский', 'палестинский', 'сектор', 'газа', 'хамас', 'автономия', 'палестинец', 'еврейский', 'который']\n",
            "['украина', 'украинский', 'киев', 'порошенко', 'это', 'пётр', 'зеленский', 'киевский', 'украинец', 'который']\n",
            "['интернет', 'пользователь', 'сервис', 'доступ', 'google', 'сайт', 'приложение', 'com', 'онлайн', 'ресурс']\n",
            "['август', '29', '31', 'это', 'стать', '30', '28', 'сообщать', 'rambler', 'который']\n",
            "['издание', 'газета', 'писать', 'источник', 'ссылка', 'данные', 'коммерсант', 'отмечать', 'ведомость', 'мочь']\n",
            "['миллион', 'доллар', 'около', 'сумма', '300', '500', 'сбор', 'собрать', '200', 'заработать']\n",
            "['рука', 'это', 'человек', 'вирус', 'нужно', 'мочь', 'коронавирус', 'кашель', 'нос', 'телефон']\n",
            "['который', 'метод', 'учёный', 'волна', 'элемент', 'это', 'эксперимент', 'свет', 'использовать', 'частица']\n",
            "['апрель', 'независимость', 'сербия', 'который', 'сообщать', 'дания', 'это', 'сербский', 'косово', 'трибунал']\n",
            "['компания', 'магазин', 'корпорация', 'крупный', 'свой', 'производитель', 'который', 'конкурент', 'представитель', 'заниматься']\n",
            "['мнение', 'считать', 'проблема', 'мочь', 'эксперт', 'внимание', 'важный', 'большой', 'точка', 'пример']\n",
            "['группа', 'the', 'a', 'and', 'i', 'of', 'коллектив', 'in', 'to', 'for']\n",
            "['министр', 'правительство', 'премьер', 'вица', 'медведев', 'глава', 'кабинет', 'премьера', 'заявить', 'дмитрий']\n",
            "['килограмм', 'продукт', 'питание', 'вес', 'это', 'еда', 'также', 'который', 'стол', 'лишний']\n",
            "['летний', 'семья', 'сын', 'жена', 'отец', 'брат', 'родственник', 'дочь', 'жить', 'старший']\n",
            "['комплекс', 'вооружение', 'техника', 'ракета', 'ракетный', 'оборона', 'танк', 'стратегический', 'военный', 'система']\n",
            "['средство', 'фонд', 'бюджет', 'доход', 'расход', 'год', 'выделить', 'финансирование', 'бюджетный', 'пенсионный']\n",
            "['система', 'счёт', 'услуга', 'клиент', 'карта', 'схема', 'перевести', 'оплата', 'перевод', 'предоставлять']\n",
            "['убийство', 'смерть', 'версия', 'убитый', 'тело', 'покушение', 'убить', 'экспертиза', 'следствие', 'убийца']\n",
            "['видео', 'запись', 'ролик', 'который', 'youtube', 'снять', 'опубликовать', 'показать', 'кадр', 'посмотреть']\n",
            "['5', '2', '1', '3', '4', '6', '7', '8', '9', '10']\n",
            "['фотография', 'twitter', 'пользователь', 'опубликовать', 'снимка', 'фото', 'instagram', 'девушка', 'аккаунт', 'который']\n",
            "['автомобиль', 'машина', 'модель', 'формула', 'новый', 'двигатель', 'январь', 'также', 'автомобильный', 'автоваз']\n",
            "['музыкант', 'альбом', 'концерт', 'певица', 'песня', 'музыкальный', 'певец', 'музыка', 'исполнитель', 'песнь']\n",
            "['день', 'русский', 'следующий', 'название', 'честь', 'сегодняшний', 'праздник', 'рождение', 'днём', 'выходной']\n",
            "['музей', 'выставка', 'художник', 'искусство', 'картина', 'изображение', 'предмет', 'подарок', 'современный', 'благотворительный']\n",
            "['журналист', 'телеканал', 'канал', 'эфир', 'ведущий', 'радиостанция', 'прямая', 'телевидение', 'программа', 'сми']\n",
            "['гражданин', 'разрешение', 'документ', 'получение', 'латвия', 'паспорт', 'гражданство', 'выдать', 'въезд', 'получить']\n",
            "['реформа', 'казахстан', 'который', 'это', 'год', 'сообщать', 'президент', 'также', 'январь', 'туркмения']\n",
            "['право', 'закон', 'нарушение', 'правило', 'соответствие', 'законодательство', 'защита', 'требование', 'иметь', 'норма']\n",
            "['ирак', 'аль', 'иракский', 'саудовский', 'каеда', 'аравия', 'казнь', 'хусейн', 'террорист', 'бин']\n",
            "['вопрос', 'встреча', 'лидер', 'ход', 'разговор', 'тема', 'состояться', 'песок', 'беседа', 'саммит']\n",
            "['центр', 'зал', 'учреждение', 'би', 'исследовательский', 'инструмент', 'научно', 'библиотека', 'си', 'культурный']\n",
            "['сирия', 'боевик', 'группировка', 'сирийский', 'исламский', 'террористический', 'террорист', 'иго', 'государство', 'атака']\n",
            "['владелец', 'бизнесмен', 'предприниматель', 'основатель', 'богатый', 'миллиардер', 'forbes', 'состояние', 'бизнес', 'который']\n",
            "['пункт', 'доллар', 'процент', 'индекс', '0', 'биржа', 'торг', 'упасть', 'рынок', 'падение']\n",
            "['звезда', 'учёный', 'планета', 'земля', 'который', 'масса', 'солнечный', 'это', 'атмосфера', 'солнце']\n",
            "['штат', 'press', 'associated', 'буш', 'джон', 'джордж', 'cnn', 'калифорния', 'сообщать', 'свой']\n",
            "['s', 'продать', 'фунт', 'аукцион', 'выставить', 'заплатить', 'стерлинг', 'дорогой', 'торг', 'доллар']\n",
            "['британский', 'великобритания', 'news', 'лондон', 'bbc', 'греция', 'который', 'сообщать', 'швейцария', 'швеция']\n",
            "['работа', 'работать', 'сотрудник', 'рабочий', 'работник', 'зарплата', 'труд', 'человек', 'руководство', 'офис']\n",
            "['спорт', 'медаль', 'золотой', 'спортивный', 'соревнование', 'гонка', 'олимпийский', 'спортсмен', 'завоевать', 'чемпионат']\n",
            "['уровень', 'экономический', 'экономика', 'ставка', 'кризис', 'высокий', 'повышение', 'снижение', 'ввп', 'рост']\n",
            "['оружие', 'открыть', 'стрельба', 'пистолет', 'огонь', 'автомат', 'боеприпас', 'стрелять', 'выстрел', 'огнестрельный']\n",
            "['дата', 'копия', 'игра', 'консоль', '360', '3', 'анонсировать', 'игровой', 'xbox', 'sony']\n",
            "['участие', 'пройти', 'участник', 'принимать', 'мероприятие', 'принять', 'конкурс', 'участвовать', 'проходить', 'организатор']\n",
            "['вода', 'сильный', 'река', 'температура', 'градус', 'океан', 'ветер', 'воздух', 'вод', 'это']\n",
            "['новость', 'служба', 'пресс', 'риа', 'сентябрь', 'сообщить', 'агентство', 'передавать', 'ссылка', 'секретарь']\n",
            "['это', 'сказать', 'добавить', 'весь', 'отметить', 'наш', 'заявить', 'подчеркнуть', 'говорить', 'очень']\n",
            "['алексей', 'олег', 'полномочие', 'обязанность', 'исполнять', 'исполнение', 'навальный', 'должностной', 'временно', 'служебный']\n",
            "['ребёнок', 'возраст', 'родитель', 'детский', 'девочка', 'подросток', 'мальчик', 'несовершеннолетний', 'взрослый', 'который']\n",
            "['игра', 'of', 'студия', 'который', 'разработчик', 'проект', 'world', 'также', 'это', 'релиз']\n",
            "['деньга', 'размер', '2018', 'получать', 'получить', 'выплата', 'это', '2019', 'сумма', 'компенсация']\n",
            "['донбасс', 'народный', 'донецкий', 'республика', 'прекращение', 'конфликт', 'луганский', 'самопровозгласить', 'днр', 'украинский']\n",
            "['сергей', 'андрей', 'николай', 'евгений', 'дмитрий', 'иван', 'павел', 'максим', 'иванов', 'константин']\n",
            "['леонид', 'венесуэла', 'президент', 'гривна', 'окружение', 'колумбия', 'чавес', 'кучма', 'венгрия', 'это']\n",
            "['рубль', 'евро', 'курс', 'стоимость', 'валюта', 'минимальный', 'цена', 'резерв', 'стоить', 'составлять']\n",
            "['нижний', 'екатеринбург', 'это', 'татьяна', 'свердловский', 'казань', 'уполномоченный', 'новосибирск', 'отпуск', 'челябинский']\n",
            "['год', '2014', '2015', '2013', 'игорь', 'это', 'согласие', 'нидерланды', 'частный', 'февраль']\n",
            "['северный', 'южный', 'остров', 'япония', 'корея', 'визит', 'японский', 'кндр', 'пхеньян', 'южнокорейский']\n",
            "['франция', 'французский', 'париж', 'блэр', 'de', 'француз', 'жан', 'который', 'тони', 'парижский']\n",
            "['самолёт', 'истребитель', 'ввс', 'f', '35', 'су', 'c', 'военный', 'поставка', 'контракт']\n",
            "['регион', 'край', 'подмосковье', 'район', 'подмосковный', 'посёлок', 'губернатор', 'краснодарский', 'владивосток', 'красноярский']\n",
            "['китай', 'китайский', 'кнр', 'пекин', 'провинция', 'это', 'год', 'который', 'гонконг', 'сообщать']\n",
            "['победа', 'поражение', 'одержать', 'боец', 'победить', 'абсолютный', 'поединок', 'бой', 'ufc', 'россиянин']\n",
            "['активист', 'административный', 'ответственность', 'устроить', 'привлечь', 'сутки', 'протокол', 'десяток', 'лагерь', 'штраф']\n",
            "['акция', 'процент', 'компания', 'принадлежать', 'актив', 'акционер', 'бумага', 'инвестор', 'владеть', 'доля']\n",
            "['выйти', 'выход', 'серия', 'герой', 'выходить', 'выпустить', 'сериал', 'который', 'эпизод', 'продолжение']\n",
            "['использоваться', 'электронный', 'аппарат', 'использовать', 'использование', 'специальный', 'который', 'почта', 'помощь', 'беспилотник']\n",
            "['случай', 'коронавирус', 'выявить', 'человек', 'распространение', 'зафиксировать', 'число', 'вирус', 'пандемия', 'это']\n",
            "['дело', 'прокуратура', 'следствие', 'уголовный', 'прокурор', 'генпрокуратура', 'отношение', 'бывший', 'адвокат', 'расследование']\n",
            "['временной', 'киргизия', 'юг', 'узбекистан', 'это', 'который', 'республика', 'также', 'бакиев', 'президент']\n",
            "['оператор', 'реклама', 'связь', 'рекламный', 'тариф', 'стандарт', 'лицензия', 'фас', 'размещение', 'сотовый']\n",
            "['турция', 'турецкий', 'это', 'анкара', 'сбить', 'который', '24', 'ливан', 'заявить', 'эрдогать']\n",
            "['театр', 'фестиваль', 'артист', 'спектакль', 'сцена', 'актёр', 'театральный', 'постановка', 'опера', 'большой']\n",
            "['слово', 'заявить', 'рассказать', 'это', 'интервью', 'приводить', 'отметить', 'ничто', 'подготовка', 'мочь']\n",
            "['президент', 'сша', 'трамп', 'обама', 'вашингтон', 'администрация', 'дональд', 'белый', 'конгресс', 'барак']\n",
            "['страна', 'государство', 'международный', 'канада', 'помощь', 'африка', 'весь', 'число', 'население', 'территория']\n",
            "['президент', 'владимир', 'путин', 'крым', 'глава', 'государство', 'указ', 'россия', 'полуостров', 'рф']\n",
            "['чёрный', 'бренд', 'модель', 'красный', 'марка', 'представить', 'цвета', 'цвет', 'часы', 'дизайн']\n",
            "['статья', 'рф', 'уголовный', 'факт', 'следственный', 'возбудить', 'дело', 'комитет', 'ук', 'часть']\n",
            "['мир', 'мировой', 'этап', 'самый', 'весь', 'рекорд', 'стать', 'достижение', 'секунда', 'суметь']\n",
            "['врач', 'больница', 'состояние', 'медицинский', 'здоровье', 'помощь', 'лечение', 'смерть', 'тяжёлый', 'пациент']\n",
            "['освободить', 'захватить', 'освобождение', 'заложник', 'захват', 'похищение', 'который', 'мексика', 'похитить', 'взять']\n",
            "['акция', 'массовый', 'протест', 'человек', 'митинг', 'против', 'беспорядок', 'участник', 'оппозиция', 'площадь']\n",
            "['информация', 'сведение', 'дать', 'times', 'спецслужба', 'документ', 'опровергнуть', 'new', 'доклад', 'сми']\n",
            "['организация', 'деятельность', 'общественный', 'мусульманин', 'член', 'экстремистский', 'религиозный', 'который', 'терроризм', 'борьба']\n",
            "['федеральный', 'региональный', 'участок', 'земля', '2020', 'ресурс', 'это', 'увеличить', 'дальний', 'значение']\n",
            "['рынок', 'продажа', 'сделка', 'бизнес', 'покупка', 'приобрести', 'купить', 'покупатель', 'продавать', 'пакет']\n",
            "['строительство', 'объект', 'проект', 'построить', 'комплекс', 'площадь', 'квадратный', 'строительный', 'территория', 'строить']\n",
            "['банка', 'финансовый', 'банк', 'кредит', 'кредитный', 'сбербанк', 'цб', 'банковский', 'организация', 'вклад']\n",
            "['бой', 'всемирный', 'профессиональный', 'боксёр', 'кличко', 'чемпион', 'виталий', 'титул', 'поединок', 'собака']\n",
            "['церковь', 'храм', 'православный', 'святой', 'который', 'священник', 'папа', 'собор', 'ii', 'это']\n",
            "['выбор', 'комиссия', 'кандидат', 'голосование', 'выборы', 'президентский', 'избирательный', 'голос', 'кампания', 'избиратель']\n",
            "['миллиард', 'доллар', 'составить', 'общий', 'год', 'сложность', 'объесть', 'сумма', 'оцениваться', '1']\n",
            "['ресторан', 'быстрый', 'посетитель', 'заведение', 'кафе', 'который', 'посещать', 'гарри', 'бар', 'это']\n",
            "['обвинение', 'обвинять', 'обвинить', 'арест', 'арестовать', 'предъявить', 'расследование', 'вина', 'грозить', 'бывший']\n",
            "['граница', 'судно', 'порт', 'судный', 'груз', 'берег', 'пограничный', 'находиться', 'капитан', 'экипаж']\n",
            "['бывший', 'пост', 'глава', 'должность', 'отставка', 'назначить', 'президент', 'занимать', 'свой', 'возглавлять']\n",
            "['найти', 'обнаружить', 'век', 'год', 'останки', 'который', 'след', 'кладбище', 'фрагмент', 'находка']\n",
            "['предложить', 'законопроект', 'предложение', 'госдума', 'изменение', 'закон', 'внести', 'инициатива', 'документ', 'поправка']\n",
            "['милиция', 'конфликт', 'милиционер', 'драка', 'сотрудник', 'гувд', 'ударить', 'избить', 'шахта', 'голов']\n",
            "['вертолёт', 'западный', 'восток', 'восточный', 'запад', 'северо', 'юго', 'землетрясение', 'ми', '52']\n",
            "['станция', 'космический', 'корабль', 'полёт', 'мкс', 'космос', 'рогозин', 'прогресс', 'астронавт', 'nasa']\n",
            "['процент', 'большинство', 'результат', 'опрос', 'россиянин', 'голос', 'опросить', 'провести', 'набрать', 'это']\n",
            "['часы', '00', 'час', 'путь', 'поезд', 'около', 'приостановить', 'суббота', 'утром', 'утро']\n",
            "['молодая', 'девушка', 'выясниться', 'телефон', 'угрожать', 'знакомый', 'затем', 'судить', 'заставить', 'дверь']\n",
            "['дом', 'здание', 'поиск', 'находиться', 'пропасть', 'человек', 'спасатель', 'расположить', 'район', 'улица']\n",
            "['запретить', 'запрет', 'товар', 'продукция', 'ограничение', 'ввести', 'продукт', 'таможенный', 'экспорт', 'поставка']\n",
            "['совет', 'директор', 'председатель', 'заместитель', 'руководитель', 'генеральный', 'член', 'заседание', 'михаил', 'исполнительный']\n",
            "['процент', 'год', 'рост', 'показатель', 'вырасти', 'цена', 'сравнение', 'составить', 'квартал', 'увеличиться']\n",
            "['республика', 'чечня', 'чеченский', 'кадыров', 'глава', 'это', 'грозный', 'руслан', 'который', 'татарстан']\n",
            "['клуб', 'сезон', 'игрок', 'нхл', 'матч', 'регулярный', 'команда', 'состав', 'хоккеист', 'лига']\n",
            "['время', 'пока', 'однако', 'настоящее', 'ближний', 'пора', 'который', 'ещё', 'это', 'мочь']\n",
            "['проект', 'программа', 'развитие', 'план', 'рамка', 'планироваться', 'сфера', 'новый', 'реализация', 'поддержка']\n",
            "['свобода', 'заключение', 'приговорить', 'тюрьма', 'наказание', 'осудить', 'лишение', 'срок', 'колония', 'заключённый']\n"
          ],
          "name": "stdout"
        }
      ]
    },
    {
      "cell_type": "code",
      "metadata": {
        "id": "yczB9EXLSd_i"
      },
      "source": [
        "month_modal = []\n",
        "with open('drive/MyDrive/DATASETS/MachineLearning/topicmodeling/texts_train.vw.txt') as f:\n",
        "    for line in tqdm(f):\n",
        "        string = re.search(r'@month class_(\\d\\d_\\d\\d\\d\\d)\\n', line).group(1)\n",
        "        month_modal.append(datetime.datetime.strptime(string, '%m_%Y'))\n",
        "\n",
        "month_modal = np.array(month_modal)"
      ],
      "execution_count": null,
      "outputs": []
    },
    {
      "cell_type": "code",
      "metadata": {
        "id": "uX_vJOPxSd_i"
      },
      "source": [
        "predict = model.transform(bv_train)"
      ],
      "execution_count": null,
      "outputs": []
    },
    {
      "cell_type": "code",
      "metadata": {
        "id": "dtMT28gBSd_i"
      },
      "source": [
        "unique_modal = np.unique(month_modal)"
      ],
      "execution_count": null,
      "outputs": []
    },
    {
      "cell_type": "code",
      "metadata": {
        "id": "y6Cy6vI6Sd_j"
      },
      "source": [
        "mean_vectors = []\n",
        "for modal in tqdm(unique_modal):\n",
        "    mean_vectors.append(predict[np.where(month_modal == modal)[0]].values.mean(axis=-1))\n",
        "    \n",
        "mean_vectors = np.array(mean_vectors)"
      ],
      "execution_count": null,
      "outputs": []
    },
    {
      "cell_type": "code",
      "metadata": {
        "id": "LaAaJv6lSd_j",
        "outputId": "6a7efdb2-b42f-401a-bcb2-39bf7bf0efa2"
      },
      "source": [
        "fig = plt.figure(figsize=(120, 8))\n",
        "\n",
        "im = plt.imshow(mean_vectors.T, cmap='gray')\n",
        "_ = fig.colorbar(im)\n",
        "\n",
        "plt.show()"
      ],
      "execution_count": null,
      "outputs": [
        {
          "output_type": "display_data",
          "data": {
            "image/png": "[encoded data removed]",
            "text/plain": [
              "<Figure size 8640x576 with 2 Axes>"
            ]
          },
          "metadata": {
            "tags": [],
            "needs_background": "light"
          }
        }
      ]
    },
    {
      "cell_type": "markdown",
      "metadata": {
        "id": "YudTzkqLSd_k"
      },
      "source": [
        "### Очень много явных топиков (большой шум на изображении)\n",
        "Посмотрим на эти пики"
      ]
    },
    {
      "cell_type": "code",
      "metadata": {
        "scrolled": false,
        "id": "phz0mwFLSd_k",
        "outputId": "e7219ed6-d795-4f07-ea22-cc5e138b112e"
      },
      "source": [
        "for modal_id, topic_id in zip(*np.where(mean_vectors > 0.10)):\n",
        "    print(unique_modal[modal_id].strftime('%Y-%m'), \n",
        "          ','.join(top_tokens[model.topic_names[topic_id]]))"
      ],
      "execution_count": null,
      "outputs": [
        {
          "output_type": "stream",
          "text": [
            "1914-09 фотография,twitter,пользователь,опубликовать,снимка,фото,instagram,девушка,аккаунт,который\n",
            "1999-08 северный,южный,остров,япония,корея,визит,японский,кндр,пхеньян,южнокорейский\n",
            "2000-01 индия,индийский,пакистан,послание,который,пакистанский,сообщать,это,сентябрь,дубай\n",
            "2000-02 республика,чечня,чеченский,кадыров,глава,это,грозный,руслан,который,татарстан\n",
            "2000-12 пожар,мчс,авария,пожарный,ликвидация,последствие,чрезвычайный,экологический,склад,возгорание\n",
            "2001-03 фильм,роль,картина,режиссёр,актёр,сыграть,прокат,главный,съёмка,который\n",
            "2001-05 фильм,роль,картина,режиссёр,актёр,сыграть,прокат,главный,съёмка,который\n",
            "2001-08 часы,00,час,путь,поезд,около,приостановить,суббота,утром,утро\n",
            "2001-11 минута,счёт,й,матч,0,очки,1,победа,встреча,ворот\n",
            "2002-05 израиль,израильский,палестинский,сектор,газа,хамас,автономия,палестинец,еврейский,который\n",
            "2002-06 израиль,израильский,палестинский,сектор,газа,хамас,автономия,палестинец,еврейский,который\n",
            "2002-08 грузия,грузинский,осетия,саакашвили,абхазия,южный,тбилиси,президент,республика,михаил\n",
            "2002-12 республика,чечня,чеченский,кадыров,глава,это,грозный,руслан,который,татарстан\n",
            "2003-04 создать,создание,зона,который,конференция,структура,объединить,новый,объединение,весь\n",
            "2003-07 ирак,аль,иракский,саудовский,каеда,аравия,казнь,хусейн,террорист,бин\n",
            "2003-08 дом,здание,поиск,находиться,пропасть,человек,спасатель,расположить,район,улица\n",
            "2003-12 выбор,комиссия,кандидат,голосование,выборы,президентский,избирательный,голос,кампания,избиратель\n",
            "2004-06 команда,сборный,тренер,чемпионат,италия,сборная,итальянский,матч,футбол,главный\n",
            "2004-08 ирак,аль,иракский,саудовский,каеда,аравия,казнь,хусейн,террорист,бин\n",
            "2004-09 израиль,израильский,палестинский,сектор,газа,хамас,автономия,палестинец,еврейский,который\n",
            "2006-04 апрель,независимость,сербия,который,сообщать,дания,это,сербский,косово,трибунал\n",
            "2006-08 год,2007,2006,2005,2004,напомнить,сообщать,2008,сигарета,агентство\n",
            "2007-02 создать,создание,зона,который,конференция,структура,объединить,новый,объединение,весь\n",
            "2007-08 налог,налоговый,юкос,ходорковский,компания,который,уплата,тнк,михаил,bp\n",
            "2007-10 акция,процент,компания,принадлежать,актив,акционер,бумага,инвестор,владеть,доля\n",
            "2007-12 год,2007,2006,2005,2004,напомнить,сообщать,2008,сигарета,агентство\n",
            "2008-01 английский,перейти,переход,лондонский,англия,который,челси,манчестер,арсенал,это\n",
            "2008-07 дата,копия,игра,консоль,360,3,анонсировать,игровой,xbox,sony\n",
            "2008-10 банка,финансовый,банк,кредит,кредитный,сбербанк,цб,банковский,организация,вклад\n",
            "2009-04 процент,год,рост,показатель,вырасти,цена,сравнение,составить,квартал,увеличиться\n",
            "2010-01 время,пока,однако,настоящее,ближний,пора,который,ещё,это,мочь\n",
            "2011-02 английский,перейти,переход,лондонский,англия,который,челси,манчестер,арсенал,это\n",
            "2011-07 июль,культура,это,который,деятель,вино,сообщать,никита,также,соколов\n",
            "2011-10 октябрь,17,23,26,18,13,21,27,14,это\n",
            "2012-01 реформа,казахстан,который,это,год,сообщать,президент,также,январь,туркмения\n",
            "2012-02 игра,of,студия,который,разработчик,проект,world,также,это,релиз\n",
            "2013-10 реформа,казахстан,который,это,год,сообщать,президент,также,январь,туркмения\n",
            "2014-03 президент,владимир,путин,крым,глава,государство,указ,россия,полуостров,рф\n",
            "2015-01 произойти,результат,инцидент,получить,нападение,пострадать,пострадавший,двое,человек,неизвестный\n",
            "2015-02 донбасс,народный,донецкий,республика,прекращение,конфликт,луганский,самопровозгласить,днр,украинский\n",
            "2015-12 турция,турецкий,это,анкара,сбить,который,24,ливан,заявить,эрдогать\n",
            "2016-04 учёный,исследование,который,исследователь,человек,анализ,вывод,клетка,журнал,это\n",
            "2016-06 май,июнь,2016,го,2017,год,это,конец,22,12\n",
            "2016-08 август,29,31,это,стать,30,28,сообщать,rambler,который\n",
            "2016-11 декабрь,ноябрь,это,ким,стать,джонсон,сообщить,сообщать,15,который\n",
            "2017-01 вызвать,назвать,это,свой,который,критика,ошибка,заявить,повод,принести\n",
            "2017-03 ру,лента,поступить,это,общество,корреспондент,редакция,релиз,прима,далее\n",
            "2017-05 турция,турецкий,это,анкара,сбить,который,24,ливан,заявить,эрдогать\n",
            "2017-12 форма,одежда,носить,вещий,костюм,женский,характер,модный,дизайнер,обувь\n",
            "2018-01 женщина,мужчина,летний,рука,попытаться,нога,жительница,голова,это,домой\n",
            "2018-02 комитет,олимпийский,сочи,спортсмен,игра,олимпиада,международный,допинг,это,отстранить\n",
            "2018-03 фотография,twitter,пользователь,опубликовать,снимка,фото,instagram,девушка,аккаунт,который\n",
            "2018-07 вызвать,назвать,это,свой,который,критика,ошибка,заявить,повод,принести\n",
            "2018-10 это,сказать,добавить,весь,отметить,наш,заявить,подчеркнуть,говорить,очень\n",
            "2019-01 дом,здание,поиск,находиться,пропасть,человек,спасатель,расположить,район,улица\n",
            "2019-10 временной,киргизия,юг,узбекистан,это,который,республика,также,бакиев,президент\n",
            "2020-01 france,presse,египет,agence,ливия,январь,который,каддафи,сообщать,египетский\n",
            "2020-03 рука,это,человек,вирус,нужно,мочь,коронавирус,кашель,нос,телефон\n",
            "2020-04 рука,это,человек,вирус,нужно,мочь,коронавирус,кашель,нос,телефон\n",
            "2020-07 случай,коронавирус,выявить,человек,распространение,зафиксировать,число,вирус,пандемия,это\n"
          ],
          "name": "stdout"
        }
      ]
    },
    {
      "cell_type": "markdown",
      "metadata": {
        "id": "H3jfcZikSd_k"
      },
      "source": [
        "### Удалим слишком большие засветы тем"
      ]
    },
    {
      "cell_type": "code",
      "metadata": {
        "id": "IVK0kXDFSd_k"
      },
      "source": [
        "damage_mean_vectors = mean_vectors.copy()\n",
        "damage_mean_vectors[np.where(mean_vectors > 0.1)] = 0"
      ],
      "execution_count": null,
      "outputs": []
    },
    {
      "cell_type": "code",
      "metadata": {
        "id": "pl-sELFESd_l",
        "outputId": "5b2977bf-ede1-4e78-9223-88d8d03d4052"
      },
      "source": [
        "fig = plt.figure(figsize=(120, 8))\n",
        "\n",
        "im = plt.imshow(damage_mean_vectors.T, cmap='gray')\n",
        "_ = fig.colorbar(im)\n",
        "\n",
        "plt.show()"
      ],
      "execution_count": null,
      "outputs": [
        {
          "output_type": "display_data",
          "data": {
            "image/png": "[encoded data removed]",
            "text/plain": [
              "<Figure size 8640x576 with 2 Axes>"
            ]
          },
          "metadata": {
            "tags": [],
            "needs_background": "light"
          }
        }
      ]
    },
    {
      "cell_type": "markdown",
      "metadata": {
        "id": "S-yaJtbCSd_l"
      },
      "source": [
        "### Появились интересные топики сквозь года - посмотрим на них"
      ]
    },
    {
      "cell_type": "code",
      "metadata": {
        "id": "YWUmA7gTSd_l",
        "outputId": "981db7f7-c517-4ad9-d420-4653114f305a"
      },
      "source": [
        "','.join(top_tokens[model.topic_names[60]])"
      ],
      "execution_count": null,
      "outputs": [
        {
          "output_type": "execute_result",
          "data": {
            "text/plain": [
              "'суд,признать,иск,подать,судебный,адвокат,приговор,судья,решение,жалоба'"
            ]
          },
          "metadata": {
            "tags": []
          },
          "execution_count": 268
        }
      ]
    },
    {
      "cell_type": "code",
      "metadata": {
        "id": "q6izJVZ3Sd_l",
        "outputId": "767353d7-3b92-49e7-9184-e6df29f4c273"
      },
      "source": [
        "','.join(top_tokens[model.topic_names[95]])"
      ],
      "execution_count": null,
      "outputs": [
        {
          "output_type": "execute_result",
          "data": {
            "text/plain": [
              "'группа,the,a,and,i,of,коллектив,in,to,for'"
            ]
          },
          "metadata": {
            "tags": []
          },
          "execution_count": 270
        }
      ]
    },
    {
      "cell_type": "code",
      "metadata": {
        "id": "aVsqvquqSd_m",
        "outputId": "5ee797a0-af94-41ea-d1f9-16a2e821400b"
      },
      "source": [
        "','.join(top_tokens[model.topic_names[129]])"
      ],
      "execution_count": null,
      "outputs": [
        {
          "output_type": "execute_result",
          "data": {
            "text/plain": [
              "'участие,пройти,участник,принимать,мероприятие,принять,конкурс,участвовать,проходить,организатор'"
            ]
          },
          "metadata": {
            "tags": []
          },
          "execution_count": 255
        }
      ]
    },
    {
      "cell_type": "code",
      "metadata": {
        "id": "TmXyIoEKSd_m",
        "outputId": "ed2939ee-f21d-4cdd-ad21-c8622170f55a"
      },
      "source": [
        "','.join(top_tokens[model.topic_names[198]])"
      ],
      "execution_count": null,
      "outputs": [
        {
          "output_type": "execute_result",
          "data": {
            "text/plain": [
              "'проект,программа,развитие,план,рамка,планироваться,сфера,новый,реализация,поддержка'"
            ]
          },
          "metadata": {
            "tags": []
          },
          "execution_count": 256
        }
      ]
    },
    {
      "cell_type": "markdown",
      "metadata": {
        "id": "haZf2KuaSd_n"
      },
      "source": [
        "### Анализ матрицы $\\Phi$"
      ]
    },
    {
      "cell_type": "code",
      "metadata": {
        "id": "OfUfkBF2Sd_n"
      },
      "source": [
        "vector_pd = model.get_phi(class_ids=['@month']).T"
      ],
      "execution_count": null,
      "outputs": []
    },
    {
      "cell_type": "code",
      "metadata": {
        "id": "2if-gAWFSd_n"
      },
      "source": [
        "vectors = []\n",
        "for modal in tqdm(unique_modal):\n",
        "    vectors.append(vector_pd['class_' + modal.strftime('%m_%Y')].values)\n",
        "    \n",
        "vectors = np.array(vectors).T"
      ],
      "execution_count": null,
      "outputs": []
    },
    {
      "cell_type": "code",
      "metadata": {
        "id": "Sl6b3PGBSd_o",
        "outputId": "ec6ed43b-550d-4c96-c90c-5a8123d1e353"
      },
      "source": [
        "fig = plt.figure(figsize=(120, 8))\n",
        "\n",
        "im = plt.imshow(vectors, cmap='gray')\n",
        "_ = fig.colorbar(im)\n",
        "\n",
        "plt.show()"
      ],
      "execution_count": null,
      "outputs": [
        {
          "output_type": "display_data",
          "data": {
            "image/png": "[encoded data removed]",
            "text/plain": [
              "<Figure size 8640x576 with 2 Axes>"
            ]
          },
          "metadata": {
            "tags": [],
            "needs_background": "light"
          }
        }
      ]
    },
    {
      "cell_type": "code",
      "metadata": {
        "scrolled": false,
        "id": "hiCFDVh1Sd_o",
        "outputId": "593d267a-f401-412c-ce8f-1c5f599a69d7"
      },
      "source": [
        "for modal_id, topic_id in zip(*np.where(vectors.T > 0.999)):\n",
        "    print(unique_modal[modal_id].strftime('%Y-%m'), \n",
        "          ','.join(top_tokens[model.topic_names[topic_id]][:7]))"
      ],
      "execution_count": null,
      "outputs": [
        {
          "output_type": "stream",
          "text": [
            "1999-12 граница,судно,порт,судный,груз,берег,пограничный\n",
            "2001-10 информация,сведение,дать,times,спецслужба,документ,опровергнуть\n",
            "2002-03 власть,иностранный,политический,обратиться,предоставить,просьба,статус\n",
            "2003-05 свобода,заключение,приговорить,тюрьма,наказание,осудить,лишение\n",
            "2003-09 человек,погибнуть,взрыв,погибший,теракт,жертва,результат\n",
            "2003-11 партия,единый,лидер,депутат,политический,госдума,демократический\n",
            "2004-03 станция,космический,корабль,полёт,мкс,космос,рогозин\n",
            "2004-06 команда,сборный,тренер,чемпионат,италия,сборная,итальянский\n",
            "2004-07 решение,принять,должный,срок,договор,условие,документ\n",
            "2005-01 акция,массовый,протест,человек,митинг,против,беспорядок\n",
            "2005-07 статья,рф,уголовный,факт,следственный,возбудить,дело\n",
            "2005-08 активист,административный,ответственность,устроить,привлечь,сутки,протокол\n",
            "2005-09 школа,язык,образование,институт,университет,студент,наука\n",
            "2005-11 франция,французский,париж,блэр,de,француз,жан\n",
            "2005-12 хороший,премия,книга,церемония,роман,награда,получить\n",
            "2006-03 сторона,переговоры,соглашение,санкция,против,договориться,готовый\n",
            "2006-06 мнение,считать,проблема,мочь,эксперт,внимание,важный\n",
            "2006-07 километр,способный,испытание,скорость,ракета,установка,цель\n",
            "2006-09 6,круг,выиграть,турнир,финал,мария,россиянка\n",
            "2007-03 оператор,реклама,связь,рекламный,тариф,стандарт,лицензия\n",
            "2007-05 вертолёт,западный,восток,восточный,запад,северо,юго\n",
            "2007-06 испания,молдавия,испанский,чехия,дон,болгария,кипр\n",
            "2007-07 the,daily,mail,лос,guardian,майкл,анджелес\n",
            "2007-09 производство,предприятие,завод,оборудование,заказ,промышленный,промышленность\n",
            "2007-10 акция,процент,компания,принадлежать,актив,акционер,бумага\n",
            "2008-02 s,продать,фунт,аукцион,выставить,заплатить,стерлинг\n",
            "2008-02 театр,фестиваль,артист,спектакль,сцена,актёр,театральный\n",
            "2008-06 найти,обнаружить,век,год,останки,который,след\n",
            "2008-08 военный,войско,армия,военнослужащий,сила,генерал,вооружённый\n",
            "2008-09 сотрудничество,совместный,партнёр,форум,роснефть,деловой,энергетический\n",
            "2008-11 строительство,объект,проект,построить,комплекс,площадь,квадратный\n",
            "2008-12 музыкант,альбом,концерт,певица,песня,музыкальный,певец\n",
            "2009-01 нефть,цена,добыча,тонна,нефтяной,баррель,месторождение\n",
            "2009-03 алексей,олег,полномочие,обязанность,исполнять,исполнение,навальный\n",
            "2009-04 процент,год,рост,показатель,вырасти,цена,сравнение\n",
            "2009-06 звезда,учёный,планета,земля,который,масса,солнечный\n",
            "2009-07 суд,признать,иск,подать,судебный,адвокат,приговор\n",
            "2009-08 обвинение,обвинять,обвинить,арест,арестовать,предъявить,расследование\n",
            "2009-09 место,список,рейтинг,занять,третье,самый,второе\n",
            "2009-10 издание,газета,писать,источник,ссылка,данные,коммерсант\n",
            "2009-11 год,война,х,советский,ссср,1990,история\n",
            "2010-02 использоваться,электронный,аппарат,использовать,использование,специальный,который\n",
            "2010-03 самолёт,истребитель,ввс,f,35,су,c\n",
            "2010-04 депутат,парламент,виктор,верховный,президент,рад,конституция\n",
            "2010-06 спорт,медаль,золотой,спортивный,соревнование,гонка,олимпийский\n",
            "2010-08 город,житель,местный,человек,население,район,эстония\n",
            "2010-09 корабль,морской,флот,лодка,подводный,вмс,мор\n",
            "2010-12 сергей,андрей,николай,евгений,дмитрий,иван,павел\n",
            "2011-03 бывший,пост,глава,должность,отставка,назначить,президент\n",
            "2011-04 область,петербург,санкт,губернатор,округа,областной,петербургский\n",
            "2011-05 год,2009,2010,2012,2011,2008,прошлое\n",
            "2011-08 миллион,доллар,около,сумма,300,500,сбор\n",
            "2011-09 клуб,сезон,игрок,нхл,матч,регулярный,команда\n",
            "2011-10 октябрь,17,23,26,18,13,21\n",
            "2011-11 долг,фирма,имущество,управлять,менеджер,принадлежащий,задолженность\n",
            "2011-12 полиция,полицейский,наркотик,порядок,который,сотрудник,сообщать\n",
            "2012-03 освободить,захватить,освобождение,заложник,захват,похищение,который\n",
            "2012-04 миллиард,доллар,составить,общий,год,сложность,объесть\n",
            "2012-05 запустить,запуск,ракета,вывести,спутник,аппарат,носитель\n",
            "2012-07 москва,московский,столица,столичный,улица,метро,станция\n",
            "2012-10 машина,автомобиль,дорога,водитель,движение,автобус,транспортный\n",
            "2012-11 пара,сексуальный,брак,принц,королевский,королева,насилие\n",
            "2012-11 квартира,жильё,недвижимость,дом,помещение,аренда,стоимость\n",
            "2012-12 право,закон,нарушение,правило,соответствие,законодательство,защита\n",
            "2013-01 выйти,выход,серия,герой,выходить,выпустить,сериал\n",
            "2013-02 тысяча,метр,около,составлять,квадратный,площадь,класс\n",
            "2013-03 рубль,евро,курс,стоимость,валюта,минимальный,цена\n",
            "2013-04 слово,заявить,рассказать,это,интервью,приводить,отметить\n",
            "2013-05 музей,выставка,художник,искусство,картина,изображение,предмет\n",
            "2013-05 милиция,конфликт,милиционер,драка,сотрудник,гувд,ударить\n",
            "2013-06 министерство,ведомство,чиновник,внутренний,департамент,государственный,анатолий\n",
            "2013-07 организация,деятельность,общественный,мусульманин,член,экстремистский,религиозный\n",
            "2013-08 молодая,девушка,выясниться,телефон,угрожать,знакомый,затем\n",
            "2013-09 ресторан,быстрый,посетитель,заведение,кафе,который,посещать\n",
            "2013-11 компания,магазин,корпорация,крупный,свой,производитель,который\n",
            "2013-12 газпром,газа,поставка,контракт,газ,поток,кубометр\n",
            "2014-01 интернет,пользователь,сервис,доступ,google,сайт,приложение\n",
            "2014-02 оон,польша,постоянный,польский,делегация,резолюция,миссия\n",
            "2014-02 министр,правительство,премьер,вица,медведев,глава,кабинет\n",
            "2014-08 клуб,бразилия,футболист,барселона,реал,чемпион,игрок\n",
            "2014-09 комплекс,вооружение,техника,ракета,ракетный,оборона,танк\n",
            "2014-10 устройство,apple,смартфон,iphone,компьютер,экран,windows\n",
            "2014-11 федеральный,региональный,участок,земля,2020,ресурс,это\n",
            "2015-02 донбасс,народный,донецкий,республика,прекращение,конфликт,луганский\n",
            "2015-03 год,2014,2015,2013,игорь,это,согласие\n",
            "2015-10 совет,директор,председатель,заместитель,руководитель,генеральный,член\n",
            "2015-11 нью,йорк,австралия,австралийский,де,бельгия,йоркский\n",
            "2016-01 автомобиль,машина,модель,формула,новый,двигатель,январь\n",
            "2016-02 иран,ядерный,посольство,дипломат,посол,иранский,дипломатический\n",
            "2016-02 центр,зал,учреждение,би,исследовательский,инструмент,научно\n",
            "2016-03 россия,российский,рф,россиянин,тасс,это,международный\n",
            "2016-04 учёный,исследование,который,исследователь,человек,анализ,вывод\n",
            "2016-05 предложить,законопроект,предложение,госдума,изменение,закон,внести\n",
            "2016-06 май,июнь,2016,го,2017,год,это\n",
            "2016-07 который,метод,учёный,волна,элемент,это,эксперимент\n",
            "2016-08 август,29,31,это,стать,30,28\n",
            "2016-09 группа,the,a,and,i,of,коллектив\n",
            "2016-10 новость,служба,пресс,риа,сентябрь,сообщить,агентство\n",
            "2016-11 декабрь,ноябрь,это,ким,стать,джонсон,сообщить\n",
            "2016-12 военный,действие,операция,база,удар,нанести,территория\n",
            "2017-02 площадка,парк,высота,гора,стена,февраль,парка\n",
            "2017-04 видео,запись,ролик,который,youtube,снять,опубликовать\n",
            "2017-06 процент,большинство,результат,опрос,россиянин,голос,опросить\n",
            "2017-07 китай,китайский,кнр,пекин,провинция,это,год\n",
            "2017-08 день,русский,следующий,название,честь,сегодняшний,праздник\n",
            "2017-08 леонид,венесуэла,президент,гривна,окружение,колумбия,чавес\n",
            "2017-09 оружие,открыть,стрельба,пистолет,огонь,автомат,боеприпас\n",
            "2017-10 система,счёт,услуга,клиент,карта,схема,перевести\n",
            "2017-11 владелец,бизнесмен,предприниматель,основатель,богатый,миллиардер,forbes\n",
            "2017-12 форма,одежда,носить,вещий,костюм,женский,характер\n",
            "2018-01 женщина,мужчина,летний,рука,попытаться,нога,жительница\n",
            "2018-03 фотография,twitter,пользователь,опубликовать,снимка,фото,instagram\n",
            "2018-04 ребёнок,возраст,родитель,детский,девочка,подросток,мальчик\n",
            "2018-05 уровень,экономический,экономика,ставка,кризис,высокий,повышение\n",
            "2018-09 бой,всемирный,профессиональный,боксёр,кличко,чемпион,виталий\n",
            "2018-11 вопрос,встреча,лидер,ход,разговор,тема,состояться\n",
            "2019-02 летний,семья,сын,жена,отец,брат,родственник\n",
            "2019-03 сеть,социальный,facebook,страница,соцсеть,свой,вконтакте\n",
            "2019-04 задержать,орган,сотрудник,правоохранительный,задержание,незаконный,подозревать\n",
            "2019-06 запретить,запрет,товар,продукция,ограничение,ввести,продукт\n",
            "2019-07 5,2,1,3,4,6,7\n",
            "2019-08 килограмм,продукт,питание,вес,это,еда,также\n",
            "2019-09 вода,сильный,река,температура,градус,океан,ветер\n",
            "2019-10 временной,киргизия,юг,узбекистан,это,который,республика\n",
            "2019-11 участие,пройти,участник,принимать,мероприятие,принять,конкурс\n",
            "2019-12 украина,украинский,киев,порошенко,это,пётр,зеленский\n",
            "2020-01 france,presse,египет,agence,ливия,январь,который\n",
            "2020-02 свой,хотеть,друг,человек,знать,жизнь,рассказать\n",
            "2020-03 март,режим,это,закрытый,скорее,обращаться,который\n",
            "2020-05 страна,государство,международный,канада,помощь,африка,весь\n",
            "2020-05 врач,больница,состояние,медицинский,здоровье,помощь,лечение\n",
            "2020-06 нижний,екатеринбург,это,татьяна,свердловский,казань,уполномоченный\n",
            "2020-06 мир,мировой,этап,самый,весь,рекорд,стать\n",
            "2020-07 регион,край,подмосковье,район,подмосковный,посёлок,губернатор\n",
            "2020-07 случай,коронавирус,выявить,человек,распространение,зафиксировать,число\n",
            "2020-08 победа,поражение,одержать,боец,победить,абсолютный,поединок\n",
            "2020-08 проект,программа,развитие,план,рамка,планироваться,сфера\n"
          ],
          "name": "stdout"
        }
      ]
    },
    {
      "cell_type": "markdown",
      "metadata": {
        "id": "E19ZI_u0Sd_p"
      },
      "source": [
        "## Вспомним, что в выборке есть тэги классов. Попробуем решить задачу классификации"
      ]
    },
    {
      "cell_type": "code",
      "metadata": {
        "id": "5c8SZSD_Sd_p"
      },
      "source": [
        "X_train_pd = model.transform(bv_train)"
      ],
      "execution_count": null,
      "outputs": []
    },
    {
      "cell_type": "code",
      "metadata": {
        "id": "CwarM-DGSd_p"
      },
      "source": [
        "X_train = []\n",
        "for i in tqdm(range(len(y_train))):\n",
        "    X_train.append(X_train_pd[i].values)"
      ],
      "execution_count": null,
      "outputs": []
    },
    {
      "cell_type": "code",
      "metadata": {
        "id": "LBMHj37HSd_p"
      },
      "source": [
        "X_train = np.array(X_train)\n",
        "y_train = np.array(y_train)"
      ],
      "execution_count": null,
      "outputs": []
    },
    {
      "cell_type": "code",
      "metadata": {
        "id": "uh1blXY1Sd_p"
      },
      "source": [
        "classifier = RandomForestClassifier(n_estimators=10)"
      ],
      "execution_count": null,
      "outputs": []
    },
    {
      "cell_type": "code",
      "metadata": {
        "id": "_0tFrtOBSd_q",
        "outputId": "0e59f6f9-8d97-4f99-f9cc-5278d525f967"
      },
      "source": [
        "classifier.fit(X_train, y_train)"
      ],
      "execution_count": null,
      "outputs": [
        {
          "output_type": "execute_result",
          "data": {
            "text/plain": [
              "RandomForestClassifier(n_estimators=10)"
            ]
          },
          "metadata": {
            "tags": []
          },
          "execution_count": 336
        }
      ]
    },
    {
      "cell_type": "code",
      "metadata": {
        "id": "DMUbtLXJSd_q"
      },
      "source": [
        "X_valid_pd = model.transform(bv_test)"
      ],
      "execution_count": null,
      "outputs": []
    },
    {
      "cell_type": "code",
      "metadata": {
        "id": "O_ggNb7JSd_q"
      },
      "source": [
        "X_valid = []\n",
        "for i in tqdm(range(len(y_valid))):\n",
        "    X_valid.append(X_valid_pd[i].values)"
      ],
      "execution_count": null,
      "outputs": []
    },
    {
      "cell_type": "code",
      "metadata": {
        "id": "4SwVzFZkSd_q"
      },
      "source": [
        "pred = classifier.predict(X_valid)"
      ],
      "execution_count": null,
      "outputs": []
    },
    {
      "cell_type": "code",
      "metadata": {
        "id": "OQ9B0YjXSd_q",
        "outputId": "7cbe87cf-cadf-4bca-a668-837ba7041828"
      },
      "source": [
        "print(classification_report(y_valid, pred, zero_division=1))"
      ],
      "execution_count": null,
      "outputs": [
        {
          "output_type": "stream",
          "text": [
            "                      precision    recall  f1-score   support\n",
            "\n",
            "             coцсети       0.21      0.21      0.21        39\n",
            "                 nan       0.37      0.34      0.35       208\n",
            "          автобизнес       1.00      0.50      0.67         2\n",
            "   английский футбол       1.00      1.00      1.00         1\n",
            "          белоруссия       0.80      0.33      0.47        24\n",
            "              бизнес       0.24      0.20      0.22        70\n",
            "          бокс и мма       0.90      0.56      0.69        32\n",
            "                вещи       1.00      0.00      0.00         5\n",
            "     вирусные ролики       1.00      0.00      0.00         2\n",
            "         внешний вид       0.53      0.50      0.52        16\n",
            "                 все       0.68      0.96      0.80      3356\n",
            "             гаджеты       0.53      0.33      0.41        24\n",
            "               город       0.20      0.06      0.09        18\n",
            "        госэкономика       0.53      0.36      0.43       162\n",
            "                дача       1.00      0.00      0.00        13\n",
            "            движение       0.67      0.33      0.44         6\n",
            "      деловой климат       0.11      0.03      0.05        35\n",
            "              деньги       0.50      0.05      0.10        19\n",
            "          достижения       1.00      0.00      0.00         7\n",
            "                 еда       1.00      0.00      0.00         9\n",
            "               жизнь       1.00      0.00      0.00        11\n",
            "          закавказье       1.00      0.22      0.36         9\n",
            "               звери       0.86      0.29      0.43        21\n",
            "         зимние виды       0.75      0.38      0.50        16\n",
            "                игры       0.86      0.35      0.50        17\n",
            "         инструменты       1.00      0.43      0.60         7\n",
            "            интернет       0.31      0.14      0.19        87\n",
            "           искусство       1.00      0.00      0.00        17\n",
            "             история       1.00      0.00      0.00         4\n",
            "           казахстан       0.00      0.00      0.00         2\n",
            "            квартира       0.75      0.40      0.52        83\n",
            "   киберпреступность       1.00      0.00      0.00         1\n",
            "                кино       0.62      0.52      0.57        77\n",
            "               книги       0.00      0.00      0.00         6\n",
            "           конфликты       0.52      0.33      0.41        33\n",
            "              космос       0.64      0.23      0.34        39\n",
            "            криминал       0.25      0.05      0.08        21\n",
            "            культура       1.00      0.60      0.75         5\n",
            "         летние виды       1.00      0.33      0.50        24\n",
            "                люди       0.44      0.21      0.29        75\n",
            "                мемы       1.00      0.00      0.00         5\n",
            "                 мир       0.29      0.16      0.21        31\n",
            "      мировой бизнес       1.00      0.00      0.00        14\n",
            "        мировой опыт       1.00      0.00      0.00         1\n",
            "              мнения       0.50      0.08      0.13        13\n",
            "            молдавия       1.00      0.00      0.00         4\n",
            "              москва       1.00      0.00      0.00        19\n",
            "              музыка       0.68      0.43      0.52        54\n",
            "            наследие       1.00      0.00      0.00         1\n",
            "               наука       0.66      0.44      0.53        86\n",
            "            общество       0.43      0.28      0.34       369\n",
            "              оружие       1.00      0.21      0.34        29\n",
            "                офис       1.00      0.00      0.00        12\n",
            "            политика       0.59      0.44      0.51       418\n",
            "полиция и спецслужбы       0.00      0.00      0.00        14\n",
            "              пресса       1.00      0.00      0.00        19\n",
            "   преступная россия       0.00      0.00      0.00         3\n",
            "        преступность       0.67      0.06      0.10        36\n",
            "          прибалтика       1.00      0.00      0.00        13\n",
            "        происшествия       0.31      0.07      0.12       124\n",
            "             регионы       1.00      0.26      0.41        27\n",
            "             реклама       1.00      0.00      0.00         1\n",
            "              россия       0.50      0.11      0.17        19\n",
            "               рынки       0.33      0.05      0.09        39\n",
            "     следствие и суд       0.55      0.25      0.34       108\n",
            "             события       0.33      0.03      0.06        31\n",
            "                софт       1.00      0.00      0.00         5\n",
            "    социальная сфера       1.00      0.00      0.00         5\n",
            "        средняя азия       1.00      0.08      0.14        13\n",
            "               стиль       0.48      0.54      0.51        26\n",
            "          тв и радио       0.53      0.16      0.24        51\n",
            "               театр       1.00      0.18      0.31        11\n",
            "             техника       1.00      0.00      0.00        10\n",
            "             украина       0.75      0.76      0.76       238\n",
            "    финансы компаний       1.00      0.00      0.00         3\n",
            "              футбол       0.77      0.46      0.57       101\n",
            "              хоккей       1.00      0.20      0.33         5\n",
            "                часы       1.00      0.75      0.86         4\n",
            "           экономика       0.50      0.30      0.37        10\n",
            "             явления       0.45      0.17      0.25        29\n",
            "\n",
            "            accuracy                           0.64      6604\n",
            "           macro avg       0.71      0.21      0.26      6604\n",
            "        weighted avg       0.63      0.64      0.59      6604\n",
            "\n"
          ],
          "name": "stdout"
        }
      ]
    },
    {
      "cell_type": "markdown",
      "metadata": {
        "id": "IMghMpgDSd_q"
      },
      "source": [
        "## Начнем добавлять регуляризаторы\n",
        "Запустим перебор по параметрам"
      ]
    },
    {
      "cell_type": "code",
      "metadata": {
        "id": "mAcCRwJQSd_r"
      },
      "source": [
        "grid = ParameterGrid({'tau': [10, 50, 100]})\n",
        "\n",
        "\n",
        "scores = dict()\n",
        "grid_iterator = tqdm(grid)\n",
        "for item in grid_iterator:\n",
        "    model = artm.load_artm_model('./drive/MyDrive/DATASETS/MachineLearning/topicmodeling/model/without_regular/')\n",
        "    model.scores.add(artm.PerplexityScore(name='perplexity', dictionary=dictionary), overwrite=True)\n",
        "    \n",
        "    model.regularizers.add(artm.SmoothSparsePhiRegularizer(name='smoothing', \n",
        "                                                           tau=item['tau'],\n",
        "                                                           class_ids=['@month']))\n",
        "\n",
        "\n",
        "\n",
        "    iterator = tqdm(range(7))\n",
        "    for i in iterator:\n",
        "        model.fit_offline(bv_train, num_collection_passes=1)\n",
        "        iterator.set_postfix({'perplexity': model.score_tracker['perplexity'].value[-1],  \n",
        "                              'sparsity': model.score_tracker['sparsity'].value[-1],})\n",
        "        \n",
        "    scores[str(item)] = dict()\n",
        "    scores[str(item)]['perplexity'] = model.score_tracker['perplexity'].value\n",
        "    scores[str(item)]['sparsity'] = model.score_tracker['sparsity'].value\n",
        "    \n",
        "    grid_iterator.set_postfix({'perplexity': model.score_tracker['perplexity'].value[-1],  \n",
        "                               'sparsity': model.score_tracker['sparsity'].value[-1],})\n",
        "        "
      ],
      "execution_count": null,
      "outputs": []
    },
    {
      "cell_type": "code",
      "metadata": {
        "id": "ElWr17LASd_r",
        "outputId": "5da88103-5435-4ad2-c759-44673fd27b2e"
      },
      "source": [
        "for key in scores:\n",
        "    print(key, scores[key]['perplexity'][-2:])"
      ],
      "execution_count": null,
      "outputs": [
        {
          "output_type": "stream",
          "text": [
            "{'tau': 10} [22627.958984375, 22638.54296875]\n",
            "{'tau': 50} [29136.11328125, 29146.42578125]\n",
            "{'tau': 100} [37437.37109375, 37476.1171875]\n"
          ],
          "name": "stdout"
        }
      ]
    },
    {
      "cell_type": "code",
      "metadata": {
        "scrolled": true,
        "id": "fhf_KtNfSd_r"
      },
      "source": [
        "grid = ParameterGrid({'tau': [10000, 50000, 100000]})\n",
        "\n",
        "\n",
        "scores = dict()\n",
        "grid_iterator = tqdm(grid)\n",
        "for item in grid_iterator:\n",
        "    model = artm.load_artm_model('./drive/MyDrive/DATASETS/MachineLearning/topicmodeling/model/without_regular/')\n",
        "    model.scores.add(artm.PerplexityScore(name='perplexity', dictionary=dictionary), overwrite=True)\n",
        "    \n",
        "    model.regularizers.add(artm.DecorrelatorPhiRegularizer(name='decorrelator', \n",
        "                                                           tau=item['tau'],\n",
        "                                                           class_ids=['@default_class']))\n",
        "\n",
        "    iterator = tqdm(range(7))\n",
        "    for i in iterator:\n",
        "        model.fit_offline(bv_train, num_collection_passes=1)\n",
        "        iterator.set_postfix({'perplexity': model.score_tracker['perplexity'].value[-1],  \n",
        "                              'sparsity': model.score_tracker['sparsity'].value[-1],})\n",
        "        \n",
        "    scores[str(item)] = dict()\n",
        "    scores[str(item)]['perplexity'] = model.score_tracker['perplexity'].value\n",
        "    scores[str(item)]['sparsity'] = model.score_tracker['sparsity'].value\n",
        "    \n",
        "    grid_iterator.set_postfix({'perplexity': model.score_tracker['perplexity'].value[-1],  \n",
        "                               'sparsity': model.score_tracker['sparsity'].value[-1],})\n",
        "        "
      ],
      "execution_count": null,
      "outputs": []
    },
    {
      "cell_type": "code",
      "metadata": {
        "id": "yLdGB4MnSd_r",
        "outputId": "151bc55e-9048-433c-8758-d8a420e550e1"
      },
      "source": [
        "for key in scores:\n",
        "    print(key, scores[key]['perplexity'][-2:])"
      ],
      "execution_count": null,
      "outputs": [
        {
          "output_type": "stream",
          "text": [
            "{'tau': 10000} [20946.19921875, 20960.79296875]\n",
            "{'tau': 50000} [21034.060546875, 21057.888671875]\n",
            "{'tau': 100000} [21153.400390625, 21186.66015625]\n"
          ],
          "name": "stdout"
        }
      ]
    },
    {
      "cell_type": "code",
      "metadata": {
        "id": "kGA9Vv4qSd_r"
      },
      "source": [
        "grid = ParameterGrid({'tau': [10, 50, 100]})\n",
        "\n",
        "\n",
        "scores = dict()\n",
        "grid_iterator = tqdm(grid)\n",
        "for item in grid_iterator:\n",
        "    model = artm.load_artm_model('./drive/MyDrive/DATASETS/MachineLearning/topicmodeling/model/without_regular/')\n",
        "    model.scores.add(artm.PerplexityScore(name='perplexity', dictionary=dictionary), overwrite=True)\n",
        "    \n",
        "    model.regularizers.add(artm.SmoothSparsePhiRegularizer(name='smoothing', \n",
        "                                                           tau=item['tau'],\n",
        "                                                           class_ids=['@default_class']))\n",
        "\n",
        "\n",
        "    iterator = tqdm(range(7))\n",
        "    for i in iterator:\n",
        "        model.fit_offline(bv_train, num_collection_passes=1)\n",
        "        iterator.set_postfix({'perplexity': model.score_tracker['perplexity'].value[-1],  \n",
        "                              'sparsity': model.score_tracker['sparsity'].value[-1],})\n",
        "        \n",
        "    scores[str(item)] = dict()\n",
        "    scores[str(item)]['perplexity'] = model.score_tracker['perplexity'].value\n",
        "    scores[str(item)]['sparsity'] = model.score_tracker['sparsity'].value\n",
        "    \n",
        "    grid_iterator.set_postfix({'perplexity': model.score_tracker['perplexity'].value[-1],  \n",
        "                               'sparsity': model.score_tracker['sparsity'].value[-1],})\n",
        "        "
      ],
      "execution_count": null,
      "outputs": []
    },
    {
      "cell_type": "code",
      "metadata": {
        "id": "DlQzQrE2Sd_r",
        "outputId": "6600a487-3230-44b1-b328-a4628f7f109c"
      },
      "source": [
        "for key in scores:\n",
        "    print(key, scores[key]['perplexity'][-2:])"
      ],
      "execution_count": null,
      "outputs": [
        {
          "output_type": "stream",
          "text": [
            "{'tau': 10} [144748.984375, 125546.5234375]\n",
            "{'tau': 50} [151325.40625, 134658.359375]\n",
            "{'tau': 100} [169710.640625, 160818.046875]\n"
          ],
          "name": "stdout"
        }
      ]
    },
    {
      "cell_type": "code",
      "metadata": {
        "scrolled": true,
        "id": "a7jhQeOrSd_s"
      },
      "source": [
        "grid = ParameterGrid({'tau': [10000, 50000, 100000]})\n",
        "\n",
        "\n",
        "scores = dict()\n",
        "grid_iterator = tqdm(grid)\n",
        "for item in grid_iterator:\n",
        "    model = artm.load_artm_model('./drive/MyDrive/DATASETS/MachineLearning/topicmodeling/model/without_regular/')\n",
        "    model.scores.add(artm.PerplexityScore(name='perplexity', dictionary=dictionary), overwrite=True)\n",
        "    \n",
        "    model.regularizers.add(artm.DecorrelatorPhiRegularizer(name='decorrelator', \n",
        "                                                           tau=item['tau'],\n",
        "                                                           class_ids=['@month']))\n",
        "\n",
        "    iterator = tqdm(range(7))\n",
        "    for i in iterator:\n",
        "        model.fit_offline(bv_train, num_collection_passes=1)\n",
        "        iterator.set_postfix({'perplexity': model.score_tracker['perplexity'].value[-1],  \n",
        "                              'sparsity': model.score_tracker['sparsity'].value[-1],})\n",
        "        \n",
        "    scores[str(item)] = dict()\n",
        "    scores[str(item)]['perplexity'] = model.score_tracker['perplexity'].value\n",
        "    scores[str(item)]['sparsity'] = model.score_tracker['sparsity'].value\n",
        "    \n",
        "    grid_iterator.set_postfix({'perplexity': model.score_tracker['perplexity'].value[-1],  \n",
        "                               'sparsity': model.score_tracker['sparsity'].value[-1],})\n",
        "        "
      ],
      "execution_count": null,
      "outputs": []
    },
    {
      "cell_type": "code",
      "metadata": {
        "id": "G-R4b3w2Sd_s",
        "outputId": "e09915d3-8d72-4a8a-bf34-d329813282a6"
      },
      "source": [
        "for key in scores:\n",
        "    print(key, scores[key]['perplexity'][-2:])"
      ],
      "execution_count": null,
      "outputs": [
        {
          "output_type": "stream",
          "text": [
            "{'tau': 10000} [20733.203125, 20745.42578125]\n",
            "{'tau': 50000} [25235.177734375, 25243.703125]\n",
            "{'tau': 100000} [25883.412109375, 25891.21875]\n"
          ],
          "name": "stdout"
        }
      ]
    },
    {
      "cell_type": "code",
      "metadata": {
        "id": "PNFfx6wFSd_s"
      },
      "source": [
        "grid = ParameterGrid({'tau': [10, 50, 100]})\n",
        "\n",
        "\n",
        "scores = dict()\n",
        "grid_iterator = tqdm(grid)\n",
        "for item in grid_iterator:\n",
        "    model = artm.load_artm_model('./drive/MyDrive/DATASETS/MachineLearning/topicmodeling/model/without_regular/')\n",
        "    model.scores.add(artm.PerplexityScore(name='perplexity', dictionary=dictionary), overwrite=True)\n",
        "    \n",
        "    model.regularizers.add(artm.SmoothSparsePhiRegularizer(name='smoothing', \n",
        "                                                           tau=item['tau']))\n",
        "\n",
        "\n",
        "    iterator = tqdm(range(7))\n",
        "    for i in iterator:\n",
        "        model.fit_offline(bv_train, num_collection_passes=1)\n",
        "        iterator.set_postfix({'perplexity': model.score_tracker['perplexity'].value[-1],  \n",
        "                              'sparsity': model.score_tracker['sparsity'].value[-1],})\n",
        "        \n",
        "    scores[str(item)] = dict()\n",
        "    scores[str(item)]['perplexity'] = model.score_tracker['perplexity'].value\n",
        "    scores[str(item)]['sparsity'] = model.score_tracker['sparsity'].value\n",
        "    \n",
        "    grid_iterator.set_postfix({'perplexity': model.score_tracker['perplexity'].value[-1],  \n",
        "                               'sparsity': model.score_tracker['sparsity'].value[-1],})\n",
        "        "
      ],
      "execution_count": null,
      "outputs": []
    },
    {
      "cell_type": "code",
      "metadata": {
        "id": "MncGqoWnSd_s",
        "outputId": "dafca6d0-75b5-479d-d0c6-bdde46987d47"
      },
      "source": [
        "for key in scores:\n",
        "    print(key, scores[key]['perplexity'][-2:])"
      ],
      "execution_count": null,
      "outputs": [
        {
          "output_type": "stream",
          "text": [
            "{'tau': 10} [156533.046875, 136068.71875]\n",
            "{'tau': 50} [210363.265625, 188094.640625]\n",
            "{'tau': 100} [304000.78125, 289725.625]\n"
          ],
          "name": "stdout"
        }
      ]
    },
    {
      "cell_type": "code",
      "metadata": {
        "scrolled": true,
        "id": "Dg83T1RySd_s"
      },
      "source": [
        "grid = ParameterGrid({'tau': [10000, 50000, 100000]})\n",
        "\n",
        "\n",
        "scores = dict()\n",
        "grid_iterator = tqdm(grid)\n",
        "for item in grid_iterator:\n",
        "    model = artm.load_artm_model('./drive/MyDrive/DATASETS/MachineLearning/topicmodeling/model/without_regular/')\n",
        "    model.scores.add(artm.PerplexityScore(name='perplexity', dictionary=dictionary), overwrite=True)\n",
        "    \n",
        "    model.regularizers.add(artm.DecorrelatorPhiRegularizer(name='decorrelator', \n",
        "                                                           tau=item['tau']))\n",
        "\n",
        "    iterator = tqdm(range(7))\n",
        "    for i in iterator:\n",
        "        model.fit_offline(bv_train, num_collection_passes=1)\n",
        "        iterator.set_postfix({'perplexity': model.score_tracker['perplexity'].value[-1],  \n",
        "                              'sparsity': model.score_tracker['sparsity'].value[-1],})\n",
        "        \n",
        "    scores[str(item)] = dict()\n",
        "    scores[str(item)]['perplexity'] = model.score_tracker['perplexity'].value\n",
        "    scores[str(item)]['sparsity'] = model.score_tracker['sparsity'].value\n",
        "    \n",
        "    grid_iterator.set_postfix({'perplexity': model.score_tracker['perplexity'].value[-1],  \n",
        "                               'sparsity': model.score_tracker['sparsity'].value[-1],})\n",
        "        "
      ],
      "execution_count": null,
      "outputs": []
    },
    {
      "cell_type": "code",
      "metadata": {
        "id": "npK_x_n_Sd_s",
        "outputId": "6b6e8dfd-bac7-4523-f301-1fe42a7fd28a"
      },
      "source": [
        "for key in scores:\n",
        "    print(key, scores[key]['perplexity'][-2:])"
      ],
      "execution_count": null,
      "outputs": [
        {
          "output_type": "stream",
          "text": [
            "{'tau': 10000} [20753.185546875, 20767.7578125]\n",
            "{'tau': 50000} [25350.927734375, 25372.1171875]\n",
            "{'tau': 100000} [26132.267578125, 26163.826171875]\n"
          ],
          "name": "stdout"
        }
      ]
    },
    {
      "cell_type": "markdown",
      "metadata": {
        "id": "rEUvVrTcSd_t"
      },
      "source": [
        "Проанализировав все, почему-то регуляризаторы ухудшают качество. Сделаем только декорелирующий с параметром 10000."
      ]
    },
    {
      "cell_type": "markdown",
      "metadata": {
        "id": "Hcdz-D4nSd_t"
      },
      "source": [
        "### Посмотрим число итераций (оптимальный)"
      ]
    },
    {
      "cell_type": "code",
      "metadata": {
        "id": "wO2WzJcDSd_t"
      },
      "source": [
        "model = artm.load_artm_model('./drive/MyDrive/DATASETS/MachineLearning/topicmodeling/model/without_regular/')\n",
        "model.scores.add(artm.PerplexityScore(name='perplexity', dictionary=dictionary), overwrite=True)\n",
        "\n",
        "model.regularizers.add(artm.DecorrelatorPhiRegularizer(name='decorrelator', \n",
        "                                                       tau=10000))\n",
        "\n",
        "iterator = tqdm(range(5))\n",
        "for i in iterator:\n",
        "    model.fit_offline(bv_train, num_collection_passes=1)\n",
        "    iterator.set_postfix({'perplexity': model.score_tracker['perplexity'].value[-1],  \n",
        "                          'sparsity': model.score_tracker['sparsity'].value[-1],})\n",
        "\n"
      ],
      "execution_count": null,
      "outputs": []
    },
    {
      "cell_type": "code",
      "metadata": {
        "id": "IL28W5-cSd_t",
        "outputId": "3d828a05-0178-4672-8836-01451d90aa8c"
      },
      "source": [
        "# Первые итерации откинем\n",
        "plt.plot(model.score_tracker['perplexity'].value[6:])\n",
        "\n",
        "plt.show()"
      ],
      "execution_count": null,
      "outputs": [
        {
          "output_type": "display_data",
          "data": {
            "image/png": "[encoded data removed]",
            "text/plain": [
              "<Figure size 432x288 with 1 Axes>"
            ]
          },
          "metadata": {
            "tags": [],
            "needs_background": "light"
          }
        }
      ]
    },
    {
      "cell_type": "markdown",
      "metadata": {
        "id": "YTOBqWVWSd_t"
      },
      "source": [
        "### Перед построением финальной модели, выберем вес модальности"
      ]
    },
    {
      "cell_type": "code",
      "metadata": {
        "id": "FgFpjFJNSd_t"
      },
      "source": [
        "grid = ParameterGrid({'weight': [1, 5, 10, 15]})\n",
        "\n",
        "\n",
        "scores = dict()\n",
        "grid_iterator = tqdm(grid)\n",
        "for item in grid_iterator:\n",
        "    model = artm.ARTM(num_topics=200,\n",
        "                      dictionary=dictionary, \n",
        "                      class_ids={'@default_class': 1.0, \n",
        "                                 '@month': item['weight']})\n",
        "\n",
        "    model.scores.add(artm.PerplexityScore(name='perplexity', dictionary=dictionary))\n",
        "    model.scores.add(artm.TopTokensScore(name='top-tokens', num_tokens=10))\n",
        "    model.scores.add(artm.SparsityPhiScore(name='sparsity', class_id='@month'))\n",
        "    \n",
        "    \n",
        "    iterator = tqdm(range(9))\n",
        "    for i in iterator:\n",
        "        model.fit_offline(bv_train, num_collection_passes=1)\n",
        "        iterator.set_postfix({'perplexity': model.score_tracker['perplexity'].value[-1],  \n",
        "                              'sparsity': model.score_tracker['sparsity'].value[-1],})\n",
        "        \n",
        "    scores[str(item)] = dict()\n",
        "    scores[str(item)]['perplexity'] = model.score_tracker['perplexity'].value\n",
        "    scores[str(item)]['sparsity'] = model.score_tracker['sparsity'].value\n",
        "    \n",
        "    grid_iterator.set_postfix({'perplexity': model.score_tracker['perplexity'].value[-1],  \n",
        "                               'sparsity': model.score_tracker['sparsity'].value[-1],})\n",
        "        "
      ],
      "execution_count": null,
      "outputs": []
    },
    {
      "cell_type": "code",
      "metadata": {
        "id": "GNDi6eEYSd_u",
        "outputId": "fc90946a-1d16-4b77-f308-5f8a1c5d4e4c"
      },
      "source": [
        "for key in scores:\n",
        "    print(key, scores[key]['perplexity'][-3:], scores[key]['sparsity'][-3:])"
      ],
      "execution_count": null,
      "outputs": [
        {
          "output_type": "stream",
          "text": [
            "{'weight': 1} [281477.28125, 258359.15625, 243812.03125] [0.003352941246703267, 0.0038431372959166765, 0.004274509847164154]\n",
            "{'weight': 5} [73379.046875, 53750.296875, 45904.1796875] [0.003666666569188237, 0.004549019504338503, 0.0056274509988725185]\n",
            "{'weight': 10} [24576.72265625, 21922.83984375, 20787.56640625] [0.004176470451056957, 0.010392156429588795, 0.04798039048910141]\n",
            "{'weight': 15} [16722.361328125, 15225.0419921875, 14533.9697265625] [0.01084313727915287, 0.06466666609048843, 0.19033333659172058]\n"
          ],
          "name": "stdout"
        }
      ]
    },
    {
      "cell_type": "markdown",
      "metadata": {
        "id": "kkJX6jvUSd_u"
      },
      "source": [
        "## Строим финальную модель\n",
        "- Возьмем вес модельности \"месяц-год\" 15\n",
        "- Сначала 9 итераций без регуляризации\n",
        "- 5 итерации с декорелирующим регуляризатором"
      ]
    },
    {
      "cell_type": "code",
      "metadata": {
        "id": "aRfH5wIrSd_w"
      },
      "source": [
        "model = artm.ARTM(num_topics=200,\n",
        "                  dictionary=dictionary, \n",
        "                  class_ids={'@default_class': 1.0, \n",
        "                             '@month': 15})\n",
        "\n",
        "model.scores.add(artm.PerplexityScore(name='perplexity', dictionary=dictionary))\n",
        "model.scores.add(artm.TopTokensScore(name='top-tokens', num_tokens=10))\n",
        "model.scores.add(artm.SparsityPhiScore(name='sparsity', class_id='@month'))\n"
      ],
      "execution_count": null,
      "outputs": []
    },
    {
      "cell_type": "code",
      "metadata": {
        "id": "WS1vfjORSd_w"
      },
      "source": [
        "iterator = tqdm(range(15))\n",
        "for i in iterator:\n",
        "    model.fit_offline(bv_train, num_collection_passes = 1)\n",
        "    iterator.set_postfix({'perplexity': model.score_tracker['perplexity'].value[-1],  \n",
        "                          'sparsity': model.score_tracker['sparsity'].value[-1]})"
      ],
      "execution_count": null,
      "outputs": []
    },
    {
      "cell_type": "code",
      "metadata": {
        "id": "-ZwYDneESd_x"
      },
      "source": [
        "model.regularizers.add(artm.DecorrelatorPhiRegularizer(name='decorrelator', \n",
        "                                                       tau=10000))"
      ],
      "execution_count": null,
      "outputs": []
    },
    {
      "cell_type": "code",
      "metadata": {
        "id": "lH5gpocfSd_x"
      },
      "source": [
        "iterator = tqdm(range(5))\n",
        "for i in iterator:\n",
        "    model.fit_offline(bv_train, num_collection_passes = 1)\n",
        "    iterator.set_postfix({'perplexity': model.score_tracker['perplexity'].value[-1],  \n",
        "                          'sparsity': model.score_tracker['sparsity'].value[-1]})"
      ],
      "execution_count": null,
      "outputs": []
    },
    {
      "cell_type": "code",
      "metadata": {
        "id": "OI2s6L-sSd_x"
      },
      "source": [
        "model.dump_artm_model('drive/MyDrive/DATASETS/MachineLearning/topicmodeling/model/last_model')"
      ],
      "execution_count": null,
      "outputs": []
    },
    {
      "cell_type": "markdown",
      "metadata": {
        "id": "DD8ngkpcSd_x"
      },
      "source": [
        "## Анализ скоров моделей"
      ]
    },
    {
      "cell_type": "code",
      "metadata": {
        "id": "jMEFCSe-Sd_x",
        "outputId": "20d234ee-8902-44b8-ffb7-a09ee15193b1"
      },
      "source": [
        "plt.plot(model.score_tracker['sparsity'].value, label = 'sparsity')\n",
        "\n",
        "plt.legend(loc = 'best')\n",
        "\n",
        "plt.xlabel('iteration')\n",
        "plt.ylabel('score')\n",
        "plt.show()"
      ],
      "execution_count": null,
      "outputs": [
        {
          "output_type": "display_data",
          "data": {
            "image/png": "[encoded data removed]",
            "text/plain": [
              "<Figure size 432x288 with 1 Axes>"
            ]
          },
          "metadata": {
            "tags": [],
            "needs_background": "light"
          }
        }
      ]
    },
    {
      "cell_type": "code",
      "metadata": {
        "id": "XauDCBNcSd_x",
        "outputId": "15435e4c-5604-4a4d-90c9-69b8f9d59749"
      },
      "source": [
        "plt.plot(model.score_tracker['perplexity'].value, label = 'perplexity')\n",
        "\n",
        "plt.legend(loc = 'best')\n",
        "plt.xlabel('iteration')\n",
        "\n",
        "\n",
        "plt.xlabel('iteration')\n",
        "plt.ylabel('score')\n",
        "plt.ylim((12000, 30000))\n",
        "plt.show()"
      ],
      "execution_count": null,
      "outputs": [
        {
          "output_type": "display_data",
          "data": {
            "image/png": "[encoded data removed]",
            "text/plain": [
              "<Figure size 432x288 with 1 Axes>"
            ]
          },
          "metadata": {
            "tags": [],
            "needs_background": "light"
          }
        }
      ]
    },
    {
      "cell_type": "markdown",
      "metadata": {
        "id": "RQPoJc1ySd_y"
      },
      "source": [
        "## Посмотрим на полученые топики"
      ]
    },
    {
      "cell_type": "code",
      "metadata": {
        "id": "60smX9sUSd_y",
        "outputId": "548e58e5-b686-4967-ab15-8ee60440626f"
      },
      "source": [
        "top_tokens = model.score_tracker['top-tokens'].last_tokens\n",
        "\n",
        "for topic_name in model.topic_names:\n",
        "    print(top_tokens[topic_name])"
      ],
      "execution_count": null,
      "outputs": [
        {
          "output_type": "stream",
          "text": [
            "['учёный', 'исследование', 'который', 'исследователь', 'человек', 'анализ', 'это', 'клетка', 'результат', 'журнал']\n",
            "['февраль', 'январь', 'год', '2007', '2003', '2000', '2002', '2004', 'сообщать', '2001']\n",
            "['германия', 'немецкий', 'который', 'берлин', 'фрг', 'меркель', 'канцлер', 'свой', 'ангел', 'немец']\n",
            "['русский', 'церковь', 'храм', 'православный', 'святой', 'который', 'кирилл', 'священник', 'собор', 'это']\n",
            "['решение', 'срок', 'условие', 'принять', 'договор', 'должный', 'требование', 'подписать', 'документ', 'доклад']\n",
            "['украина', 'украинский', 'киев', 'виктор', 'страна', 'янукович', 'ющенко', 'президент', 'заявить', 'украинец']\n",
            "['министерство', 'ведомство', 'департамент', 'чиновник', 'анатолий', 'оборона', 'который', 'подпись', 'это', 'юстиция']\n",
            "['октябрь', 'сентябрь', 'который', 'это', 'год', 'сообщать', 'бельгия', 'время', 'стать', 'бельгийский']\n",
            "['культура', 'актёр', 'артист', 'театр', 'режиссёр', 'вино', 'новосибирский', 'имя', 'никита', 'который']\n",
            "['индия', 'индийский', 'который', 'сентябрь', 'сообщать', 'оаэ', 'дубай', 'иммигрант', 'также', 'пакистан']\n",
            "['компания', 'имущество', 'фирма', 'иск', 'претензия', 'оао', 'сумма', 'арбитражный', 'рубль', 'собственность']\n",
            "['опубликовать', 'сайт', 'написать', 'письмо', 'говориться', 'сообщение', 'страница', 'twitter', 'публикация', 'автор']\n",
            "['преступление', 'совершить', 'преступник', 'совершение', 'совершенный', 'таджикистан', 'анна', 'информагентство', 'агентство', 'оперативно']\n",
            "['наркотик', 'полый', 'подарок', 'это', 'новогодний', 'год', 'подарить', 'употребление', 'женский', 'марихуана']\n",
            "['боевик', 'азербайджан', 'армения', 'дагестан', 'район', 'уничтожить', 'фсб', 'ингушетия', 'кавказ', 'республика']\n",
            "['минута', 'счёт', 'й', 'матч', '1', '2', 'ворот', 'игра', '0', 'мяч']\n",
            "['ноябрь', 'ким', 'это', 'чен', 'джонсон', 'год', 'лидер', 'который', 'сон', 'стать']\n",
            "['взять', 'террорист', 'атака', 'захватить', 'париж', 'террористический', 'теракт', 'заложник', 'захват', 'ответственность']\n",
            "['аэропорт', 'турист', 'поездка', 'отдых', 'туристический', 'таиланд', 'курорт', 'путешествие', 'путешественник', 'туризм']\n",
            "['европейский', 'европа', 'страна', 'союз', 'ес', 'евросоюз', 'свободный', 'вступление', 'еврокомиссия', 'это']\n",
            "['компания', 'форум', 'роснефть', 'месторождение', 'энергетический', 'российский', 'аэс', 'энергетика', 'электроэнергия', 'рао']\n",
            "['2006', '2005', 'год', 'сообщать', 'intel', 'сигарета', '2004', 'курение', 'процессор', '2007']\n",
            "['безопасность', 'сила', 'угроза', 'нато', 'страна', 'обеспечение', 'альянс', 'присутствие', 'мера', 'заявить']\n",
            "['белоруссия', 'александр', 'белорусский', 'лукашенко', 'минск', 'президент', 'это', 'который', 'страна', 'заявить']\n",
            "['управление', 'начальник', 'юрий', 'отдел', 'москва', 'мвд', 'александр', 'заместитель', 'фсб', 'лужков']\n",
            "['год', '2009', '2010', '2011', '2008', '2012', 'конец', 'стать', 'летом', 'начало']\n",
            "['грузия', 'грузинский', 'осетия', 'саакашвили', 'абхазия', 'южный', 'тбилиси', 'российский', 'заявить', 'республика']\n",
            "['женщина', 'мужчина', 'летний', 'нога', 'жительница', 'рука', 'домой', 'это', 'сосед', 'попытаться']\n",
            "['март', 'приостановить', 'ассоциация', 'египет', 'россия', 'это', 'всемирный', 'запретить', 'российский', 'дон']\n",
            "['комитет', 'олимпийский', 'федерация', 'спортсмен', 'сочи', 'международный', 'российский', 'олимпиада', 'игра', 'отстранить']\n",
            "['сексуальный', 'скандал', 'который', 'свой', 'поведение', 'отношение', 'насилие', 'принц', 'подать', 'обвинить']\n",
            "['год', 'война', 'х', 'советский', 'ссср', 'мировой', '1990', 'великий', 'память', 'ветеран']\n",
            "['юкос', 'компания', 'нефтяной', 'ан', 'тнк', 'bp', 'вр', 'который', 'отход', 'российский']\n",
            "['трамп', 'кампания', 'дональд', 'президент', 'cnn', 'это', 'фраза', 'свой', 'шутка', 'fox']\n",
            "['квартира', 'дом', 'жильё', 'недвижимость', 'аренда', 'жилой', 'помещение', 'жилищный', 'комната', 'ремонт']\n",
            "['друг', 'свой', 'хотеть', 'рассказать', 'весь', 'признаться', 'слово', 'это', 'знать', 'человек']\n",
            "['город', 'житель', 'местный', 'власть', 'городской', 'человек', 'тысяча', 'население', 'эстония', 'мигрант']\n",
            "['москва', 'московский', 'столица', 'улица', 'столичный', 'дорога', 'транспорт', 'метро', 'станция', 'транспортный']\n",
            "['погибнуть', 'человек', 'взрыв', 'погибший', 'результат', 'теракт', 'жертва', 'произойти', 'афганистан', 'гибель']\n",
            "['хороший', 'премия', 'книга', 'церемония', 'награда', 'роман', 'получить', 'писатель', 'номинация', 'год']\n",
            "['программа', 'передача', 'ведущий', 'шоу', 'который', 'нтв', 'медиа', 'выпуск', 'это', 'зритель']\n",
            "['партия', 'лидер', 'кандидат', 'единый', 'демократический', 'выборы', 'политик', 'политический', 'объединение', 'член']\n",
            "['матч', 'спартак', 'цска', 'зенит', 'стадион', '1', 'футбольный', 'очки', 'московский', 'лига']\n",
            "['сша', 'американский', 'нью', 'йорк', 'который', 'американец', 'сообщать', 'год', 'америка', 'свой']\n",
            "['место', 'список', 'рейтинг', 'занять', 'самый', 'третье', 'занимать', 'оказаться', 'второе', 'войти']\n",
            "['производство', 'предприятие', 'завод', 'корпорация', 'компания', 'промышленный', 'промышленность', 'оборудование', 'заказ', 'производить']\n",
            "['военный', 'армия', 'войско', 'военнослужащий', 'сила', 'генерал', 'вооружённый', 'солдат', 'подразделение', 'оборона']\n",
            "['сеть', 'социальный', 'facebook', 'призыв', 'соцсеть', 'мир', 'это', 'человек', 'отсрочка', 'весенний']\n",
            "['база', 'российский', 'удар', 'россия', 'нанести', 'это', 'военный', 'заявить', 'лавров', 'пентагон']\n",
            "['страна', 'france', 'presse', 'agence', 'ливия', 'венесуэла', 'власть', 'который', 'каддафи', 'ливийский']\n",
            "['машина', 'автомобиль', 'водитель', 'автобус', 'дорога', 'дтп', 'дорожный', 'находиться', 'авария', 'ехать']\n",
            "['оон', 'польша', 'польский', 'резолюция', 'делегация', 'международный', 'страна', 'миссия', 'совет', 'постоянный']\n",
            "['корабль', 'морской', 'флот', 'лодка', 'подводный', 'мор', 'проект', 'вмс', 'вмф', 'адмирал']\n",
            "['мэр', 'памятник', 'здание', 'исторический', 'это', 'который', 'культурный', 'год', 'реконструкция', 'наследие']\n",
            "['полиция', 'полицейский', '00', 'человек', 'около', 'возле', 'сообщать', 'произойти', 'улица', 'местный']\n",
            "['иран', 'ядерный', 'посольство', 'дипломат', 'посол', 'иранский', 'мид', 'страна', 'дипломатический', 'тегеран']\n",
            "['пожар', 'мчс', 'пожарный', 'ликвидация', 'чрезвычайный', 'огонь', 'возгорание', 'склад', 'экологический', 'леса']\n",
            "['торговый', 'торговля', 'знак', 'алкоголь', 'это', '100', 'напиток', 'год', 'который', 'алкогольный']\n",
            "['июнь', 'килограмм', 'отель', 'это', 'категория', 'вес', 'год', 'номер', '2016', 'сообщать']\n",
            "['самолёт', 'авиакомпания', 'пассажир', 'рейс', 'борт', 'полёт', 'воздушный', 'пилот', 'лайнер', 'экипаж']\n",
            "['суд', 'признать', 'решение', 'год', 'судебный', 'свобода', 'приговор', 'иск', 'судья', 'виновный']\n",
            "['коронавирус', 'случай', 'распространение', 'человек', 'выявить', 'зафиксировать', 'тысяча', 'вирус', 'число', 'пандемия']\n",
            "['декабрь', 'газпром', 'долг', 'контракт', 'российский', 'это', 'год', 'газовый', 'задолженность', 'транзит']\n",
            "['фильм', 'роль', 'картина', 'режиссёр', 'актёр', 'лента', 'сыграть', 'съёмка', 'прокат', 'главный']\n",
            "['километр', 'способный', 'испытание', 'скорость', 'система', 'установка', 'ракета', 'тип', 'предназначить', 'цель']\n",
            "['испания', 'испанский', 'болгария', 'кипр', 'румыния', 'австрия', 'страна', 'de', 'который', 'хорватия']\n",
            "['нефть', 'газа', 'цена', 'поставка', 'топливо', 'газ', 'добыча', 'кубометр', 'баррель', 'запас']\n",
            "['команда', 'сборный', 'чемпионат', 'тренер', 'сборная', 'италия', 'итальянский', 'футбол', 'мир', 'матч']\n",
            "['запустить', 'спутник', 'вывести', 'аппарат', 'год', 'исследовательский', 'разработка', 'носитель', 'который', 'инженер']\n",
            "['переговоры', 'встреча', 'сторона', 'отношение', 'соглашение', 'санкция', 'россия', 'вопрос', 'сотрудничество', 'москва']\n",
            "['парк', 'площадка', 'высота', 'гора', 'парка', 'дерево', 'это', 'который', 'камень', 'горный']\n",
            "['метр', 'квадратный', 'площадь', 'тысяча', 'класс', 'составлять', 'компания', 'предложение', 'квадрат', 'стоимость']\n",
            "['the', 'daily', 'британский', 'guardian', 'лос', 'майкл', 'mail', 'дэвид', 'анджелес', 'джексон']\n",
            "['школа', 'образование', 'институт', 'университет', 'студент', 'наука', 'учебный', 'научный', 'вуз', 'академия']\n",
            "['6', 'круг', 'турнир', '4', 'финал', 'выиграть', '7', '1', '3', 'матч']\n",
            "['задержать', 'орган', 'правоохранительный', 'подозревать', 'задержание', 'сотрудник', 'мвд', 'обыск', 'дело', 'изъять']\n",
            "['животное', 'австралия', 'животный', 'австралийский', 'птица', 'вид', 'медведь', 'рыба', 'кошка', 'зоопарк']\n",
            "['нападение', '2014', 'это', 'лагерь', 'правый', 'сектор', 'который', 'подвергнуться', 'год', 'нападать']\n",
            "['устройство', 'смартфон', 'iphone', 'apple', 'компания', 'экран', 'windows', 'операционный', 'представить', 'samsung']\n",
            "['английский', 'футболист', 'бразилия', 'барселона', 'реал', 'манчестер', 'клуб', 'челси', 'чемпион', 'это']\n",
            "['политический', 'борис', 'статус', 'власть', 'предоставление', 'гражданство', 'предоставить', 'запрос', 'березовский', 'убежище']\n",
            "['парламент', 'депутат', 'верховный', 'рад', 'тимошенко', 'блок', 'спикер', 'молдавия', 'парламентский', 'который']\n",
            "['общество', 'общественный', 'далее', 'это', 'пропаганда', 'деятель', 'ценность', 'символ', 'слово', 'организация']\n",
            "['область', 'петербург', 'санкт', 'губернатор', 'округа', 'областной', 'московский', 'подмосковье', 'петербургский', 'федеральный']\n",
            "['израиль', 'израильский', 'палестинский', 'газа', 'автономия', 'хамас', 'палестинец', 'сектор', 'еврейский', 'территория']\n",
            "['порошенко', 'надежда', 'обмен', 'президент', 'украина', 'пётр', 'зеленский', 'это', 'петра', 'украинский']\n",
            "['интернет', 'пользователь', 'сервис', 'сайт', 'доступ', 'google', 'компания', 'приложение', 'ru', 'онлайн']\n",
            "['август', 'июль', '2016', 'это', 'де', 'год', '31', 'сентябрь', '2015', '21']\n",
            "['газета', 'издание', 'писать', 'источник', 'коммерсант', 'журнал', 'отмечать', 'сми', 'редактор', 'информация']\n",
            "['неделя', 'сбор', 'собрать', 'билет', 'заработать', 'прошлый', 'который', 'это', 'выходной', 'весь']\n",
            "['рука', 'это', 'нужно', 'человек', 'вирус', 'мочь', 'кашель', 'коронавирус', 'нос', 'сайт']\n",
            "['который', 'учёный', 'метод', 'эксперимент', 'использовать', 'это', 'работа', 'волна', 'мочь', 'частица']\n",
            "['год', 'независимость', 'апрель', 'это', 'который', 'сербия', 'свой', 'сообщать', 'сербский', 'заявить']\n",
            "['компания', 'магазин', 'com', 'компьютер', 'apple', 'сан', 'компьютерный', 'который', 'формат', 'диск']\n",
            "['мнение', 'проблема', 'считать', 'эксперт', 'мочь', 'внимание', 'который', 'важный', 'точка', 'свой']\n",
            "['группа', 'the', 'коллектив', 'концерт', 'i', 'a', 'and', 'сентябрь', 'альбом', 'in']\n",
            "['министр', 'правительство', 'премьер', 'медведев', 'глава', 'вица', 'кабинет', 'премьера', 'страна', 'дмитрий']\n",
            "['продукт', 'питание', 'еда', 'пища', 'мясо', 'пить', 'блюдо', 'масло', 'также', 'яйцо']\n",
            "['ребёнок', 'семья', 'летний', 'сын', 'жена', 'отец', 'дочь', 'родитель', 'девочка', 'подросток']\n",
            "['комплекс', 'ракета', 'вооружение', 'ракетный', 'военный', 'оборона', 'танк', 'россия', 'техника', 'система']\n",
            "['фонд', 'бюджет', 'средство', 'налог', 'доход', 'год', 'расход', 'выплата', 'размер', 'налоговый']\n",
            "['система', 'деньга', 'счёт', 'услуга', 'клиент', 'карта', 'средство', 'схема', 'перевод', 'оплата']\n",
            "['убийство', 'смерть', 'убить', 'убитый', 'покушение', 'версия', 'следствие', 'тело', 'убийца', 'летний']\n",
            "['видео', 'ролик', 'youtube', 'это', 'который', 'видеозапись', 'вконтакте', 'апрель', 'год', 'также']\n",
            "['процент', '5', 'опрос', '9', '7', '6', '3', 'опросить', '4', '2']\n",
            "['фотография', 'снимка', 'фото', 'instagram', 'опубликовать', 'кадр', 'девушка', 'который', 'пользователь', 'свой']\n",
            "['автомобиль', 'модель', 'машина', '1', 'новый', 'автомобильный', 'формула', 'двигатель', 'компания', 'также']\n",
            "['певица', 'музыкант', 'песня', 'альбом', 'музыкальный', 'певец', 'музыка', 'исполнитель', 'записать', 'песнь']\n",
            "['день', 'название', 'имя', 'честь', 'рождение', 'праздник', 'красный', 'это', 'сегодняшний', 'свой']\n",
            "['музей', 'художник', 'картина', 'искусство', 'работа', 'год', 'выставка', 'благотворительный', 'произведение', 'который']\n",
            "['телеканал', 'журналист', 'канал', 'эфир', 'телевидение', 'литва', 'тв', 'трансляция', 'радио', 'прямой']\n",
            "['гражданин', 'страна', 'документ', 'латвия', 'иностранный', 'паспорт', 'въезд', 'получение', 'иностранец', 'виза']\n",
            "['реформа', 'казахстан', 'год', 'это', 'который', 'также', 'сообщать', 'президент', 'страна', 'стать']\n",
            "['закон', 'право', 'законопроект', 'документ', 'внести', 'законодательство', 'поправка', 'нарушение', 'принять', 'изменение']\n",
            "['аль', 'ирак', 'иракский', 'саудовский', 'каеда', 'аравия', 'казнь', 'хусейн', 'который', 'бин']\n",
            "['граница', 'дмитрий', 'кремль', 'песок', 'мост', 'опасный', 'провокация', 'это', 'россия', 'апрель']\n",
            "['основать', 'одежда', 'вещий', 'би', 'инструмент', 'год', 'си', 'дом', 'дизайнер', 'обувь']\n",
            "['сирия', 'боевик', 'сирийский', 'группировка', 'ирак', 'операция', 'иго', 'исламский', 'государство', 'правительственный']\n",
            "['владелец', 'бизнесмен', 'предприниматель', 'основатель', 'состояние', 'богатый', 'миллиардер', 'forbes', 'прохоров', 'абрам']\n",
            "['пункт', 'доллар', 'процент', 'индекс', 'торг', '0', 'биржа', 'рынок', '1', 'упасть']\n",
            "['звезда', 'планета', 'учёный', 'земля', 'который', 'масса', 'солнечный', 'это', 'атмосфера', 'год']\n",
            "['штат', 'джон', 'сенатор', 'клинтон', 'джордж', 'калифорния', 'свой', 'буш', 'флорида', 'браун']\n",
            "['миллион', 'тысяча', 'доллар', 'около', 'сумма', '5', 'фунт', 'стоимость', '100', 'составлять']\n",
            "['греция', 'швеция', 'швейцария', 'швейцарский', 'чехия', 'шведский', 'страна', 'финляндия', 'евро', 'норвегия']\n",
            "['сотрудник', 'работа', 'рабочий', 'работник', 'труд', 'работать', 'зарплата', 'уволить', 'платформа', 'это']\n",
            "['этап', 'мир', 'медаль', 'золотой', 'гонка', 'соревнование', 'чемпионат', 'олимпийский', 'завоевать', 'россия']\n",
            "['уровень', 'экономика', 'экономический', 'ставка', 'кризис', 'страна', 'снижение', 'процент', 'ввп', 'рост']\n",
            "['оружие', 'открыть', 'ранение', 'пистолет', 'стрельба', 'двое', 'получить', 'огонь', 'раненый', 'автомат']\n",
            "['дата', '3', 'консоль', '360', 'анонсировать', 'игра', 'xbox', 'e', 'sony', 'playstation']\n",
            "['участие', 'участник', 'мероприятие', 'конкурс', 'пройти', 'организатор', 'заявка', 'принять', 'выбрать', 'который']\n",
            "['вода', 'река', 'сильный', 'океан', 'температура', 'градус', 'воздух', 'вод', 'ветер', 'район']\n",
            "['пресс', 'служба', 'сообщить', 'секретарь', 'конференция', 'новость', 'это', 'риа', 'заявить', 'россия']\n",
            "['сказать', 'это', 'наш', 'слово', 'добавить', 'заявить', 'весь', 'отметить', 'очень', 'говорить']\n",
            "['алексей', 'олег', 'полномочие', 'навальный', 'максим', 'служебный', 'должностной', 'превышение', 'валерий', 'кузнецов']\n",
            "['это', 'который', 'рбк', 'принадлежащий', 'telegram', 'год', 'также', 'григорий', 'россия', 'стать']\n",
            "['игра', 'студия', 'of', 'разработчик', 'копия', 'проект', 'который', 'компания', 'игрок', '2']\n",
            "['2018', '2017', 'го', '2019', 'год', 'это', 'который', 'стол', 'также', 'весь']\n",
            "['донбасс', 'народный', 'донецкий', 'язык', 'республика', 'украина', 'украинский', 'конфликт', 'луганский', 'самопровозгласить']\n",
            "['движение', 'молодая', 'николай', 'иван', 'константин', 'александр', 'елена', 'сергей', 'василий', 'ольга']\n",
            "['гривна', 'это', 'сбу', 'украина', 'киевский', 'глава', 'государственный', '112', 'киев', 'заявить']\n",
            "['рубль', 'евро', 'курс', 'валюта', 'стоимость', 'россия', 'доллар', 'резерв', 'минимальный', 'валютный']\n",
            "['детский', 'нижний', 'екатеринбург', 'это', 'отпуск', 'сад', 'свердловский', 'ru', 'уполномоченный', 'воробьев']\n",
            "['согласие', 'нидерланды', 'частный', 'это', 'сбить', 'голландский', '2014', 'который', 'год', '17']\n",
            "['южный', 'япония', 'корея', 'остров', 'японский', 'визит', 'северный', 'кндр', 'саммит', 'страна']\n",
            "['великобритания', 'британский', 'франция', 'французский', 'лондон', 'bbc', 'news', 'британец', 'свой', 'который']\n",
            "['самолёт', 'истребитель', 'ввс', 'f', 'су', '35', 'контракт', 'поставка', 'военный', 'a']\n",
            "['регион', 'край', 'краснодарский', 'губернатор', 'владивосток', 'красноярский', 'приморский', 'краевой', 'район', 'мусор']\n",
            "['китай', 'китайский', 'кнр', 'пекин', 'это', 'страна', 'провинция', 'год', 'гонконг', 'который']\n",
            "['россиянин', 'победа', 'поражение', 'боец', 'одержать', 'это', 'абсолютный', 'поединок', 'российский', 'ufc']\n",
            "['массовый', 'активист', 'административный', 'здание', 'беспорядок', 'человек', 'задержать', 'протокол', 'применить', 'участник']\n",
            "['компания', 'акция', 'крупный', 'бумага', 'акционер', 'принадлежать', 'актив', 'владеть', 'инвестор', 'холдинг']\n",
            "['серия', 'герой', 'который', 'выйти', 'сериал', 'персонаж', 'эпизод', 'world', 'продолжение', 'выпустить']\n",
            "['электронный', 'аппарат', 'почта', 'd', 'беспилотник', 'робот', 'доставка', 'почтовый', 'который', 'беспилотный']\n",
            "['телефон', 'человек', 'пользоваться', 'это', 'разговор', 'часто', 'телефонный', 'мобильный', 'зависимость', 'который']\n",
            "['дело', 'прокуратура', 'уголовный', 'адвокат', 'следствие', 'бывший', 'прокурор', 'генпрокуратура', 'отношение', 'следователь']\n",
            "['республика', 'временной', 'киргизия', 'узбекистан', 'власть', 'страна', 'бакиев', 'юг', 'переворот', 'президент']\n",
            "['оператор', 'реклама', 'компания', 'рекламный', 'связь', 'тариф', 'фас', 'сотовый', 'антимонопольный', 'стандарт']\n",
            "['турция', 'турецкий', 'это', 'анкара', 'страна', 'россия', 'сирия', 'российский', 'который', 'президент']\n",
            "['театр', 'сцена', 'спектакль', 'постановка', 'опера', 'театральный', 'большой', 'нба', 'оркестр', 'зал']\n",
            "['интервью', 'апрель', 'это', 'заниматься', 'физический', 'известие', 'профессиональный', 'спортивный', 'заявить', 'подготовка']\n",
            "['сша', 'президент', 'обама', 'вашингтон', 'администрация', 'белый', 'конгресс', 'барак', 'буш', 'дом']\n",
            "['ввести', 'ограничение', 'северный', 'мера', 'поток', 'страна', 'канада', 'введение', 'это', 'режим']\n",
            "['россия', 'владимир', 'путин', 'российский', 'президент', 'крым', 'рф', 'государство', 'глава', 'указ']\n",
            "['бренд', 'марка', 'коллекция', 'модель', 'цвета', 'компания', 'часы', 'представить', 'чёрный', 'цвет']\n",
            "['статья', 'уголовный', 'рф', 'возбудить', 'следственный', 'дело', 'факт', 'ук', 'комитет', 'часть']\n",
            "['час', 'рекорд', 'секунда', 'африка', 'преодолеть', 'сопровождаться', 'африканский', 'время', 'который', 'юар']\n",
            "['врач', 'больница', 'медицинский', 'состояние', 'здоровье', 'помощь', 'лечение', 'пациент', 'болезнь', 'тяжёлый']\n",
            "['освободить', 'освобождение', 'похитить', 'похищение', 'мексика', 'который', 'отпустить', 'сообщать', 'мексиканский', 'удерживать']\n",
            "['акция', 'протест', 'митинг', 'против', 'человек', 'власть', 'оппозиция', 'участник', 'сторонник', 'площадь']\n",
            "['информация', 'times', 'сведение', 'спецслужба', 'the', 'дать', 'new', 'документ', 'разведка', 'агент']\n",
            "['организация', 'религиозный', 'мусульманин', 'экстремистский', 'ислам', 'радикальный', 'запретить', 'выходец', 'мечеть', 'мусульманский']\n",
            "['участок', 'земля', 'региональный', 'хозяйство', 'тонна', 'сельский', 'дальний', 'земельный', 'ресурс', 'это']\n",
            "['продажа', 'рынок', 'сделка', 'покупка', 'бизнес', 'доля', 'приобрести', 'продать', 'пакет', 'купить']\n",
            "['строительство', 'объект', 'проект', 'построить', 'комплекс', 'центр', 'компания', 'здание', 'строительный', 'территория']\n",
            "['банка', 'банк', 'финансовый', 'кредит', 'кредитный', 'организация', 'сбербанк', 'банковский', 'цб', 'вклад']\n",
            "['бой', 'собака', 'боксёр', 'кличко', 'чемпион', 'титул', 'мир', 'поединок', 'версия', 'боксёрский']\n",
            "['павел', 'который', 'ii', 'год', 'папа', 'римский', 'это', 'сообщать', 'пермский', 'свой']\n",
            "['депутат', 'комиссия', 'госдума', 'россия', 'регистрация', 'единый', 'дума', 'кпрф', 'справедливый', 'лдпр']\n",
            "['миллиард', 'доллар', 'составить', 'год', '1', '2', '3', '5', 'общий', '4']\n",
            "['s', 'ресторан', 'который', 'посетитель', 'быстрый', 'это', 'год', 'заведение', 'кафе', 'гарри']\n",
            "['обвинение', 'предъявить', 'расследование', 'арестовать', 'обвинять', 'бывший', 'арест', 'коррупция', 'обвинить', 'незаконный']\n",
            "['судно', 'порт', 'судный', 'флаг', 'российский', 'груз', 'экипаж', 'отравление', 'находиться', 'капитан']\n",
            "['президент', 'пост', 'глава', 'бывший', 'должность', 'отставка', 'назначить', 'занимать', 'вица', 'свой']\n",
            "['найти', 'век', 'обнаружить', 'год', 'останки', 'который', 'дворец', 'кладбище', 'стена', 'фрагмент']\n",
            "['май', 'апрель', 'это', 'год', '9', 'который', '2015', 'евровидение', '27', 'россия']\n",
            "['инцидент', 'милиция', 'произойти', 'конфликт', 'милиционер', 'драка', 'сотрудник', 'мвд', 'гувд', 'который']\n",
            "['вертолёт', 'восточный', 'техника', 'юго', 'восток', 'азия', 'северо', 'землетрясение', 'ми', 'индонезия']\n",
            "['космический', 'станция', 'запуск', 'ракета', 'корабль', 'мкс', 'полёт', 'космос', 'старт', 'орбита']\n",
            "['выбор', 'голос', 'голосование', 'президентский', 'выборы', 'кандидат', 'результат', 'проголосовать', 'избиратель', 'избирательный']\n",
            "['произойти', 'часы', 'авария', 'поезд', 'работа', 'причина', 'восстановить', 'время', 'результат', 'повредить']\n",
            "['девушка', 'камера', 'знакомый', 'кража', 'дверь', 'забрать', 'украсть', 'злоумышленник', 'угрожать', 'это']\n",
            "['дом', 'здание', 'человек', 'пострадавший', 'поиск', 'находиться', 'пропасть', 'тело', 'обнаружить', 'район']\n",
            "['запрет', 'товар', 'продукция', 'россия', 'запретить', 'таможенный', 'это', 'российский', 'поставка', 'экспорт']\n",
            "['совет', 'директор', 'председатель', 'заместитель', 'генеральный', 'михаил', 'радиостанция', 'руководитель', 'член', 'исполнительный']\n",
            "['процент', 'год', 'рост', 'показатель', 'цена', 'вырасти', 'сравнение', 'квартал', '1', 'средний']\n",
            "['чечня', 'чеченский', 'кадыров', 'республика', 'грозный', 'глава', 'татарстан', 'рамзан', 'попов', 'заявить']\n",
            "['клуб', 'сезон', 'игрок', 'лига', 'контракт', 'играть', 'выступать', 'состав', 'команда', 'чемпионат']\n",
            "['который', 'c', 'неизвестно', 'это', 'год', 'время', 'однако', 'сообщать', 'пока', 'также']\n",
            "['проект', 'развитие', 'создание', 'программа', 'сфера', 'планироваться', 'рамка', 'реализация', 'план', 'поддержка']\n",
            "['тюрьма', 'осудить', 'заключение', 'заключённый', 'колония', 'наказание', 'содержание', 'press', 'associated', 'содержаться']\n"
          ],
          "name": "stdout"
        }
      ]
    },
    {
      "cell_type": "code",
      "metadata": {
        "id": "ZOVQ7e11Sd_y"
      },
      "source": [
        "month_modal = []\n",
        "with open('drive/MyDrive/DATASETS/MachineLearning/topicmodeling/texts_train.vw.txt') as f:\n",
        "    for line in tqdm(f):\n",
        "        string = re.search(r'@month class_(\\d\\d_\\d\\d\\d\\d)\\n', line).group(1)\n",
        "        month_modal.append(datetime.datetime.strptime(string, '%m_%Y'))\n",
        "\n",
        "month_modal = np.array(month_modal)"
      ],
      "execution_count": null,
      "outputs": []
    },
    {
      "cell_type": "code",
      "metadata": {
        "id": "0qMQVRgwSd_y"
      },
      "source": [
        "predict = model.transform(bv_train)"
      ],
      "execution_count": null,
      "outputs": []
    },
    {
      "cell_type": "code",
      "metadata": {
        "id": "7bjCGNtGSd_y"
      },
      "source": [
        "unique_modal = np.unique(month_modal)"
      ],
      "execution_count": null,
      "outputs": []
    },
    {
      "cell_type": "code",
      "metadata": {
        "id": "NmbGkRMBSd_y",
        "outputId": "e5216db2-74e9-4f16-8f40-c639c2825631",
        "colab": {
          "referenced_widgets": [
            "ca9c520bfa9a4ca6aa5a6cce0b6b1b6d"
          ]
        }
      },
      "source": [
        "mean_vectors = []\n",
        "for modal in tqdm(unique_modal):\n",
        "    mean_vectors.append(predict[np.where(month_modal == modal)[0]].values.mean(axis=-1))\n",
        "    \n",
        "mean_vectors = np.array(mean_vectors)"
      ],
      "execution_count": null,
      "outputs": [
        {
          "output_type": "display_data",
          "data": {
            "application/vnd.jupyter.widget-view+json": {
              "model_id": "ca9c520bfa9a4ca6aa5a6cce0b6b1b6d",
              "version_major": 2,
              "version_minor": 0
            },
            "text/plain": [
              "HBox(children=(IntProgress(value=0, max=255), HTML(value='')))"
            ]
          },
          "metadata": {
            "tags": []
          }
        },
        {
          "output_type": "stream",
          "text": [
            "\n"
          ],
          "name": "stdout"
        }
      ]
    },
    {
      "cell_type": "code",
      "metadata": {
        "id": "JUej2oSRSd_y",
        "outputId": "167c7cce-e961-4b0c-bef9-4aab36a8be40"
      },
      "source": [
        "fig = plt.figure(figsize=(120, 8))\n",
        "\n",
        "im = plt.imshow(mean_vectors.T, cmap='gray')\n",
        "_ = fig.colorbar(im)\n",
        "\n",
        "plt.show()"
      ],
      "execution_count": null,
      "outputs": [
        {
          "output_type": "display_data",
          "data": {
            "image/png": "[encoded data removed]",
            "text/plain": [
              "<Figure size 8640x576 with 2 Axes>"
            ]
          },
          "metadata": {
            "tags": [],
            "needs_background": "light"
          }
        }
      ]
    },
    {
      "cell_type": "markdown",
      "metadata": {
        "id": "KHCVP1OeSd_z"
      },
      "source": [
        "### Снова очень много явных топиков (большой шум на изображении)\n",
        "Посмотрим на эти пики"
      ]
    },
    {
      "cell_type": "code",
      "metadata": {
        "scrolled": false,
        "id": "C81LTbOMSd_z",
        "outputId": "1b93912e-2ac3-4995-b55e-7c6df2cf28af"
      },
      "source": [
        "for modal_id, topic_id in zip(*np.where(mean_vectors > 0.15)):\n",
        "    print(unique_modal[modal_id].strftime('%Y-%m'), \n",
        "          ','.join(top_tokens[model.topic_names[topic_id]]))"
      ],
      "execution_count": null,
      "outputs": [
        {
          "output_type": "stream",
          "text": [
            "1914-09 фотография,снимка,фото,instagram,опубликовать,кадр,девушка,который,пользователь,свой\n",
            "1999-09 грузия,грузинский,осетия,саакашвили,абхазия,южный,тбилиси,российский,заявить,республика\n",
            "1999-10 преступление,совершить,преступник,совершение,совершенный,таджикистан,анна,информагентство,агентство,оперативно\n",
            "1999-12 судно,порт,судный,флаг,российский,груз,экипаж,отравление,находиться,капитан\n",
            "2000-01 индия,индийский,который,сентябрь,сообщать,оаэ,дубай,иммигрант,также,пакистан\n",
            "2000-02 чечня,чеченский,кадыров,республика,грозный,глава,татарстан,рамзан,попов,заявить\n",
            "2000-08 израиль,израильский,палестинский,газа,автономия,хамас,палестинец,сектор,еврейский,территория\n",
            "2000-09 греция,швеция,швейцария,швейцарский,чехия,шведский,страна,финляндия,евро,норвегия\n",
            "2000-11 дело,прокуратура,уголовный,адвокат,следствие,бывший,прокурор,генпрокуратура,отношение,следователь\n",
            "2000-12 пожар,мчс,пожарный,ликвидация,чрезвычайный,огонь,возгорание,склад,экологический,леса\n",
            "2001-05 фильм,роль,картина,режиссёр,актёр,лента,сыграть,съёмка,прокат,главный\n",
            "2001-07 штат,джон,сенатор,клинтон,джордж,калифорния,свой,буш,флорида,браун\n",
            "2001-08 произойти,часы,авария,поезд,работа,причина,восстановить,время,результат,повредить\n",
            "2001-10 аль,ирак,иракский,саудовский,каеда,аравия,казнь,хусейн,который,бин\n",
            "2002-05 израиль,израильский,палестинский,газа,автономия,хамас,палестинец,сектор,еврейский,территория\n",
            "2002-06 израиль,израильский,палестинский,газа,автономия,хамас,палестинец,сектор,еврейский,территория\n",
            "2002-07 преступление,совершить,преступник,совершение,совершенный,таджикистан,анна,информагентство,агентство,оперативно\n",
            "2002-08 грузия,грузинский,осетия,саакашвили,абхазия,южный,тбилиси,российский,заявить,республика\n",
            "2002-09 преступление,совершить,преступник,совершение,совершенный,таджикистан,анна,информагентство,агентство,оперативно\n",
            "2002-10 пожар,мчс,пожарный,ликвидация,чрезвычайный,огонь,возгорание,склад,экологический,леса\n",
            "2002-12 чечня,чеченский,кадыров,республика,грозный,глава,татарстан,рамзан,попов,заявить\n",
            "2003-01 сотрудник,работа,рабочий,работник,труд,работать,зарплата,уволить,платформа,это\n",
            "2003-02 сша,президент,обама,вашингтон,администрация,белый,конгресс,барак,буш,дом\n",
            "2003-03 безопасность,сила,угроза,нато,страна,обеспечение,альянс,присутствие,мера,заявить\n",
            "2003-04 русский,церковь,храм,православный,святой,который,кирилл,священник,собор,это\n",
            "2003-07 аль,ирак,иракский,саудовский,каеда,аравия,казнь,хусейн,который,бин\n",
            "2003-08 дом,здание,человек,пострадавший,поиск,находиться,пропасть,тело,обнаружить,район\n",
            "2003-12 депутат,комиссия,госдума,россия,регистрация,единый,дума,кпрф,справедливый,лдпр\n",
            "2004-02 чечня,чеченский,кадыров,республика,грозный,глава,татарстан,рамзан,попов,заявить\n",
            "2004-06 минута,счёт,й,матч,1,2,ворот,игра,0,мяч\n",
            "2004-07 решение,срок,условие,принять,договор,должный,требование,подписать,документ,доклад\n",
            "2004-08 аль,ирак,иракский,саудовский,каеда,аравия,казнь,хусейн,который,бин\n",
            "2006-02 год,независимость,апрель,это,который,сербия,свой,сообщать,сербский,заявить\n",
            "2006-04 год,независимость,апрель,это,который,сербия,свой,сообщать,сербский,заявить\n",
            "2006-06 мнение,проблема,считать,эксперт,мочь,внимание,который,важный,точка,свой\n",
            "2006-07 2018,2017,го,2019,год,это,который,стол,также,весь\n",
            "2006-08 2006,2005,год,сообщать,intel,сигарета,2004,курение,процессор,2007\n",
            "2006-12 дело,прокуратура,уголовный,адвокат,следствие,бывший,прокурор,генпрокуратура,отношение,следователь\n",
            "2007-08 юкос,компания,нефтяной,ан,тнк,bp,вр,который,отход,российский\n",
            "2007-12 2006,2005,год,сообщать,intel,сигарета,2004,курение,процессор,2007\n",
            "2008-01 февраль,январь,год,2007,2003,2000,2002,2004,сообщать,2001\n",
            "2008-06 решение,срок,условие,принять,договор,должный,требование,подписать,документ,доклад\n",
            "2009-12 павел,который,ii,год,папа,римский,это,сообщать,пермский,свой\n",
            "2010-01 который,c,неизвестно,это,год,время,однако,сообщать,пока,также\n",
            "2010-05 мэр,памятник,здание,исторический,это,который,культурный,год,реконструкция,наследие\n",
            "2010-10 торговый,торговля,знак,алкоголь,это,100,напиток,год,который,алкогольный\n",
            "2011-01 павел,который,ii,год,папа,римский,это,сообщать,пермский,свой\n",
            "2011-02 февраль,январь,год,2007,2003,2000,2002,2004,сообщать,2001\n",
            "2011-06 программа,передача,ведущий,шоу,который,нтв,медиа,выпуск,это,зритель\n",
            "2011-08 неделя,сбор,собрать,билет,заработать,прошлый,который,это,выходной,весь\n",
            "2011-10 октябрь,сентябрь,который,это,год,сообщать,бельгия,время,стать,бельгийский\n",
            "2012-01 реформа,казахстан,год,это,который,также,сообщать,президент,страна,стать\n",
            "2012-08 который,c,неизвестно,это,год,время,однако,сообщать,пока,также\n",
            "2012-09 индия,индийский,который,сентябрь,сообщать,оаэ,дубай,иммигрант,также,пакистан\n",
            "2012-10 видео,ролик,youtube,это,который,видеозапись,вконтакте,апрель,год,также\n",
            "2012-11 s,ресторан,который,посетитель,быстрый,это,год,заведение,кафе,гарри\n",
            "2013-04 интервью,апрель,это,заниматься,физический,известие,профессиональный,спортивный,заявить,подготовка\n",
            "2013-09 s,ресторан,который,посетитель,быстрый,это,год,заведение,кафе,гарри\n",
            "2013-10 реформа,казахстан,год,это,который,также,сообщать,президент,страна,стать\n",
            "2014-03 это,который,рбк,принадлежащий,telegram,год,также,григорий,россия,стать\n",
            "2014-06 2018,2017,го,2019,год,это,который,стол,также,весь\n",
            "2015-01 нападение,2014,это,лагерь,правый,сектор,который,подвергнуться,год,нападать\n",
            "2015-03 согласие,нидерланды,частный,это,сбить,голландский,2014,который,год,17\n",
            "2015-07 нападение,2014,это,лагерь,правый,сектор,который,подвергнуться,год,нападать\n",
            "2015-11 взять,террорист,атака,захватить,париж,террористический,теракт,заложник,захват,ответственность\n",
            "2015-12 турция,турецкий,это,анкара,страна,россия,сирия,российский,который,президент\n",
            "2016-04 год,независимость,апрель,это,который,сербия,свой,сообщать,сербский,заявить\n",
            "2016-05 май,апрель,это,год,9,который,2015,евровидение,27,россия\n",
            "2016-06 июнь,килограмм,отель,это,категория,вес,год,номер,2016,сообщать\n",
            "2016-08 август,июль,2016,это,де,год,31,сентябрь,2015,21\n",
            "2016-10 пресс,служба,сообщить,секретарь,конференция,новость,это,риа,заявить,россия\n",
            "2016-11 ноябрь,ким,это,чен,джонсон,год,лидер,который,сон,стать\n",
            "2016-12 база,российский,удар,россия,нанести,это,военный,заявить,лавров,пентагон\n",
            "2017-04 видео,ролик,youtube,это,который,видеозапись,вконтакте,апрель,год,также\n",
            "2017-05 турция,турецкий,это,анкара,страна,россия,сирия,российский,который,президент\n",
            "2017-07 китай,китайский,кнр,пекин,это,страна,провинция,год,гонконг,который\n",
            "2017-08 гривна,это,сбу,украина,киевский,глава,государственный,112,киев,заявить\n",
            "2017-12 наркотик,полый,подарок,это,новогодний,год,подарить,употребление,женский,марихуана\n",
            "2018-02 этап,мир,медаль,золотой,гонка,соревнование,чемпионат,олимпийский,завоевать,россия\n",
            "2018-04 это,который,рбк,принадлежащий,telegram,год,также,григорий,россия,стать\n",
            "2018-06 торговый,торговля,знак,алкоголь,это,100,напиток,год,который,алкогольный\n",
            "2018-08 белоруссия,александр,белорусский,лукашенко,минск,президент,это,который,страна,заявить\n",
            "2018-10 сказать,это,наш,слово,добавить,заявить,весь,отметить,очень,говорить\n",
            "2018-12 2018,2017,го,2019,год,это,который,стол,также,весь\n",
            "2019-01 дом,здание,человек,пострадавший,поиск,находиться,пропасть,тело,обнаружить,район\n",
            "2019-05 мэр,памятник,здание,исторический,это,который,культурный,год,реконструкция,наследие\n",
            "2019-10 это,который,рбк,принадлежащий,telegram,год,также,григорий,россия,стать\n",
            "2019-12 порошенко,надежда,обмен,президент,украина,пётр,зеленский,это,петра,украинский\n",
            "2020-01 страна,france,presse,agence,ливия,венесуэла,власть,который,каддафи,ливийский\n",
            "2020-03 коронавирус,случай,распространение,человек,выявить,зафиксировать,тысяча,вирус,число,пандемия\n",
            "2020-03 рука,это,нужно,человек,вирус,мочь,кашель,коронавирус,нос,сайт\n",
            "2020-04 рука,это,нужно,человек,вирус,мочь,кашель,коронавирус,нос,сайт\n",
            "2020-05 ввести,ограничение,северный,мера,поток,страна,канада,введение,это,режим\n",
            "2020-08 россиянин,победа,поражение,боец,одержать,это,абсолютный,поединок,российский,ufc\n",
            "2020-09 неделя,сбор,собрать,билет,заработать,прошлый,который,это,выходной,весь\n"
          ],
          "name": "stdout"
        }
      ]
    },
    {
      "cell_type": "markdown",
      "metadata": {
        "id": "qRqfZXHzSd_z"
      },
      "source": [
        "### Удалим слишком большие засветы тем"
      ]
    },
    {
      "cell_type": "code",
      "metadata": {
        "id": "r0DMz-eTSd_z"
      },
      "source": [
        "damage_mean_vectors = mean_vectors.copy()\n",
        "damage_mean_vectors[np.where(mean_vectors > 0.1)] = 0"
      ],
      "execution_count": null,
      "outputs": []
    },
    {
      "cell_type": "code",
      "metadata": {
        "id": "-mrbNtVrSd_z",
        "outputId": "3d8a03b1-08f8-4585-c180-9abb43322eb8"
      },
      "source": [
        "fig = plt.figure(figsize=(120, 8))\n",
        "\n",
        "im = plt.imshow(damage_mean_vectors.T, cmap='gray')\n",
        "_ = fig.colorbar(im)\n",
        "\n",
        "plt.show()"
      ],
      "execution_count": null,
      "outputs": [
        {
          "output_type": "display_data",
          "data": {
            "image/png": "[encoded data removed]",
            "text/plain": [
              "<Figure size 8640x576 with 2 Axes>"
            ]
          },
          "metadata": {
            "tags": [],
            "needs_background": "light"
          }
        }
      ]
    },
    {
      "cell_type": "markdown",
      "metadata": {
        "id": "AGfJbYn7Sd_z"
      },
      "source": [
        "### Появились интересные топики сквозь года - посмотрим на них"
      ]
    },
    {
      "cell_type": "code",
      "metadata": {
        "id": "dDiUbMLtSd_z",
        "outputId": "d37f1456-77c9-419e-f212-599a6f62ead2"
      },
      "source": [
        "','.join(top_tokens[model.topic_names[60]])"
      ],
      "execution_count": null,
      "outputs": [
        {
          "output_type": "execute_result",
          "data": {
            "text/plain": [
              "'суд,признать,решение,год,судебный,свобода,приговор,иск,судья,виновный'"
            ]
          },
          "metadata": {
            "tags": []
          },
          "execution_count": 89
        }
      ]
    },
    {
      "cell_type": "code",
      "metadata": {
        "id": "ao-WzlGKSd_z",
        "outputId": "9d00da75-db81-4b13-beb8-62aabed71a90"
      },
      "source": [
        "','.join(top_tokens[model.topic_names[95]])"
      ],
      "execution_count": null,
      "outputs": [
        {
          "output_type": "execute_result",
          "data": {
            "text/plain": [
              "'группа,the,коллектив,концерт,i,a,and,сентябрь,альбом,in'"
            ]
          },
          "metadata": {
            "tags": []
          },
          "execution_count": 90
        }
      ]
    },
    {
      "cell_type": "code",
      "metadata": {
        "id": "tHUHa6pCSd_0",
        "outputId": "ce57b580-f95c-4b99-ced5-291f60c494e5"
      },
      "source": [
        "','.join(top_tokens[model.topic_names[129]])"
      ],
      "execution_count": null,
      "outputs": [
        {
          "output_type": "execute_result",
          "data": {
            "text/plain": [
              "'участие,участник,мероприятие,конкурс,пройти,организатор,заявка,принять,выбрать,который'"
            ]
          },
          "metadata": {
            "tags": []
          },
          "execution_count": 91
        }
      ]
    },
    {
      "cell_type": "code",
      "metadata": {
        "id": "1KjlzfQOSd_0",
        "outputId": "ecdb3e86-e5b4-4611-cc4a-db875d6d5db0"
      },
      "source": [
        "','.join(top_tokens[model.topic_names[198]])"
      ],
      "execution_count": null,
      "outputs": [
        {
          "output_type": "execute_result",
          "data": {
            "text/plain": [
              "'проект,развитие,создание,программа,сфера,планироваться,рамка,реализация,план,поддержка'"
            ]
          },
          "metadata": {
            "tags": []
          },
          "execution_count": 92
        }
      ]
    },
    {
      "cell_type": "markdown",
      "metadata": {
        "id": "wJnVcv0bSd_0"
      },
      "source": [
        "### Анализ матрицы $\\Phi$"
      ]
    },
    {
      "cell_type": "code",
      "metadata": {
        "id": "eT3-O9HuSd_0"
      },
      "source": [
        "vector_pd = model.get_phi(class_ids=['@month']).T"
      ],
      "execution_count": null,
      "outputs": []
    },
    {
      "cell_type": "code",
      "metadata": {
        "id": "EgDfelipSd_0"
      },
      "source": [
        "vectors = []\n",
        "for modal in tqdm(unique_modal):\n",
        "    vectors.append(vector_pd['class_' + modal.strftime('%m_%Y')].values)\n",
        "    \n",
        "vectors = np.array(vectors).T"
      ],
      "execution_count": null,
      "outputs": []
    },
    {
      "cell_type": "code",
      "metadata": {
        "id": "Szx45iPmSd_1",
        "outputId": "3a25748d-f2c1-4053-fb3f-67cd630ae04e"
      },
      "source": [
        "fig = plt.figure(figsize=(120, 8))\n",
        "\n",
        "im = plt.imshow(vectors, cmap='gray')\n",
        "_ = fig.colorbar(im)\n",
        "\n",
        "plt.show()"
      ],
      "execution_count": null,
      "outputs": [
        {
          "output_type": "display_data",
          "data": {
            "image/png": "[encoded data removed]",
            "text/plain": [
              "<Figure size 8640x576 with 2 Axes>"
            ]
          },
          "metadata": {
            "tags": [],
            "needs_background": "light"
          }
        }
      ]
    },
    {
      "cell_type": "code",
      "metadata": {
        "scrolled": false,
        "id": "C04FjJ1TSd_1",
        "outputId": "6f9c46bd-af1b-4fdd-9e30-c1b533fd21f4"
      },
      "source": [
        "for modal_id, topic_id in zip(*np.where(vectors.T > 0.99)):\n",
        "    print(unique_modal[modal_id].strftime('%Y-%m'), \n",
        "          ','.join(top_tokens[model.topic_names[topic_id]][:7]))"
      ],
      "execution_count": null,
      "outputs": [
        {
          "output_type": "stream",
          "text": [
            "2000-05 опубликовать,сайт,написать,письмо,говориться,сообщение,страница\n",
            "2000-06 матч,спартак,цска,зенит,стадион,1,футбольный\n",
            "2000-07 животное,австралия,животный,австралийский,птица,вид,медведь\n",
            "2001-01 трамп,кампания,дональд,президент,cnn,это,фраза\n",
            "2001-04 процент,5,опрос,9,7,6,3\n",
            "2002-01 дата,3,консоль,360,анонсировать,игра,xbox\n",
            "2002-03 политический,борис,статус,власть,предоставление,гражданство,предоставить\n",
            "2002-11 тюрьма,осудить,заключение,заключённый,колония,наказание,содержание\n",
            "2003-09 погибнуть,человек,взрыв,погибший,результат,теракт,жертва\n",
            "2004-01 управление,начальник,юрий,отдел,москва,мвд,александр\n",
            "2004-03 космический,станция,запуск,ракета,корабль,мкс,полёт\n",
            "2004-06 минута,счёт,й,матч,1,2,ворот\n",
            "2004-10 республика,временной,киргизия,узбекистан,власть,страна,бакиев\n",
            "2004-12 украина,украинский,киев,виктор,страна,янукович,ющенко\n",
            "2005-02 гражданин,страна,документ,латвия,иностранный,паспорт,въезд\n",
            "2005-07 статья,уголовный,рф,возбудить,следственный,дело,факт\n",
            "2005-08 массовый,активист,административный,здание,беспорядок,человек,задержать\n",
            "2005-09 школа,образование,институт,университет,студент,наука,учебный\n",
            "2005-10 телеканал,журналист,канал,эфир,телевидение,литва,тв\n",
            "2005-11 великобритания,британский,франция,французский,лондон,bbc,news\n",
            "2005-12 хороший,премия,книга,церемония,награда,роман,получить\n",
            "2006-01 километр,способный,испытание,скорость,система,установка,ракета\n",
            "2006-06 мнение,проблема,считать,эксперт,мочь,внимание,который\n",
            "2007-01 машина,автомобиль,водитель,автобус,дорога,дтп,дорожный\n",
            "2007-03 оператор,реклама,компания,рекламный,связь,тариф,фас\n",
            "2007-04 продажа,рынок,сделка,покупка,бизнес,доля,приобрести\n",
            "2007-05 вертолёт,восточный,техника,юго,восток,азия,северо\n",
            "2007-06 испания,испанский,болгария,кипр,румыния,австрия,страна\n",
            "2007-07 the,daily,британский,guardian,лос,майкл,mail\n",
            "2007-08 юкос,компания,нефтяной,ан,тнк,bp,вр\n",
            "2007-09 производство,предприятие,завод,корпорация,компания,промышленный,промышленность\n",
            "2007-10 компания,акция,крупный,бумага,акционер,принадлежать,актив\n",
            "2007-11 команда,сборный,чемпионат,тренер,сборная,италия,итальянский\n",
            "2008-02 театр,сцена,спектакль,постановка,опера,театральный,большой\n",
            "2008-05 6,круг,турнир,4,финал,выиграть,7\n",
            "2008-07 пункт,доллар,процент,индекс,торг,0,биржа\n",
            "2008-08 военный,армия,войско,военнослужащий,сила,генерал,вооружённый\n",
            "2008-09 который,учёный,метод,эксперимент,использовать,это,работа\n",
            "2008-10 компания,форум,роснефть,месторождение,энергетический,российский,аэс\n",
            "2008-11 строительство,объект,проект,построить,комплекс,центр,компания\n",
            "2008-12 певица,музыкант,песня,альбом,музыкальный,певец,музыка\n",
            "2009-01 звезда,планета,учёный,земля,который,масса,солнечный\n",
            "2009-03 миллиард,доллар,составить,год,1,2,3\n",
            "2009-04 процент,год,рост,показатель,цена,вырасти,сравнение\n",
            "2009-07 суд,признать,решение,год,судебный,свобода,приговор\n",
            "2009-08 обвинение,предъявить,расследование,арестовать,обвинять,бывший,арест\n",
            "2009-10 газета,издание,писать,источник,коммерсант,журнал,отмечать\n",
            "2009-11 год,война,х,советский,ссср,мировой,1990\n",
            "2010-02 электронный,аппарат,почта,d,беспилотник,робот,доставка\n",
            "2010-04 парламент,депутат,верховный,рад,тимошенко,блок,спикер\n",
            "2010-06 автомобиль,модель,машина,1,новый,автомобильный,формула\n",
            "2010-07 инцидент,милиция,произойти,конфликт,милиционер,драка,сотрудник\n",
            "2010-08 город,житель,местный,власть,городской,человек,тысяча\n",
            "2010-09 квартира,дом,жильё,недвижимость,аренда,жилой,помещение\n",
            "2010-11 игра,студия,of,разработчик,копия,проект,который\n",
            "2010-12 движение,молодая,николай,иван,константин,александр,елена\n",
            "2011-03 президент,пост,глава,бывший,должность,отставка,назначить\n",
            "2011-04 область,петербург,санкт,губернатор,округа,областной,московский\n",
            "2011-05 год,2009,2010,2011,2008,2012,конец\n",
            "2011-07 культура,актёр,артист,театр,режиссёр,вино,новосибирский\n",
            "2011-09 клуб,сезон,игрок,лига,контракт,играть,выступать\n",
            "2011-10 октябрь,сентябрь,который,это,год,сообщать,бельгия\n",
            "2011-12 полиция,полицейский,00,человек,около,возле,сообщать\n",
            "2012-02 найти,век,обнаружить,год,останки,который,дворец\n",
            "2012-03 освободить,освобождение,похитить,похищение,мексика,который,отпустить\n",
            "2012-04 граница,дмитрий,кремль,песок,мост,опасный,провокация\n",
            "2012-07 москва,московский,столица,улица,столичный,дорога,транспорт\n",
            "2012-12 закон,право,законопроект,документ,внести,законодательство,поправка\n",
            "2013-01 серия,герой,который,выйти,сериал,персонаж,эпизод\n",
            "2013-02 метр,квадратный,площадь,тысяча,класс,составлять,компания\n",
            "2013-03 рубль,евро,курс,валюта,стоимость,россия,доллар\n",
            "2013-04 интервью,апрель,это,заниматься,физический,известие,профессиональный\n",
            "2013-05 музей,художник,картина,искусство,работа,год,выставка\n",
            "2013-06 министерство,ведомство,департамент,чиновник,анатолий,оборона,который\n",
            "2013-07 запустить,спутник,вывести,аппарат,год,исследовательский,разработка\n",
            "2013-08 девушка,камера,знакомый,кража,дверь,забрать,украсть\n",
            "2013-11 компания,магазин,com,компьютер,apple,сан,компьютерный\n",
            "2013-12 декабрь,газпром,долг,контракт,российский,это,год\n",
            "2014-01 интернет,пользователь,сервис,сайт,доступ,google,компания\n",
            "2014-02 оон,польша,польский,резолюция,делегация,международный,страна\n",
            "2014-02 министр,правительство,премьер,медведев,глава,вица,кабинет\n",
            "2014-04 алексей,олег,полномочие,навальный,максим,служебный,должностной\n",
            "2014-07 европейский,европа,страна,союз,ес,евросоюз,свободный\n",
            "2014-09 комплекс,ракета,вооружение,ракетный,военный,оборона,танк\n",
            "2014-10 ребёнок,семья,летний,сын,жена,отец,дочь\n",
            "2014-11 организация,религиозный,мусульманин,экстремистский,ислам,радикальный,запретить\n",
            "2014-11 участок,земля,региональный,хозяйство,тонна,сельский,дальний\n",
            "2015-03 согласие,нидерланды,частный,это,сбить,голландский,2014\n",
            "2015-04 россия,владимир,путин,российский,президент,крым,рф\n",
            "2015-06 общество,общественный,далее,это,пропаганда,деятель,ценность\n",
            "2015-08 день,название,имя,честь,рождение,праздник,красный\n",
            "2015-09 миллион,тысяча,доллар,около,сумма,5,фунт\n",
            "2015-10 совет,директор,председатель,заместитель,генеральный,михаил,радиостанция\n",
            "2015-11 взять,террорист,атака,захватить,париж,террористический,теракт\n",
            "2016-01 нефть,газа,цена,поставка,топливо,газ,добыча\n",
            "2016-02 иран,ядерный,посольство,дипломат,посол,иранский,мид\n",
            "2016-02 основать,одежда,вещий,би,инструмент,год,си\n",
            "2016-03 март,приостановить,ассоциация,египет,россия,это,всемирный\n",
            "2016-03 самолёт,истребитель,ввс,f,су,35,контракт\n",
            "2016-05 май,апрель,это,год,9,который,2015\n",
            "2016-06 июнь,килограмм,отель,это,категория,вес,год\n",
            "2016-08 август,июль,2016,это,де,год,31\n",
            "2016-09 группа,the,коллектив,концерт,i,a,and\n",
            "2016-10 пресс,служба,сообщить,секретарь,конференция,новость,это\n",
            "2016-11 ноябрь,ким,это,чен,джонсон,год,лидер\n",
            "2016-12 база,российский,удар,россия,нанести,это,военный\n",
            "2017-01 парк,площадка,высота,гора,парка,дерево,это\n",
            "2017-03 учёный,исследование,который,исследователь,человек,анализ,это\n",
            "2017-06 выбор,голос,голосование,президентский,выборы,кандидат,результат\n",
            "2017-07 китай,китайский,кнр,пекин,это,страна,провинция\n",
            "2017-08 гривна,это,сбу,украина,киевский,глава,государственный\n",
            "2017-09 оружие,открыть,ранение,пистолет,стрельба,двое,получить\n",
            "2017-10 система,деньга,счёт,услуга,клиент,карта,средство\n",
            "2017-10 донбасс,народный,донецкий,язык,республика,украина,украинский\n",
            "2017-11 владелец,бизнесмен,предприниматель,основатель,состояние,богатый,миллиардер\n",
            "2017-12 наркотик,полый,подарок,это,новогодний,год,подарить\n",
            "2018-01 женщина,мужчина,летний,нога,жительница,рука,домой\n",
            "2018-02 этап,мир,медаль,золотой,гонка,соревнование,чемпионат\n",
            "2018-03 фотография,снимка,фото,instagram,опубликовать,кадр,девушка\n",
            "2018-05 уровень,экономика,экономический,ставка,кризис,страна,снижение\n",
            "2018-07 устройство,смартфон,iphone,apple,компания,экран,windows\n",
            "2018-09 бой,собака,боксёр,кличко,чемпион,титул,мир\n",
            "2018-10 сказать,это,наш,слово,добавить,заявить,весь\n",
            "2019-02 корабль,морской,флот,лодка,подводный,мор,проект\n",
            "2019-03 сеть,социальный,facebook,призыв,соцсеть,мир,это\n",
            "2019-03 проект,развитие,создание,программа,сфера,планироваться,рамка\n",
            "2019-06 запрет,товар,продукция,россия,запретить,таможенный,это\n",
            "2019-07 сексуальный,скандал,который,свой,поведение,отношение,насилие\n",
            "2019-08 переговоры,встреча,сторона,отношение,соглашение,санкция,россия\n",
            "2019-09 вода,река,сильный,океан,температура,градус,воздух\n",
            "2019-09 информация,times,сведение,спецслужба,the,дать,new\n",
            "2019-11 участие,участник,мероприятие,конкурс,пройти,организатор,заявка\n",
            "2019-12 порошенко,надежда,обмен,президент,украина,пётр,зеленский\n",
            "2020-01 страна,france,presse,agence,ливия,венесуэла,власть\n",
            "2020-02 друг,свой,хотеть,рассказать,весь,признаться,слово\n",
            "2020-02 бренд,марка,коллекция,модель,цвета,компания,часы\n",
            "2020-03 коронавирус,случай,распространение,человек,выявить,зафиксировать,тысяча\n",
            "2020-04 врач,больница,медицинский,состояние,здоровье,помощь,лечение\n",
            "2020-05 ввести,ограничение,северный,мера,поток,страна,канада\n",
            "2020-06 детский,нижний,екатеринбург,это,отпуск,сад,свердловский\n",
            "2020-06 час,рекорд,секунда,африка,преодолеть,сопровождаться,африканский\n",
            "2020-07 регион,край,краснодарский,губернатор,владивосток,красноярский,приморский\n",
            "2020-07 телефон,человек,пользоваться,это,разговор,часто,телефонный\n",
            "2020-08 россиянин,победа,поражение,боец,одержать,это,абсолютный\n"
          ],
          "name": "stdout"
        }
      ]
    },
    {
      "cell_type": "markdown",
      "metadata": {
        "id": "HxZHJrE_Sd_1"
      },
      "source": [
        "## Вспомним, что в выборке есть тэги классов. Попробуем решить задачу классификации"
      ]
    },
    {
      "cell_type": "code",
      "metadata": {
        "id": "FCACX8mmSd_1"
      },
      "source": [
        "X_train_pd = model.transform(bv_train)"
      ],
      "execution_count": null,
      "outputs": []
    },
    {
      "cell_type": "code",
      "metadata": {
        "id": "HYjZQ6-9Sd_2"
      },
      "source": [
        "X_train = []\n",
        "for i in tqdm(range(len(y_train))):\n",
        "    X_train.append(X_train_pd[i].values)"
      ],
      "execution_count": null,
      "outputs": []
    },
    {
      "cell_type": "code",
      "metadata": {
        "id": "IrSFTeXWSd_3"
      },
      "source": [
        "X_train = np.array(X_train)\n",
        "y_train = np.array(y_train)"
      ],
      "execution_count": null,
      "outputs": []
    },
    {
      "cell_type": "code",
      "metadata": {
        "id": "43-Y4l-XSd_4"
      },
      "source": [
        "classifier = RandomForestClassifier(n_estimators=10)"
      ],
      "execution_count": null,
      "outputs": []
    },
    {
      "cell_type": "code",
      "metadata": {
        "id": "nYBeYl3aSd_4",
        "outputId": "286a778e-944e-4ec4-986c-b4a817ed1e8e"
      },
      "source": [
        "classifier.fit(X_train, y_train)"
      ],
      "execution_count": null,
      "outputs": [
        {
          "output_type": "execute_result",
          "data": {
            "text/plain": [
              "RandomForestClassifier(n_estimators=10)"
            ]
          },
          "metadata": {
            "tags": []
          },
          "execution_count": 103
        }
      ]
    },
    {
      "cell_type": "code",
      "metadata": {
        "id": "70q97EF2Sd_5"
      },
      "source": [
        "X_valid_pd = model.transform(bv_test)"
      ],
      "execution_count": null,
      "outputs": []
    },
    {
      "cell_type": "code",
      "metadata": {
        "id": "3Po8jXCaSd_5",
        "outputId": "79ea7b5f-1c51-4b10-c11a-29adbe7f574c",
        "colab": {
          "referenced_widgets": [
            "456ae483d83c4faa82243e15ee47e117"
          ]
        }
      },
      "source": [
        "X_valid = []\n",
        "for i in tqdm(range(len(y_valid))):\n",
        "    X_valid.append(X_valid_pd[i].values)"
      ],
      "execution_count": null,
      "outputs": [
        {
          "output_type": "display_data",
          "data": {
            "application/vnd.jupyter.widget-view+json": {
              "model_id": "456ae483d83c4faa82243e15ee47e117",
              "version_major": 2,
              "version_minor": 0
            },
            "text/plain": [
              "HBox(children=(IntProgress(value=0, max=6604), HTML(value='')))"
            ]
          },
          "metadata": {
            "tags": []
          }
        },
        {
          "output_type": "stream",
          "text": [
            "\n"
          ],
          "name": "stdout"
        }
      ]
    },
    {
      "cell_type": "code",
      "metadata": {
        "id": "vOjbWTXZSd_5"
      },
      "source": [
        "pred = classifier.predict(X_valid)"
      ],
      "execution_count": null,
      "outputs": []
    },
    {
      "cell_type": "code",
      "metadata": {
        "id": "KmsbtuWrSd_5",
        "outputId": "f4f40b8b-5109-4c12-dd19-3d9b09367e29"
      },
      "source": [
        "print(classification_report(y_valid, pred, zero_division=1))"
      ],
      "execution_count": null,
      "outputs": [
        {
          "output_type": "stream",
          "text": [
            "                      precision    recall  f1-score   support\n",
            "\n",
            "             coцсети       0.21      0.15      0.18        39\n",
            "                 nan       0.37      0.30      0.33       208\n",
            "          автобизнес       1.00      0.00      0.00         2\n",
            "   английский футбол       1.00      0.00      0.00         1\n",
            "          белоруссия       0.56      0.21      0.30        24\n",
            "              бизнес       0.29      0.20      0.24        70\n",
            "          бокс и мма       0.75      0.66      0.70        32\n",
            "                вещи       0.00      0.00      0.00         5\n",
            "     вирусные ролики       1.00      0.00      0.00         2\n",
            "         внешний вид       0.44      0.25      0.32        16\n",
            "                 все       0.68      0.96      0.80      3356\n",
            "             гаджеты       0.56      0.21      0.30        24\n",
            "               город       0.00      0.00      0.00        18\n",
            "        госэкономика       0.41      0.33      0.37       162\n",
            "                дача       0.50      0.08      0.13        13\n",
            "            движение       1.00      0.17      0.29         6\n",
            "      деловой климат       0.00      0.00      0.00        35\n",
            "              деньги       0.25      0.05      0.09        19\n",
            "          достижения       0.00      0.00      0.00         7\n",
            "                 еда       1.00      0.00      0.00         9\n",
            "               жизнь       0.00      0.00      0.00        11\n",
            "          закавказье       0.67      0.22      0.33         9\n",
            "               звери       0.56      0.24      0.33        21\n",
            "         зимние виды       0.78      0.44      0.56        16\n",
            "                игры       0.80      0.24      0.36        17\n",
            "         инструменты       1.00      0.29      0.44         7\n",
            "            интернет       0.37      0.22      0.28        87\n",
            "           искусство       1.00      0.00      0.00        17\n",
            "             история       1.00      0.00      0.00         4\n",
            "           казахстан       0.00      0.00      0.00         2\n",
            "            квартира       0.82      0.54      0.65        83\n",
            "   киберпреступность       1.00      0.00      0.00         1\n",
            "                кино       0.62      0.43      0.51        77\n",
            "               книги       0.00      0.00      0.00         6\n",
            "           конфликты       0.29      0.12      0.17        33\n",
            "              космос       0.64      0.23      0.34        39\n",
            "            криминал       0.20      0.05      0.08        21\n",
            "            культура       1.00      0.60      0.75         5\n",
            "         летние виды       0.75      0.12      0.21        24\n",
            "                люди       0.36      0.17      0.23        75\n",
            "                мемы       1.00      0.00      0.00         5\n",
            "                 мир       0.33      0.10      0.15        31\n",
            "      мировой бизнес       1.00      0.00      0.00        14\n",
            "        мировой опыт       1.00      0.00      0.00         1\n",
            "              мнения       1.00      0.00      0.00        13\n",
            "            молдавия       1.00      0.25      0.40         4\n",
            "              москва       1.00      0.00      0.00        19\n",
            "              музыка       0.68      0.35      0.46        54\n",
            "            наследие       1.00      0.00      0.00         1\n",
            "               наука       0.57      0.38      0.46        86\n",
            "            общество       0.40      0.29      0.34       369\n",
            "              оружие       0.79      0.38      0.51        29\n",
            "                офис       1.00      0.08      0.15        12\n",
            "            политика       0.56      0.44      0.50       418\n",
            "полиция и спецслужбы       1.00      0.07      0.13        14\n",
            "              пресса       1.00      0.00      0.00        19\n",
            "   преступная россия       1.00      0.00      0.00         3\n",
            "        преступность       0.33      0.03      0.05        36\n",
            "          прибалтика       0.00      0.00      0.00        13\n",
            "        происшествия       0.46      0.15      0.22       124\n",
            "             регионы       0.60      0.11      0.19        27\n",
            "             реклама       1.00      0.00      0.00         1\n",
            "              россия       0.50      0.11      0.17        19\n",
            "               рынки       0.00      0.00      0.00        39\n",
            "     следствие и суд       0.57      0.21      0.31       108\n",
            "             события       0.00      0.00      0.00        31\n",
            "                софт       1.00      0.00      0.00         5\n",
            "    социальная сфера       1.00      0.00      0.00         5\n",
            "        средняя азия       1.00      0.00      0.00        13\n",
            "               стиль       0.33      0.31      0.32        26\n",
            "          тв и радио       0.63      0.24      0.34        51\n",
            "               театр       1.00      0.00      0.00        11\n",
            "             техника       0.00      0.00      0.00        10\n",
            "             украина       0.76      0.74      0.75       238\n",
            "    финансы компаний       1.00      0.00      0.00         3\n",
            "              футбол       0.79      0.42      0.55       101\n",
            "              хоккей       0.00      0.00      0.00         5\n",
            "                часы       0.75      0.75      0.75         4\n",
            "           экономика       0.83      0.50      0.62        10\n",
            "             явления       0.21      0.14      0.17        29\n",
            "\n",
            "            accuracy                           0.64      6604\n",
            "           macro avg       0.61      0.17      0.21      6604\n",
            "        weighted avg       0.60      0.64      0.58      6604\n",
            "\n"
          ],
          "name": "stdout"
        }
      ]
    },
    {
      "cell_type": "markdown",
      "metadata": {
        "id": "7SYLhjQ1Sd_5"
      },
      "source": [
        "## Рассмотрим задачу классификации тематических векторов на месяца"
      ]
    },
    {
      "cell_type": "code",
      "metadata": {
        "id": "IUSe-ETpSd_6"
      },
      "source": [
        "month_modal_train = []\n",
        "with open('drive/MyDrive/DATASETS/MachineLearning/topicmodeling/texts_train.vw.txt') as f:\n",
        "    for line in tqdm(f):\n",
        "        string = re.search(r'@month class_(\\d\\d_\\d\\d\\d\\d)\\n', line).group(1)\n",
        "        month_modal_train.append(string)\n",
        "\n",
        "month_modal_train = np.array(month_modal_train)\n",
        "\n",
        "month_modal_valid = []\n",
        "with open('drive/MyDrive/DATASETS/MachineLearning/topicmodeling/texts_valid.vw.txt') as f:\n",
        "    for line in tqdm(f):\n",
        "        string = re.search(r'@month class_(\\d\\d_\\d\\d\\d\\d)\\n', line).group(1)\n",
        "        month_modal_valid.append(string)\n",
        "\n",
        "month_modal_valid = np.array(month_modal_valid)\n",
        "\n"
      ],
      "execution_count": null,
      "outputs": []
    },
    {
      "cell_type": "code",
      "metadata": {
        "id": "ld6A8ewvSd_6",
        "outputId": "ff994cb1-5225-44d0-b87b-cc5b7667889f"
      },
      "source": [
        "len(X_train), len(month_modal_train), len(X_valid), len(month_modal_valid)"
      ],
      "execution_count": null,
      "outputs": [
        {
          "output_type": "execute_result",
          "data": {
            "text/plain": [
              "(653795, 653795, 6604, 6604)"
            ]
          },
          "metadata": {
            "tags": []
          },
          "execution_count": 118
        }
      ]
    },
    {
      "cell_type": "code",
      "metadata": {
        "id": "qrZKCW1fSd_6"
      },
      "source": [
        "classifier = RandomForestClassifier(n_estimators=10)"
      ],
      "execution_count": null,
      "outputs": []
    },
    {
      "cell_type": "code",
      "metadata": {
        "id": "-A0h3nJjSd_7",
        "outputId": "ed02f5d0-fd7b-4f75-f89e-373e2bdfb643"
      },
      "source": [
        "classifier.fit(X_train, month_modal_train)"
      ],
      "execution_count": null,
      "outputs": [
        {
          "output_type": "execute_result",
          "data": {
            "text/plain": [
              "RandomForestClassifier(n_estimators=10)"
            ]
          },
          "metadata": {
            "tags": []
          },
          "execution_count": 121
        }
      ]
    },
    {
      "cell_type": "code",
      "metadata": {
        "id": "f9BrSXKwSd_7"
      },
      "source": [
        "pred = classifier.predict(X_valid)"
      ],
      "execution_count": null,
      "outputs": []
    },
    {
      "cell_type": "code",
      "metadata": {
        "scrolled": false,
        "id": "B02MtI5VSd_7",
        "outputId": "b972aba3-b0e3-4d51-bb96-e4434d45347d"
      },
      "source": [
        "print(classification_report(month_modal_valid, pred, zero_division=1))"
      ],
      "execution_count": null,
      "outputs": [
        {
          "output_type": "stream",
          "text": [
            "              precision    recall  f1-score   support\n",
            "\n",
            "     01_2000       0.50      0.60      0.55         5\n",
            "     01_2001       0.38      0.55      0.44        11\n",
            "     01_2002       0.25      0.60      0.35        10\n",
            "     01_2003       0.08      0.11      0.10         9\n",
            "     01_2004       0.44      0.54      0.48        13\n",
            "     01_2005       0.24      0.39      0.30        18\n",
            "     01_2006       0.48      0.62      0.55        24\n",
            "     01_2007       0.56      0.62      0.59        16\n",
            "     01_2008       0.61      0.52      0.56        21\n",
            "     01_2009       0.62      0.81      0.70        32\n",
            "     01_2010       0.66      0.70      0.68        30\n",
            "     01_2011       0.63      0.74      0.68        23\n",
            "     01_2012       0.57      0.80      0.67        30\n",
            "     01_2013       0.69      0.91      0.78        34\n",
            "     01_2014       0.51      0.61      0.56        31\n",
            "     01_2015       0.62      0.75      0.68        28\n",
            "     01_2016       0.55      0.67      0.60        33\n",
            "     01_2017       0.74      1.00      0.85        32\n",
            "     01_2018       0.41      0.52      0.46        23\n",
            "     01_2019       0.56      0.77      0.65        26\n",
            "     01_2020       0.66      0.97      0.79        34\n",
            "     02_2000       0.12      0.25      0.17         4\n",
            "     02_2001       0.50      0.57      0.53         7\n",
            "     02_2002       0.36      0.36      0.36        11\n",
            "     02_2003       0.18      0.18      0.18        11\n",
            "     02_2004       0.40      0.53      0.46        15\n",
            "     02_2005       0.52      0.74      0.61        19\n",
            "     02_2006       0.44      0.70      0.54        20\n",
            "     02_2007       0.46      0.69      0.55        16\n",
            "     02_2008       0.68      0.71      0.70        21\n",
            "     02_2009       0.60      0.81      0.69        37\n",
            "     02_2010       0.63      0.82      0.71        33\n",
            "     02_2011       0.65      0.84      0.73        31\n",
            "     02_2012       0.70      0.84      0.77        37\n",
            "     02_2013       0.76      0.85      0.80        33\n",
            "     02_2014       0.53      0.53      0.53        30\n",
            "     02_2015       0.57      0.72      0.64        29\n",
            "     02_2016       0.70      0.82      0.76        40\n",
            "     02_2017       0.65      0.84      0.73        31\n",
            "     02_2018       0.69      0.88      0.77        25\n",
            "     02_2019       0.69      0.90      0.78        30\n",
            "     02_2020       0.72      0.72      0.72        47\n",
            "     03_2000       0.75      0.60      0.67         5\n",
            "     03_2001       0.38      0.43      0.40         7\n",
            "     03_2002       0.75      0.50      0.60        12\n",
            "     03_2003       0.36      0.40      0.38        10\n",
            "     03_2004       0.69      0.56      0.62        16\n",
            "     03_2005       0.59      0.42      0.49        24\n",
            "     03_2006       0.59      0.71      0.65        28\n",
            "     03_2007       0.73      0.61      0.67        18\n",
            "     03_2008       0.53      0.63      0.58        27\n",
            "     03_2009       0.68      0.81      0.74        37\n",
            "     03_2010       0.47      0.67      0.55        33\n",
            "     03_2011       0.77      0.70      0.73        33\n",
            "     03_2012       0.71      0.97      0.82        36\n",
            "     03_2013       0.79      0.81      0.80        37\n",
            "     03_2014       0.75      0.78      0.77        23\n",
            "     03_2015       0.92      0.97      0.95        36\n",
            "     03_2016       0.86      0.89      0.88        47\n",
            "     03_2017       0.89      0.89      0.89        44\n",
            "     03_2018       0.76      0.76      0.76        29\n",
            "     03_2019       0.73      0.55      0.63        29\n",
            "     03_2020       0.81      0.91      0.86        53\n",
            "     04_2000       0.33      0.25      0.29         4\n",
            "     04_2001       0.00      0.00      0.00         7\n",
            "     04_2002       0.64      0.50      0.56        14\n",
            "     04_2003       0.25      0.40      0.31         5\n",
            "     04_2004       0.57      0.50      0.53        16\n",
            "     04_2005       0.70      0.39      0.50        18\n",
            "     04_2006       0.41      0.39      0.40        18\n",
            "     04_2007       0.64      0.54      0.58        26\n",
            "     04_2008       0.52      0.75      0.61        20\n",
            "     04_2009       0.82      0.57      0.68        40\n",
            "     04_2010       0.85      0.67      0.75        33\n",
            "     04_2011       0.65      0.79      0.71        28\n",
            "     04_2012       0.90      1.00      0.95        36\n",
            "     04_2013       0.82      0.97      0.89        34\n",
            "     04_2014       0.87      0.68      0.76        19\n",
            "     04_2015       0.60      0.62      0.61        34\n",
            "     04_2016       0.73      0.83      0.78        48\n",
            "     04_2017       0.66      0.93      0.77        40\n",
            "     04_2018       0.69      0.46      0.55        24\n",
            "     04_2019       0.76      0.72      0.74        39\n",
            "     04_2020       0.79      0.77      0.78        64\n",
            "     05_2000       1.00      0.25      0.40         4\n",
            "     05_2001       0.50      0.11      0.18         9\n",
            "     05_2002       1.00      0.23      0.38        13\n",
            "     05_2003       0.50      0.25      0.33        12\n",
            "     05_2004       0.43      0.23      0.30        13\n",
            "     05_2005       0.71      0.50      0.59        20\n",
            "     05_2006       0.33      0.30      0.32        20\n",
            "     05_2007       0.87      0.57      0.68        23\n",
            "     05_2008       0.96      0.85      0.90        26\n",
            "     05_2009       0.62      0.87      0.72        30\n",
            "     05_2010       0.64      0.77      0.70        30\n",
            "     05_2011       0.84      0.89      0.86        35\n",
            "     05_2012       0.70      0.76      0.73        37\n",
            "     05_2013       0.79      0.76      0.77        29\n",
            "     05_2014       0.67      0.50      0.57        20\n",
            "     05_2015       0.67      0.56      0.61        25\n",
            "     05_2016       0.95      0.97      0.96        40\n",
            "     05_2017       0.78      0.86      0.82        42\n",
            "     05_2018       1.00      0.63      0.77        27\n",
            "     05_2019       0.70      0.78      0.74        36\n",
            "     05_2020       0.92      0.98      0.95        55\n",
            "     06_2000       0.00      0.00      0.00         1\n",
            "     06_2001       0.62      0.50      0.56        10\n",
            "     06_2002       0.25      0.09      0.13        11\n",
            "     06_2003       0.33      0.21      0.26        14\n",
            "     06_2004       0.80      0.50      0.62        16\n",
            "     06_2005       0.62      0.38      0.47        21\n",
            "     06_2006       0.73      0.55      0.63        20\n",
            "     06_2007       0.62      0.47      0.53        17\n",
            "     06_2008       0.53      0.69      0.60        29\n",
            "     06_2009       0.77      0.68      0.72        34\n",
            "     06_2010       0.68      0.85      0.76        33\n",
            "     06_2011       0.55      0.56      0.55        32\n",
            "     06_2012       0.51      0.53      0.52        34\n",
            "     06_2013       0.97      1.00      0.98        30\n",
            "     06_2014       0.80      0.55      0.65        22\n",
            "     06_2015       0.77      0.89      0.83        27\n",
            "     06_2016       0.97      0.93      0.95        41\n",
            "     06_2017       0.92      0.82      0.87        40\n",
            "     06_2018       0.87      0.67      0.75        30\n",
            "     06_2019       0.81      0.88      0.84        43\n",
            "     06_2020       0.95      0.90      0.92        58\n",
            "     07_2000       0.50      0.20      0.29         5\n",
            "     07_2001       0.00      0.00      0.00         6\n",
            "     07_2002       0.29      0.17      0.21        12\n",
            "     07_2003       0.27      0.30      0.29        10\n",
            "     07_2004       0.38      0.36      0.37        14\n",
            "     07_2005       0.64      0.44      0.52        16\n",
            "     07_2006       0.68      0.72      0.70        18\n",
            "     07_2007       0.55      0.35      0.43        17\n",
            "     07_2008       0.88      0.79      0.83        28\n",
            "     07_2009       0.76      0.47      0.58        34\n",
            "     07_2010       0.78      0.75      0.76        28\n",
            "     07_2011       0.93      0.78      0.85        32\n",
            "     07_2012       0.71      0.78      0.75        32\n",
            "     07_2013       0.89      0.97      0.93        35\n",
            "     07_2014       0.89      0.65      0.76        26\n",
            "     07_2015       0.81      0.66      0.72        32\n",
            "     07_2016       0.73      0.89      0.80        46\n",
            "     07_2017       0.72      0.90      0.80        40\n",
            "     07_2018       0.85      0.68      0.76        25\n",
            "     07_2019       0.72      0.92      0.81        53\n",
            "     07_2020       0.94      0.82      0.87        55\n",
            "     08_2000       0.50      0.14      0.22         7\n",
            "     08_2001       0.80      0.40      0.53        10\n",
            "     08_2002       0.60      0.38      0.46         8\n",
            "     08_2003       0.64      0.47      0.54        15\n",
            "     08_2004       0.14      0.08      0.11        12\n",
            "     08_2005       0.94      0.84      0.89        19\n",
            "     08_2006       0.78      0.86      0.82        21\n",
            "     08_2007       0.83      0.87      0.85        23\n",
            "     08_2008       0.81      0.72      0.76        29\n",
            "     08_2009       0.72      0.64      0.68        33\n",
            "     08_2010       0.80      0.61      0.69        33\n",
            "     08_2011       0.82      0.91      0.86        35\n",
            "     08_2012       0.78      0.78      0.78        32\n",
            "     08_2013       0.71      0.74      0.73        27\n",
            "     08_2014       0.56      0.36      0.44        25\n",
            "     08_2015       0.91      0.94      0.92        32\n",
            "     08_2016       0.97      0.97      0.97        39\n",
            "     08_2017       0.70      0.90      0.79        31\n",
            "     08_2018       0.79      0.77      0.78        30\n",
            "     08_2019       0.73      0.79      0.76        47\n",
            "     08_2020       0.91      1.00      0.95        59\n",
            "     09_1999       1.00      0.00      0.00         2\n",
            "     09_2000       1.00      0.00      0.00         6\n",
            "     09_2001       0.33      0.14      0.20         7\n",
            "     09_2002       0.62      0.36      0.45        14\n",
            "     09_2003       0.75      0.21      0.33        14\n",
            "     09_2004       0.64      0.50      0.56        14\n",
            "     09_2005       0.68      0.65      0.67        20\n",
            "     09_2006       0.67      0.36      0.47        22\n",
            "     09_2007       0.71      0.59      0.65        17\n",
            "     09_2008       0.83      0.68      0.75        28\n",
            "     09_2009       0.61      0.54      0.58        35\n",
            "     09_2010       0.68      0.82      0.74        28\n",
            "     09_2011       0.95      0.66      0.78        32\n",
            "     09_2012       0.72      0.86      0.78        36\n",
            "     09_2013       0.72      0.82      0.77        28\n",
            "     09_2014       0.72      0.57      0.63        23\n",
            "     09_2015       0.72      0.62      0.67        34\n",
            "     09_2016       0.86      0.95      0.90        38\n",
            "     09_2017       0.81      0.83      0.82        36\n",
            "     09_2018       0.82      0.74      0.78        31\n",
            "     09_2019       0.74      0.60      0.67        43\n",
            "     09_2020       0.83      0.77      0.80        26\n",
            "     10_1999       1.00      0.00      0.00         3\n",
            "     10_2000       0.60      0.33      0.43         9\n",
            "     10_2001       0.50      0.25      0.33         4\n",
            "     10_2002       0.64      0.58      0.61        12\n",
            "     10_2003       0.33      0.20      0.25        10\n",
            "     10_2004       0.83      0.56      0.67        18\n",
            "     10_2005       0.59      0.54      0.57        24\n",
            "     10_2006       0.75      0.60      0.67        20\n",
            "     10_2007       0.77      0.63      0.69        27\n",
            "     10_2008       0.87      0.76      0.81        34\n",
            "     10_2009       0.73      0.80      0.77        41\n",
            "     10_2010       0.66      0.85      0.74        34\n",
            "     10_2011       0.95      1.00      0.97        35\n",
            "     10_2012       0.78      0.82      0.79        38\n",
            "     10_2013       0.67      0.61      0.63        33\n",
            "     10_2014       0.87      0.48      0.62        27\n",
            "     10_2015       0.78      0.83      0.81        35\n",
            "     10_2016       0.89      0.93      0.91        42\n",
            "     10_2017       0.95      0.70      0.81        30\n",
            "     10_2018       0.83      0.86      0.85        35\n",
            "     10_2019       0.80      0.90      0.85        49\n",
            "     11_1999       1.00      0.00      0.00         5\n",
            "     11_2000       0.57      0.40      0.47        10\n",
            "     11_2001       1.00      0.44      0.62         9\n",
            "     11_2002       0.86      0.40      0.55        15\n",
            "     11_2003       0.67      0.36      0.47        11\n",
            "     11_2004       0.50      0.22      0.31        18\n",
            "     11_2005       0.92      0.55      0.69        22\n",
            "     11_2006       0.48      0.62      0.54        21\n",
            "     11_2007       0.75      0.47      0.58        19\n",
            "     11_2008       0.92      0.72      0.81        32\n",
            "     11_2009       0.72      0.81      0.76        36\n",
            "     11_2010       0.83      0.86      0.84        28\n",
            "     11_2011       0.68      0.74      0.70        34\n",
            "     11_2012       0.73      0.88      0.80        41\n",
            "     11_2013       0.78      0.85      0.81        33\n",
            "     11_2014       0.71      0.54      0.61        28\n",
            "     11_2015       0.92      0.94      0.93        36\n",
            "     11_2016       0.85      0.98      0.91        48\n",
            "     11_2017       0.71      0.74      0.72        23\n",
            "     11_2018       0.74      0.48      0.58        29\n",
            "     11_2019       0.74      0.92      0.82        49\n",
            "     12_1999       0.50      0.22      0.31         9\n",
            "     12_2000       1.00      0.11      0.20         9\n",
            "     12_2001       0.67      0.22      0.33         9\n",
            "     12_2002       0.80      0.36      0.50        11\n",
            "     12_2003       0.71      0.38      0.50        13\n",
            "     12_2004       0.88      0.39      0.54        18\n",
            "     12_2005       0.71      0.63      0.67        19\n",
            "     12_2006       0.60      0.25      0.35        24\n",
            "     12_2007       0.75      0.71      0.73        17\n",
            "     12_2008       0.85      0.76      0.80        37\n",
            "     12_2009       0.67      0.82      0.74        34\n",
            "     12_2010       0.90      0.88      0.89        32\n",
            "     12_2011       0.97      0.85      0.91        34\n",
            "     12_2012       0.81      0.68      0.74        38\n",
            "     12_2013       0.88      0.85      0.87        34\n",
            "     12_2014       0.50      0.43      0.46        35\n",
            "     12_2015       0.71      0.82      0.76        39\n",
            "     12_2016       0.85      0.93      0.89        42\n",
            "     12_2017       0.78      0.84      0.81        25\n",
            "     12_2018       0.77      0.94      0.85        32\n",
            "     12_2019       0.89      0.96      0.92        51\n",
            "\n",
            "    accuracy                           0.72      6604\n",
            "   macro avg       0.69      0.63      0.63      6604\n",
            "weighted avg       0.73      0.72      0.71      6604\n",
            "\n"
          ],
          "name": "stdout"
        }
      ]
    },
    {
      "cell_type": "code",
      "metadata": {
        "id": "59A3JWWRSd_7"
      },
      "source": [
        "X_valid = np.array(X_valid)"
      ],
      "execution_count": null,
      "outputs": []
    },
    {
      "cell_type": "code",
      "metadata": {
        "id": "MZ-JgqnaSd_7",
        "outputId": "08f057c2-c0bc-4e20-8464-9fe4c1229c4b",
        "colab": {
          "referenced_widgets": [
            "e64e347850f34d90857e4f2229243dc8",
            ""
          ]
        }
      },
      "source": [
        "matrix = np.zeros((len(unique_modal), len(unique_modal)))\n",
        "\n",
        "for i in tqdm(range(len(matrix))):\n",
        "    for j in tqdm(range(len(matrix[i])), leave=False):\n",
        "        ret = scipy.spatial.distance.cdist(\n",
        "            X_valid[month_modal_valid==unique_modal[i].strftime('%m_%Y')],\n",
        "            X_valid[month_modal_valid==unique_modal[j].strftime('%m_%Y')])\n",
        "        matrix[i][j] = ret.mean()"
      ],
      "execution_count": null,
      "outputs": [
        {
          "output_type": "display_data",
          "data": {
            "application/vnd.jupyter.widget-view+json": {
              "model_id": "e64e347850f34d90857e4f2229243dc8",
              "version_major": 2,
              "version_minor": 0
            },
            "text/plain": [
              "HBox(children=(IntProgress(value=0, max=255), HTML(value='')))"
            ]
          },
          "metadata": {
            "tags": []
          }
        },
        {
          "output_type": "display_data",
          "data": {
            "application/vnd.jupyter.widget-view+json": {
              "model_id": "",
              "version_major": 2,
              "version_minor": 0
            },
            "text/plain": [
              "HBox(children=(IntProgress(value=0, max=255), HTML(value='')))"
            ]
          },
          "metadata": {
            "tags": []
          }
        },
        {
          "output_type": "stream",
          "text": [
            "/home/local/AP-TEAM/grabovoy/.local/lib/python3.7/site-packages/ipykernel_launcher.py:8: RuntimeWarning: Mean of empty slice.\n",
            "  \n",
            "/home/local/AP-TEAM/grabovoy/.local/lib/python3.7/site-packages/numpy/core/_methods.py:170: RuntimeWarning: invalid value encountered in double_scalars\n",
            "  ret = ret.dtype.type(ret / rcount)\n"
          ],
          "name": "stderr"
        },
        {
          "output_type": "display_data",
          "data": {
            "application/vnd.jupyter.widget-view+json": {
              "model_id": "",
              "version_major": 2,
              "version_minor": 0
            },
            "text/plain": [
              "HBox(children=(IntProgress(value=0, max=255), HTML(value='')))"
            ]
          },
          "metadata": {
            "tags": []
          }
        },
        {
          "output_type": "display_data",
          "data": {
            "application/vnd.jupyter.widget-view+json": {
              "model_id": "",
              "version_major": 2,
              "version_minor": 0
            },
            "text/plain": [
              "HBox(children=(IntProgress(value=0, max=255), HTML(value='')))"
            ]
          },
          "metadata": {
            "tags": []
          }
        },
        {
          "output_type": "display_data",
          "data": {
            "application/vnd.jupyter.widget-view+json": {
              "model_id": "",
              "version_major": 2,
              "version_minor": 0
            },
            "text/plain": [
              "HBox(children=(IntProgress(value=0, max=255), HTML(value='')))"
            ]
          },
          "metadata": {
            "tags": []
          }
        },
        {
          "output_type": "display_data",
          "data": {
            "application/vnd.jupyter.widget-view+json": {
              "model_id": "",
              "version_major": 2,
              "version_minor": 0
            },
            "text/plain": [
              "HBox(children=(IntProgress(value=0, max=255), HTML(value='')))"
            ]
          },
          "metadata": {
            "tags": []
          }
        },
        {
          "output_type": "display_data",
          "data": {
            "application/vnd.jupyter.widget-view+json": {
              "model_id": "",
              "version_major": 2,
              "version_minor": 0
            },
            "text/plain": [
              "HBox(children=(IntProgress(value=0, max=255), HTML(value='')))"
            ]
          },
          "metadata": {
            "tags": []
          }
        },
        {
          "output_type": "display_data",
          "data": {
            "application/vnd.jupyter.widget-view+json": {
              "model_id": "",
              "version_major": 2,
              "version_minor": 0
            },
            "text/plain": [
              "HBox(children=(IntProgress(value=0, max=255), HTML(value='')))"
            ]
          },
          "metadata": {
            "tags": []
          }
        },
        {
          "output_type": "display_data",
          "data": {
            "application/vnd.jupyter.widget-view+json": {
              "model_id": "",
              "version_major": 2,
              "version_minor": 0
            },
            "text/plain": [
              "HBox(children=(IntProgress(value=0, max=255), HTML(value='')))"
            ]
          },
          "metadata": {
            "tags": []
          }
        },
        {
          "output_type": "display_data",
          "data": {
            "application/vnd.jupyter.widget-view+json": {
              "model_id": "",
              "version_major": 2,
              "version_minor": 0
            },
            "text/plain": [
              "HBox(children=(IntProgress(value=0, max=255), HTML(value='')))"
            ]
          },
          "metadata": {
            "tags": []
          }
        },
        {
          "output_type": "display_data",
          "data": {
            "application/vnd.jupyter.widget-view+json": {
              "model_id": "",
              "version_major": 2,
              "version_minor": 0
            },
            "text/plain": [
              "HBox(children=(IntProgress(value=0, max=255), HTML(value='')))"
            ]
          },
          "metadata": {
            "tags": []
          }
        },
        {
          "output_type": "display_data",
          "data": {
            "application/vnd.jupyter.widget-view+json": {
              "model_id": "",
              "version_major": 2,
              "version_minor": 0
            },
            "text/plain": [
              "HBox(children=(IntProgress(value=0, max=255), HTML(value='')))"
            ]
          },
          "metadata": {
            "tags": []
          }
        },
        {
          "output_type": "display_data",
          "data": {
            "application/vnd.jupyter.widget-view+json": {
              "model_id": "",
              "version_major": 2,
              "version_minor": 0
            },
            "text/plain": [
              "HBox(children=(IntProgress(value=0, max=255), HTML(value='')))"
            ]
          },
          "metadata": {
            "tags": []
          }
        },
        {
          "output_type": "display_data",
          "data": {
            "application/vnd.jupyter.widget-view+json": {
              "model_id": "",
              "version_major": 2,
              "version_minor": 0
            },
            "text/plain": [
              "HBox(children=(IntProgress(value=0, max=255), HTML(value='')))"
            ]
          },
          "metadata": {
            "tags": []
          }
        },
        {
          "output_type": "display_data",
          "data": {
            "application/vnd.jupyter.widget-view+json": {
              "model_id": "",
              "version_major": 2,
              "version_minor": 0
            },
            "text/plain": [
              "HBox(children=(IntProgress(value=0, max=255), HTML(value='')))"
            ]
          },
          "metadata": {
            "tags": []
          }
        },
        {
          "output_type": "display_data",
          "data": {
            "application/vnd.jupyter.widget-view+json": {
              "model_id": "",
              "version_major": 2,
              "version_minor": 0
            },
            "text/plain": [
              "HBox(children=(IntProgress(value=0, max=255), HTML(value='')))"
            ]
          },
          "metadata": {
            "tags": []
          }
        },
        {
          "output_type": "display_data",
          "data": {
            "application/vnd.jupyter.widget-view+json": {
              "model_id": "",
              "version_major": 2,
              "version_minor": 0
            },
            "text/plain": [
              "HBox(children=(IntProgress(value=0, max=255), HTML(value='')))"
            ]
          },
          "metadata": {
            "tags": []
          }
        },
        {
          "output_type": "display_data",
          "data": {
            "application/vnd.jupyter.widget-view+json": {
              "model_id": "",
              "version_major": 2,
              "version_minor": 0
            },
            "text/plain": [
              "HBox(children=(IntProgress(value=0, max=255), HTML(value='')))"
            ]
          },
          "metadata": {
            "tags": []
          }
        },
        {
          "output_type": "display_data",
          "data": {
            "application/vnd.jupyter.widget-view+json": {
              "model_id": "",
              "version_major": 2,
              "version_minor": 0
            },
            "text/plain": [
              "HBox(children=(IntProgress(value=0, max=255), HTML(value='')))"
            ]
          },
          "metadata": {
            "tags": []
          }
        },
        {
          "output_type": "display_data",
          "data": {
            "application/vnd.jupyter.widget-view+json": {
              "model_id": "",
              "version_major": 2,
              "version_minor": 0
            },
            "text/plain": [
              "HBox(children=(IntProgress(value=0, max=255), HTML(value='')))"
            ]
          },
          "metadata": {
            "tags": []
          }
        },
        {
          "output_type": "display_data",
          "data": {
            "application/vnd.jupyter.widget-view+json": {
              "model_id": "",
              "version_major": 2,
              "version_minor": 0
            },
            "text/plain": [
              "HBox(children=(IntProgress(value=0, max=255), HTML(value='')))"
            ]
          },
          "metadata": {
            "tags": []
          }
        },
        {
          "output_type": "display_data",
          "data": {
            "application/vnd.jupyter.widget-view+json": {
              "model_id": "",
              "version_major": 2,
              "version_minor": 0
            },
            "text/plain": [
              "HBox(children=(IntProgress(value=0, max=255), HTML(value='')))"
            ]
          },
          "metadata": {
            "tags": []
          }
        },
        {
          "output_type": "display_data",
          "data": {
            "application/vnd.jupyter.widget-view+json": {
              "model_id": "",
              "version_major": 2,
              "version_minor": 0
            },
            "text/plain": [
              "HBox(children=(IntProgress(value=0, max=255), HTML(value='')))"
            ]
          },
          "metadata": {
            "tags": []
          }
        },
        {
          "output_type": "display_data",
          "data": {
            "application/vnd.jupyter.widget-view+json": {
              "model_id": "",
              "version_major": 2,
              "version_minor": 0
            },
            "text/plain": [
              "HBox(children=(IntProgress(value=0, max=255), HTML(value='')))"
            ]
          },
          "metadata": {
            "tags": []
          }
        },
        {
          "output_type": "display_data",
          "data": {
            "application/vnd.jupyter.widget-view+json": {
              "model_id": "",
              "version_major": 2,
              "version_minor": 0
            },
            "text/plain": [
              "HBox(children=(IntProgress(value=0, max=255), HTML(value='')))"
            ]
          },
          "metadata": {
            "tags": []
          }
        },
        {
          "output_type": "display_data",
          "data": {
            "application/vnd.jupyter.widget-view+json": {
              "model_id": "",
              "version_major": 2,
              "version_minor": 0
            },
            "text/plain": [
              "HBox(children=(IntProgress(value=0, max=255), HTML(value='')))"
            ]
          },
          "metadata": {
            "tags": []
          }
        },
        {
          "output_type": "display_data",
          "data": {
            "application/vnd.jupyter.widget-view+json": {
              "model_id": "",
              "version_major": 2,
              "version_minor": 0
            },
            "text/plain": [
              "HBox(children=(IntProgress(value=0, max=255), HTML(value='')))"
            ]
          },
          "metadata": {
            "tags": []
          }
        },
        {
          "output_type": "display_data",
          "data": {
            "application/vnd.jupyter.widget-view+json": {
              "model_id": "",
              "version_major": 2,
              "version_minor": 0
            },
            "text/plain": [
              "HBox(children=(IntProgress(value=0, max=255), HTML(value='')))"
            ]
          },
          "metadata": {
            "tags": []
          }
        },
        {
          "output_type": "display_data",
          "data": {
            "application/vnd.jupyter.widget-view+json": {
              "model_id": "",
              "version_major": 2,
              "version_minor": 0
            },
            "text/plain": [
              "HBox(children=(IntProgress(value=0, max=255), HTML(value='')))"
            ]
          },
          "metadata": {
            "tags": []
          }
        },
        {
          "output_type": "display_data",
          "data": {
            "application/vnd.jupyter.widget-view+json": {
              "model_id": "",
              "version_major": 2,
              "version_minor": 0
            },
            "text/plain": [
              "HBox(children=(IntProgress(value=0, max=255), HTML(value='')))"
            ]
          },
          "metadata": {
            "tags": []
          }
        },
        {
          "output_type": "display_data",
          "data": {
            "application/vnd.jupyter.widget-view+json": {
              "model_id": "",
              "version_major": 2,
              "version_minor": 0
            },
            "text/plain": [
              "HBox(children=(IntProgress(value=0, max=255), HTML(value='')))"
            ]
          },
          "metadata": {
            "tags": []
          }
        },
        {
          "output_type": "display_data",
          "data": {
            "application/vnd.jupyter.widget-view+json": {
              "model_id": "",
              "version_major": 2,
              "version_minor": 0
            },
            "text/plain": [
              "HBox(children=(IntProgress(value=0, max=255), HTML(value='')))"
            ]
          },
          "metadata": {
            "tags": []
          }
        },
        {
          "output_type": "display_data",
          "data": {
            "application/vnd.jupyter.widget-view+json": {
              "model_id": "",
              "version_major": 2,
              "version_minor": 0
            },
            "text/plain": [
              "HBox(children=(IntProgress(value=0, max=255), HTML(value='')))"
            ]
          },
          "metadata": {
            "tags": []
          }
        },
        {
          "output_type": "display_data",
          "data": {
            "application/vnd.jupyter.widget-view+json": {
              "model_id": "",
              "version_major": 2,
              "version_minor": 0
            },
            "text/plain": [
              "HBox(children=(IntProgress(value=0, max=255), HTML(value='')))"
            ]
          },
          "metadata": {
            "tags": []
          }
        },
        {
          "output_type": "display_data",
          "data": {
            "application/vnd.jupyter.widget-view+json": {
              "model_id": "",
              "version_major": 2,
              "version_minor": 0
            },
            "text/plain": [
              "HBox(children=(IntProgress(value=0, max=255), HTML(value='')))"
            ]
          },
          "metadata": {
            "tags": []
          }
        },
        {
          "output_type": "display_data",
          "data": {
            "application/vnd.jupyter.widget-view+json": {
              "model_id": "",
              "version_major": 2,
              "version_minor": 0
            },
            "text/plain": [
              "HBox(children=(IntProgress(value=0, max=255), HTML(value='')))"
            ]
          },
          "metadata": {
            "tags": []
          }
        },
        {
          "output_type": "display_data",
          "data": {
            "application/vnd.jupyter.widget-view+json": {
              "model_id": "",
              "version_major": 2,
              "version_minor": 0
            },
            "text/plain": [
              "HBox(children=(IntProgress(value=0, max=255), HTML(value='')))"
            ]
          },
          "metadata": {
            "tags": []
          }
        },
        {
          "output_type": "display_data",
          "data": {
            "application/vnd.jupyter.widget-view+json": {
              "model_id": "",
              "version_major": 2,
              "version_minor": 0
            },
            "text/plain": [
              "HBox(children=(IntProgress(value=0, max=255), HTML(value='')))"
            ]
          },
          "metadata": {
            "tags": []
          }
        },
        {
          "output_type": "display_data",
          "data": {
            "application/vnd.jupyter.widget-view+json": {
              "model_id": "",
              "version_major": 2,
              "version_minor": 0
            },
            "text/plain": [
              "HBox(children=(IntProgress(value=0, max=255), HTML(value='')))"
            ]
          },
          "metadata": {
            "tags": []
          }
        },
        {
          "output_type": "display_data",
          "data": {
            "application/vnd.jupyter.widget-view+json": {
              "model_id": "",
              "version_major": 2,
              "version_minor": 0
            },
            "text/plain": [
              "HBox(children=(IntProgress(value=0, max=255), HTML(value='')))"
            ]
          },
          "metadata": {
            "tags": []
          }
        },
        {
          "output_type": "display_data",
          "data": {
            "application/vnd.jupyter.widget-view+json": {
              "model_id": "",
              "version_major": 2,
              "version_minor": 0
            },
            "text/plain": [
              "HBox(children=(IntProgress(value=0, max=255), HTML(value='')))"
            ]
          },
          "metadata": {
            "tags": []
          }
        },
        {
          "output_type": "display_data",
          "data": {
            "application/vnd.jupyter.widget-view+json": {
              "model_id": "",
              "version_major": 2,
              "version_minor": 0
            },
            "text/plain": [
              "HBox(children=(IntProgress(value=0, max=255), HTML(value='')))"
            ]
          },
          "metadata": {
            "tags": []
          }
        },
        {
          "output_type": "display_data",
          "data": {
            "application/vnd.jupyter.widget-view+json": {
              "model_id": "",
              "version_major": 2,
              "version_minor": 0
            },
            "text/plain": [
              "HBox(children=(IntProgress(value=0, max=255), HTML(value='')))"
            ]
          },
          "metadata": {
            "tags": []
          }
        },
        {
          "output_type": "display_data",
          "data": {
            "application/vnd.jupyter.widget-view+json": {
              "model_id": "",
              "version_major": 2,
              "version_minor": 0
            },
            "text/plain": [
              "HBox(children=(IntProgress(value=0, max=255), HTML(value='')))"
            ]
          },
          "metadata": {
            "tags": []
          }
        },
        {
          "output_type": "display_data",
          "data": {
            "application/vnd.jupyter.widget-view+json": {
              "model_id": "",
              "version_major": 2,
              "version_minor": 0
            },
            "text/plain": [
              "HBox(children=(IntProgress(value=0, max=255), HTML(value='')))"
            ]
          },
          "metadata": {
            "tags": []
          }
        },
        {
          "output_type": "display_data",
          "data": {
            "application/vnd.jupyter.widget-view+json": {
              "model_id": "",
              "version_major": 2,
              "version_minor": 0
            },
            "text/plain": [
              "HBox(children=(IntProgress(value=0, max=255), HTML(value='')))"
            ]
          },
          "metadata": {
            "tags": []
          }
        },
        {
          "output_type": "display_data",
          "data": {
            "application/vnd.jupyter.widget-view+json": {
              "model_id": "",
              "version_major": 2,
              "version_minor": 0
            },
            "text/plain": [
              "HBox(children=(IntProgress(value=0, max=255), HTML(value='')))"
            ]
          },
          "metadata": {
            "tags": []
          }
        },
        {
          "output_type": "display_data",
          "data": {
            "application/vnd.jupyter.widget-view+json": {
              "model_id": "",
              "version_major": 2,
              "version_minor": 0
            },
            "text/plain": [
              "HBox(children=(IntProgress(value=0, max=255), HTML(value='')))"
            ]
          },
          "metadata": {
            "tags": []
          }
        },
        {
          "output_type": "display_data",
          "data": {
            "application/vnd.jupyter.widget-view+json": {
              "model_id": "",
              "version_major": 2,
              "version_minor": 0
            },
            "text/plain": [
              "HBox(children=(IntProgress(value=0, max=255), HTML(value='')))"
            ]
          },
          "metadata": {
            "tags": []
          }
        },
        {
          "output_type": "display_data",
          "data": {
            "application/vnd.jupyter.widget-view+json": {
              "model_id": "",
              "version_major": 2,
              "version_minor": 0
            },
            "text/plain": [
              "HBox(children=(IntProgress(value=0, max=255), HTML(value='')))"
            ]
          },
          "metadata": {
            "tags": []
          }
        },
        {
          "output_type": "display_data",
          "data": {
            "application/vnd.jupyter.widget-view+json": {
              "model_id": "",
              "version_major": 2,
              "version_minor": 0
            },
            "text/plain": [
              "HBox(children=(IntProgress(value=0, max=255), HTML(value='')))"
            ]
          },
          "metadata": {
            "tags": []
          }
        },
        {
          "output_type": "display_data",
          "data": {
            "application/vnd.jupyter.widget-view+json": {
              "model_id": "",
              "version_major": 2,
              "version_minor": 0
            },
            "text/plain": [
              "HBox(children=(IntProgress(value=0, max=255), HTML(value='')))"
            ]
          },
          "metadata": {
            "tags": []
          }
        },
        {
          "output_type": "display_data",
          "data": {
            "application/vnd.jupyter.widget-view+json": {
              "model_id": "",
              "version_major": 2,
              "version_minor": 0
            },
            "text/plain": [
              "HBox(children=(IntProgress(value=0, max=255), HTML(value='')))"
            ]
          },
          "metadata": {
            "tags": []
          }
        },
        {
          "output_type": "display_data",
          "data": {
            "application/vnd.jupyter.widget-view+json": {
              "model_id": "",
              "version_major": 2,
              "version_minor": 0
            },
            "text/plain": [
              "HBox(children=(IntProgress(value=0, max=255), HTML(value='')))"
            ]
          },
          "metadata": {
            "tags": []
          }
        },
        {
          "output_type": "display_data",
          "data": {
            "application/vnd.jupyter.widget-view+json": {
              "model_id": "",
              "version_major": 2,
              "version_minor": 0
            },
            "text/plain": [
              "HBox(children=(IntProgress(value=0, max=255), HTML(value='')))"
            ]
          },
          "metadata": {
            "tags": []
          }
        },
        {
          "output_type": "display_data",
          "data": {
            "application/vnd.jupyter.widget-view+json": {
              "model_id": "",
              "version_major": 2,
              "version_minor": 0
            },
            "text/plain": [
              "HBox(children=(IntProgress(value=0, max=255), HTML(value='')))"
            ]
          },
          "metadata": {
            "tags": []
          }
        },
        {
          "output_type": "display_data",
          "data": {
            "application/vnd.jupyter.widget-view+json": {
              "model_id": "",
              "version_major": 2,
              "version_minor": 0
            },
            "text/plain": [
              "HBox(children=(IntProgress(value=0, max=255), HTML(value='')))"
            ]
          },
          "metadata": {
            "tags": []
          }
        },
        {
          "output_type": "display_data",
          "data": {
            "application/vnd.jupyter.widget-view+json": {
              "model_id": "",
              "version_major": 2,
              "version_minor": 0
            },
            "text/plain": [
              "HBox(children=(IntProgress(value=0, max=255), HTML(value='')))"
            ]
          },
          "metadata": {
            "tags": []
          }
        },
        {
          "output_type": "display_data",
          "data": {
            "application/vnd.jupyter.widget-view+json": {
              "model_id": "",
              "version_major": 2,
              "version_minor": 0
            },
            "text/plain": [
              "HBox(children=(IntProgress(value=0, max=255), HTML(value='')))"
            ]
          },
          "metadata": {
            "tags": []
          }
        },
        {
          "output_type": "display_data",
          "data": {
            "application/vnd.jupyter.widget-view+json": {
              "model_id": "",
              "version_major": 2,
              "version_minor": 0
            },
            "text/plain": [
              "HBox(children=(IntProgress(value=0, max=255), HTML(value='')))"
            ]
          },
          "metadata": {
            "tags": []
          }
        },
        {
          "output_type": "display_data",
          "data": {
            "application/vnd.jupyter.widget-view+json": {
              "model_id": "",
              "version_major": 2,
              "version_minor": 0
            },
            "text/plain": [
              "HBox(children=(IntProgress(value=0, max=255), HTML(value='')))"
            ]
          },
          "metadata": {
            "tags": []
          }
        },
        {
          "output_type": "display_data",
          "data": {
            "application/vnd.jupyter.widget-view+json": {
              "model_id": "",
              "version_major": 2,
              "version_minor": 0
            },
            "text/plain": [
              "HBox(children=(IntProgress(value=0, max=255), HTML(value='')))"
            ]
          },
          "metadata": {
            "tags": []
          }
        },
        {
          "output_type": "display_data",
          "data": {
            "application/vnd.jupyter.widget-view+json": {
              "model_id": "",
              "version_major": 2,
              "version_minor": 0
            },
            "text/plain": [
              "HBox(children=(IntProgress(value=0, max=255), HTML(value='')))"
            ]
          },
          "metadata": {
            "tags": []
          }
        },
        {
          "output_type": "display_data",
          "data": {
            "application/vnd.jupyter.widget-view+json": {
              "model_id": "",
              "version_major": 2,
              "version_minor": 0
            },
            "text/plain": [
              "HBox(children=(IntProgress(value=0, max=255), HTML(value='')))"
            ]
          },
          "metadata": {
            "tags": []
          }
        },
        {
          "output_type": "display_data",
          "data": {
            "application/vnd.jupyter.widget-view+json": {
              "model_id": "",
              "version_major": 2,
              "version_minor": 0
            },
            "text/plain": [
              "HBox(children=(IntProgress(value=0, max=255), HTML(value='')))"
            ]
          },
          "metadata": {
            "tags": []
          }
        },
        {
          "output_type": "display_data",
          "data": {
            "application/vnd.jupyter.widget-view+json": {
              "model_id": "",
              "version_major": 2,
              "version_minor": 0
            },
            "text/plain": [
              "HBox(children=(IntProgress(value=0, max=255), HTML(value='')))"
            ]
          },
          "metadata": {
            "tags": []
          }
        },
        {
          "output_type": "display_data",
          "data": {
            "application/vnd.jupyter.widget-view+json": {
              "model_id": "",
              "version_major": 2,
              "version_minor": 0
            },
            "text/plain": [
              "HBox(children=(IntProgress(value=0, max=255), HTML(value='')))"
            ]
          },
          "metadata": {
            "tags": []
          }
        },
        {
          "output_type": "display_data",
          "data": {
            "application/vnd.jupyter.widget-view+json": {
              "model_id": "",
              "version_major": 2,
              "version_minor": 0
            },
            "text/plain": [
              "HBox(children=(IntProgress(value=0, max=255), HTML(value='')))"
            ]
          },
          "metadata": {
            "tags": []
          }
        },
        {
          "output_type": "display_data",
          "data": {
            "application/vnd.jupyter.widget-view+json": {
              "model_id": "",
              "version_major": 2,
              "version_minor": 0
            },
            "text/plain": [
              "HBox(children=(IntProgress(value=0, max=255), HTML(value='')))"
            ]
          },
          "metadata": {
            "tags": []
          }
        },
        {
          "output_type": "display_data",
          "data": {
            "application/vnd.jupyter.widget-view+json": {
              "model_id": "",
              "version_major": 2,
              "version_minor": 0
            },
            "text/plain": [
              "HBox(children=(IntProgress(value=0, max=255), HTML(value='')))"
            ]
          },
          "metadata": {
            "tags": []
          }
        },
        {
          "output_type": "display_data",
          "data": {
            "application/vnd.jupyter.widget-view+json": {
              "model_id": "",
              "version_major": 2,
              "version_minor": 0
            },
            "text/plain": [
              "HBox(children=(IntProgress(value=0, max=255), HTML(value='')))"
            ]
          },
          "metadata": {
            "tags": []
          }
        },
        {
          "output_type": "display_data",
          "data": {
            "application/vnd.jupyter.widget-view+json": {
              "model_id": "",
              "version_major": 2,
              "version_minor": 0
            },
            "text/plain": [
              "HBox(children=(IntProgress(value=0, max=255), HTML(value='')))"
            ]
          },
          "metadata": {
            "tags": []
          }
        },
        {
          "output_type": "display_data",
          "data": {
            "application/vnd.jupyter.widget-view+json": {
              "model_id": "",
              "version_major": 2,
              "version_minor": 0
            },
            "text/plain": [
              "HBox(children=(IntProgress(value=0, max=255), HTML(value='')))"
            ]
          },
          "metadata": {
            "tags": []
          }
        },
        {
          "output_type": "display_data",
          "data": {
            "application/vnd.jupyter.widget-view+json": {
              "model_id": "",
              "version_major": 2,
              "version_minor": 0
            },
            "text/plain": [
              "HBox(children=(IntProgress(value=0, max=255), HTML(value='')))"
            ]
          },
          "metadata": {
            "tags": []
          }
        },
        {
          "output_type": "display_data",
          "data": {
            "application/vnd.jupyter.widget-view+json": {
              "model_id": "",
              "version_major": 2,
              "version_minor": 0
            },
            "text/plain": [
              "HBox(children=(IntProgress(value=0, max=255), HTML(value='')))"
            ]
          },
          "metadata": {
            "tags": []
          }
        },
        {
          "output_type": "display_data",
          "data": {
            "application/vnd.jupyter.widget-view+json": {
              "model_id": "",
              "version_major": 2,
              "version_minor": 0
            },
            "text/plain": [
              "HBox(children=(IntProgress(value=0, max=255), HTML(value='')))"
            ]
          },
          "metadata": {
            "tags": []
          }
        },
        {
          "output_type": "display_data",
          "data": {
            "application/vnd.jupyter.widget-view+json": {
              "model_id": "",
              "version_major": 2,
              "version_minor": 0
            },
            "text/plain": [
              "HBox(children=(IntProgress(value=0, max=255), HTML(value='')))"
            ]
          },
          "metadata": {
            "tags": []
          }
        },
        {
          "output_type": "display_data",
          "data": {
            "application/vnd.jupyter.widget-view+json": {
              "model_id": "",
              "version_major": 2,
              "version_minor": 0
            },
            "text/plain": [
              "HBox(children=(IntProgress(value=0, max=255), HTML(value='')))"
            ]
          },
          "metadata": {
            "tags": []
          }
        },
        {
          "output_type": "display_data",
          "data": {
            "application/vnd.jupyter.widget-view+json": {
              "model_id": "",
              "version_major": 2,
              "version_minor": 0
            },
            "text/plain": [
              "HBox(children=(IntProgress(value=0, max=255), HTML(value='')))"
            ]
          },
          "metadata": {
            "tags": []
          }
        },
        {
          "output_type": "display_data",
          "data": {
            "application/vnd.jupyter.widget-view+json": {
              "model_id": "",
              "version_major": 2,
              "version_minor": 0
            },
            "text/plain": [
              "HBox(children=(IntProgress(value=0, max=255), HTML(value='')))"
            ]
          },
          "metadata": {
            "tags": []
          }
        },
        {
          "output_type": "display_data",
          "data": {
            "application/vnd.jupyter.widget-view+json": {
              "model_id": "",
              "version_major": 2,
              "version_minor": 0
            },
            "text/plain": [
              "HBox(children=(IntProgress(value=0, max=255), HTML(value='')))"
            ]
          },
          "metadata": {
            "tags": []
          }
        },
        {
          "output_type": "display_data",
          "data": {
            "application/vnd.jupyter.widget-view+json": {
              "model_id": "",
              "version_major": 2,
              "version_minor": 0
            },
            "text/plain": [
              "HBox(children=(IntProgress(value=0, max=255), HTML(value='')))"
            ]
          },
          "metadata": {
            "tags": []
          }
        },
        {
          "output_type": "display_data",
          "data": {
            "application/vnd.jupyter.widget-view+json": {
              "model_id": "",
              "version_major": 2,
              "version_minor": 0
            },
            "text/plain": [
              "HBox(children=(IntProgress(value=0, max=255), HTML(value='')))"
            ]
          },
          "metadata": {
            "tags": []
          }
        },
        {
          "output_type": "display_data",
          "data": {
            "application/vnd.jupyter.widget-view+json": {
              "model_id": "",
              "version_major": 2,
              "version_minor": 0
            },
            "text/plain": [
              "HBox(children=(IntProgress(value=0, max=255), HTML(value='')))"
            ]
          },
          "metadata": {
            "tags": []
          }
        },
        {
          "output_type": "display_data",
          "data": {
            "application/vnd.jupyter.widget-view+json": {
              "model_id": "",
              "version_major": 2,
              "version_minor": 0
            },
            "text/plain": [
              "HBox(children=(IntProgress(value=0, max=255), HTML(value='')))"
            ]
          },
          "metadata": {
            "tags": []
          }
        },
        {
          "output_type": "display_data",
          "data": {
            "application/vnd.jupyter.widget-view+json": {
              "model_id": "",
              "version_major": 2,
              "version_minor": 0
            },
            "text/plain": [
              "HBox(children=(IntProgress(value=0, max=255), HTML(value='')))"
            ]
          },
          "metadata": {
            "tags": []
          }
        },
        {
          "output_type": "display_data",
          "data": {
            "application/vnd.jupyter.widget-view+json": {
              "model_id": "",
              "version_major": 2,
              "version_minor": 0
            },
            "text/plain": [
              "HBox(children=(IntProgress(value=0, max=255), HTML(value='')))"
            ]
          },
          "metadata": {
            "tags": []
          }
        },
        {
          "output_type": "display_data",
          "data": {
            "application/vnd.jupyter.widget-view+json": {
              "model_id": "",
              "version_major": 2,
              "version_minor": 0
            },
            "text/plain": [
              "HBox(children=(IntProgress(value=0, max=255), HTML(value='')))"
            ]
          },
          "metadata": {
            "tags": []
          }
        },
        {
          "output_type": "display_data",
          "data": {
            "application/vnd.jupyter.widget-view+json": {
              "model_id": "",
              "version_major": 2,
              "version_minor": 0
            },
            "text/plain": [
              "HBox(children=(IntProgress(value=0, max=255), HTML(value='')))"
            ]
          },
          "metadata": {
            "tags": []
          }
        },
        {
          "output_type": "display_data",
          "data": {
            "application/vnd.jupyter.widget-view+json": {
              "model_id": "",
              "version_major": 2,
              "version_minor": 0
            },
            "text/plain": [
              "HBox(children=(IntProgress(value=0, max=255), HTML(value='')))"
            ]
          },
          "metadata": {
            "tags": []
          }
        },
        {
          "output_type": "display_data",
          "data": {
            "application/vnd.jupyter.widget-view+json": {
              "model_id": "",
              "version_major": 2,
              "version_minor": 0
            },
            "text/plain": [
              "HBox(children=(IntProgress(value=0, max=255), HTML(value='')))"
            ]
          },
          "metadata": {
            "tags": []
          }
        },
        {
          "output_type": "display_data",
          "data": {
            "application/vnd.jupyter.widget-view+json": {
              "model_id": "",
              "version_major": 2,
              "version_minor": 0
            },
            "text/plain": [
              "HBox(children=(IntProgress(value=0, max=255), HTML(value='')))"
            ]
          },
          "metadata": {
            "tags": []
          }
        },
        {
          "output_type": "display_data",
          "data": {
            "application/vnd.jupyter.widget-view+json": {
              "model_id": "",
              "version_major": 2,
              "version_minor": 0
            },
            "text/plain": [
              "HBox(children=(IntProgress(value=0, max=255), HTML(value='')))"
            ]
          },
          "metadata": {
            "tags": []
          }
        },
        {
          "output_type": "display_data",
          "data": {
            "application/vnd.jupyter.widget-view+json": {
              "model_id": "",
              "version_major": 2,
              "version_minor": 0
            },
            "text/plain": [
              "HBox(children=(IntProgress(value=0, max=255), HTML(value='')))"
            ]
          },
          "metadata": {
            "tags": []
          }
        },
        {
          "output_type": "display_data",
          "data": {
            "application/vnd.jupyter.widget-view+json": {
              "model_id": "",
              "version_major": 2,
              "version_minor": 0
            },
            "text/plain": [
              "HBox(children=(IntProgress(value=0, max=255), HTML(value='')))"
            ]
          },
          "metadata": {
            "tags": []
          }
        },
        {
          "output_type": "display_data",
          "data": {
            "application/vnd.jupyter.widget-view+json": {
              "model_id": "",
              "version_major": 2,
              "version_minor": 0
            },
            "text/plain": [
              "HBox(children=(IntProgress(value=0, max=255), HTML(value='')))"
            ]
          },
          "metadata": {
            "tags": []
          }
        },
        {
          "output_type": "display_data",
          "data": {
            "application/vnd.jupyter.widget-view+json": {
              "model_id": "",
              "version_major": 2,
              "version_minor": 0
            },
            "text/plain": [
              "HBox(children=(IntProgress(value=0, max=255), HTML(value='')))"
            ]
          },
          "metadata": {
            "tags": []
          }
        },
        {
          "output_type": "display_data",
          "data": {
            "application/vnd.jupyter.widget-view+json": {
              "model_id": "",
              "version_major": 2,
              "version_minor": 0
            },
            "text/plain": [
              "HBox(children=(IntProgress(value=0, max=255), HTML(value='')))"
            ]
          },
          "metadata": {
            "tags": []
          }
        },
        {
          "output_type": "display_data",
          "data": {
            "application/vnd.jupyter.widget-view+json": {
              "model_id": "",
              "version_major": 2,
              "version_minor": 0
            },
            "text/plain": [
              "HBox(children=(IntProgress(value=0, max=255), HTML(value='')))"
            ]
          },
          "metadata": {
            "tags": []
          }
        },
        {
          "output_type": "display_data",
          "data": {
            "application/vnd.jupyter.widget-view+json": {
              "model_id": "",
              "version_major": 2,
              "version_minor": 0
            },
            "text/plain": [
              "HBox(children=(IntProgress(value=0, max=255), HTML(value='')))"
            ]
          },
          "metadata": {
            "tags": []
          }
        },
        {
          "output_type": "display_data",
          "data": {
            "application/vnd.jupyter.widget-view+json": {
              "model_id": "",
              "version_major": 2,
              "version_minor": 0
            },
            "text/plain": [
              "HBox(children=(IntProgress(value=0, max=255), HTML(value='')))"
            ]
          },
          "metadata": {
            "tags": []
          }
        },
        {
          "output_type": "display_data",
          "data": {
            "application/vnd.jupyter.widget-view+json": {
              "model_id": "",
              "version_major": 2,
              "version_minor": 0
            },
            "text/plain": [
              "HBox(children=(IntProgress(value=0, max=255), HTML(value='')))"
            ]
          },
          "metadata": {
            "tags": []
          }
        },
        {
          "output_type": "display_data",
          "data": {
            "application/vnd.jupyter.widget-view+json": {
              "model_id": "",
              "version_major": 2,
              "version_minor": 0
            },
            "text/plain": [
              "HBox(children=(IntProgress(value=0, max=255), HTML(value='')))"
            ]
          },
          "metadata": {
            "tags": []
          }
        },
        {
          "output_type": "display_data",
          "data": {
            "application/vnd.jupyter.widget-view+json": {
              "model_id": "",
              "version_major": 2,
              "version_minor": 0
            },
            "text/plain": [
              "HBox(children=(IntProgress(value=0, max=255), HTML(value='')))"
            ]
          },
          "metadata": {
            "tags": []
          }
        },
        {
          "output_type": "display_data",
          "data": {
            "application/vnd.jupyter.widget-view+json": {
              "model_id": "",
              "version_major": 2,
              "version_minor": 0
            },
            "text/plain": [
              "HBox(children=(IntProgress(value=0, max=255), HTML(value='')))"
            ]
          },
          "metadata": {
            "tags": []
          }
        },
        {
          "output_type": "display_data",
          "data": {
            "application/vnd.jupyter.widget-view+json": {
              "model_id": "",
              "version_major": 2,
              "version_minor": 0
            },
            "text/plain": [
              "HBox(children=(IntProgress(value=0, max=255), HTML(value='')))"
            ]
          },
          "metadata": {
            "tags": []
          }
        },
        {
          "output_type": "display_data",
          "data": {
            "application/vnd.jupyter.widget-view+json": {
              "model_id": "",
              "version_major": 2,
              "version_minor": 0
            },
            "text/plain": [
              "HBox(children=(IntProgress(value=0, max=255), HTML(value='')))"
            ]
          },
          "metadata": {
            "tags": []
          }
        },
        {
          "output_type": "display_data",
          "data": {
            "application/vnd.jupyter.widget-view+json": {
              "model_id": "",
              "version_major": 2,
              "version_minor": 0
            },
            "text/plain": [
              "HBox(children=(IntProgress(value=0, max=255), HTML(value='')))"
            ]
          },
          "metadata": {
            "tags": []
          }
        },
        {
          "output_type": "display_data",
          "data": {
            "application/vnd.jupyter.widget-view+json": {
              "model_id": "",
              "version_major": 2,
              "version_minor": 0
            },
            "text/plain": [
              "HBox(children=(IntProgress(value=0, max=255), HTML(value='')))"
            ]
          },
          "metadata": {
            "tags": []
          }
        },
        {
          "output_type": "display_data",
          "data": {
            "application/vnd.jupyter.widget-view+json": {
              "model_id": "",
              "version_major": 2,
              "version_minor": 0
            },
            "text/plain": [
              "HBox(children=(IntProgress(value=0, max=255), HTML(value='')))"
            ]
          },
          "metadata": {
            "tags": []
          }
        },
        {
          "output_type": "display_data",
          "data": {
            "application/vnd.jupyter.widget-view+json": {
              "model_id": "",
              "version_major": 2,
              "version_minor": 0
            },
            "text/plain": [
              "HBox(children=(IntProgress(value=0, max=255), HTML(value='')))"
            ]
          },
          "metadata": {
            "tags": []
          }
        },
        {
          "output_type": "display_data",
          "data": {
            "application/vnd.jupyter.widget-view+json": {
              "model_id": "",
              "version_major": 2,
              "version_minor": 0
            },
            "text/plain": [
              "HBox(children=(IntProgress(value=0, max=255), HTML(value='')))"
            ]
          },
          "metadata": {
            "tags": []
          }
        },
        {
          "output_type": "display_data",
          "data": {
            "application/vnd.jupyter.widget-view+json": {
              "model_id": "",
              "version_major": 2,
              "version_minor": 0
            },
            "text/plain": [
              "HBox(children=(IntProgress(value=0, max=255), HTML(value='')))"
            ]
          },
          "metadata": {
            "tags": []
          }
        },
        {
          "output_type": "display_data",
          "data": {
            "application/vnd.jupyter.widget-view+json": {
              "model_id": "",
              "version_major": 2,
              "version_minor": 0
            },
            "text/plain": [
              "HBox(children=(IntProgress(value=0, max=255), HTML(value='')))"
            ]
          },
          "metadata": {
            "tags": []
          }
        },
        {
          "output_type": "display_data",
          "data": {
            "application/vnd.jupyter.widget-view+json": {
              "model_id": "",
              "version_major": 2,
              "version_minor": 0
            },
            "text/plain": [
              "HBox(children=(IntProgress(value=0, max=255), HTML(value='')))"
            ]
          },
          "metadata": {
            "tags": []
          }
        },
        {
          "output_type": "display_data",
          "data": {
            "application/vnd.jupyter.widget-view+json": {
              "model_id": "",
              "version_major": 2,
              "version_minor": 0
            },
            "text/plain": [
              "HBox(children=(IntProgress(value=0, max=255), HTML(value='')))"
            ]
          },
          "metadata": {
            "tags": []
          }
        },
        {
          "output_type": "display_data",
          "data": {
            "application/vnd.jupyter.widget-view+json": {
              "model_id": "",
              "version_major": 2,
              "version_minor": 0
            },
            "text/plain": [
              "HBox(children=(IntProgress(value=0, max=255), HTML(value='')))"
            ]
          },
          "metadata": {
            "tags": []
          }
        },
        {
          "output_type": "display_data",
          "data": {
            "application/vnd.jupyter.widget-view+json": {
              "model_id": "",
              "version_major": 2,
              "version_minor": 0
            },
            "text/plain": [
              "HBox(children=(IntProgress(value=0, max=255), HTML(value='')))"
            ]
          },
          "metadata": {
            "tags": []
          }
        },
        {
          "output_type": "display_data",
          "data": {
            "application/vnd.jupyter.widget-view+json": {
              "model_id": "",
              "version_major": 2,
              "version_minor": 0
            },
            "text/plain": [
              "HBox(children=(IntProgress(value=0, max=255), HTML(value='')))"
            ]
          },
          "metadata": {
            "tags": []
          }
        },
        {
          "output_type": "display_data",
          "data": {
            "application/vnd.jupyter.widget-view+json": {
              "model_id": "",
              "version_major": 2,
              "version_minor": 0
            },
            "text/plain": [
              "HBox(children=(IntProgress(value=0, max=255), HTML(value='')))"
            ]
          },
          "metadata": {
            "tags": []
          }
        },
        {
          "output_type": "display_data",
          "data": {
            "application/vnd.jupyter.widget-view+json": {
              "model_id": "",
              "version_major": 2,
              "version_minor": 0
            },
            "text/plain": [
              "HBox(children=(IntProgress(value=0, max=255), HTML(value='')))"
            ]
          },
          "metadata": {
            "tags": []
          }
        },
        {
          "output_type": "display_data",
          "data": {
            "application/vnd.jupyter.widget-view+json": {
              "model_id": "",
              "version_major": 2,
              "version_minor": 0
            },
            "text/plain": [
              "HBox(children=(IntProgress(value=0, max=255), HTML(value='')))"
            ]
          },
          "metadata": {
            "tags": []
          }
        },
        {
          "output_type": "display_data",
          "data": {
            "application/vnd.jupyter.widget-view+json": {
              "model_id": "",
              "version_major": 2,
              "version_minor": 0
            },
            "text/plain": [
              "HBox(children=(IntProgress(value=0, max=255), HTML(value='')))"
            ]
          },
          "metadata": {
            "tags": []
          }
        },
        {
          "output_type": "display_data",
          "data": {
            "application/vnd.jupyter.widget-view+json": {
              "model_id": "",
              "version_major": 2,
              "version_minor": 0
            },
            "text/plain": [
              "HBox(children=(IntProgress(value=0, max=255), HTML(value='')))"
            ]
          },
          "metadata": {
            "tags": []
          }
        },
        {
          "output_type": "display_data",
          "data": {
            "application/vnd.jupyter.widget-view+json": {
              "model_id": "",
              "version_major": 2,
              "version_minor": 0
            },
            "text/plain": [
              "HBox(children=(IntProgress(value=0, max=255), HTML(value='')))"
            ]
          },
          "metadata": {
            "tags": []
          }
        },
        {
          "output_type": "display_data",
          "data": {
            "application/vnd.jupyter.widget-view+json": {
              "model_id": "",
              "version_major": 2,
              "version_minor": 0
            },
            "text/plain": [
              "HBox(children=(IntProgress(value=0, max=255), HTML(value='')))"
            ]
          },
          "metadata": {
            "tags": []
          }
        },
        {
          "output_type": "display_data",
          "data": {
            "application/vnd.jupyter.widget-view+json": {
              "model_id": "",
              "version_major": 2,
              "version_minor": 0
            },
            "text/plain": [
              "HBox(children=(IntProgress(value=0, max=255), HTML(value='')))"
            ]
          },
          "metadata": {
            "tags": []
          }
        },
        {
          "output_type": "display_data",
          "data": {
            "application/vnd.jupyter.widget-view+json": {
              "model_id": "",
              "version_major": 2,
              "version_minor": 0
            },
            "text/plain": [
              "HBox(children=(IntProgress(value=0, max=255), HTML(value='')))"
            ]
          },
          "metadata": {
            "tags": []
          }
        },
        {
          "output_type": "display_data",
          "data": {
            "application/vnd.jupyter.widget-view+json": {
              "model_id": "",
              "version_major": 2,
              "version_minor": 0
            },
            "text/plain": [
              "HBox(children=(IntProgress(value=0, max=255), HTML(value='')))"
            ]
          },
          "metadata": {
            "tags": []
          }
        },
        {
          "output_type": "display_data",
          "data": {
            "application/vnd.jupyter.widget-view+json": {
              "model_id": "",
              "version_major": 2,
              "version_minor": 0
            },
            "text/plain": [
              "HBox(children=(IntProgress(value=0, max=255), HTML(value='')))"
            ]
          },
          "metadata": {
            "tags": []
          }
        },
        {
          "output_type": "display_data",
          "data": {
            "application/vnd.jupyter.widget-view+json": {
              "model_id": "",
              "version_major": 2,
              "version_minor": 0
            },
            "text/plain": [
              "HBox(children=(IntProgress(value=0, max=255), HTML(value='')))"
            ]
          },
          "metadata": {
            "tags": []
          }
        },
        {
          "output_type": "display_data",
          "data": {
            "application/vnd.jupyter.widget-view+json": {
              "model_id": "",
              "version_major": 2,
              "version_minor": 0
            },
            "text/plain": [
              "HBox(children=(IntProgress(value=0, max=255), HTML(value='')))"
            ]
          },
          "metadata": {
            "tags": []
          }
        },
        {
          "output_type": "display_data",
          "data": {
            "application/vnd.jupyter.widget-view+json": {
              "model_id": "",
              "version_major": 2,
              "version_minor": 0
            },
            "text/plain": [
              "HBox(children=(IntProgress(value=0, max=255), HTML(value='')))"
            ]
          },
          "metadata": {
            "tags": []
          }
        },
        {
          "output_type": "display_data",
          "data": {
            "application/vnd.jupyter.widget-view+json": {
              "model_id": "",
              "version_major": 2,
              "version_minor": 0
            },
            "text/plain": [
              "HBox(children=(IntProgress(value=0, max=255), HTML(value='')))"
            ]
          },
          "metadata": {
            "tags": []
          }
        },
        {
          "output_type": "display_data",
          "data": {
            "application/vnd.jupyter.widget-view+json": {
              "model_id": "",
              "version_major": 2,
              "version_minor": 0
            },
            "text/plain": [
              "HBox(children=(IntProgress(value=0, max=255), HTML(value='')))"
            ]
          },
          "metadata": {
            "tags": []
          }
        },
        {
          "output_type": "display_data",
          "data": {
            "application/vnd.jupyter.widget-view+json": {
              "model_id": "",
              "version_major": 2,
              "version_minor": 0
            },
            "text/plain": [
              "HBox(children=(IntProgress(value=0, max=255), HTML(value='')))"
            ]
          },
          "metadata": {
            "tags": []
          }
        },
        {
          "output_type": "display_data",
          "data": {
            "application/vnd.jupyter.widget-view+json": {
              "model_id": "",
              "version_major": 2,
              "version_minor": 0
            },
            "text/plain": [
              "HBox(children=(IntProgress(value=0, max=255), HTML(value='')))"
            ]
          },
          "metadata": {
            "tags": []
          }
        },
        {
          "output_type": "display_data",
          "data": {
            "application/vnd.jupyter.widget-view+json": {
              "model_id": "",
              "version_major": 2,
              "version_minor": 0
            },
            "text/plain": [
              "HBox(children=(IntProgress(value=0, max=255), HTML(value='')))"
            ]
          },
          "metadata": {
            "tags": []
          }
        },
        {
          "output_type": "display_data",
          "data": {
            "application/vnd.jupyter.widget-view+json": {
              "model_id": "",
              "version_major": 2,
              "version_minor": 0
            },
            "text/plain": [
              "HBox(children=(IntProgress(value=0, max=255), HTML(value='')))"
            ]
          },
          "metadata": {
            "tags": []
          }
        },
        {
          "output_type": "display_data",
          "data": {
            "application/vnd.jupyter.widget-view+json": {
              "model_id": "",
              "version_major": 2,
              "version_minor": 0
            },
            "text/plain": [
              "HBox(children=(IntProgress(value=0, max=255), HTML(value='')))"
            ]
          },
          "metadata": {
            "tags": []
          }
        },
        {
          "output_type": "display_data",
          "data": {
            "application/vnd.jupyter.widget-view+json": {
              "model_id": "",
              "version_major": 2,
              "version_minor": 0
            },
            "text/plain": [
              "HBox(children=(IntProgress(value=0, max=255), HTML(value='')))"
            ]
          },
          "metadata": {
            "tags": []
          }
        },
        {
          "output_type": "display_data",
          "data": {
            "application/vnd.jupyter.widget-view+json": {
              "model_id": "",
              "version_major": 2,
              "version_minor": 0
            },
            "text/plain": [
              "HBox(children=(IntProgress(value=0, max=255), HTML(value='')))"
            ]
          },
          "metadata": {
            "tags": []
          }
        },
        {
          "output_type": "display_data",
          "data": {
            "application/vnd.jupyter.widget-view+json": {
              "model_id": "",
              "version_major": 2,
              "version_minor": 0
            },
            "text/plain": [
              "HBox(children=(IntProgress(value=0, max=255), HTML(value='')))"
            ]
          },
          "metadata": {
            "tags": []
          }
        },
        {
          "output_type": "display_data",
          "data": {
            "application/vnd.jupyter.widget-view+json": {
              "model_id": "",
              "version_major": 2,
              "version_minor": 0
            },
            "text/plain": [
              "HBox(children=(IntProgress(value=0, max=255), HTML(value='')))"
            ]
          },
          "metadata": {
            "tags": []
          }
        },
        {
          "output_type": "display_data",
          "data": {
            "application/vnd.jupyter.widget-view+json": {
              "model_id": "",
              "version_major": 2,
              "version_minor": 0
            },
            "text/plain": [
              "HBox(children=(IntProgress(value=0, max=255), HTML(value='')))"
            ]
          },
          "metadata": {
            "tags": []
          }
        },
        {
          "output_type": "display_data",
          "data": {
            "application/vnd.jupyter.widget-view+json": {
              "model_id": "",
              "version_major": 2,
              "version_minor": 0
            },
            "text/plain": [
              "HBox(children=(IntProgress(value=0, max=255), HTML(value='')))"
            ]
          },
          "metadata": {
            "tags": []
          }
        },
        {
          "output_type": "display_data",
          "data": {
            "application/vnd.jupyter.widget-view+json": {
              "model_id": "",
              "version_major": 2,
              "version_minor": 0
            },
            "text/plain": [
              "HBox(children=(IntProgress(value=0, max=255), HTML(value='')))"
            ]
          },
          "metadata": {
            "tags": []
          }
        },
        {
          "output_type": "display_data",
          "data": {
            "application/vnd.jupyter.widget-view+json": {
              "model_id": "",
              "version_major": 2,
              "version_minor": 0
            },
            "text/plain": [
              "HBox(children=(IntProgress(value=0, max=255), HTML(value='')))"
            ]
          },
          "metadata": {
            "tags": []
          }
        },
        {
          "output_type": "display_data",
          "data": {
            "application/vnd.jupyter.widget-view+json": {
              "model_id": "",
              "version_major": 2,
              "version_minor": 0
            },
            "text/plain": [
              "HBox(children=(IntProgress(value=0, max=255), HTML(value='')))"
            ]
          },
          "metadata": {
            "tags": []
          }
        },
        {
          "output_type": "display_data",
          "data": {
            "application/vnd.jupyter.widget-view+json": {
              "model_id": "",
              "version_major": 2,
              "version_minor": 0
            },
            "text/plain": [
              "HBox(children=(IntProgress(value=0, max=255), HTML(value='')))"
            ]
          },
          "metadata": {
            "tags": []
          }
        },
        {
          "output_type": "display_data",
          "data": {
            "application/vnd.jupyter.widget-view+json": {
              "model_id": "",
              "version_major": 2,
              "version_minor": 0
            },
            "text/plain": [
              "HBox(children=(IntProgress(value=0, max=255), HTML(value='')))"
            ]
          },
          "metadata": {
            "tags": []
          }
        },
        {
          "output_type": "display_data",
          "data": {
            "application/vnd.jupyter.widget-view+json": {
              "model_id": "",
              "version_major": 2,
              "version_minor": 0
            },
            "text/plain": [
              "HBox(children=(IntProgress(value=0, max=255), HTML(value='')))"
            ]
          },
          "metadata": {
            "tags": []
          }
        },
        {
          "output_type": "display_data",
          "data": {
            "application/vnd.jupyter.widget-view+json": {
              "model_id": "",
              "version_major": 2,
              "version_minor": 0
            },
            "text/plain": [
              "HBox(children=(IntProgress(value=0, max=255), HTML(value='')))"
            ]
          },
          "metadata": {
            "tags": []
          }
        },
        {
          "output_type": "display_data",
          "data": {
            "application/vnd.jupyter.widget-view+json": {
              "model_id": "",
              "version_major": 2,
              "version_minor": 0
            },
            "text/plain": [
              "HBox(children=(IntProgress(value=0, max=255), HTML(value='')))"
            ]
          },
          "metadata": {
            "tags": []
          }
        },
        {
          "output_type": "display_data",
          "data": {
            "application/vnd.jupyter.widget-view+json": {
              "model_id": "",
              "version_major": 2,
              "version_minor": 0
            },
            "text/plain": [
              "HBox(children=(IntProgress(value=0, max=255), HTML(value='')))"
            ]
          },
          "metadata": {
            "tags": []
          }
        },
        {
          "output_type": "display_data",
          "data": {
            "application/vnd.jupyter.widget-view+json": {
              "model_id": "",
              "version_major": 2,
              "version_minor": 0
            },
            "text/plain": [
              "HBox(children=(IntProgress(value=0, max=255), HTML(value='')))"
            ]
          },
          "metadata": {
            "tags": []
          }
        },
        {
          "output_type": "display_data",
          "data": {
            "application/vnd.jupyter.widget-view+json": {
              "model_id": "",
              "version_major": 2,
              "version_minor": 0
            },
            "text/plain": [
              "HBox(children=(IntProgress(value=0, max=255), HTML(value='')))"
            ]
          },
          "metadata": {
            "tags": []
          }
        },
        {
          "output_type": "display_data",
          "data": {
            "application/vnd.jupyter.widget-view+json": {
              "model_id": "",
              "version_major": 2,
              "version_minor": 0
            },
            "text/plain": [
              "HBox(children=(IntProgress(value=0, max=255), HTML(value='')))"
            ]
          },
          "metadata": {
            "tags": []
          }
        },
        {
          "output_type": "display_data",
          "data": {
            "application/vnd.jupyter.widget-view+json": {
              "model_id": "",
              "version_major": 2,
              "version_minor": 0
            },
            "text/plain": [
              "HBox(children=(IntProgress(value=0, max=255), HTML(value='')))"
            ]
          },
          "metadata": {
            "tags": []
          }
        },
        {
          "output_type": "display_data",
          "data": {
            "application/vnd.jupyter.widget-view+json": {
              "model_id": "",
              "version_major": 2,
              "version_minor": 0
            },
            "text/plain": [
              "HBox(children=(IntProgress(value=0, max=255), HTML(value='')))"
            ]
          },
          "metadata": {
            "tags": []
          }
        },
        {
          "output_type": "display_data",
          "data": {
            "application/vnd.jupyter.widget-view+json": {
              "model_id": "",
              "version_major": 2,
              "version_minor": 0
            },
            "text/plain": [
              "HBox(children=(IntProgress(value=0, max=255), HTML(value='')))"
            ]
          },
          "metadata": {
            "tags": []
          }
        },
        {
          "output_type": "display_data",
          "data": {
            "application/vnd.jupyter.widget-view+json": {
              "model_id": "",
              "version_major": 2,
              "version_minor": 0
            },
            "text/plain": [
              "HBox(children=(IntProgress(value=0, max=255), HTML(value='')))"
            ]
          },
          "metadata": {
            "tags": []
          }
        },
        {
          "output_type": "display_data",
          "data": {
            "application/vnd.jupyter.widget-view+json": {
              "model_id": "",
              "version_major": 2,
              "version_minor": 0
            },
            "text/plain": [
              "HBox(children=(IntProgress(value=0, max=255), HTML(value='')))"
            ]
          },
          "metadata": {
            "tags": []
          }
        },
        {
          "output_type": "display_data",
          "data": {
            "application/vnd.jupyter.widget-view+json": {
              "model_id": "",
              "version_major": 2,
              "version_minor": 0
            },
            "text/plain": [
              "HBox(children=(IntProgress(value=0, max=255), HTML(value='')))"
            ]
          },
          "metadata": {
            "tags": []
          }
        },
        {
          "output_type": "display_data",
          "data": {
            "application/vnd.jupyter.widget-view+json": {
              "model_id": "",
              "version_major": 2,
              "version_minor": 0
            },
            "text/plain": [
              "HBox(children=(IntProgress(value=0, max=255), HTML(value='')))"
            ]
          },
          "metadata": {
            "tags": []
          }
        },
        {
          "output_type": "display_data",
          "data": {
            "application/vnd.jupyter.widget-view+json": {
              "model_id": "",
              "version_major": 2,
              "version_minor": 0
            },
            "text/plain": [
              "HBox(children=(IntProgress(value=0, max=255), HTML(value='')))"
            ]
          },
          "metadata": {
            "tags": []
          }
        },
        {
          "output_type": "display_data",
          "data": {
            "application/vnd.jupyter.widget-view+json": {
              "model_id": "",
              "version_major": 2,
              "version_minor": 0
            },
            "text/plain": [
              "HBox(children=(IntProgress(value=0, max=255), HTML(value='')))"
            ]
          },
          "metadata": {
            "tags": []
          }
        },
        {
          "output_type": "display_data",
          "data": {
            "application/vnd.jupyter.widget-view+json": {
              "model_id": "",
              "version_major": 2,
              "version_minor": 0
            },
            "text/plain": [
              "HBox(children=(IntProgress(value=0, max=255), HTML(value='')))"
            ]
          },
          "metadata": {
            "tags": []
          }
        },
        {
          "output_type": "display_data",
          "data": {
            "application/vnd.jupyter.widget-view+json": {
              "model_id": "",
              "version_major": 2,
              "version_minor": 0
            },
            "text/plain": [
              "HBox(children=(IntProgress(value=0, max=255), HTML(value='')))"
            ]
          },
          "metadata": {
            "tags": []
          }
        },
        {
          "output_type": "display_data",
          "data": {
            "application/vnd.jupyter.widget-view+json": {
              "model_id": "",
              "version_major": 2,
              "version_minor": 0
            },
            "text/plain": [
              "HBox(children=(IntProgress(value=0, max=255), HTML(value='')))"
            ]
          },
          "metadata": {
            "tags": []
          }
        },
        {
          "output_type": "display_data",
          "data": {
            "application/vnd.jupyter.widget-view+json": {
              "model_id": "",
              "version_major": 2,
              "version_minor": 0
            },
            "text/plain": [
              "HBox(children=(IntProgress(value=0, max=255), HTML(value='')))"
            ]
          },
          "metadata": {
            "tags": []
          }
        },
        {
          "output_type": "display_data",
          "data": {
            "application/vnd.jupyter.widget-view+json": {
              "model_id": "",
              "version_major": 2,
              "version_minor": 0
            },
            "text/plain": [
              "HBox(children=(IntProgress(value=0, max=255), HTML(value='')))"
            ]
          },
          "metadata": {
            "tags": []
          }
        },
        {
          "output_type": "display_data",
          "data": {
            "application/vnd.jupyter.widget-view+json": {
              "model_id": "",
              "version_major": 2,
              "version_minor": 0
            },
            "text/plain": [
              "HBox(children=(IntProgress(value=0, max=255), HTML(value='')))"
            ]
          },
          "metadata": {
            "tags": []
          }
        },
        {
          "output_type": "display_data",
          "data": {
            "application/vnd.jupyter.widget-view+json": {
              "model_id": "",
              "version_major": 2,
              "version_minor": 0
            },
            "text/plain": [
              "HBox(children=(IntProgress(value=0, max=255), HTML(value='')))"
            ]
          },
          "metadata": {
            "tags": []
          }
        },
        {
          "output_type": "display_data",
          "data": {
            "application/vnd.jupyter.widget-view+json": {
              "model_id": "",
              "version_major": 2,
              "version_minor": 0
            },
            "text/plain": [
              "HBox(children=(IntProgress(value=0, max=255), HTML(value='')))"
            ]
          },
          "metadata": {
            "tags": []
          }
        },
        {
          "output_type": "display_data",
          "data": {
            "application/vnd.jupyter.widget-view+json": {
              "model_id": "",
              "version_major": 2,
              "version_minor": 0
            },
            "text/plain": [
              "HBox(children=(IntProgress(value=0, max=255), HTML(value='')))"
            ]
          },
          "metadata": {
            "tags": []
          }
        },
        {
          "output_type": "display_data",
          "data": {
            "application/vnd.jupyter.widget-view+json": {
              "model_id": "",
              "version_major": 2,
              "version_minor": 0
            },
            "text/plain": [
              "HBox(children=(IntProgress(value=0, max=255), HTML(value='')))"
            ]
          },
          "metadata": {
            "tags": []
          }
        },
        {
          "output_type": "display_data",
          "data": {
            "application/vnd.jupyter.widget-view+json": {
              "model_id": "",
              "version_major": 2,
              "version_minor": 0
            },
            "text/plain": [
              "HBox(children=(IntProgress(value=0, max=255), HTML(value='')))"
            ]
          },
          "metadata": {
            "tags": []
          }
        },
        {
          "output_type": "display_data",
          "data": {
            "application/vnd.jupyter.widget-view+json": {
              "model_id": "",
              "version_major": 2,
              "version_minor": 0
            },
            "text/plain": [
              "HBox(children=(IntProgress(value=0, max=255), HTML(value='')))"
            ]
          },
          "metadata": {
            "tags": []
          }
        },
        {
          "output_type": "display_data",
          "data": {
            "application/vnd.jupyter.widget-view+json": {
              "model_id": "",
              "version_major": 2,
              "version_minor": 0
            },
            "text/plain": [
              "HBox(children=(IntProgress(value=0, max=255), HTML(value='')))"
            ]
          },
          "metadata": {
            "tags": []
          }
        },
        {
          "output_type": "display_data",
          "data": {
            "application/vnd.jupyter.widget-view+json": {
              "model_id": "",
              "version_major": 2,
              "version_minor": 0
            },
            "text/plain": [
              "HBox(children=(IntProgress(value=0, max=255), HTML(value='')))"
            ]
          },
          "metadata": {
            "tags": []
          }
        },
        {
          "output_type": "display_data",
          "data": {
            "application/vnd.jupyter.widget-view+json": {
              "model_id": "",
              "version_major": 2,
              "version_minor": 0
            },
            "text/plain": [
              "HBox(children=(IntProgress(value=0, max=255), HTML(value='')))"
            ]
          },
          "metadata": {
            "tags": []
          }
        },
        {
          "output_type": "display_data",
          "data": {
            "application/vnd.jupyter.widget-view+json": {
              "model_id": "",
              "version_major": 2,
              "version_minor": 0
            },
            "text/plain": [
              "HBox(children=(IntProgress(value=0, max=255), HTML(value='')))"
            ]
          },
          "metadata": {
            "tags": []
          }
        },
        {
          "output_type": "display_data",
          "data": {
            "application/vnd.jupyter.widget-view+json": {
              "model_id": "",
              "version_major": 2,
              "version_minor": 0
            },
            "text/plain": [
              "HBox(children=(IntProgress(value=0, max=255), HTML(value='')))"
            ]
          },
          "metadata": {
            "tags": []
          }
        },
        {
          "output_type": "display_data",
          "data": {
            "application/vnd.jupyter.widget-view+json": {
              "model_id": "",
              "version_major": 2,
              "version_minor": 0
            },
            "text/plain": [
              "HBox(children=(IntProgress(value=0, max=255), HTML(value='')))"
            ]
          },
          "metadata": {
            "tags": []
          }
        },
        {
          "output_type": "display_data",
          "data": {
            "application/vnd.jupyter.widget-view+json": {
              "model_id": "",
              "version_major": 2,
              "version_minor": 0
            },
            "text/plain": [
              "HBox(children=(IntProgress(value=0, max=255), HTML(value='')))"
            ]
          },
          "metadata": {
            "tags": []
          }
        },
        {
          "output_type": "display_data",
          "data": {
            "application/vnd.jupyter.widget-view+json": {
              "model_id": "",
              "version_major": 2,
              "version_minor": 0
            },
            "text/plain": [
              "HBox(children=(IntProgress(value=0, max=255), HTML(value='')))"
            ]
          },
          "metadata": {
            "tags": []
          }
        },
        {
          "output_type": "display_data",
          "data": {
            "application/vnd.jupyter.widget-view+json": {
              "model_id": "",
              "version_major": 2,
              "version_minor": 0
            },
            "text/plain": [
              "HBox(children=(IntProgress(value=0, max=255), HTML(value='')))"
            ]
          },
          "metadata": {
            "tags": []
          }
        },
        {
          "output_type": "display_data",
          "data": {
            "application/vnd.jupyter.widget-view+json": {
              "model_id": "",
              "version_major": 2,
              "version_minor": 0
            },
            "text/plain": [
              "HBox(children=(IntProgress(value=0, max=255), HTML(value='')))"
            ]
          },
          "metadata": {
            "tags": []
          }
        },
        {
          "output_type": "display_data",
          "data": {
            "application/vnd.jupyter.widget-view+json": {
              "model_id": "",
              "version_major": 2,
              "version_minor": 0
            },
            "text/plain": [
              "HBox(children=(IntProgress(value=0, max=255), HTML(value='')))"
            ]
          },
          "metadata": {
            "tags": []
          }
        },
        {
          "output_type": "display_data",
          "data": {
            "application/vnd.jupyter.widget-view+json": {
              "model_id": "",
              "version_major": 2,
              "version_minor": 0
            },
            "text/plain": [
              "HBox(children=(IntProgress(value=0, max=255), HTML(value='')))"
            ]
          },
          "metadata": {
            "tags": []
          }
        },
        {
          "output_type": "display_data",
          "data": {
            "application/vnd.jupyter.widget-view+json": {
              "model_id": "",
              "version_major": 2,
              "version_minor": 0
            },
            "text/plain": [
              "HBox(children=(IntProgress(value=0, max=255), HTML(value='')))"
            ]
          },
          "metadata": {
            "tags": []
          }
        },
        {
          "output_type": "display_data",
          "data": {
            "application/vnd.jupyter.widget-view+json": {
              "model_id": "",
              "version_major": 2,
              "version_minor": 0
            },
            "text/plain": [
              "HBox(children=(IntProgress(value=0, max=255), HTML(value='')))"
            ]
          },
          "metadata": {
            "tags": []
          }
        },
        {
          "output_type": "display_data",
          "data": {
            "application/vnd.jupyter.widget-view+json": {
              "model_id": "",
              "version_major": 2,
              "version_minor": 0
            },
            "text/plain": [
              "HBox(children=(IntProgress(value=0, max=255), HTML(value='')))"
            ]
          },
          "metadata": {
            "tags": []
          }
        },
        {
          "output_type": "display_data",
          "data": {
            "application/vnd.jupyter.widget-view+json": {
              "model_id": "",
              "version_major": 2,
              "version_minor": 0
            },
            "text/plain": [
              "HBox(children=(IntProgress(value=0, max=255), HTML(value='')))"
            ]
          },
          "metadata": {
            "tags": []
          }
        },
        {
          "output_type": "display_data",
          "data": {
            "application/vnd.jupyter.widget-view+json": {
              "model_id": "",
              "version_major": 2,
              "version_minor": 0
            },
            "text/plain": [
              "HBox(children=(IntProgress(value=0, max=255), HTML(value='')))"
            ]
          },
          "metadata": {
            "tags": []
          }
        },
        {
          "output_type": "display_data",
          "data": {
            "application/vnd.jupyter.widget-view+json": {
              "model_id": "",
              "version_major": 2,
              "version_minor": 0
            },
            "text/plain": [
              "HBox(children=(IntProgress(value=0, max=255), HTML(value='')))"
            ]
          },
          "metadata": {
            "tags": []
          }
        },
        {
          "output_type": "display_data",
          "data": {
            "application/vnd.jupyter.widget-view+json": {
              "model_id": "",
              "version_major": 2,
              "version_minor": 0
            },
            "text/plain": [
              "HBox(children=(IntProgress(value=0, max=255), HTML(value='')))"
            ]
          },
          "metadata": {
            "tags": []
          }
        },
        {
          "output_type": "display_data",
          "data": {
            "application/vnd.jupyter.widget-view+json": {
              "model_id": "",
              "version_major": 2,
              "version_minor": 0
            },
            "text/plain": [
              "HBox(children=(IntProgress(value=0, max=255), HTML(value='')))"
            ]
          },
          "metadata": {
            "tags": []
          }
        },
        {
          "output_type": "display_data",
          "data": {
            "application/vnd.jupyter.widget-view+json": {
              "model_id": "",
              "version_major": 2,
              "version_minor": 0
            },
            "text/plain": [
              "HBox(children=(IntProgress(value=0, max=255), HTML(value='')))"
            ]
          },
          "metadata": {
            "tags": []
          }
        },
        {
          "output_type": "display_data",
          "data": {
            "application/vnd.jupyter.widget-view+json": {
              "model_id": "",
              "version_major": 2,
              "version_minor": 0
            },
            "text/plain": [
              "HBox(children=(IntProgress(value=0, max=255), HTML(value='')))"
            ]
          },
          "metadata": {
            "tags": []
          }
        },
        {
          "output_type": "display_data",
          "data": {
            "application/vnd.jupyter.widget-view+json": {
              "model_id": "",
              "version_major": 2,
              "version_minor": 0
            },
            "text/plain": [
              "HBox(children=(IntProgress(value=0, max=255), HTML(value='')))"
            ]
          },
          "metadata": {
            "tags": []
          }
        },
        {
          "output_type": "display_data",
          "data": {
            "application/vnd.jupyter.widget-view+json": {
              "model_id": "",
              "version_major": 2,
              "version_minor": 0
            },
            "text/plain": [
              "HBox(children=(IntProgress(value=0, max=255), HTML(value='')))"
            ]
          },
          "metadata": {
            "tags": []
          }
        },
        {
          "output_type": "display_data",
          "data": {
            "application/vnd.jupyter.widget-view+json": {
              "model_id": "",
              "version_major": 2,
              "version_minor": 0
            },
            "text/plain": [
              "HBox(children=(IntProgress(value=0, max=255), HTML(value='')))"
            ]
          },
          "metadata": {
            "tags": []
          }
        },
        {
          "output_type": "display_data",
          "data": {
            "application/vnd.jupyter.widget-view+json": {
              "model_id": "",
              "version_major": 2,
              "version_minor": 0
            },
            "text/plain": [
              "HBox(children=(IntProgress(value=0, max=255), HTML(value='')))"
            ]
          },
          "metadata": {
            "tags": []
          }
        },
        {
          "output_type": "display_data",
          "data": {
            "application/vnd.jupyter.widget-view+json": {
              "model_id": "",
              "version_major": 2,
              "version_minor": 0
            },
            "text/plain": [
              "HBox(children=(IntProgress(value=0, max=255), HTML(value='')))"
            ]
          },
          "metadata": {
            "tags": []
          }
        },
        {
          "output_type": "display_data",
          "data": {
            "application/vnd.jupyter.widget-view+json": {
              "model_id": "",
              "version_major": 2,
              "version_minor": 0
            },
            "text/plain": [
              "HBox(children=(IntProgress(value=0, max=255), HTML(value='')))"
            ]
          },
          "metadata": {
            "tags": []
          }
        },
        {
          "output_type": "display_data",
          "data": {
            "application/vnd.jupyter.widget-view+json": {
              "model_id": "",
              "version_major": 2,
              "version_minor": 0
            },
            "text/plain": [
              "HBox(children=(IntProgress(value=0, max=255), HTML(value='')))"
            ]
          },
          "metadata": {
            "tags": []
          }
        },
        {
          "output_type": "display_data",
          "data": {
            "application/vnd.jupyter.widget-view+json": {
              "model_id": "",
              "version_major": 2,
              "version_minor": 0
            },
            "text/plain": [
              "HBox(children=(IntProgress(value=0, max=255), HTML(value='')))"
            ]
          },
          "metadata": {
            "tags": []
          }
        },
        {
          "output_type": "display_data",
          "data": {
            "application/vnd.jupyter.widget-view+json": {
              "model_id": "",
              "version_major": 2,
              "version_minor": 0
            },
            "text/plain": [
              "HBox(children=(IntProgress(value=0, max=255), HTML(value='')))"
            ]
          },
          "metadata": {
            "tags": []
          }
        },
        {
          "output_type": "display_data",
          "data": {
            "application/vnd.jupyter.widget-view+json": {
              "model_id": "",
              "version_major": 2,
              "version_minor": 0
            },
            "text/plain": [
              "HBox(children=(IntProgress(value=0, max=255), HTML(value='')))"
            ]
          },
          "metadata": {
            "tags": []
          }
        },
        {
          "output_type": "display_data",
          "data": {
            "application/vnd.jupyter.widget-view+json": {
              "model_id": "",
              "version_major": 2,
              "version_minor": 0
            },
            "text/plain": [
              "HBox(children=(IntProgress(value=0, max=255), HTML(value='')))"
            ]
          },
          "metadata": {
            "tags": []
          }
        },
        {
          "output_type": "display_data",
          "data": {
            "application/vnd.jupyter.widget-view+json": {
              "model_id": "",
              "version_major": 2,
              "version_minor": 0
            },
            "text/plain": [
              "HBox(children=(IntProgress(value=0, max=255), HTML(value='')))"
            ]
          },
          "metadata": {
            "tags": []
          }
        },
        {
          "output_type": "display_data",
          "data": {
            "application/vnd.jupyter.widget-view+json": {
              "model_id": "",
              "version_major": 2,
              "version_minor": 0
            },
            "text/plain": [
              "HBox(children=(IntProgress(value=0, max=255), HTML(value='')))"
            ]
          },
          "metadata": {
            "tags": []
          }
        },
        {
          "output_type": "display_data",
          "data": {
            "application/vnd.jupyter.widget-view+json": {
              "model_id": "",
              "version_major": 2,
              "version_minor": 0
            },
            "text/plain": [
              "HBox(children=(IntProgress(value=0, max=255), HTML(value='')))"
            ]
          },
          "metadata": {
            "tags": []
          }
        },
        {
          "output_type": "display_data",
          "data": {
            "application/vnd.jupyter.widget-view+json": {
              "model_id": "",
              "version_major": 2,
              "version_minor": 0
            },
            "text/plain": [
              "HBox(children=(IntProgress(value=0, max=255), HTML(value='')))"
            ]
          },
          "metadata": {
            "tags": []
          }
        },
        {
          "output_type": "display_data",
          "data": {
            "application/vnd.jupyter.widget-view+json": {
              "model_id": "",
              "version_major": 2,
              "version_minor": 0
            },
            "text/plain": [
              "HBox(children=(IntProgress(value=0, max=255), HTML(value='')))"
            ]
          },
          "metadata": {
            "tags": []
          }
        },
        {
          "output_type": "display_data",
          "data": {
            "application/vnd.jupyter.widget-view+json": {
              "model_id": "",
              "version_major": 2,
              "version_minor": 0
            },
            "text/plain": [
              "HBox(children=(IntProgress(value=0, max=255), HTML(value='')))"
            ]
          },
          "metadata": {
            "tags": []
          }
        },
        {
          "output_type": "display_data",
          "data": {
            "application/vnd.jupyter.widget-view+json": {
              "model_id": "",
              "version_major": 2,
              "version_minor": 0
            },
            "text/plain": [
              "HBox(children=(IntProgress(value=0, max=255), HTML(value='')))"
            ]
          },
          "metadata": {
            "tags": []
          }
        },
        {
          "output_type": "display_data",
          "data": {
            "application/vnd.jupyter.widget-view+json": {
              "model_id": "",
              "version_major": 2,
              "version_minor": 0
            },
            "text/plain": [
              "HBox(children=(IntProgress(value=0, max=255), HTML(value='')))"
            ]
          },
          "metadata": {
            "tags": []
          }
        },
        {
          "output_type": "display_data",
          "data": {
            "application/vnd.jupyter.widget-view+json": {
              "model_id": "",
              "version_major": 2,
              "version_minor": 0
            },
            "text/plain": [
              "HBox(children=(IntProgress(value=0, max=255), HTML(value='')))"
            ]
          },
          "metadata": {
            "tags": []
          }
        },
        {
          "output_type": "display_data",
          "data": {
            "application/vnd.jupyter.widget-view+json": {
              "model_id": "",
              "version_major": 2,
              "version_minor": 0
            },
            "text/plain": [
              "HBox(children=(IntProgress(value=0, max=255), HTML(value='')))"
            ]
          },
          "metadata": {
            "tags": []
          }
        },
        {
          "output_type": "display_data",
          "data": {
            "application/vnd.jupyter.widget-view+json": {
              "model_id": "",
              "version_major": 2,
              "version_minor": 0
            },
            "text/plain": [
              "HBox(children=(IntProgress(value=0, max=255), HTML(value='')))"
            ]
          },
          "metadata": {
            "tags": []
          }
        },
        {
          "output_type": "display_data",
          "data": {
            "application/vnd.jupyter.widget-view+json": {
              "model_id": "",
              "version_major": 2,
              "version_minor": 0
            },
            "text/plain": [
              "HBox(children=(IntProgress(value=0, max=255), HTML(value='')))"
            ]
          },
          "metadata": {
            "tags": []
          }
        },
        {
          "output_type": "display_data",
          "data": {
            "application/vnd.jupyter.widget-view+json": {
              "model_id": "",
              "version_major": 2,
              "version_minor": 0
            },
            "text/plain": [
              "HBox(children=(IntProgress(value=0, max=255), HTML(value='')))"
            ]
          },
          "metadata": {
            "tags": []
          }
        },
        {
          "output_type": "display_data",
          "data": {
            "application/vnd.jupyter.widget-view+json": {
              "model_id": "",
              "version_major": 2,
              "version_minor": 0
            },
            "text/plain": [
              "HBox(children=(IntProgress(value=0, max=255), HTML(value='')))"
            ]
          },
          "metadata": {
            "tags": []
          }
        },
        {
          "output_type": "display_data",
          "data": {
            "application/vnd.jupyter.widget-view+json": {
              "model_id": "",
              "version_major": 2,
              "version_minor": 0
            },
            "text/plain": [
              "HBox(children=(IntProgress(value=0, max=255), HTML(value='')))"
            ]
          },
          "metadata": {
            "tags": []
          }
        },
        {
          "output_type": "display_data",
          "data": {
            "application/vnd.jupyter.widget-view+json": {
              "model_id": "",
              "version_major": 2,
              "version_minor": 0
            },
            "text/plain": [
              "HBox(children=(IntProgress(value=0, max=255), HTML(value='')))"
            ]
          },
          "metadata": {
            "tags": []
          }
        },
        {
          "output_type": "display_data",
          "data": {
            "application/vnd.jupyter.widget-view+json": {
              "model_id": "",
              "version_major": 2,
              "version_minor": 0
            },
            "text/plain": [
              "HBox(children=(IntProgress(value=0, max=255), HTML(value='')))"
            ]
          },
          "metadata": {
            "tags": []
          }
        },
        {
          "output_type": "display_data",
          "data": {
            "application/vnd.jupyter.widget-view+json": {
              "model_id": "",
              "version_major": 2,
              "version_minor": 0
            },
            "text/plain": [
              "HBox(children=(IntProgress(value=0, max=255), HTML(value='')))"
            ]
          },
          "metadata": {
            "tags": []
          }
        },
        {
          "output_type": "display_data",
          "data": {
            "application/vnd.jupyter.widget-view+json": {
              "model_id": "",
              "version_major": 2,
              "version_minor": 0
            },
            "text/plain": [
              "HBox(children=(IntProgress(value=0, max=255), HTML(value='')))"
            ]
          },
          "metadata": {
            "tags": []
          }
        },
        {
          "output_type": "display_data",
          "data": {
            "application/vnd.jupyter.widget-view+json": {
              "model_id": "",
              "version_major": 2,
              "version_minor": 0
            },
            "text/plain": [
              "HBox(children=(IntProgress(value=0, max=255), HTML(value='')))"
            ]
          },
          "metadata": {
            "tags": []
          }
        },
        {
          "output_type": "display_data",
          "data": {
            "application/vnd.jupyter.widget-view+json": {
              "model_id": "",
              "version_major": 2,
              "version_minor": 0
            },
            "text/plain": [
              "HBox(children=(IntProgress(value=0, max=255), HTML(value='')))"
            ]
          },
          "metadata": {
            "tags": []
          }
        },
        {
          "output_type": "display_data",
          "data": {
            "application/vnd.jupyter.widget-view+json": {
              "model_id": "",
              "version_major": 2,
              "version_minor": 0
            },
            "text/plain": [
              "HBox(children=(IntProgress(value=0, max=255), HTML(value='')))"
            ]
          },
          "metadata": {
            "tags": []
          }
        },
        {
          "output_type": "display_data",
          "data": {
            "application/vnd.jupyter.widget-view+json": {
              "model_id": "",
              "version_major": 2,
              "version_minor": 0
            },
            "text/plain": [
              "HBox(children=(IntProgress(value=0, max=255), HTML(value='')))"
            ]
          },
          "metadata": {
            "tags": []
          }
        },
        {
          "output_type": "display_data",
          "data": {
            "application/vnd.jupyter.widget-view+json": {
              "model_id": "",
              "version_major": 2,
              "version_minor": 0
            },
            "text/plain": [
              "HBox(children=(IntProgress(value=0, max=255), HTML(value='')))"
            ]
          },
          "metadata": {
            "tags": []
          }
        },
        {
          "output_type": "display_data",
          "data": {
            "application/vnd.jupyter.widget-view+json": {
              "model_id": "",
              "version_major": 2,
              "version_minor": 0
            },
            "text/plain": [
              "HBox(children=(IntProgress(value=0, max=255), HTML(value='')))"
            ]
          },
          "metadata": {
            "tags": []
          }
        },
        {
          "output_type": "display_data",
          "data": {
            "application/vnd.jupyter.widget-view+json": {
              "model_id": "",
              "version_major": 2,
              "version_minor": 0
            },
            "text/plain": [
              "HBox(children=(IntProgress(value=0, max=255), HTML(value='')))"
            ]
          },
          "metadata": {
            "tags": []
          }
        },
        {
          "output_type": "display_data",
          "data": {
            "application/vnd.jupyter.widget-view+json": {
              "model_id": "",
              "version_major": 2,
              "version_minor": 0
            },
            "text/plain": [
              "HBox(children=(IntProgress(value=0, max=255), HTML(value='')))"
            ]
          },
          "metadata": {
            "tags": []
          }
        },
        {
          "output_type": "display_data",
          "data": {
            "application/vnd.jupyter.widget-view+json": {
              "model_id": "",
              "version_major": 2,
              "version_minor": 0
            },
            "text/plain": [
              "HBox(children=(IntProgress(value=0, max=255), HTML(value='')))"
            ]
          },
          "metadata": {
            "tags": []
          }
        },
        {
          "output_type": "display_data",
          "data": {
            "application/vnd.jupyter.widget-view+json": {
              "model_id": "",
              "version_major": 2,
              "version_minor": 0
            },
            "text/plain": [
              "HBox(children=(IntProgress(value=0, max=255), HTML(value='')))"
            ]
          },
          "metadata": {
            "tags": []
          }
        },
        {
          "output_type": "display_data",
          "data": {
            "application/vnd.jupyter.widget-view+json": {
              "model_id": "",
              "version_major": 2,
              "version_minor": 0
            },
            "text/plain": [
              "HBox(children=(IntProgress(value=0, max=255), HTML(value='')))"
            ]
          },
          "metadata": {
            "tags": []
          }
        },
        {
          "output_type": "display_data",
          "data": {
            "application/vnd.jupyter.widget-view+json": {
              "model_id": "",
              "version_major": 2,
              "version_minor": 0
            },
            "text/plain": [
              "HBox(children=(IntProgress(value=0, max=255), HTML(value='')))"
            ]
          },
          "metadata": {
            "tags": []
          }
        },
        {
          "output_type": "display_data",
          "data": {
            "application/vnd.jupyter.widget-view+json": {
              "model_id": "",
              "version_major": 2,
              "version_minor": 0
            },
            "text/plain": [
              "HBox(children=(IntProgress(value=0, max=255), HTML(value='')))"
            ]
          },
          "metadata": {
            "tags": []
          }
        },
        {
          "output_type": "display_data",
          "data": {
            "application/vnd.jupyter.widget-view+json": {
              "model_id": "",
              "version_major": 2,
              "version_minor": 0
            },
            "text/plain": [
              "HBox(children=(IntProgress(value=0, max=255), HTML(value='')))"
            ]
          },
          "metadata": {
            "tags": []
          }
        },
        {
          "output_type": "display_data",
          "data": {
            "application/vnd.jupyter.widget-view+json": {
              "model_id": "",
              "version_major": 2,
              "version_minor": 0
            },
            "text/plain": [
              "HBox(children=(IntProgress(value=0, max=255), HTML(value='')))"
            ]
          },
          "metadata": {
            "tags": []
          }
        },
        {
          "output_type": "display_data",
          "data": {
            "application/vnd.jupyter.widget-view+json": {
              "model_id": "",
              "version_major": 2,
              "version_minor": 0
            },
            "text/plain": [
              "HBox(children=(IntProgress(value=0, max=255), HTML(value='')))"
            ]
          },
          "metadata": {
            "tags": []
          }
        },
        {
          "output_type": "display_data",
          "data": {
            "application/vnd.jupyter.widget-view+json": {
              "model_id": "",
              "version_major": 2,
              "version_minor": 0
            },
            "text/plain": [
              "HBox(children=(IntProgress(value=0, max=255), HTML(value='')))"
            ]
          },
          "metadata": {
            "tags": []
          }
        },
        {
          "output_type": "display_data",
          "data": {
            "application/vnd.jupyter.widget-view+json": {
              "model_id": "",
              "version_major": 2,
              "version_minor": 0
            },
            "text/plain": [
              "HBox(children=(IntProgress(value=0, max=255), HTML(value='')))"
            ]
          },
          "metadata": {
            "tags": []
          }
        },
        {
          "output_type": "display_data",
          "data": {
            "application/vnd.jupyter.widget-view+json": {
              "model_id": "",
              "version_major": 2,
              "version_minor": 0
            },
            "text/plain": [
              "HBox(children=(IntProgress(value=0, max=255), HTML(value='')))"
            ]
          },
          "metadata": {
            "tags": []
          }
        },
        {
          "output_type": "display_data",
          "data": {
            "application/vnd.jupyter.widget-view+json": {
              "model_id": "",
              "version_major": 2,
              "version_minor": 0
            },
            "text/plain": [
              "HBox(children=(IntProgress(value=0, max=255), HTML(value='')))"
            ]
          },
          "metadata": {
            "tags": []
          }
        },
        {
          "output_type": "display_data",
          "data": {
            "application/vnd.jupyter.widget-view+json": {
              "model_id": "",
              "version_major": 2,
              "version_minor": 0
            },
            "text/plain": [
              "HBox(children=(IntProgress(value=0, max=255), HTML(value='')))"
            ]
          },
          "metadata": {
            "tags": []
          }
        },
        {
          "output_type": "display_data",
          "data": {
            "application/vnd.jupyter.widget-view+json": {
              "model_id": "",
              "version_major": 2,
              "version_minor": 0
            },
            "text/plain": [
              "HBox(children=(IntProgress(value=0, max=255), HTML(value='')))"
            ]
          },
          "metadata": {
            "tags": []
          }
        },
        {
          "output_type": "display_data",
          "data": {
            "application/vnd.jupyter.widget-view+json": {
              "model_id": "",
              "version_major": 2,
              "version_minor": 0
            },
            "text/plain": [
              "HBox(children=(IntProgress(value=0, max=255), HTML(value='')))"
            ]
          },
          "metadata": {
            "tags": []
          }
        },
        {
          "output_type": "display_data",
          "data": {
            "application/vnd.jupyter.widget-view+json": {
              "model_id": "",
              "version_major": 2,
              "version_minor": 0
            },
            "text/plain": [
              "HBox(children=(IntProgress(value=0, max=255), HTML(value='')))"
            ]
          },
          "metadata": {
            "tags": []
          }
        },
        {
          "output_type": "display_data",
          "data": {
            "application/vnd.jupyter.widget-view+json": {
              "model_id": "",
              "version_major": 2,
              "version_minor": 0
            },
            "text/plain": [
              "HBox(children=(IntProgress(value=0, max=255), HTML(value='')))"
            ]
          },
          "metadata": {
            "tags": []
          }
        },
        {
          "output_type": "stream",
          "text": [
            "\n"
          ],
          "name": "stdout"
        }
      ]
    },
    {
      "cell_type": "code",
      "metadata": {
        "id": "eSXKUnIuSd_8",
        "outputId": "769cb4bc-3ce3-4774-e1ba-e3d8aa1c9267"
      },
      "source": [
        "fig = plt.figure(figsize=(19, 8))\n",
        "\n",
        "ax1 = fig.add_subplot(121)\n",
        "ax2 = fig.add_subplot(122)\n",
        "\n",
        "sns.heatmap(\n",
        "    data=confusion_matrix(\n",
        "        month_modal_valid, \n",
        "        pred, normalize='pred'), \n",
        "    annot=False, \n",
        "    ax=ax2)\n",
        "\n",
        "sns.heatmap(\n",
        "    data=matrix, \n",
        "    annot=False, \n",
        "    ax=ax1)\n",
        "\n",
        "ax1.axis('off')\n",
        "ax2.axis('off')\n",
        "\n",
        "ax1.set_title('Межкластерное растояние')\n",
        "ax2.set_title('Confusion Matrix')\n",
        "\n",
        "plt.show()"
      ],
      "execution_count": null,
      "outputs": [
        {
          "output_type": "display_data",
          "data": {
            "image/png": "[encoded data removed]",
            "text/plain": [
              "<Figure size 1368x576 with 4 Axes>"
            ]
          },
          "metadata": {
            "tags": [],
            "needs_background": "light"
          }
        }
      ]
    },
    {
      "cell_type": "code",
      "metadata": {
        "id": "yY9FiO5WSd_8"
      },
      "source": [
        ""
      ],
      "execution_count": null,
      "outputs": []
    }
  ]
}