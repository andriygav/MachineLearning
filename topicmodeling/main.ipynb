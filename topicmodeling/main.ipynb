{
  "nbformat": 4,
  "nbformat_minor": 0,
  "metadata": {
    "kernelspec": {
      "display_name": "Python 3",
      "language": "python",
      "name": "python3"
    },
    "language_info": {
      "codemirror_mode": {
        "name": "ipython",
        "version": 3
      },
      "file_extension": ".py",
      "mimetype": "text/x-python",
      "name": "python",
      "nbconvert_exporter": "python",
      "pygments_lexer": "ipython3",
      "version": "3.7.3"
    },
    "colab": {
      "name": "main.ipynb",
      "provenance": []
    },
    "widgets": {
      "application/vnd.jupyter.widget-state+json": {
        "3374f80338da4d6a98c4d2cd9442fbe7": {
          "model_module": "@jupyter-widgets/controls",
          "model_name": "HBoxModel",
          "state": {
            "_view_name": "HBoxView",
            "_dom_classes": [],
            "_model_name": "HBoxModel",
            "_view_module": "@jupyter-widgets/controls",
            "_model_module_version": "1.5.0",
            "_view_count": null,
            "_view_module_version": "1.5.0",
            "box_style": "",
            "layout": "IPY_MODEL_b6154c0d1a61414bb3e95e327b8a3dc6",
            "_model_module": "@jupyter-widgets/controls",
            "children": [
              "IPY_MODEL_676b7e9b301243889bcef3e65fb58c14",
              "IPY_MODEL_b3b19874e74347108afb5e4b1a3c9358"
            ]
          }
        },
        "b6154c0d1a61414bb3e95e327b8a3dc6": {
          "model_module": "@jupyter-widgets/base",
          "model_name": "LayoutModel",
          "state": {
            "_view_name": "LayoutView",
            "grid_template_rows": null,
            "right": null,
            "justify_content": null,
            "_view_module": "@jupyter-widgets/base",
            "overflow": null,
            "_model_module_version": "1.2.0",
            "_view_count": null,
            "flex_flow": null,
            "width": null,
            "min_width": null,
            "border": null,
            "align_items": null,
            "bottom": null,
            "_model_module": "@jupyter-widgets/base",
            "top": null,
            "grid_column": null,
            "overflow_y": null,
            "overflow_x": null,
            "grid_auto_flow": null,
            "grid_area": null,
            "grid_template_columns": null,
            "flex": null,
            "_model_name": "LayoutModel",
            "justify_items": null,
            "grid_row": null,
            "max_height": null,
            "align_content": null,
            "visibility": null,
            "align_self": null,
            "height": null,
            "min_height": null,
            "padding": null,
            "grid_auto_rows": null,
            "grid_gap": null,
            "max_width": null,
            "order": null,
            "_view_module_version": "1.2.0",
            "grid_template_areas": null,
            "object_position": null,
            "object_fit": null,
            "grid_auto_columns": null,
            "margin": null,
            "display": null,
            "left": null
          }
        },
        "676b7e9b301243889bcef3e65fb58c14": {
          "model_module": "@jupyter-widgets/controls",
          "model_name": "FloatProgressModel",
          "state": {
            "_view_name": "ProgressView",
            "style": "IPY_MODEL_3dcfc7cbe112444d96ddd71189279a0c",
            "_dom_classes": [],
            "description": "  3%",
            "_model_name": "FloatProgressModel",
            "bar_style": "danger",
            "max": 863285,
            "_view_module": "@jupyter-widgets/controls",
            "_model_module_version": "1.5.0",
            "value": 26277,
            "_view_count": null,
            "_view_module_version": "1.5.0",
            "orientation": "horizontal",
            "min": 0,
            "description_tooltip": null,
            "_model_module": "@jupyter-widgets/controls",
            "layout": "IPY_MODEL_5befa34a7d2749738056954d024ca452"
          }
        },
        "b3b19874e74347108afb5e4b1a3c9358": {
          "model_module": "@jupyter-widgets/controls",
          "model_name": "HTMLModel",
          "state": {
            "_view_name": "HTMLView",
            "style": "IPY_MODEL_418b17a17c1a4725b2bbaf3278d9ade2",
            "_dom_classes": [],
            "description": "",
            "_model_name": "HTMLModel",
            "placeholder": "​",
            "_view_module": "@jupyter-widgets/controls",
            "_model_module_version": "1.5.0",
            "value": " 26277/863285 [03:20&lt;1:30:01, 154.96it/s]",
            "_view_count": null,
            "_view_module_version": "1.5.0",
            "description_tooltip": null,
            "_model_module": "@jupyter-widgets/controls",
            "layout": "IPY_MODEL_fd28626b8388425aa1a5cc944e7605e8"
          }
        },
        "3dcfc7cbe112444d96ddd71189279a0c": {
          "model_module": "@jupyter-widgets/controls",
          "model_name": "ProgressStyleModel",
          "state": {
            "_view_name": "StyleView",
            "_model_name": "ProgressStyleModel",
            "description_width": "initial",
            "_view_module": "@jupyter-widgets/base",
            "_model_module_version": "1.5.0",
            "_view_count": null,
            "_view_module_version": "1.2.0",
            "bar_color": null,
            "_model_module": "@jupyter-widgets/controls"
          }
        },
        "5befa34a7d2749738056954d024ca452": {
          "model_module": "@jupyter-widgets/base",
          "model_name": "LayoutModel",
          "state": {
            "_view_name": "LayoutView",
            "grid_template_rows": null,
            "right": null,
            "justify_content": null,
            "_view_module": "@jupyter-widgets/base",
            "overflow": null,
            "_model_module_version": "1.2.0",
            "_view_count": null,
            "flex_flow": null,
            "width": null,
            "min_width": null,
            "border": null,
            "align_items": null,
            "bottom": null,
            "_model_module": "@jupyter-widgets/base",
            "top": null,
            "grid_column": null,
            "overflow_y": null,
            "overflow_x": null,
            "grid_auto_flow": null,
            "grid_area": null,
            "grid_template_columns": null,
            "flex": null,
            "_model_name": "LayoutModel",
            "justify_items": null,
            "grid_row": null,
            "max_height": null,
            "align_content": null,
            "visibility": null,
            "align_self": null,
            "height": null,
            "min_height": null,
            "padding": null,
            "grid_auto_rows": null,
            "grid_gap": null,
            "max_width": null,
            "order": null,
            "_view_module_version": "1.2.0",
            "grid_template_areas": null,
            "object_position": null,
            "object_fit": null,
            "grid_auto_columns": null,
            "margin": null,
            "display": null,
            "left": null
          }
        },
        "418b17a17c1a4725b2bbaf3278d9ade2": {
          "model_module": "@jupyter-widgets/controls",
          "model_name": "DescriptionStyleModel",
          "state": {
            "_view_name": "StyleView",
            "_model_name": "DescriptionStyleModel",
            "description_width": "",
            "_view_module": "@jupyter-widgets/base",
            "_model_module_version": "1.5.0",
            "_view_count": null,
            "_view_module_version": "1.2.0",
            "_model_module": "@jupyter-widgets/controls"
          }
        },
        "fd28626b8388425aa1a5cc944e7605e8": {
          "model_module": "@jupyter-widgets/base",
          "model_name": "LayoutModel",
          "state": {
            "_view_name": "LayoutView",
            "grid_template_rows": null,
            "right": null,
            "justify_content": null,
            "_view_module": "@jupyter-widgets/base",
            "overflow": null,
            "_model_module_version": "1.2.0",
            "_view_count": null,
            "flex_flow": null,
            "width": null,
            "min_width": null,
            "border": null,
            "align_items": null,
            "bottom": null,
            "_model_module": "@jupyter-widgets/base",
            "top": null,
            "grid_column": null,
            "overflow_y": null,
            "overflow_x": null,
            "grid_auto_flow": null,
            "grid_area": null,
            "grid_template_columns": null,
            "flex": null,
            "_model_name": "LayoutModel",
            "justify_items": null,
            "grid_row": null,
            "max_height": null,
            "align_content": null,
            "visibility": null,
            "align_self": null,
            "height": null,
            "min_height": null,
            "padding": null,
            "grid_auto_rows": null,
            "grid_gap": null,
            "max_width": null,
            "order": null,
            "_view_module_version": "1.2.0",
            "grid_template_areas": null,
            "object_position": null,
            "object_fit": null,
            "grid_auto_columns": null,
            "margin": null,
            "display": null,
            "left": null
          }
        }
      }
    }
  },
  "cells": [
    {
      "cell_type": "markdown",
      "metadata": {
        "id": "XsMCvH7-QXGM"
      },
      "source": [
        "# Для запуска в colab"
      ]
    },
    {
      "cell_type": "code",
      "metadata": {
        "id": "-8bH11qly5iH",
        "outputId": "755efa1e-b88c-4ffe-fad8-07623fed216d",
        "colab": {
          "base_uri": "https://localhost:8080/"
        }
      },
      "source": [
        "# fast версия для pymotphy2 не работает на python3.7!!!\n",
        "# Использовать только python3.6 либо python3.8\n",
        "!pip install bigartm pymorphy2[fast]"
      ],
      "execution_count": 9,
      "outputs": [
        {
          "output_type": "stream",
          "text": [
            "Requirement already satisfied: bigartm in /usr/local/lib/python3.6/dist-packages (0.9.2)\n",
            "Requirement already satisfied: pymorphy2[fast] in /usr/local/lib/python3.6/dist-packages (0.9.1)\n",
            "Requirement already satisfied: pandas in /usr/local/lib/python3.6/dist-packages (from bigartm) (1.1.5)\n",
            "Requirement already satisfied: tqdm in /usr/local/lib/python3.6/dist-packages (from bigartm) (4.41.1)\n",
            "Requirement already satisfied: protobuf>=3.0 in /usr/local/lib/python3.6/dist-packages (from bigartm) (3.12.4)\n",
            "Requirement already satisfied: numpy in /usr/local/lib/python3.6/dist-packages (from bigartm) (1.18.5)\n",
            "Requirement already satisfied: dawg-python>=0.7.1 in /usr/local/lib/python3.6/dist-packages (from pymorphy2[fast]) (0.7.2)\n",
            "Requirement already satisfied: pymorphy2-dicts-ru<3.0,>=2.4 in /usr/local/lib/python3.6/dist-packages (from pymorphy2[fast]) (2.4.417127.4579844)\n",
            "Requirement already satisfied: docopt>=0.6 in /usr/local/lib/python3.6/dist-packages (from pymorphy2[fast]) (0.6.2)\n",
            "Collecting DAWG>=0.8; extra == \"fast\"\n",
            "\u001b[?25l  Downloading https://files.pythonhosted.org/packages/b8/ef/91b619a399685f7a0a95a03628006ba814d96293bbbbed234ee66fbdefd9/DAWG-0.8.0.tar.gz (371kB)\n",
            "\u001b[K     |████████████████████████████████| 378kB 6.0MB/s \n",
            "\u001b[?25hRequirement already satisfied: python-dateutil>=2.7.3 in /usr/local/lib/python3.6/dist-packages (from pandas->bigartm) (2.8.1)\n",
            "Requirement already satisfied: pytz>=2017.2 in /usr/local/lib/python3.6/dist-packages (from pandas->bigartm) (2018.9)\n",
            "Requirement already satisfied: six>=1.9 in /usr/local/lib/python3.6/dist-packages (from protobuf>=3.0->bigartm) (1.15.0)\n",
            "Requirement already satisfied: setuptools in /usr/local/lib/python3.6/dist-packages (from protobuf>=3.0->bigartm) (50.3.2)\n",
            "Building wheels for collected packages: DAWG\n",
            "  Building wheel for DAWG (setup.py) ... \u001b[?25l\u001b[?25hdone\n",
            "  Created wheel for DAWG: filename=DAWG-0.8.0-cp36-cp36m-linux_x86_64.whl size=858777 sha256=b74a43554715cd775ea67caa2e0fd2e38edb33bb40763ce88ea878709d3b8eb0\n",
            "  Stored in directory: /root/.cache/pip/wheels/3d/1f/f0/a5b1f9d02e193c997d252c33d215f24dfd7a448bc0166b2a12\n",
            "Successfully built DAWG\n",
            "Installing collected packages: DAWG\n",
            "Successfully installed DAWG-0.8.0\n"
          ],
          "name": "stdout"
        }
      ]
    },
    {
      "cell_type": "code",
      "metadata": {
        "id": "_DsuKmRxQJHu",
        "outputId": "5940b2a8-140a-4847-b18a-385ae95979d6",
        "colab": {
          "base_uri": "https://localhost:8080/"
        }
      },
      "source": [
        "from google.colab import drive\n",
        "drive.mount('/content/drive')"
      ],
      "execution_count": 2,
      "outputs": [
        {
          "output_type": "stream",
          "text": [
            "Drive already mounted at /content/drive; to attempt to forcibly remount, call drive.mount(\"/content/drive\", force_remount=True).\n"
          ],
          "name": "stdout"
        }
      ]
    },
    {
      "cell_type": "markdown",
      "metadata": {
        "id": "eRImbPUyYp5b"
      },
      "source": [
        "# Библиотеки"
      ]
    },
    {
      "cell_type": "code",
      "metadata": {
        "id": "l4DpoT2iy781"
      },
      "source": [
        "import itertools\n",
        "\n",
        "from tqdm.notebook import tqdm\n",
        "from nltk.tokenize import RegexpTokenizer\n",
        "# не очень много стоп слов, но для задания хватит\n",
        "from nltk.corpus import stopwords\n",
        "import pandas as pd\n",
        "import numpy as np\n",
        "import pymorphy2\n",
        "import nltk\n"
      ],
      "execution_count": 46,
      "outputs": []
    },
    {
      "cell_type": "code",
      "metadata": {
        "id": "kHZ7_MRHdSSs",
        "outputId": "2ed27d03-d1ab-4aba-b285-02b11f15487d",
        "colab": {
          "base_uri": "https://localhost:8080/"
        }
      },
      "source": [
        "nltk.download('stopwords')"
      ],
      "execution_count": 36,
      "outputs": [
        {
          "output_type": "stream",
          "text": [
            "[nltk_data] Downloading package stopwords to /root/nltk_data...\n",
            "[nltk_data]   Package stopwords is already up-to-date!\n"
          ],
          "name": "stdout"
        },
        {
          "output_type": "execute_result",
          "data": {
            "text/plain": [
              "True"
            ]
          },
          "metadata": {
            "tags": []
          },
          "execution_count": 36
        }
      ]
    },
    {
      "cell_type": "markdown",
      "metadata": {
        "id": "ep6G7r0PQ94a"
      },
      "source": [
        "# Работа с данными"
      ]
    },
    {
      "cell_type": "markdown",
      "metadata": {
        "id": "4dNcPw-CRB34"
      },
      "source": [
        "## Загрузка датасета"
      ]
    },
    {
      "cell_type": "code",
      "metadata": {
        "id": "TA009Oa8QdZ1"
      },
      "source": [
        "data = pd.read_csv('drive/MyDrive/DATASETS/MachineLearning/topicmodeling/lenta-ru-filtered.csv')"
      ],
      "execution_count": 4,
      "outputs": []
    },
    {
      "cell_type": "markdown",
      "metadata": {
        "id": "AVf3afIuRo0-"
      },
      "source": [
        "## Анализ"
      ]
    },
    {
      "cell_type": "code",
      "metadata": {
        "id": "AODYWUEMQs7L",
        "outputId": "db7b881a-9313-489d-a32c-c48503888dbe",
        "colab": {
          "base_uri": "https://localhost:8080/",
          "height": 419
        }
      },
      "source": [
        "data"
      ],
      "execution_count": 5,
      "outputs": [
        {
          "output_type": "execute_result",
          "data": {
            "text/html": [
              "<div>\n",
              "<style scoped>\n",
              "    .dataframe tbody tr th:only-of-type {\n",
              "        vertical-align: middle;\n",
              "    }\n",
              "\n",
              "    .dataframe tbody tr th {\n",
              "        vertical-align: top;\n",
              "    }\n",
              "\n",
              "    .dataframe thead th {\n",
              "        text-align: right;\n",
              "    }\n",
              "</style>\n",
              "<table border=\"1\" class=\"dataframe\">\n",
              "  <thead>\n",
              "    <tr style=\"text-align: right;\">\n",
              "      <th></th>\n",
              "      <th>text</th>\n",
              "      <th>tags</th>\n",
              "      <th>len</th>\n",
              "      <th>date</th>\n",
              "    </tr>\n",
              "  </thead>\n",
              "  <tbody>\n",
              "    <tr>\n",
              "      <th>0</th>\n",
              "      <td>С 1 сентября на всей территории России вводитс...</td>\n",
              "      <td>Все</td>\n",
              "      <td>1654</td>\n",
              "      <td>31-08-1999</td>\n",
              "    </tr>\n",
              "    <tr>\n",
              "      <th>1</th>\n",
              "      <td>По сведениям миссии ООН, передаваемым РИА \"Нов...</td>\n",
              "      <td>Все</td>\n",
              "      <td>1086</td>\n",
              "      <td>31-08-1999</td>\n",
              "    </tr>\n",
              "    <tr>\n",
              "      <th>2</th>\n",
              "      <td>15 представителей национал-большевистской парт...</td>\n",
              "      <td>Все</td>\n",
              "      <td>1219</td>\n",
              "      <td>31-08-1999</td>\n",
              "    </tr>\n",
              "    <tr>\n",
              "      <th>3</th>\n",
              "      <td>Намеченная на сегодняшний день церемония вступ...</td>\n",
              "      <td>Все</td>\n",
              "      <td>3094</td>\n",
              "      <td>31-08-1999</td>\n",
              "    </tr>\n",
              "    <tr>\n",
              "      <th>4</th>\n",
              "      <td>На юге Киргизии, а именно в Баткенском и Чон-А...</td>\n",
              "      <td>Все</td>\n",
              "      <td>1354</td>\n",
              "      <td>31-08-1999</td>\n",
              "    </tr>\n",
              "    <tr>\n",
              "      <th>...</th>\n",
              "      <td>...</td>\n",
              "      <td>...</td>\n",
              "      <td>...</td>\n",
              "      <td>...</td>\n",
              "    </tr>\n",
              "    <tr>\n",
              "      <th>863280</th>\n",
              "      <td>Популярное место среди туристов в Мурманской о...</td>\n",
              "      <td>Россия</td>\n",
              "      <td>1231</td>\n",
              "      <td>11-09-2020</td>\n",
              "    </tr>\n",
              "    <tr>\n",
              "      <th>863281</th>\n",
              "      <td>Рейтинги от международного рейтингового агентс...</td>\n",
              "      <td>NaN</td>\n",
              "      <td>1425</td>\n",
              "      <td>11-09-2020</td>\n",
              "    </tr>\n",
              "    <tr>\n",
              "      <th>863282</th>\n",
              "      <td>Российские ученые нашли в Якутии новый подвид ...</td>\n",
              "      <td>События</td>\n",
              "      <td>1299</td>\n",
              "      <td>11-09-2020</td>\n",
              "    </tr>\n",
              "    <tr>\n",
              "      <th>863283</th>\n",
              "      <td>Для указания коронавируса как причины смерти ч...</td>\n",
              "      <td>Общество</td>\n",
              "      <td>2061</td>\n",
              "      <td>11-09-2020</td>\n",
              "    </tr>\n",
              "    <tr>\n",
              "      <th>863284</th>\n",
              "      <td>Президент США Дональд Трамп стал посредником в...</td>\n",
              "      <td>Политика</td>\n",
              "      <td>1020</td>\n",
              "      <td>11-09-2020</td>\n",
              "    </tr>\n",
              "  </tbody>\n",
              "</table>\n",
              "<p>863285 rows × 4 columns</p>\n",
              "</div>"
            ],
            "text/plain": [
              "                                                     text  ...        date\n",
              "0       С 1 сентября на всей территории России вводитс...  ...  31-08-1999\n",
              "1       По сведениям миссии ООН, передаваемым РИА \"Нов...  ...  31-08-1999\n",
              "2       15 представителей национал-большевистской парт...  ...  31-08-1999\n",
              "3       Намеченная на сегодняшний день церемония вступ...  ...  31-08-1999\n",
              "4       На юге Киргизии, а именно в Баткенском и Чон-А...  ...  31-08-1999\n",
              "...                                                   ...  ...         ...\n",
              "863280  Популярное место среди туристов в Мурманской о...  ...  11-09-2020\n",
              "863281  Рейтинги от международного рейтингового агентс...  ...  11-09-2020\n",
              "863282  Российские ученые нашли в Якутии новый подвид ...  ...  11-09-2020\n",
              "863283  Для указания коронавируса как причины смерти ч...  ...  11-09-2020\n",
              "863284  Президент США Дональд Трамп стал посредником в...  ...  11-09-2020\n",
              "\n",
              "[863285 rows x 4 columns]"
            ]
          },
          "metadata": {
            "tags": []
          },
          "execution_count": 5
        }
      ]
    },
    {
      "cell_type": "code",
      "metadata": {
        "id": "_C06COevSipd",
        "outputId": "a835a0e3-2b29-48b8-dff8-04f9033da32d",
        "colab": {
          "base_uri": "https://localhost:8080/",
          "height": 297
        }
      },
      "source": [
        "data.describe()"
      ],
      "execution_count": 6,
      "outputs": [
        {
          "output_type": "execute_result",
          "data": {
            "text/html": [
              "<div>\n",
              "<style scoped>\n",
              "    .dataframe tbody tr th:only-of-type {\n",
              "        vertical-align: middle;\n",
              "    }\n",
              "\n",
              "    .dataframe tbody tr th {\n",
              "        vertical-align: top;\n",
              "    }\n",
              "\n",
              "    .dataframe thead th {\n",
              "        text-align: right;\n",
              "    }\n",
              "</style>\n",
              "<table border=\"1\" class=\"dataframe\">\n",
              "  <thead>\n",
              "    <tr style=\"text-align: right;\">\n",
              "      <th></th>\n",
              "      <th>len</th>\n",
              "    </tr>\n",
              "  </thead>\n",
              "  <tbody>\n",
              "    <tr>\n",
              "      <th>count</th>\n",
              "      <td>863285.000000</td>\n",
              "    </tr>\n",
              "    <tr>\n",
              "      <th>mean</th>\n",
              "      <td>1341.245505</td>\n",
              "    </tr>\n",
              "    <tr>\n",
              "      <th>std</th>\n",
              "      <td>572.066583</td>\n",
              "    </tr>\n",
              "    <tr>\n",
              "      <th>min</th>\n",
              "      <td>3.000000</td>\n",
              "    </tr>\n",
              "    <tr>\n",
              "      <th>25%</th>\n",
              "      <td>980.000000</td>\n",
              "    </tr>\n",
              "    <tr>\n",
              "      <th>50%</th>\n",
              "      <td>1253.000000</td>\n",
              "    </tr>\n",
              "    <tr>\n",
              "      <th>75%</th>\n",
              "      <td>1596.000000</td>\n",
              "    </tr>\n",
              "    <tr>\n",
              "      <th>max</th>\n",
              "      <td>55387.000000</td>\n",
              "    </tr>\n",
              "  </tbody>\n",
              "</table>\n",
              "</div>"
            ],
            "text/plain": [
              "                 len\n",
              "count  863285.000000\n",
              "mean     1341.245505\n",
              "std       572.066583\n",
              "min         3.000000\n",
              "25%       980.000000\n",
              "50%      1253.000000\n",
              "75%      1596.000000\n",
              "max     55387.000000"
            ]
          },
          "metadata": {
            "tags": []
          },
          "execution_count": 6
        }
      ]
    },
    {
      "cell_type": "markdown",
      "metadata": {
        "id": "iYYlsT6QU7Er"
      },
      "source": [
        "Видно, что новостные заметки занимают порядка 1.2 кб текста, что является порядка 3/4 страницы А4 печатного текста. Данная длина текста приемлема для анализа, так как не является слишком короткими (как например твиты, порядка 0.2 кб)."
      ]
    },
    {
      "cell_type": "markdown",
      "metadata": {
        "id": "f0fSJ_ITRqqF"
      },
      "source": [
        "Заметим, что в данных присутсвует поле tags (посути это можно рассматривать как топик). Данное поле будет интерестно в последующем анализе."
      ]
    },
    {
      "cell_type": "code",
      "metadata": {
        "id": "BmOtNSjmRECq"
      },
      "source": [
        "topics = [x.lower() for x in np.unique(np.array(data['tags'].values, dtype=str)).tolist() if x != 'nan']"
      ],
      "execution_count": 32,
      "outputs": []
    },
    {
      "cell_type": "code",
      "metadata": {
        "id": "jq-SSsoNSSSD",
        "outputId": "2e812f04-245d-44fe-9285-7993658c63a4",
        "colab": {
          "base_uri": "https://localhost:8080/"
        }
      },
      "source": [
        "len(topics), topics[:10]"
      ],
      "execution_count": 33,
      "outputs": [
        {
          "output_type": "execute_result",
          "data": {
            "text/plain": [
              "(94,\n",
              " ['69-я параллель',\n",
              "  'coцсети',\n",
              "  'авто',\n",
              "  'автобизнес',\n",
              "  'аналитика рынка',\n",
              "  'английский футбол',\n",
              "  'белоруссия',\n",
              "  'бизнес',\n",
              "  'бокс и мма',\n",
              "  'вещи'])"
            ]
          },
          "metadata": {
            "tags": []
          },
          "execution_count": 33
        }
      ]
    },
    {
      "cell_type": "markdown",
      "metadata": {
        "id": "8FFcgjxDRIV9"
      },
      "source": [
        "## Предобработка"
      ]
    },
    {
      "cell_type": "markdown",
      "metadata": {
        "id": "_J6S816aZIUs"
      },
      "source": [
        "Выполним простую предобработку текстов:\n",
        "- lowercase;\n",
        "- лемматизация при помощи pymorphy2;\n",
        "- удаление стоп слов из словаря nltk."
      ]
    },
    {
      "cell_type": "code",
      "metadata": {
        "id": "SW8Qk9iUaqhl"
      },
      "source": [
        "# Честно взято с реализации ru_sentencetokenizer от iPavlov.\n",
        "# Переписано в класс (к сожалению очень давно переписал и быстро сами пакет от \n",
        "#          iPavlov найти не смог,мне быстрее было взять свой пофикшеный код...)\n",
        "import re\n",
        "import logging\n",
        "from typing import Set, Tuple, List\n",
        "class RuSentenceTokenizer(object):\n",
        "    def __init__(self):\n",
        "        self.SENT_RE = re.compile(r'[^\\.?!…]+[\\.?!…]*[\"»“]*')\n",
        "\n",
        "        self._LAST_WORD = re.compile(r'(?:\\b|\\d)([a-zа-я]+)\\.$', re.IGNORECASE)\n",
        "        self._FIRST_WORD = re.compile(r'^\\W*(\\w+)')\n",
        "        self._ENDS_WITH_ONE_LETTER_LAT_AND_DOT = re.compile(r'(\\d|\\W|\\b)([a-zA-Z])\\.$')\n",
        "        self._HAS_DOT_INSIDE = re.compile(r'[\\w]+\\.[\\w]+\\.$', re.IGNORECASE)\n",
        "        self._INITIALS = re.compile(r'(\\W|\\b)([A-ZА-Я]{1})\\.$')\n",
        "        self._ONLY_RUS_CONSONANTS = re.compile(r'^[бвгджзйклмнпрстфхцчшщ]{1,4}$', re.IGNORECASE)\n",
        "        self._STARTS_WITH_EMPTYNESS = re.compile(r'^\\s+')\n",
        "        self._ENDS_WITH_EMOTION = re.compile(r'[!?…]|\\.{2,}\\s?[)\"«»,“]?$')\n",
        "        self._STARTS_WITH_LOWER = re.compile(r'^\\s*[–-—-(\"«]?\\s*[a-zа-я]')\n",
        "        self._STARTS_WITH_DIGIT = re.compile(r'^\\s*\\d')\n",
        "        self._NUMERATION = re.compile(r'^\\W*[IVXMCL\\d]+\\.$')\n",
        "        self._PAIRED_SHORTENING_IN_THE_END = re.compile(r'\\b(\\w+)\\. (\\w+)\\.\\W*$')\n",
        "\n",
        "        self._JOIN = 0\n",
        "        self._MAYBE = 1\n",
        "        self._SPLIT = 2\n",
        "\n",
        "        self.JOINING_SHORTENINGS = {'mr', 'mrs', 'ms', 'dr', 'vs', 'англ', 'итал', 'греч', 'евр', 'араб', 'яп', 'слав', 'кит',\n",
        "                               'тел', 'св', 'ул', 'устар', 'им', 'г', 'см', 'д', 'стр', 'корп', 'пл', 'пер', 'сокр', 'рис'}\n",
        "        self.SHORTENINGS = {'co', 'corp', 'inc', 'авт', 'адм', 'барр', 'внутр', 'га', 'дифф', 'дол', 'долл', 'зав', 'зам', 'искл',\n",
        "                       'коп', 'корп', 'куб', 'лат', 'мин', 'о', 'обл', 'обр', 'прим', 'проц', 'р', 'ред', 'руб', 'рус', 'русск',\n",
        "                       'сан', 'сек', 'тыс', 'эт', 'яз', 'гос', 'мн', 'жен', 'муж', 'накл', 'повел', 'букв', 'шутл', 'ед'}\n",
        "\n",
        "        self.PAIRED_SHORTENINGS = {('и', 'о'), ('т', 'е'), ('т', 'п'), ('у', 'е'), ('н', 'э')}\n",
        "        \n",
        "        # whitespaces\n",
        "        self.start_whitespace = re.compile('^\\s+')\n",
        "        self.end_whitespace = re.compile('\\s+$')\n",
        "    \n",
        "    \n",
        "    def _regex_split_separators(self, text: str) -> [str]:\n",
        "        return [x.strip() for x in self.SENT_RE.findall(text)]\n",
        "    \n",
        "    def _is_sentence_end(self, left: str, \n",
        "                               right: str,\n",
        "                               shortenings: Set[str],\n",
        "                               joining_shortenings: Set[str],\n",
        "                               paired_shortenings: Set[Tuple[str, str]]) -> int:\n",
        "        if not self._STARTS_WITH_EMPTYNESS.match(right):\n",
        "            return self._JOIN\n",
        "\n",
        "        if self._HAS_DOT_INSIDE.search(left):\n",
        "            return self._JOIN\n",
        "\n",
        "        left_last_word = self._LAST_WORD.search(left)\n",
        "        lw = ' '\n",
        "        if left_last_word:\n",
        "            lw = left_last_word.group(1)\n",
        "\n",
        "            if lw.lower() in joining_shortenings:\n",
        "                return self._JOIN\n",
        "\n",
        "            if self._ONLY_RUS_CONSONANTS.search(lw) and lw[-1].islower():\n",
        "                return self._MAYBE\n",
        "\n",
        "        pse = self._PAIRED_SHORTENING_IN_THE_END.search(left)\n",
        "        if pse:\n",
        "            s1, s2 = pse.groups()\n",
        "            if (s1, s2) in paired_shortenings:\n",
        "                return self._MAYBE\n",
        "\n",
        "        right_first_word = self._FIRST_WORD.match(right)\n",
        "        if right_first_word:\n",
        "            rw = right_first_word.group(1)\n",
        "            if (lw, rw) in paired_shortenings:\n",
        "                return self._MAYBE\n",
        "\n",
        "        if self._ENDS_WITH_EMOTION.search(left) and self._STARTS_WITH_LOWER.match(right):\n",
        "            return self._JOIN\n",
        "\n",
        "        initials = self._INITIALS.search(left)\n",
        "        if initials:\n",
        "            border, _ = initials.groups()\n",
        "            if (border or ' ') not in \"°'\":\n",
        "                return self._JOIN\n",
        "\n",
        "        if lw.lower() in shortenings:\n",
        "            return self._MAYBE\n",
        "\n",
        "        last_letter = self._ENDS_WITH_ONE_LETTER_LAT_AND_DOT.search(left)\n",
        "        if last_letter:\n",
        "            border, _ = last_letter.groups()\n",
        "            if (border or ' ') not in \"°'\":\n",
        "                return self._MAYBE\n",
        "        if self._NUMERATION.match(left):\n",
        "            return self._JOIN\n",
        "        return self._SPLIT\n",
        "    \n",
        "    def tokenize(self, text: str,\n",
        "                       shortenings: Set[str] = None,\n",
        "                       joining_shortenings: Set[str] = None,\n",
        "                       paired_shortenings: Set[Tuple[str, str]] = None) -> List[str]:\n",
        "        \n",
        "        spans = self.span_tokenize(text, shortenings, joining_shortenings, paired_shortenings)\n",
        "        \n",
        "        sentences = []\n",
        "        for span in spans:\n",
        "            sentences.append(text[span[0]:span[1]])\n",
        "        \n",
        "        return sentences\n",
        "    \n",
        "    def _span_strip(self, text, sent_start, span_end):\n",
        "        # delete whitespace start spans\n",
        "        start_whitespace = self.start_whitespace.search(text[sent_start: span_end])\n",
        "        if start_whitespace:\n",
        "            sent_start += (start_whitespace.span(0)[1] - start_whitespace.span(0)[0])\n",
        "        # delete whitespace end spans\n",
        "        end_whitespace = self.end_whitespace.search(text[sent_start: span_end])\n",
        "        if end_whitespace:\n",
        "            span_end -= (end_whitespace.span(0)[1] - end_whitespace.span(0)[0])\n",
        "            \n",
        "        return sent_start, span_end\n",
        "    \n",
        "    def span_tokenize(self, text,\n",
        "                            shortenings: Set[str] = None,\n",
        "                            joining_shortenings: Set[str] = None,\n",
        "                            paired_shortenings: Set[Tuple[str, str]] = None) -> List[Tuple]:\n",
        "        \n",
        "        if shortenings is None:\n",
        "            shortenings = self.SHORTENINGS\n",
        "        if joining_shortenings is None:\n",
        "            joining_shortenings = self.JOINING_SHORTENINGS\n",
        "        if paired_shortenings is None:\n",
        "            paired_shortenings = self.PAIRED_SHORTENINGS\n",
        "    \n",
        "        spans = []\n",
        "        sents = self._regex_split_separators(text)\n",
        "        si = 0\n",
        "        processed_index = 0\n",
        "        sent_start = 0\n",
        "        while si < len(sents):\n",
        "            s = sents[si]\n",
        "            span_start = text[processed_index:].index(s) + processed_index\n",
        "            span_end = span_start + len(s)\n",
        "            processed_index += len(s)\n",
        "\n",
        "            si += 1\n",
        "\n",
        "            send = self._is_sentence_end(text[sent_start: span_end], \n",
        "                                         text[span_end:],\n",
        "                                         shortenings, \n",
        "                                         joining_shortenings, \n",
        "                                         paired_shortenings)\n",
        "            if send == self._JOIN:\n",
        "                continue\n",
        "\n",
        "            if send == self._MAYBE:\n",
        "                if self._STARTS_WITH_LOWER.match(text[span_end:]):\n",
        "                    continue\n",
        "                if self._STARTS_WITH_DIGIT.match(text[span_end:]):\n",
        "                    continue\n",
        "                    \n",
        "            sent_start, span_end = self._span_strip(text, sent_start, span_end)\n",
        "\n",
        "            if not text[sent_start: span_end].strip():\n",
        "                logging.debug(\"Something went wrong while tokenizing\")\n",
        "            else:\n",
        "                spans.append((sent_start, span_end))\n",
        "            \n",
        "            sent_start = span_end\n",
        "            processed_index = span_end\n",
        "\n",
        "        if sent_start != len(text):\n",
        "            if text[sent_start:].strip():\n",
        "                sent_start, span_end = self._span_strip(text, sent_start, len(text))\n",
        "                spans.append((sent_start, span_end))\n",
        "        return spans"
      ],
      "execution_count": 14,
      "outputs": []
    },
    {
      "cell_type": "code",
      "metadata": {
        "id": "U9HVAmycbB6l"
      },
      "source": [
        "# уже давно пользуюсь для себя унифицированными токенизаторами\n",
        "word_tokenizer = RegexpTokenizer('[a-zа-яёЁА-ЯA-Z]+|[^\\w\\s]|\\d+')\n",
        "sent_tokenizer = RuSentenceTokenizer()\n",
        "# pymorphy2 анализатор\n",
        "morph = pymorphy2.MorphAnalyzer()\n",
        "# стоп слова из nltk\n",
        "stops = stopwords.words('russian')"
      ],
      "execution_count": 37,
      "outputs": []
    },
    {
      "cell_type": "code",
      "metadata": {
        "id": "7X5qXVNlQupI"
      },
      "source": [
        "def proccess_text(text):\n",
        "    text= text.lower()\n",
        "    sents = sent_tokenizer.tokenize(text)\n",
        "    words = list(\n",
        "        itertools.chain.from_iterable(\n",
        "            word_tokenizer.tokenize_sents(sents)))\n",
        "    return [x for x in [morph.normal_forms(word)[0] for word in words ]\\\n",
        "            if x not in stops]"
      ],
      "execution_count": 41,
      "outputs": []
    },
    {
      "cell_type": "code",
      "metadata": {
        "id": "Zd0uvPxAaAqb",
        "outputId": "ae09f94c-370f-46a6-f209-17224642ddb9",
        "colab": {
          "base_uri": "https://localhost:8080/",
          "height": 478,
          "referenced_widgets": [
            "3374f80338da4d6a98c4d2cd9442fbe7",
            "b6154c0d1a61414bb3e95e327b8a3dc6",
            "676b7e9b301243889bcef3e65fb58c14",
            "b3b19874e74347108afb5e4b1a3c9358",
            "3dcfc7cbe112444d96ddd71189279a0c",
            "5befa34a7d2749738056954d024ca452",
            "418b17a17c1a4725b2bbaf3278d9ade2",
            "fd28626b8388425aa1a5cc944e7605e8"
          ]
        }
      },
      "source": [
        "for i in tqdm(range(len(data))):\n",
        "    data.loc[i]['text'] = ' '.join(proccess_text(data.loc[i]['text']))\n",
        "\n",
        "# препроцесинг занимает порядка двух часов, поэтому рекомендуется загрузисть\n",
        "# сразу обработанную версию\n",
        "# data = pd.read_csv('drive/MyDrive/DATASETS/MachineLearning/topicmodeling/lenta-ru-proccess.csv')"
      ],
      "execution_count": 49,
      "outputs": [
        {
          "output_type": "display_data",
          "data": {
            "application/vnd.jupyter.widget-view+json": {
              "model_id": "3374f80338da4d6a98c4d2cd9442fbe7",
              "version_minor": 0,
              "version_major": 2
            },
            "text/plain": [
              "HBox(children=(FloatProgress(value=0.0, max=863285.0), HTML(value='')))"
            ]
          },
          "metadata": {
            "tags": []
          }
        },
        {
          "output_type": "stream",
          "text": [
            "/usr/local/lib/python3.6/dist-packages/ipykernel_launcher.py:2: SettingWithCopyWarning: \n",
            "A value is trying to be set on a copy of a slice from a DataFrame\n",
            "\n",
            "See the caveats in the documentation: https://pandas.pydata.org/pandas-docs/stable/user_guide/indexing.html#returning-a-view-versus-a-copy\n",
            "  \n"
          ],
          "name": "stderr"
        },
        {
          "output_type": "error",
          "ename": "KeyboardInterrupt",
          "evalue": "ignored",
          "traceback": [
            "\u001b[0;31m---------------------------------------------------------------------------\u001b[0m",
            "\u001b[0;31mKeyboardInterrupt\u001b[0m                         Traceback (most recent call last)",
            "\u001b[0;32m<ipython-input-49-7aeb2711a586>\u001b[0m in \u001b[0;36m<module>\u001b[0;34m()\u001b[0m\n\u001b[1;32m      1\u001b[0m \u001b[0;32mfor\u001b[0m \u001b[0mi\u001b[0m \u001b[0;32min\u001b[0m \u001b[0mtqdm\u001b[0m\u001b[0;34m(\u001b[0m\u001b[0mrange\u001b[0m\u001b[0;34m(\u001b[0m\u001b[0mlen\u001b[0m\u001b[0;34m(\u001b[0m\u001b[0mdata\u001b[0m\u001b[0;34m)\u001b[0m\u001b[0;34m)\u001b[0m\u001b[0;34m)\u001b[0m\u001b[0;34m:\u001b[0m\u001b[0;34m\u001b[0m\u001b[0;34m\u001b[0m\u001b[0m\n\u001b[0;32m----> 2\u001b[0;31m     \u001b[0mdata\u001b[0m\u001b[0;34m.\u001b[0m\u001b[0mloc\u001b[0m\u001b[0;34m[\u001b[0m\u001b[0mi\u001b[0m\u001b[0;34m]\u001b[0m\u001b[0;34m[\u001b[0m\u001b[0;34m'text'\u001b[0m\u001b[0;34m]\u001b[0m \u001b[0;34m=\u001b[0m \u001b[0;34m' '\u001b[0m\u001b[0;34m.\u001b[0m\u001b[0mjoin\u001b[0m\u001b[0;34m(\u001b[0m\u001b[0mproccess_text\u001b[0m\u001b[0;34m(\u001b[0m\u001b[0mdata\u001b[0m\u001b[0;34m.\u001b[0m\u001b[0mloc\u001b[0m\u001b[0;34m[\u001b[0m\u001b[0mi\u001b[0m\u001b[0;34m]\u001b[0m\u001b[0;34m[\u001b[0m\u001b[0;34m'text'\u001b[0m\u001b[0;34m]\u001b[0m\u001b[0;34m)\u001b[0m\u001b[0;34m)\u001b[0m\u001b[0;34m\u001b[0m\u001b[0;34m\u001b[0m\u001b[0m\n\u001b[0m",
            "\u001b[0;32m<ipython-input-41-cdcaf00da0c6>\u001b[0m in \u001b[0;36mproccess_text\u001b[0;34m(text)\u001b[0m\n\u001b[1;32m      5\u001b[0m         itertools.chain.from_iterable(\n\u001b[1;32m      6\u001b[0m             word_tokenizer.tokenize_sents(sents)))\n\u001b[0;32m----> 7\u001b[0;31m     \u001b[0;32mreturn\u001b[0m \u001b[0;34m[\u001b[0m\u001b[0mx\u001b[0m \u001b[0;32mfor\u001b[0m \u001b[0mx\u001b[0m \u001b[0;32min\u001b[0m \u001b[0;34m[\u001b[0m\u001b[0mmorph\u001b[0m\u001b[0;34m.\u001b[0m\u001b[0mnormal_forms\u001b[0m\u001b[0;34m(\u001b[0m\u001b[0mword\u001b[0m\u001b[0;34m)\u001b[0m\u001b[0;34m[\u001b[0m\u001b[0;36m0\u001b[0m\u001b[0;34m]\u001b[0m \u001b[0;32mfor\u001b[0m \u001b[0mword\u001b[0m \u001b[0;32min\u001b[0m \u001b[0mwords\u001b[0m \u001b[0;34m]\u001b[0m            \u001b[0;32mif\u001b[0m \u001b[0mx\u001b[0m \u001b[0;32mnot\u001b[0m \u001b[0;32min\u001b[0m \u001b[0mstops\u001b[0m\u001b[0;34m]\u001b[0m\u001b[0;34m\u001b[0m\u001b[0;34m\u001b[0m\u001b[0m\n\u001b[0m",
            "\u001b[0;32m<ipython-input-41-cdcaf00da0c6>\u001b[0m in \u001b[0;36m<listcomp>\u001b[0;34m(.0)\u001b[0m\n\u001b[1;32m      5\u001b[0m         itertools.chain.from_iterable(\n\u001b[1;32m      6\u001b[0m             word_tokenizer.tokenize_sents(sents)))\n\u001b[0;32m----> 7\u001b[0;31m     \u001b[0;32mreturn\u001b[0m \u001b[0;34m[\u001b[0m\u001b[0mx\u001b[0m \u001b[0;32mfor\u001b[0m \u001b[0mx\u001b[0m \u001b[0;32min\u001b[0m \u001b[0;34m[\u001b[0m\u001b[0mmorph\u001b[0m\u001b[0;34m.\u001b[0m\u001b[0mnormal_forms\u001b[0m\u001b[0;34m(\u001b[0m\u001b[0mword\u001b[0m\u001b[0;34m)\u001b[0m\u001b[0;34m[\u001b[0m\u001b[0;36m0\u001b[0m\u001b[0;34m]\u001b[0m \u001b[0;32mfor\u001b[0m \u001b[0mword\u001b[0m \u001b[0;32min\u001b[0m \u001b[0mwords\u001b[0m \u001b[0;34m]\u001b[0m            \u001b[0;32mif\u001b[0m \u001b[0mx\u001b[0m \u001b[0;32mnot\u001b[0m \u001b[0;32min\u001b[0m \u001b[0mstops\u001b[0m\u001b[0;34m]\u001b[0m\u001b[0;34m\u001b[0m\u001b[0;34m\u001b[0m\u001b[0m\n\u001b[0m",
            "\u001b[0;32m/usr/local/lib/python3.6/dist-packages/pymorphy2/analyzer.py\u001b[0m in \u001b[0;36mnormal_forms\u001b[0;34m(self, word)\u001b[0m\n\u001b[1;32m    348\u001b[0m         \u001b[0mresult\u001b[0m \u001b[0;34m=\u001b[0m \u001b[0;34m[\u001b[0m\u001b[0;34m]\u001b[0m\u001b[0;34m\u001b[0m\u001b[0;34m\u001b[0m\u001b[0m\n\u001b[1;32m    349\u001b[0m \u001b[0;34m\u001b[0m\u001b[0m\n\u001b[0;32m--> 350\u001b[0;31m         \u001b[0;32mfor\u001b[0m \u001b[0mp\u001b[0m \u001b[0;32min\u001b[0m \u001b[0mself\u001b[0m\u001b[0;34m.\u001b[0m\u001b[0mparse\u001b[0m\u001b[0;34m(\u001b[0m\u001b[0mword\u001b[0m\u001b[0;34m)\u001b[0m\u001b[0;34m:\u001b[0m\u001b[0;34m\u001b[0m\u001b[0;34m\u001b[0m\u001b[0m\n\u001b[0m\u001b[1;32m    351\u001b[0m             \u001b[0mnormal_form\u001b[0m \u001b[0;34m=\u001b[0m \u001b[0mp\u001b[0m\u001b[0;34m[\u001b[0m\u001b[0;36m2\u001b[0m\u001b[0;34m]\u001b[0m\u001b[0;34m\u001b[0m\u001b[0;34m\u001b[0m\u001b[0m\n\u001b[1;32m    352\u001b[0m             \u001b[0;32mif\u001b[0m \u001b[0mnormal_form\u001b[0m \u001b[0;32mnot\u001b[0m \u001b[0;32min\u001b[0m \u001b[0mseen\u001b[0m\u001b[0;34m:\u001b[0m\u001b[0;34m\u001b[0m\u001b[0;34m\u001b[0m\u001b[0m\n",
            "\u001b[0;32m/usr/local/lib/python3.6/dist-packages/pymorphy2/analyzer.py\u001b[0m in \u001b[0;36mparse\u001b[0;34m(self, word)\u001b[0m\n\u001b[1;32m    313\u001b[0m \u001b[0;34m\u001b[0m\u001b[0m\n\u001b[1;32m    314\u001b[0m         \u001b[0;32mfor\u001b[0m \u001b[0manalyzer\u001b[0m\u001b[0;34m,\u001b[0m \u001b[0mis_terminal\u001b[0m \u001b[0;32min\u001b[0m \u001b[0mself\u001b[0m\u001b[0;34m.\u001b[0m\u001b[0m_units\u001b[0m\u001b[0;34m:\u001b[0m\u001b[0;34m\u001b[0m\u001b[0;34m\u001b[0m\u001b[0m\n\u001b[0;32m--> 315\u001b[0;31m             \u001b[0mres\u001b[0m\u001b[0;34m.\u001b[0m\u001b[0mextend\u001b[0m\u001b[0;34m(\u001b[0m\u001b[0manalyzer\u001b[0m\u001b[0;34m.\u001b[0m\u001b[0mparse\u001b[0m\u001b[0;34m(\u001b[0m\u001b[0mword\u001b[0m\u001b[0;34m,\u001b[0m \u001b[0mword_lower\u001b[0m\u001b[0;34m,\u001b[0m \u001b[0mseen\u001b[0m\u001b[0;34m)\u001b[0m\u001b[0;34m)\u001b[0m\u001b[0;34m\u001b[0m\u001b[0;34m\u001b[0m\u001b[0m\n\u001b[0m\u001b[1;32m    316\u001b[0m \u001b[0;34m\u001b[0m\u001b[0m\n\u001b[1;32m    317\u001b[0m             \u001b[0;32mif\u001b[0m \u001b[0mis_terminal\u001b[0m \u001b[0;32mand\u001b[0m \u001b[0mres\u001b[0m\u001b[0;34m:\u001b[0m\u001b[0;34m\u001b[0m\u001b[0;34m\u001b[0m\u001b[0m\n",
            "\u001b[0;32m/usr/local/lib/python3.6/dist-packages/pymorphy2/units/by_lookup.py\u001b[0m in \u001b[0;36mparse\u001b[0;34m(self, word, word_lower, seen_parses)\u001b[0m\n\u001b[1;32m     28\u001b[0m \u001b[0;34m\u001b[0m\u001b[0m\n\u001b[1;32m     29\u001b[0m             \u001b[0;32mfor\u001b[0m \u001b[0mpara_id\u001b[0m\u001b[0;34m,\u001b[0m \u001b[0midx\u001b[0m \u001b[0;32min\u001b[0m \u001b[0mparses\u001b[0m\u001b[0;34m:\u001b[0m\u001b[0;34m\u001b[0m\u001b[0;34m\u001b[0m\u001b[0m\n\u001b[0;32m---> 30\u001b[0;31m                 \u001b[0mnormal_form\u001b[0m \u001b[0;34m=\u001b[0m \u001b[0mself\u001b[0m\u001b[0;34m.\u001b[0m\u001b[0mdict\u001b[0m\u001b[0;34m.\u001b[0m\u001b[0mbuild_normal_form\u001b[0m\u001b[0;34m(\u001b[0m\u001b[0mpara_id\u001b[0m\u001b[0;34m,\u001b[0m \u001b[0midx\u001b[0m\u001b[0;34m,\u001b[0m \u001b[0mfixed_word\u001b[0m\u001b[0;34m)\u001b[0m\u001b[0;34m\u001b[0m\u001b[0;34m\u001b[0m\u001b[0m\n\u001b[0m\u001b[1;32m     31\u001b[0m                 \u001b[0mtag\u001b[0m \u001b[0;34m=\u001b[0m \u001b[0mself\u001b[0m\u001b[0;34m.\u001b[0m\u001b[0mdict\u001b[0m\u001b[0;34m.\u001b[0m\u001b[0mbuild_tag_info\u001b[0m\u001b[0;34m(\u001b[0m\u001b[0mpara_id\u001b[0m\u001b[0;34m,\u001b[0m \u001b[0midx\u001b[0m\u001b[0;34m)\u001b[0m\u001b[0;34m\u001b[0m\u001b[0;34m\u001b[0m\u001b[0m\n\u001b[1;32m     32\u001b[0m                 \u001b[0mmethod\u001b[0m \u001b[0;34m=\u001b[0m \u001b[0;34m(\u001b[0m\u001b[0;34m(\u001b[0m\u001b[0mself\u001b[0m\u001b[0;34m,\u001b[0m \u001b[0mfixed_word\u001b[0m\u001b[0;34m,\u001b[0m \u001b[0mpara_id\u001b[0m\u001b[0;34m,\u001b[0m \u001b[0midx\u001b[0m\u001b[0;34m)\u001b[0m\u001b[0;34m,\u001b[0m\u001b[0;34m)\u001b[0m\u001b[0;34m\u001b[0m\u001b[0;34m\u001b[0m\u001b[0m\n",
            "\u001b[0;32m/usr/local/lib/python3.6/dist-packages/pymorphy2/opencorpora_dict/wrapper.py\u001b[0m in \u001b[0;36mbuild_normal_form\u001b[0;34m(self, para_id, idx, fixed_word)\u001b[0m\n\u001b[1;32m     77\u001b[0m         \u001b[0mparadigm_len\u001b[0m \u001b[0;34m=\u001b[0m \u001b[0mlen\u001b[0m\u001b[0;34m(\u001b[0m\u001b[0mparadigm\u001b[0m\u001b[0;34m)\u001b[0m \u001b[0;34m//\u001b[0m \u001b[0;36m3\u001b[0m\u001b[0;34m\u001b[0m\u001b[0;34m\u001b[0m\u001b[0m\n\u001b[1;32m     78\u001b[0m \u001b[0;34m\u001b[0m\u001b[0m\n\u001b[0;32m---> 79\u001b[0;31m         \u001b[0mstem\u001b[0m \u001b[0;34m=\u001b[0m \u001b[0mself\u001b[0m\u001b[0;34m.\u001b[0m\u001b[0mbuild_stem\u001b[0m\u001b[0;34m(\u001b[0m\u001b[0mparadigm\u001b[0m\u001b[0;34m,\u001b[0m \u001b[0midx\u001b[0m\u001b[0;34m,\u001b[0m \u001b[0mfixed_word\u001b[0m\u001b[0;34m)\u001b[0m\u001b[0;34m\u001b[0m\u001b[0;34m\u001b[0m\u001b[0m\n\u001b[0m\u001b[1;32m     80\u001b[0m \u001b[0;34m\u001b[0m\u001b[0m\n\u001b[1;32m     81\u001b[0m         \u001b[0mnormal_prefix_id\u001b[0m \u001b[0;34m=\u001b[0m \u001b[0mparadigm\u001b[0m\u001b[0;34m[\u001b[0m\u001b[0mparadigm_len\u001b[0m\u001b[0;34m*\u001b[0m\u001b[0;36m2\u001b[0m \u001b[0;34m+\u001b[0m \u001b[0;36m0\u001b[0m\u001b[0;34m]\u001b[0m\u001b[0;34m\u001b[0m\u001b[0;34m\u001b[0m\u001b[0m\n",
            "\u001b[0;32m/usr/local/lib/python3.6/dist-packages/pymorphy2/opencorpora_dict/wrapper.py\u001b[0m in \u001b[0;36mbuild_stem\u001b[0;34m(self, paradigm, idx, fixed_word)\u001b[0m\n\u001b[1;32m     96\u001b[0m         \u001b[0mprefix\u001b[0m \u001b[0;34m=\u001b[0m \u001b[0mself\u001b[0m\u001b[0;34m.\u001b[0m\u001b[0mparadigm_prefixes\u001b[0m\u001b[0;34m[\u001b[0m\u001b[0mprefix_id\u001b[0m\u001b[0;34m]\u001b[0m\u001b[0;34m\u001b[0m\u001b[0;34m\u001b[0m\u001b[0m\n\u001b[1;32m     97\u001b[0m \u001b[0;34m\u001b[0m\u001b[0m\n\u001b[0;32m---> 98\u001b[0;31m         \u001b[0msuffix_id\u001b[0m \u001b[0;34m=\u001b[0m \u001b[0mparadigm\u001b[0m\u001b[0;34m[\u001b[0m\u001b[0midx\u001b[0m\u001b[0;34m]\u001b[0m\u001b[0;34m\u001b[0m\u001b[0;34m\u001b[0m\u001b[0m\n\u001b[0m\u001b[1;32m     99\u001b[0m         \u001b[0msuffix\u001b[0m \u001b[0;34m=\u001b[0m \u001b[0mself\u001b[0m\u001b[0;34m.\u001b[0m\u001b[0msuffixes\u001b[0m\u001b[0;34m[\u001b[0m\u001b[0msuffix_id\u001b[0m\u001b[0;34m]\u001b[0m\u001b[0;34m\u001b[0m\u001b[0;34m\u001b[0m\u001b[0m\n\u001b[1;32m    100\u001b[0m \u001b[0;34m\u001b[0m\u001b[0m\n",
            "\u001b[0;31mKeyboardInterrupt\u001b[0m: "
          ]
        }
      ]
    },
    {
      "cell_type": "code",
      "metadata": {
        "id": "u2Cx03xId9yt"
      },
      "source": [
        ""
      ],
      "execution_count": null,
      "outputs": []
    }
  ]
}