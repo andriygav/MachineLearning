{
 "cells": [
  {
   "cell_type": "markdown",
   "metadata": {
    "id": "XsMCvH7-QXGM"
   },
   "source": [
    "# Для запуска в colab"
   ]
  },
  {
   "cell_type": "code",
   "execution_count": 49,
   "metadata": {
    "colab": {
     "base_uri": "https://localhost:8080/"
    },
    "id": "-8bH11qly5iH",
    "outputId": "755efa1e-b88c-4ffe-fad8-07623fed216d"
   },
   "outputs": [],
   "source": [
    "# fast версия для pymotphy2 не работает на python3.7!!!\n",
    "# Использовать только python3.6 либо python3.8\n",
    "# !pip install --user bigartm10 pymorphy2[fast] pyLDAvis"
   ]
  },
  {
   "cell_type": "code",
   "execution_count": 2,
   "metadata": {
    "colab": {
     "base_uri": "https://localhost:8080/"
    },
    "id": "_DsuKmRxQJHu",
    "outputId": "5940b2a8-140a-4847-b18a-385ae95979d6"
   },
   "outputs": [],
   "source": [
    "# from google.colab import drive\n",
    "# drive.mount('/content/drive')"
   ]
  },
  {
   "cell_type": "markdown",
   "metadata": {
    "id": "eRImbPUyYp5b"
   },
   "source": [
    "# Библиотеки"
   ]
  },
  {
   "cell_type": "code",
   "execution_count": 168,
   "metadata": {
    "id": "l4DpoT2iy781"
   },
   "outputs": [],
   "source": [
    "import itertools\n",
    "\n",
    "from tqdm.notebook import tqdm\n",
    "from nltk.tokenize import RegexpTokenizer\n",
    "import matplotlib.pyplot as plt\n",
    "# не очень много стоп слов, но для задания хватит\n",
    "from nltk.corpus import stopwords\n",
    "import pandas as pd\n",
    "import numpy as np\n",
    "import pymorphy2\n",
    "import nltk\n",
    "import gc\n",
    "\n",
    "import datetime"
   ]
  },
  {
   "cell_type": "code",
   "execution_count": 4,
   "metadata": {
    "colab": {
     "base_uri": "https://localhost:8080/"
    },
    "id": "kHZ7_MRHdSSs",
    "outputId": "2ed27d03-d1ab-4aba-b285-02b11f15487d"
   },
   "outputs": [
    {
     "name": "stdout",
     "output_type": "stream",
     "text": [
      "[nltk_data] Downloading package stopwords to /home/local/AP-\n",
      "[nltk_data]     TEAM/grabovoy/nltk_data...\n",
      "[nltk_data]   Package stopwords is already up-to-date!\n"
     ]
    },
    {
     "data": {
      "text/plain": [
       "True"
      ]
     },
     "execution_count": 4,
     "metadata": {},
     "output_type": "execute_result"
    }
   ],
   "source": [
    "nltk.download('stopwords')"
   ]
  },
  {
   "cell_type": "markdown",
   "metadata": {
    "id": "ep6G7r0PQ94a"
   },
   "source": [
    "# Работа с данными"
   ]
  },
  {
   "cell_type": "markdown",
   "metadata": {
    "id": "4dNcPw-CRB34"
   },
   "source": [
    "## Загрузка датасета"
   ]
  },
  {
   "cell_type": "code",
   "execution_count": 5,
   "metadata": {
    "id": "TA009Oa8QdZ1"
   },
   "outputs": [],
   "source": [
    "data = pd.read_csv('drive/MyDrive/DATASETS/MachineLearning/topicmodeling/lenta-ru-filtered.csv')"
   ]
  },
  {
   "cell_type": "markdown",
   "metadata": {
    "id": "AVf3afIuRo0-"
   },
   "source": [
    "## Анализ"
   ]
  },
  {
   "cell_type": "code",
   "execution_count": 6,
   "metadata": {
    "colab": {
     "base_uri": "https://localhost:8080/",
     "height": 419
    },
    "id": "AODYWUEMQs7L",
    "outputId": "db7b881a-9313-489d-a32c-c48503888dbe"
   },
   "outputs": [
    {
     "data": {
      "text/html": [
       "<div>\n",
       "<style scoped>\n",
       "    .dataframe tbody tr th:only-of-type {\n",
       "        vertical-align: middle;\n",
       "    }\n",
       "\n",
       "    .dataframe tbody tr th {\n",
       "        vertical-align: top;\n",
       "    }\n",
       "\n",
       "    .dataframe thead th {\n",
       "        text-align: right;\n",
       "    }\n",
       "</style>\n",
       "<table border=\"1\" class=\"dataframe\">\n",
       "  <thead>\n",
       "    <tr style=\"text-align: right;\">\n",
       "      <th></th>\n",
       "      <th>text</th>\n",
       "      <th>tags</th>\n",
       "      <th>len</th>\n",
       "      <th>date</th>\n",
       "    </tr>\n",
       "  </thead>\n",
       "  <tbody>\n",
       "    <tr>\n",
       "      <th>0</th>\n",
       "      <td>С 1 сентября на всей территории России вводитс...</td>\n",
       "      <td>Все</td>\n",
       "      <td>1654</td>\n",
       "      <td>31-08-1999</td>\n",
       "    </tr>\n",
       "    <tr>\n",
       "      <th>1</th>\n",
       "      <td>По сведениям миссии ООН, передаваемым РИА \"Нов...</td>\n",
       "      <td>Все</td>\n",
       "      <td>1086</td>\n",
       "      <td>31-08-1999</td>\n",
       "    </tr>\n",
       "    <tr>\n",
       "      <th>2</th>\n",
       "      <td>15 представителей национал-большевистской парт...</td>\n",
       "      <td>Все</td>\n",
       "      <td>1219</td>\n",
       "      <td>31-08-1999</td>\n",
       "    </tr>\n",
       "    <tr>\n",
       "      <th>3</th>\n",
       "      <td>Намеченная на сегодняшний день церемония вступ...</td>\n",
       "      <td>Все</td>\n",
       "      <td>3094</td>\n",
       "      <td>31-08-1999</td>\n",
       "    </tr>\n",
       "    <tr>\n",
       "      <th>4</th>\n",
       "      <td>На юге Киргизии, а именно в Баткенском и Чон-А...</td>\n",
       "      <td>Все</td>\n",
       "      <td>1354</td>\n",
       "      <td>31-08-1999</td>\n",
       "    </tr>\n",
       "    <tr>\n",
       "      <th>...</th>\n",
       "      <td>...</td>\n",
       "      <td>...</td>\n",
       "      <td>...</td>\n",
       "      <td>...</td>\n",
       "    </tr>\n",
       "    <tr>\n",
       "      <th>863280</th>\n",
       "      <td>Популярное место среди туристов в Мурманской о...</td>\n",
       "      <td>Россия</td>\n",
       "      <td>1231</td>\n",
       "      <td>11-09-2020</td>\n",
       "    </tr>\n",
       "    <tr>\n",
       "      <th>863281</th>\n",
       "      <td>Рейтинги от международного рейтингового агентс...</td>\n",
       "      <td>NaN</td>\n",
       "      <td>1425</td>\n",
       "      <td>11-09-2020</td>\n",
       "    </tr>\n",
       "    <tr>\n",
       "      <th>863282</th>\n",
       "      <td>Российские ученые нашли в Якутии новый подвид ...</td>\n",
       "      <td>События</td>\n",
       "      <td>1299</td>\n",
       "      <td>11-09-2020</td>\n",
       "    </tr>\n",
       "    <tr>\n",
       "      <th>863283</th>\n",
       "      <td>Для указания коронавируса как причины смерти ч...</td>\n",
       "      <td>Общество</td>\n",
       "      <td>2061</td>\n",
       "      <td>11-09-2020</td>\n",
       "    </tr>\n",
       "    <tr>\n",
       "      <th>863284</th>\n",
       "      <td>Президент США Дональд Трамп стал посредником в...</td>\n",
       "      <td>Политика</td>\n",
       "      <td>1020</td>\n",
       "      <td>11-09-2020</td>\n",
       "    </tr>\n",
       "  </tbody>\n",
       "</table>\n",
       "<p>863285 rows × 4 columns</p>\n",
       "</div>"
      ],
      "text/plain": [
       "                                                     text      tags   len  \\\n",
       "0       С 1 сентября на всей территории России вводитс...       Все  1654   \n",
       "1       По сведениям миссии ООН, передаваемым РИА \"Нов...       Все  1086   \n",
       "2       15 представителей национал-большевистской парт...       Все  1219   \n",
       "3       Намеченная на сегодняшний день церемония вступ...       Все  3094   \n",
       "4       На юге Киргизии, а именно в Баткенском и Чон-А...       Все  1354   \n",
       "...                                                   ...       ...   ...   \n",
       "863280  Популярное место среди туристов в Мурманской о...    Россия  1231   \n",
       "863281  Рейтинги от международного рейтингового агентс...       NaN  1425   \n",
       "863282  Российские ученые нашли в Якутии новый подвид ...   События  1299   \n",
       "863283  Для указания коронавируса как причины смерти ч...  Общество  2061   \n",
       "863284  Президент США Дональд Трамп стал посредником в...  Политика  1020   \n",
       "\n",
       "              date  \n",
       "0       31-08-1999  \n",
       "1       31-08-1999  \n",
       "2       31-08-1999  \n",
       "3       31-08-1999  \n",
       "4       31-08-1999  \n",
       "...            ...  \n",
       "863280  11-09-2020  \n",
       "863281  11-09-2020  \n",
       "863282  11-09-2020  \n",
       "863283  11-09-2020  \n",
       "863284  11-09-2020  \n",
       "\n",
       "[863285 rows x 4 columns]"
      ]
     },
     "execution_count": 6,
     "metadata": {},
     "output_type": "execute_result"
    }
   ],
   "source": [
    "data"
   ]
  },
  {
   "cell_type": "code",
   "execution_count": 7,
   "metadata": {
    "colab": {
     "base_uri": "https://localhost:8080/",
     "height": 297
    },
    "id": "_C06COevSipd",
    "outputId": "a835a0e3-2b29-48b8-dff8-04f9033da32d"
   },
   "outputs": [
    {
     "data": {
      "text/html": [
       "<div>\n",
       "<style scoped>\n",
       "    .dataframe tbody tr th:only-of-type {\n",
       "        vertical-align: middle;\n",
       "    }\n",
       "\n",
       "    .dataframe tbody tr th {\n",
       "        vertical-align: top;\n",
       "    }\n",
       "\n",
       "    .dataframe thead th {\n",
       "        text-align: right;\n",
       "    }\n",
       "</style>\n",
       "<table border=\"1\" class=\"dataframe\">\n",
       "  <thead>\n",
       "    <tr style=\"text-align: right;\">\n",
       "      <th></th>\n",
       "      <th>len</th>\n",
       "    </tr>\n",
       "  </thead>\n",
       "  <tbody>\n",
       "    <tr>\n",
       "      <th>count</th>\n",
       "      <td>863285.000000</td>\n",
       "    </tr>\n",
       "    <tr>\n",
       "      <th>mean</th>\n",
       "      <td>1341.245505</td>\n",
       "    </tr>\n",
       "    <tr>\n",
       "      <th>std</th>\n",
       "      <td>572.066583</td>\n",
       "    </tr>\n",
       "    <tr>\n",
       "      <th>min</th>\n",
       "      <td>3.000000</td>\n",
       "    </tr>\n",
       "    <tr>\n",
       "      <th>25%</th>\n",
       "      <td>980.000000</td>\n",
       "    </tr>\n",
       "    <tr>\n",
       "      <th>50%</th>\n",
       "      <td>1253.000000</td>\n",
       "    </tr>\n",
       "    <tr>\n",
       "      <th>75%</th>\n",
       "      <td>1596.000000</td>\n",
       "    </tr>\n",
       "    <tr>\n",
       "      <th>max</th>\n",
       "      <td>55387.000000</td>\n",
       "    </tr>\n",
       "  </tbody>\n",
       "</table>\n",
       "</div>"
      ],
      "text/plain": [
       "                 len\n",
       "count  863285.000000\n",
       "mean     1341.245505\n",
       "std       572.066583\n",
       "min         3.000000\n",
       "25%       980.000000\n",
       "50%      1253.000000\n",
       "75%      1596.000000\n",
       "max     55387.000000"
      ]
     },
     "execution_count": 7,
     "metadata": {},
     "output_type": "execute_result"
    }
   ],
   "source": [
    "data.describe()"
   ]
  },
  {
   "cell_type": "markdown",
   "metadata": {
    "id": "iYYlsT6QU7Er"
   },
   "source": [
    "Видно, что новостные заметки занимают порядка 1.2 кб текста, что является порядка 3/4 страницы А4 печатного текста. Данная длина текста приемлема для анализа, так как не является слишком короткими (как например твиты, порядка 0.2 кб)."
   ]
  },
  {
   "cell_type": "markdown",
   "metadata": {
    "id": "f0fSJ_ITRqqF"
   },
   "source": [
    "Заметим, что в данных присутсвует поле tags (посути это можно рассматривать как топик). Данное поле будет интерестно в последующем анализе."
   ]
  },
  {
   "cell_type": "code",
   "execution_count": 8,
   "metadata": {
    "id": "BmOtNSjmRECq"
   },
   "outputs": [],
   "source": [
    "topics = [x.lower() for x in np.unique(np.array(data['tags'].values, dtype=str)).tolist() if x != 'nan']"
   ]
  },
  {
   "cell_type": "code",
   "execution_count": 9,
   "metadata": {
    "colab": {
     "base_uri": "https://localhost:8080/"
    },
    "id": "jq-SSsoNSSSD",
    "outputId": "2e812f04-245d-44fe-9285-7993658c63a4"
   },
   "outputs": [
    {
     "data": {
      "text/plain": [
       "(94,\n",
       " ['69-я параллель',\n",
       "  'coцсети',\n",
       "  'авто',\n",
       "  'автобизнес',\n",
       "  'аналитика рынка',\n",
       "  'английский футбол',\n",
       "  'белоруссия',\n",
       "  'бизнес',\n",
       "  'бокс и мма',\n",
       "  'вещи'])"
      ]
     },
     "execution_count": 9,
     "metadata": {},
     "output_type": "execute_result"
    }
   ],
   "source": [
    "len(topics), topics[:10]"
   ]
  },
  {
   "cell_type": "markdown",
   "metadata": {
    "id": "8FFcgjxDRIV9"
   },
   "source": [
    "## Предобработка"
   ]
  },
  {
   "cell_type": "markdown",
   "metadata": {
    "id": "_J6S816aZIUs"
   },
   "source": [
    "Выполним простую предобработку текстов:\n",
    "- lowercase;\n",
    "- лемматизация при помощи pymorphy2;\n",
    "- удаление стоп слов из словаря nltk."
   ]
  },
  {
   "cell_type": "code",
   "execution_count": 10,
   "metadata": {
    "id": "SW8Qk9iUaqhl"
   },
   "outputs": [],
   "source": [
    "# Честно взято с реализации ru_sentencetokenizer от iPavlov.\n",
    "# Переписано в класс (к сожалению очень давно переписал и быстро сами пакет от \n",
    "#          iPavlov найти не смог,мне быстрее было взять свой пофикшеный код...)\n",
    "import re\n",
    "import logging\n",
    "from typing import Set, Tuple, List\n",
    "class RuSentenceTokenizer(object):\n",
    "    def __init__(self):\n",
    "        self.SENT_RE = re.compile(r'[^\\.?!…]+[\\.?!…]*[\"»“]*')\n",
    "\n",
    "        self._LAST_WORD = re.compile(r'(?:\\b|\\d)([a-zа-я]+)\\.$', re.IGNORECASE)\n",
    "        self._FIRST_WORD = re.compile(r'^\\W*(\\w+)')\n",
    "        self._ENDS_WITH_ONE_LETTER_LAT_AND_DOT = re.compile(r'(\\d|\\W|\\b)([a-zA-Z])\\.$')\n",
    "        self._HAS_DOT_INSIDE = re.compile(r'[\\w]+\\.[\\w]+\\.$', re.IGNORECASE)\n",
    "        self._INITIALS = re.compile(r'(\\W|\\b)([A-ZА-Я]{1})\\.$')\n",
    "        self._ONLY_RUS_CONSONANTS = re.compile(r'^[бвгджзйклмнпрстфхцчшщ]{1,4}$', re.IGNORECASE)\n",
    "        self._STARTS_WITH_EMPTYNESS = re.compile(r'^\\s+')\n",
    "        self._ENDS_WITH_EMOTION = re.compile(r'[!?…]|\\.{2,}\\s?[)\"«»,“]?$')\n",
    "        self._STARTS_WITH_LOWER = re.compile(r'^\\s*[–-—-(\"«]?\\s*[a-zа-я]')\n",
    "        self._STARTS_WITH_DIGIT = re.compile(r'^\\s*\\d')\n",
    "        self._NUMERATION = re.compile(r'^\\W*[IVXMCL\\d]+\\.$')\n",
    "        self._PAIRED_SHORTENING_IN_THE_END = re.compile(r'\\b(\\w+)\\. (\\w+)\\.\\W*$')\n",
    "\n",
    "        self._JOIN = 0\n",
    "        self._MAYBE = 1\n",
    "        self._SPLIT = 2\n",
    "\n",
    "        self.JOINING_SHORTENINGS = {'mr', 'mrs', 'ms', 'dr', 'vs', 'англ', 'итал', 'греч', 'евр', 'араб', 'яп', 'слав', 'кит',\n",
    "                               'тел', 'св', 'ул', 'устар', 'им', 'г', 'см', 'д', 'стр', 'корп', 'пл', 'пер', 'сокр', 'рис'}\n",
    "        self.SHORTENINGS = {'co', 'corp', 'inc', 'авт', 'адм', 'барр', 'внутр', 'га', 'дифф', 'дол', 'долл', 'зав', 'зам', 'искл',\n",
    "                       'коп', 'корп', 'куб', 'лат', 'мин', 'о', 'обл', 'обр', 'прим', 'проц', 'р', 'ред', 'руб', 'рус', 'русск',\n",
    "                       'сан', 'сек', 'тыс', 'эт', 'яз', 'гос', 'мн', 'жен', 'муж', 'накл', 'повел', 'букв', 'шутл', 'ед'}\n",
    "\n",
    "        self.PAIRED_SHORTENINGS = {('и', 'о'), ('т', 'е'), ('т', 'п'), ('у', 'е'), ('н', 'э')}\n",
    "        \n",
    "        # whitespaces\n",
    "        self.start_whitespace = re.compile('^\\s+')\n",
    "        self.end_whitespace = re.compile('\\s+$')\n",
    "    \n",
    "    \n",
    "    def _regex_split_separators(self, text: str) -> [str]:\n",
    "        return [x.strip() for x in self.SENT_RE.findall(text)]\n",
    "    \n",
    "    def _is_sentence_end(self, left: str, \n",
    "                               right: str,\n",
    "                               shortenings: Set[str],\n",
    "                               joining_shortenings: Set[str],\n",
    "                               paired_shortenings: Set[Tuple[str, str]]) -> int:\n",
    "        if not self._STARTS_WITH_EMPTYNESS.match(right):\n",
    "            return self._JOIN\n",
    "\n",
    "        if self._HAS_DOT_INSIDE.search(left):\n",
    "            return self._JOIN\n",
    "\n",
    "        left_last_word = self._LAST_WORD.search(left)\n",
    "        lw = ' '\n",
    "        if left_last_word:\n",
    "            lw = left_last_word.group(1)\n",
    "\n",
    "            if lw.lower() in joining_shortenings:\n",
    "                return self._JOIN\n",
    "\n",
    "            if self._ONLY_RUS_CONSONANTS.search(lw) and lw[-1].islower():\n",
    "                return self._MAYBE\n",
    "\n",
    "        pse = self._PAIRED_SHORTENING_IN_THE_END.search(left)\n",
    "        if pse:\n",
    "            s1, s2 = pse.groups()\n",
    "            if (s1, s2) in paired_shortenings:\n",
    "                return self._MAYBE\n",
    "\n",
    "        right_first_word = self._FIRST_WORD.match(right)\n",
    "        if right_first_word:\n",
    "            rw = right_first_word.group(1)\n",
    "            if (lw, rw) in paired_shortenings:\n",
    "                return self._MAYBE\n",
    "\n",
    "        if self._ENDS_WITH_EMOTION.search(left) and self._STARTS_WITH_LOWER.match(right):\n",
    "            return self._JOIN\n",
    "\n",
    "        initials = self._INITIALS.search(left)\n",
    "        if initials:\n",
    "            border, _ = initials.groups()\n",
    "            if (border or ' ') not in \"°'\":\n",
    "                return self._JOIN\n",
    "\n",
    "        if lw.lower() in shortenings:\n",
    "            return self._MAYBE\n",
    "\n",
    "        last_letter = self._ENDS_WITH_ONE_LETTER_LAT_AND_DOT.search(left)\n",
    "        if last_letter:\n",
    "            border, _ = last_letter.groups()\n",
    "            if (border or ' ') not in \"°'\":\n",
    "                return self._MAYBE\n",
    "        if self._NUMERATION.match(left):\n",
    "            return self._JOIN\n",
    "        return self._SPLIT\n",
    "    \n",
    "    def tokenize(self, text: str,\n",
    "                       shortenings: Set[str] = None,\n",
    "                       joining_shortenings: Set[str] = None,\n",
    "                       paired_shortenings: Set[Tuple[str, str]] = None) -> List[str]:\n",
    "        \n",
    "        spans = self.span_tokenize(text, shortenings, joining_shortenings, paired_shortenings)\n",
    "        \n",
    "        sentences = []\n",
    "        for span in spans:\n",
    "            sentences.append(text[span[0]:span[1]])\n",
    "        \n",
    "        return sentences\n",
    "    \n",
    "    def _span_strip(self, text, sent_start, span_end):\n",
    "        # delete whitespace start spans\n",
    "        start_whitespace = self.start_whitespace.search(text[sent_start: span_end])\n",
    "        if start_whitespace:\n",
    "            sent_start += (start_whitespace.span(0)[1] - start_whitespace.span(0)[0])\n",
    "        # delete whitespace end spans\n",
    "        end_whitespace = self.end_whitespace.search(text[sent_start: span_end])\n",
    "        if end_whitespace:\n",
    "            span_end -= (end_whitespace.span(0)[1] - end_whitespace.span(0)[0])\n",
    "            \n",
    "        return sent_start, span_end\n",
    "    \n",
    "    def span_tokenize(self, text,\n",
    "                            shortenings: Set[str] = None,\n",
    "                            joining_shortenings: Set[str] = None,\n",
    "                            paired_shortenings: Set[Tuple[str, str]] = None) -> List[Tuple]:\n",
    "        \n",
    "        if shortenings is None:\n",
    "            shortenings = self.SHORTENINGS\n",
    "        if joining_shortenings is None:\n",
    "            joining_shortenings = self.JOINING_SHORTENINGS\n",
    "        if paired_shortenings is None:\n",
    "            paired_shortenings = self.PAIRED_SHORTENINGS\n",
    "    \n",
    "        spans = []\n",
    "        sents = self._regex_split_separators(text)\n",
    "        si = 0\n",
    "        processed_index = 0\n",
    "        sent_start = 0\n",
    "        while si < len(sents):\n",
    "            s = sents[si]\n",
    "            span_start = text[processed_index:].index(s) + processed_index\n",
    "            span_end = span_start + len(s)\n",
    "            processed_index += len(s)\n",
    "\n",
    "            si += 1\n",
    "\n",
    "            send = self._is_sentence_end(text[sent_start: span_end], \n",
    "                                         text[span_end:],\n",
    "                                         shortenings, \n",
    "                                         joining_shortenings, \n",
    "                                         paired_shortenings)\n",
    "            if send == self._JOIN:\n",
    "                continue\n",
    "\n",
    "            if send == self._MAYBE:\n",
    "                if self._STARTS_WITH_LOWER.match(text[span_end:]):\n",
    "                    continue\n",
    "                if self._STARTS_WITH_DIGIT.match(text[span_end:]):\n",
    "                    continue\n",
    "                    \n",
    "            sent_start, span_end = self._span_strip(text, sent_start, span_end)\n",
    "\n",
    "            if not text[sent_start: span_end].strip():\n",
    "                logging.debug(\"Something went wrong while tokenizing\")\n",
    "            else:\n",
    "                spans.append((sent_start, span_end))\n",
    "            \n",
    "            sent_start = span_end\n",
    "            processed_index = span_end\n",
    "\n",
    "        if sent_start != len(text):\n",
    "            if text[sent_start:].strip():\n",
    "                sent_start, span_end = self._span_strip(text, sent_start, len(text))\n",
    "                spans.append((sent_start, span_end))\n",
    "        return spans"
   ]
  },
  {
   "cell_type": "code",
   "execution_count": 11,
   "metadata": {
    "id": "U9HVAmycbB6l"
   },
   "outputs": [],
   "source": [
    "# уже давно пользуюсь для себя унифицированными токенизаторами\n",
    "word_tokenizer = RegexpTokenizer('[a-zа-яёЁА-ЯA-Z]+|[^\\w\\s]|\\d+')\n",
    "sent_tokenizer = RuSentenceTokenizer()\n",
    "# pymorphy2 анализатор\n",
    "morph = pymorphy2.MorphAnalyzer()\n",
    "# стоп слова из nltk\n",
    "stops = stopwords.words('russian')"
   ]
  },
  {
   "cell_type": "code",
   "execution_count": 12,
   "metadata": {
    "id": "7X5qXVNlQupI"
   },
   "outputs": [],
   "source": [
    "def proccess_text(text):\n",
    "    text= text.lower()\n",
    "    sents = sent_tokenizer.tokenize(text)\n",
    "    words = list(\n",
    "        itertools.chain.from_iterable(\n",
    "            word_tokenizer.tokenize_sents(sents)))\n",
    "    return [x for x in [morph.normal_forms(word)[0] for word in words ]\\\n",
    "            if x not in stops]"
   ]
  },
  {
   "cell_type": "code",
   "execution_count": 172,
   "metadata": {
    "colab": {
     "base_uri": "https://localhost:8080/",
     "height": 478,
     "referenced_widgets": [
      "3374f80338da4d6a98c4d2cd9442fbe7",
      "b6154c0d1a61414bb3e95e327b8a3dc6",
      "676b7e9b301243889bcef3e65fb58c14",
      "b3b19874e74347108afb5e4b1a3c9358",
      "3dcfc7cbe112444d96ddd71189279a0c",
      "5befa34a7d2749738056954d024ca452",
      "418b17a17c1a4725b2bbaf3278d9ade2",
      "fd28626b8388425aa1a5cc944e7605e8"
     ]
    },
    "id": "Zd0uvPxAaAqb",
    "outputId": "ae09f94c-370f-46a6-f209-17224642ddb9"
   },
   "outputs": [],
   "source": [
    "# data_text = data['text']\n",
    "# for i in tqdm(range(len(data))):\n",
    "#     data_text.loc[i] = ' '.join(proccess_text(data_text.loc[i]))\n",
    "# data.to_csv('drive/MyDrive/DATASETS/MachineLearning/topicmodeling/lenta-ru-proccess.csv', index=False)\n",
    "\n",
    "# препроцесинг занимает порядка двух часов, поэтому рекомендуется загрузисть\n",
    "# сразу обработанную версию\n",
    "data = pd.read_csv('drive/MyDrive/DATASETS/MachineLearning/topicmodeling/lenta-ru-proccess.csv')"
   ]
  },
  {
   "cell_type": "code",
   "execution_count": 173,
   "metadata": {},
   "outputs": [
    {
     "data": {
      "text/html": [
       "<div>\n",
       "<style scoped>\n",
       "    .dataframe tbody tr th:only-of-type {\n",
       "        vertical-align: middle;\n",
       "    }\n",
       "\n",
       "    .dataframe tbody tr th {\n",
       "        vertical-align: top;\n",
       "    }\n",
       "\n",
       "    .dataframe thead th {\n",
       "        text-align: right;\n",
       "    }\n",
       "</style>\n",
       "<table border=\"1\" class=\"dataframe\">\n",
       "  <thead>\n",
       "    <tr style=\"text-align: right;\">\n",
       "      <th></th>\n",
       "      <th>text</th>\n",
       "      <th>tags</th>\n",
       "      <th>len</th>\n",
       "      <th>date</th>\n",
       "    </tr>\n",
       "  </thead>\n",
       "  <tbody>\n",
       "    <tr>\n",
       "      <th>0</th>\n",
       "      <td>1 сентябрь весь территория россия вводиться но...</td>\n",
       "      <td>Все</td>\n",
       "      <td>1654</td>\n",
       "      <td>31-08-1999</td>\n",
       "    </tr>\n",
       "    <tr>\n",
       "      <th>1</th>\n",
       "      <td>сведение миссия оон , передаваемый риа \" новос...</td>\n",
       "      <td>Все</td>\n",
       "      <td>1086</td>\n",
       "      <td>31-08-1999</td>\n",
       "    </tr>\n",
       "    <tr>\n",
       "      <th>2</th>\n",
       "      <td>15 представитель национал - большевистский пар...</td>\n",
       "      <td>Все</td>\n",
       "      <td>1219</td>\n",
       "      <td>31-08-1999</td>\n",
       "    </tr>\n",
       "    <tr>\n",
       "      <th>3</th>\n",
       "      <td>наметить сегодняшний день церемония вступление...</td>\n",
       "      <td>Все</td>\n",
       "      <td>3094</td>\n",
       "      <td>31-08-1999</td>\n",
       "    </tr>\n",
       "    <tr>\n",
       "      <th>4</th>\n",
       "      <td>юг киргизия , именно баткенский чон - алайском...</td>\n",
       "      <td>Все</td>\n",
       "      <td>1354</td>\n",
       "      <td>31-08-1999</td>\n",
       "    </tr>\n",
       "    <tr>\n",
       "      <th>...</th>\n",
       "      <td>...</td>\n",
       "      <td>...</td>\n",
       "      <td>...</td>\n",
       "      <td>...</td>\n",
       "    </tr>\n",
       "    <tr>\n",
       "      <th>863280</th>\n",
       "      <td>популярный место среди турист мурманский облас...</td>\n",
       "      <td>Россия</td>\n",
       "      <td>1231</td>\n",
       "      <td>11-09-2020</td>\n",
       "    </tr>\n",
       "    <tr>\n",
       "      <th>863281</th>\n",
       "      <td>рейтинг международный рейтинговый агентство s ...</td>\n",
       "      <td>NaN</td>\n",
       "      <td>1425</td>\n",
       "      <td>11-09-2020</td>\n",
       "    </tr>\n",
       "    <tr>\n",
       "      <th>863282</th>\n",
       "      <td>российский учёный найти якутия новый подвид ар...</td>\n",
       "      <td>События</td>\n",
       "      <td>1299</td>\n",
       "      <td>11-09-2020</td>\n",
       "    </tr>\n",
       "    <tr>\n",
       "      <th>863283</th>\n",
       "      <td>указание коронавирус причина смерть человек не...</td>\n",
       "      <td>Общество</td>\n",
       "      <td>2061</td>\n",
       "      <td>11-09-2020</td>\n",
       "    </tr>\n",
       "    <tr>\n",
       "      <th>863284</th>\n",
       "      <td>президент сша дональд трамп стать посредник но...</td>\n",
       "      <td>Политика</td>\n",
       "      <td>1020</td>\n",
       "      <td>11-09-2020</td>\n",
       "    </tr>\n",
       "  </tbody>\n",
       "</table>\n",
       "<p>863285 rows × 4 columns</p>\n",
       "</div>"
      ],
      "text/plain": [
       "                                                     text      tags   len  \\\n",
       "0       1 сентябрь весь территория россия вводиться но...       Все  1654   \n",
       "1       сведение миссия оон , передаваемый риа \" новос...       Все  1086   \n",
       "2       15 представитель национал - большевистский пар...       Все  1219   \n",
       "3       наметить сегодняшний день церемония вступление...       Все  3094   \n",
       "4       юг киргизия , именно баткенский чон - алайском...       Все  1354   \n",
       "...                                                   ...       ...   ...   \n",
       "863280  популярный место среди турист мурманский облас...    Россия  1231   \n",
       "863281  рейтинг международный рейтинговый агентство s ...       NaN  1425   \n",
       "863282  российский учёный найти якутия новый подвид ар...   События  1299   \n",
       "863283  указание коронавирус причина смерть человек не...  Общество  2061   \n",
       "863284  президент сша дональд трамп стать посредник но...  Политика  1020   \n",
       "\n",
       "              date  \n",
       "0       31-08-1999  \n",
       "1       31-08-1999  \n",
       "2       31-08-1999  \n",
       "3       31-08-1999  \n",
       "4       31-08-1999  \n",
       "...            ...  \n",
       "863280  11-09-2020  \n",
       "863281  11-09-2020  \n",
       "863282  11-09-2020  \n",
       "863283  11-09-2020  \n",
       "863284  11-09-2020  \n",
       "\n",
       "[863285 rows x 4 columns]"
      ]
     },
     "execution_count": 173,
     "metadata": {},
     "output_type": "execute_result"
    }
   ],
   "source": [
    "data"
   ]
  },
  {
   "cell_type": "markdown",
   "metadata": {},
   "source": [
    "## Перевод данных в формат данных для bigartm (+ деление на train/valid)"
   ]
  },
  {
   "cell_type": "code",
   "execution_count": 174,
   "metadata": {},
   "outputs": [
    {
     "name": "stderr",
     "output_type": "stream",
     "text": [
      "<>:8: DeprecationWarning: invalid escape sequence \\W\n",
      "<>:8: DeprecationWarning: invalid escape sequence \\W\n",
      "<>:8: DeprecationWarning: invalid escape sequence \\W\n",
      "<ipython-input-174-92174770a520>:8: DeprecationWarning: invalid escape sequence \\W\n",
      "  reg = re.compile('\\W+')\n"
     ]
    },
    {
     "data": {
      "application/vnd.jupyter.widget-view+json": {
       "model_id": "9192b99a6cbc4270a574abc6ba801f09",
       "version_major": 2,
       "version_minor": 0
      },
      "text/plain": [
       "HBox(children=(IntProgress(value=0, max=863285), HTML(value='')))"
      ]
     },
     "metadata": {},
     "output_type": "display_data"
    },
    {
     "name": "stdout",
     "output_type": "stream",
     "text": [
      "\n"
     ]
    }
   ],
   "source": [
    "filename_valid = 'drive/MyDrive/DATASETS/MachineLearning/topicmodeling/texts_valid.vw.txt'\n",
    "filename_train = 'drive/MyDrive/DATASETS/MachineLearning/topicmodeling/texts_train.vw.txt'\n",
    "\n",
    "\n",
    "counter_train = 0\n",
    "counter_valid = 0\n",
    "\n",
    "reg = re.compile(r'\\W+')\n",
    "with open(filename_valid, 'w') as fout_valid:\n",
    "    with open(filename_train, 'w') as fout_train:\n",
    "        for i in tqdm(range(len(data))):\n",
    "            text = (reg.sub(' ', data.loc[i]['text']).strip()).split()\n",
    "            label = '_'.join(data.loc[i]['date'].split('-')[1:])\n",
    "\n",
    "\n",
    "            if len(text) > 100:\n",
    "                if (i + 1) % 100 == 0:\n",
    "                    fout_valid.write('doc_{} {} |@month class_{}\\n'.format(counter_train, ' '.join(text), label))\n",
    "                    counter_train += 1\n",
    "                else:\n",
    "                    fout_train.write('doc_{} {} |@month class_{}\\n'.format(counter_valid, ' '.join(text), label))\n",
    "                    counter_valid += 1\n",
    "                    "
   ]
  },
  {
   "cell_type": "code",
   "execution_count": 175,
   "metadata": {},
   "outputs": [],
   "source": [
    "# освободим немного память\n",
    "del data\n",
    "\n",
    "gc.collect()"
   ]
  },
  {
   "cell_type": "code",
   "execution_count": 177,
   "metadata": {},
   "outputs": [
    {
     "name": "stdout",
     "output_type": "stream",
     "text": [
      "doc_0 причина смерть меньший мера 34 малазийский ребёнок возраст 5 месяц 7 год стать неизвестный вирус вызывающий прекращение деятельность сердце мозг утверждать учёный проводить свой исследование страна это сегодня утром сообщить радиостанция ввс первоначально предполагаться причина смерть стать давно известный врач сезонный лихорадка однако поздний выясниться сердце мозг ребёнок поразить неизвестный вирус наблюдение пациент госпиталь субить опубликовать исследователь журнал the lancet доказать большинство умерший ребёнок развиться миокардит воспаление мозг вызвать сезонный лихорадка возбудитель болезнь признанный аденовирус назвать учёный agent y правило аденовирус опасный жизнь вызывать нетяжелый заболевание тип известный простуда однако именно agent y обнаружить исследование ткань сердце мозг погибший ребёнок учёный вынудить признать видимо речь идти новый разновидность вирус возникнуть южный азия утверждение bbc вспышка похожий заболевание произойти 1998 год тайвань |@month class_09_1999\r\n",
      "doc_1 центральный разведывательный управление сша основать силиконовый долина компания деятельность который посвятить поддержка новый разработка область технология сообщать cnn цру получить конгресс сша 28 5 миллион доллар основание компания in q it сфера компетенция in q it войти инвестирование конкретный разработка информационный обеспечение американский университет участие совместный инициатива решение проблема безопасность интернет организация поиск информация далее разумеется цру планировать использовать разработка компания свой деятельность хотя in q it будущее собираться обслуживать коммерческий клиент предполагаться компания время стать самостоятельный приблизительный годовой бюджет около 100 миллион доллар совет директор in q it войти частность бывший министр оборона уильям перри директор исследовательский центр xerox corporation пасть альто бывший президент at t алекс мэндло in q it аббревиатура который in означать intelligence разведка it информационный технология q включить честь эксперт q сериал джеймс бонд цру демонстрировать наличие чувство юмор |@month class_09_1999\r\n"
     ]
    }
   ],
   "source": [
    "!head -2 drive/MyDrive/DATASETS/MachineLearning/topicmodeling/texts_valid.vw.txt"
   ]
  },
  {
   "cell_type": "code",
   "execution_count": 178,
   "metadata": {},
   "outputs": [
    {
     "name": "stdout",
     "output_type": "stream",
     "text": [
      "6604 drive/MyDrive/DATASETS/MachineLearning/topicmodeling/texts_valid.vw.txt\r\n"
     ]
    }
   ],
   "source": [
    "!wc -l drive/MyDrive/DATASETS/MachineLearning/topicmodeling/texts_valid.vw.txt"
   ]
  },
  {
   "cell_type": "code",
   "execution_count": 179,
   "metadata": {},
   "outputs": [
    {
     "name": "stdout",
     "output_type": "stream",
     "text": [
      "doc_0 1 сентябрь весь территория россия вводиться новый форма таможенный декларация физический лицо пояснить государственный таможенный комитет гтк форма декларация который одобрить совет руководитель таможенный служба государство участник содружество являться единый территория весь страна снг исключение армения данные итар тасс новый декларация содержаться подробный перечень товар подлежащее обязательный декларирование впервые число включить ядовитый сильно действующий вещество лекарство радиоактивный материал объект флор фауна также высокочастотный радио электронный устройство средство связь частность система радиолокация кабельный телевидение средство мобильный связь частота выше 9 килогерц кроме декларация необходимый приводить подробный сведение ввозить вывозить транспортный средство вид машинs год выпуск объесть двигатель номер двигатель кузов шасси россия новый форма декларация наряду прежний применяться 1 август лишь московский таможенный пункт шереметьево внуково домодедово чкаловский железнодорожный вокзал вводиться весь территория страна преимущество новый декларация пояснить гтк являться единый территория 11 государство снг подписать соглашение который пока присоединиться лишь армения вестись конструктивный переговоры новый таможенный декларация вступить сила территория украина белоруссия государство снг заявить свой готовность ввести свой территория концатекущий год |@month class_08_1999\r\n",
      "doc_1 сведение миссия оон передаваемый риа новость голосование вопрос самопределении бывший колония принять участие 95 зарегистрировать избиратель подсчёт голос начаться среда анонимный сначала присутствие свидетель вскрыть весь опечатать коробка затем весь бюллетень перемешать невозможно определить откуда поступить начаться подсчёт принцип голосование весь избиратель участок сообщать риа новость администрация клинтон отмечать чрезвычайный явка успех провести восточный тимор референдум вопрос независимость индонезийский провинция сша призывать весь участник признать результат референдум вне зависимость исход голосование сказать заместитель официальный представитель госдепартамент сша джеймс фоуля указывать случай насилие отметить время референдум представитель госдепартамент подчеркнуть ответственность правительство индонезия обеспечение порядок время подсчёт голос последующий этап решение проблема восточный тимор |@month class_08_1999\r\n"
     ]
    }
   ],
   "source": [
    "!head -2 drive/MyDrive/DATASETS/MachineLearning/topicmodeling/texts_train.vw.txt"
   ]
  },
  {
   "cell_type": "code",
   "execution_count": 180,
   "metadata": {},
   "outputs": [
    {
     "name": "stdout",
     "output_type": "stream",
     "text": [
      "653795 drive/MyDrive/DATASETS/MachineLearning/topicmodeling/texts_train.vw.txt\r\n"
     ]
    }
   ],
   "source": [
    "!wc -l drive/MyDrive/DATASETS/MachineLearning/topicmodeling/texts_train.vw.txt"
   ]
  },
  {
   "cell_type": "markdown",
   "metadata": {},
   "source": [
    "# BigARTM модель"
   ]
  },
  {
   "cell_type": "code",
   "execution_count": 181,
   "metadata": {},
   "outputs": [],
   "source": [
    "import artm\n",
    "import pyLDAvis"
   ]
  },
  {
   "cell_type": "code",
   "execution_count": 182,
   "metadata": {},
   "outputs": [
    {
     "name": "stdout",
     "output_type": "stream",
     "text": [
      "0.9.2\n"
     ]
    }
   ],
   "source": [
    "artm.ARTM(num_topics=1)\n",
    "print(artm.version())"
   ]
  },
  {
   "cell_type": "markdown",
   "metadata": {},
   "source": [
    "## Создаем батчи"
   ]
  },
  {
   "cell_type": "code",
   "execution_count": 185,
   "metadata": {},
   "outputs": [],
   "source": [
    "bv_train = artm.BatchVectorizer(data_path=filename_train, \n",
    "                                data_format='vowpal_wabbit', \n",
    "                                batch_size=10000, \n",
    "                                target_folder='drive/MyDrive/DATASETS/MachineLearning/topicmodeling/batches_train')\n"
   ]
  },
  {
   "cell_type": "code",
   "execution_count": 187,
   "metadata": {},
   "outputs": [],
   "source": [
    "# Важно, пути target_folder должны быть отличны от предыдущей\n",
    "bv_test = artm.BatchVectorizer(data_path=filename_valid, \n",
    "                               data_format='vowpal_wabbit', \n",
    "                               batch_size=10000, \n",
    "                               target_folder='drive/MyDrive/DATASETS/MachineLearning/topicmodeling/batches_valid')\n",
    "\n"
   ]
  },
  {
   "cell_type": "markdown",
   "metadata": {},
   "source": [
    "## Создаем словарь слов по заданым батчам"
   ]
  },
  {
   "cell_type": "code",
   "execution_count": 188,
   "metadata": {},
   "outputs": [],
   "source": [
    "dictionary = artm.Dictionary()\n",
    "dictionary.gather(data_path='drive/MyDrive/DATASETS/MachineLearning/topicmodeling/batches_train')"
   ]
  },
  {
   "cell_type": "markdown",
   "metadata": {},
   "source": [
    "## Инициализируем модель"
   ]
  },
  {
   "cell_type": "code",
   "execution_count": 189,
   "metadata": {},
   "outputs": [],
   "source": [
    "model = artm.ARTM(num_topics=200,\n",
    "                  dictionary=dictionary, \n",
    "                  class_ids={'@default_class': 1.0, \n",
    "                             '@month': 10.0})\n",
    "\n",
    "model.scores.add(artm.PerplexityScore(name='perplexity', dictionary=bv.dictionary))\n",
    "model.scores.add(artm.TopTokensScore(name='top-tokens', num_tokens=10))\n",
    "model.scores.add(artm.SparsityPhiScore(name='sparsity', class_id='@month'))"
   ]
  },
  {
   "cell_type": "markdown",
   "metadata": {},
   "source": [
    "## Обучаем модель с самого начала, без регуляризаторов"
   ]
  },
  {
   "cell_type": "code",
   "execution_count": null,
   "metadata": {},
   "outputs": [
    {
     "data": {
      "application/vnd.jupyter.widget-view+json": {
       "model_id": "f6f81e2d8b7d4184a61d316ed130cecf",
       "version_major": 2,
       "version_minor": 0
      },
      "text/plain": [
       "HBox(children=(IntProgress(value=0, max=50), HTML(value='')))"
      ]
     },
     "metadata": {},
     "output_type": "display_data"
    }
   ],
   "source": [
    "iterator = tqdm(range(50))\n",
    "for i in iterator:\n",
    "    model.fit_offline(bv_train, num_collection_passes=1)\n",
    "    iterator.set_postfix({'perplexity': model.score_tracker['perplexity'].value[-1],  \n",
    "                          'sparsity': model.score_tracker['sparsity'].value[-1],})"
   ]
  },
  {
   "cell_type": "code",
   "execution_count": 148,
   "metadata": {
    "scrolled": true
   },
   "outputs": [
    {
     "name": "stdout",
     "output_type": "stream",
     "text": [
      "['учёный', 'исследование', 'исследователь', 'анализ', 'который', 'журнал', 'клетка', 'результат', 'университет', 'изучить']\n",
      "['год', '2007', '2005', '2004', '2003', '2000', '2002', 'испания', 'сообщать', '1999']\n",
      "['германия', 'немецкий', 'берлин', 'фрг', 'зелёный', 'меркель', 'канцлер', 'который', 'ангел', 'немец']\n",
      "['министерство', 'предложение', 'выступить', 'зона', 'конференция', 'инициатива', 'необходимость', 'конкретный', 'обсуждаться', 'который']\n",
      "['решение', 'документ', 'принять', 'срок', 'соответствующий', 'запрет', 'положение', 'подготовить', 'введение', 'вступить']\n",
      "['украина', 'украинский', 'киев', 'порошенко', 'янукович', 'киевский', 'это', 'украинец', 'гривна', 'сбу']\n",
      "['глава', 'январь', 'февраль', 'который', 'отправить', 'заявлять', 'стать', 'анатолий', 'это', 'просить']\n",
      "['июль', 'август', 'государственный', 'деятельность', 'пятница', 'контроль', 'агентство', 'это', 'также', 'ранее']\n",
      "['директор', 'руководитель', 'заместитель', 'генеральный', 'департамент', 'гендиректор', 'исполнительный', 'рбк', 'руководство', 'вино']\n",
      "['индия', 'основное', 'индийский', 'который', 'деревня', 'пакистан', 'происхождение', 'послание', 'сообщать', 'архив']\n",
      "['долг', 'имущество', 'принадлежащий', 'претензия', 'задолженность', 'собственность', 'оао', 'юкос', 'управлять', 'ооо']\n",
      "['опубликовать', 'написать', 'свой', 'facebook', 'страница', 'публикация', 'адрес', 'twitter', 'комментарий', 'текст']\n",
      "['сотрудник', 'служба', 'пресс', 'проверка', 'офис', 'проверить', 'ссылка', 'данные', 'проверять', 'работать']\n",
      "['создать', 'каждый', 'прошлое', 'собственный', 'многие', 'заниматься', 'ранний', 'разный', 'маленький', 'небольшой']\n",
      "['территория', 'республика', 'структура', 'фсб', 'силовой', 'азербайджан', 'дагестан', 'кавказ', 'ликвидировать', 'это']\n",
      "['минута', 'счёт', 'й', 'матч', 'ворот', 'мяч', 'гол', '0', 'игра', 'шайба']\n",
      "['считать', 'это', 'выход', 'никакой', 'свой', 'прокомментировать', 'относиться', 'вокруг', 'образ', 'высказать']\n",
      "['news', 'нью', 'press', 'associated', 'йорк', 'bbc', 'сообщать', 'австралия', 'австралийский', 'ap']\n",
      "['аэропорт', 'турист', 'поездка', 'направление', 'отдых', 'туристический', 'путешествие', 'курорт', 'посетить', 'путешественник']\n",
      "['мера', 'экономический', 'политика', 'ес', 'ограничение', 'евросоюз', 'ввести', 'экономика', 'отменить', 'внешний']\n",
      "['роснефть', 'отрасль', 'месторождение', 'компания', 'промышленность', 'энергетический', 'нефтяной', 'энергетика', 'аэс', 'электроэнергия']\n",
      "['2008', '2006', 'год', '90', 'алкоголь', 'напиток', 'алкогольный', 'бутылка', 'пиво', 'сообщать']\n",
      "['безопасность', 'сила', 'проведение', 'мероприятие', 'угроза', 'нато', 'альянс', 'присутствие', 'призывать', 'обеспечение']\n",
      "['белоруссия', 'белорусский', 'лукашенко', 'минск', 'положительный', 'александр', 'президент', 'допинг', 'лёгкий', 'проба']\n",
      "['дело', 'уголовный', 'следствие', 'следственный', 'комитет', 'следователь', 'возбудить', 'отношение', 'версия', 'свидетель']\n",
      "['год', '2009', '2010', '2011', '2012', '2013', 'конец', 'начало', 'летом', 'осень']\n",
      "['грузия', 'грузинский', 'осетия', 'саакашвили', 'южный', 'абхазия', 'тбилиси', 'президент', 'георгий', 'республика']\n",
      "['ребёнок', 'женщина', 'летний', 'мужчина', 'родитель', 'девочка', 'мальчик', 'мать', 'жительница', 'детский']\n",
      "['россия', 'российский', 'организация', 'это', 'международный', 'федерация', 'сергей', 'также', 'рубеж', 'тасс']\n",
      "['говорить', 'знать', 'коллега', 'слово', 'ничто', 'назвать', 'радиостанция', 'повод', 'понимать', 'почему']\n",
      "['семья', 'характер', 'поведение', 'сексуальный', 'насилие', 'принц', 'носить', 'королева', 'королевский', 'секс']\n",
      "['война', 'год', 'х', 'советский', 'ссср', 'честь', 'мировой', '1990', 'отечественный', 'великий']\n",
      "['передать', 'который', 'обмен', 'приостановить', 'исключить', 'польза', 'разрешение', 'мочь', 'представитель', 'возобновить']\n",
      "['свой', 'ошибка', 'история', 'принести', 'кампания', 'вызвать', 'думать', 'который', 'это', 'реакция']\n",
      "['дом', 'квартира', 'жильё', 'недвижимость', 'аренда', 'жилой', 'стоимость', 'жилищный', 'комната', 'месяц']\n",
      "['рассказать', 'вместе', 'друг', 'свой', 'сын', 'жить', 'жена', 'отец', 'брат', 'дочь']\n",
      "['город', 'житель', 'местный', 'беженец', 'эстония', 'мигрант', 'лагерь', 'сообщать', 'проживать', 'который']\n",
      "['москва', 'московский', 'улица', 'столица', 'столичный', 'транспорт', 'поезд', 'метро', 'дорога', 'железнодорожный']\n",
      "['человек', 'погибнуть', 'результат', 'теракт', 'погибший', 'жертва', 'взрыв', 'террорист', 'гибель', 'ещё']\n",
      "['хороший', 'премия', 'церемония', 'роман', 'получить', 'награда', 'писатель', 'номинация', 'приз', 'лауреат']\n",
      "['сайт', 'материал', 'автор', 'ru', 'портал', 'разместить', 'сообщаться', 'название', 'com', 'официальный']\n",
      "['партия', 'выбор', 'единый', 'лидер', 'выборы', 'голос', 'президентский', 'демократический', 'свой', 'кандидат']\n",
      "['матч', 'очки', 'цска', 'спартак', 'тур', 'московский', 'стадион', 'зенит', 'динамо', 'болельщик']\n",
      "['сша', 'американский', 'американец', '2001', 'америка', 'который', 'роберт', 'post', 'street', 'свой']\n",
      "['место', 'самый', 'список', 'рейтинг', 'занять', 'третье', 'оказаться', 'второе', 'войти', 'первое']\n",
      "['компания', 'производство', 'предприятие', 'завод', 'корпорация', 'фирма', 'крупный', 'производитель', 'промышленный', 'производить']\n",
      "['операция', 'боевик', 'военнослужащий', 'солдат', 'подразделение', 'афганистан', 'войско', 'штаб', 'офицер', 'уничтожить']\n",
      "['ноябрь', 'сеть', 'социальный', 'передача', 'прямая', 'это', 'плюс', 'ход', '24', 'также']\n",
      "['военный', 'оборона', 'база', 'армия', 'генерал', 'сила', 'минобороны', 'войско', 'удар', 'нанести']\n",
      "['reuters', 'продолжаться', 'france', 'presse', 'запад', 'agence', 'сообщать', 'который', 'ливия', 'юг']\n",
      "['машина', 'автомобиль', 'водитель', 'дорога', 'автобус', 'дорожный', 'движение', 'дтп', 'транспортный', 'авария']\n",
      "['международный', 'оон', 'доклад', 'польша', 'постоянный', 'польский', 'член', 'сообщество', 'делегация', 'резолюция']\n",
      "['корабль', 'морской', 'флот', 'ремонт', 'лодка', 'подводный', 'корпус', 'вмс', 'располагаться', 'вмф']\n",
      "['администрация', 'городской', 'мэр', 'юрий', 'здание', 'памятник', 'реконструкция', 'мэрия', 'культурный', 'лужков']\n",
      "['пожар', 'наркотик', 'помещение', 'здание', 'утро', 'возникнуть', 'пожарный', 'окно', 'огонь', 'вещество']\n",
      "['мид', 'иран', 'ядерный', 'посольство', 'дипломат', 'посол', 'иранский', 'дипломатический', 'армения', 'лавров']\n",
      "['строительство', 'поток', 'эксплуатация', 'газопровод', 'дальний', 'работа', 'строить', 'экологический', 'завершить', 'построить']\n",
      "['соглашение', 'китай', 'подписать', 'договор', 'китайский', 'заключить', 'торговый', 'торговля', 'знак', 'кнр']\n",
      "['2', 'середина', 'максимальный', '250', 'это', 'категория', '72', 'восемь', '350', 'момент']\n",
      "['самолёт', 'пассажир', 'авиакомпания', 'рейс', 'борт', 'катастрофа', 'пилот', 'лайнер', 'полёт', 'экипаж']\n",
      "['суд', 'признать', 'подать', 'иск', 'свобода', 'судебный', 'решение', 'приговор', 'судья', 'лишение']\n",
      "['рука', 'это', 'вирус', 'мочь', 'нужно', 'человек', 'кашель', 'телефон', 'нос', 'коронавирус']\n",
      "['газа', 'газпром', 'поставка', 'газ', 'кубометр', 'топливо', 'газовый', 'контракт', 'транзит', 'российский']\n",
      "['фильм', 'роль', 'картина', 'режиссёр', 'актёр', 'сериал', 'главный', 'съёмка', 'актриса', 'сыграть']\n",
      "['километр', 'самолёт', 'час', 'ввс', 'скорость', 'су', 'воздушный', 'полёт', 'пространство', 'воздух']\n",
      "['греция', 'чехия', 'дон', 'сербия', 'греческий', 'австрия', 'болгария', 'венгрия', 'румыния', 'кипр']\n",
      "['цена', 'нефть', 'тонна', 'баррель', 'добыча', 'экспорт', 'снизить', 'запас', 'стоимость', 'мировой']\n",
      "['команда', 'сборный', 'чемпионат', 'тренер', 'италия', 'сборная', 'итальянский', 'футбол', 'главный', 'матч']\n",
      "['аппарат', 'технология', 'запустить', 'запуск', 'разработка', 'спутник', 'вывести', 'ракета', 'носитель', 'предназначить']\n",
      "['отношение', 'переговоры', 'встреча', 'против', 'санкция', 'позиция', 'сторона', 'сотрудничество', 'визит', 'шаг']\n",
      "['увидеть', 'красный', 'который', 'площадка', 'парк', 'внутри', 'похожий', 'гора', 'стоять', 'вход']\n",
      "['тысяча', 'метр', 'около', 'составлять', 'квадратный', '100', 'площадь', '300', '500', 'общий']\n",
      "['the', 's', 'and', 'лос', 'i', 'майкл', 'анджелес', 'a', 'джексон', 'in']\n",
      "['школа', 'институт', 'образование', 'университет', 'студент', 'наука', 'учебный', 'научный', 'вуз', 'академия']\n",
      "['выиграть', 'турнир', 'финал', 'круг', 'мария', '6', 'россиянка', 'матч', 'проиграть', 'счёт']\n",
      "['задержать', 'подозревать', 'арест', 'арестовать', 'незаконный', 'задержание', 'подозрение', 'стража', 'обыск', 'розыск']\n",
      "['животное', 'собака', 'вид', 'животный', 'птица', 'хозяин', 'медведь', 'рыба', 'кот', 'который']\n",
      "['произойти', 'полиция', 'полицейский', 'инцидент', 'нападение', 'пострадать', 'устроить', 'получить', 'случиться', 'несколько']\n",
      "['устройство', 'apple', 'мобильный', 'смартфон', 'телефон', 'iphone', 'версия', 'microsoft', 'экран', 'windows']\n",
      "['мир', 'этап', 'бразилия', 'швеция', 'гонка', 'нидерланды', 'секунда', 'шведский', 'финляндия', 'бельгия']\n",
      "['власть', 'политический', 'статус', 'конституция', 'борис', 'временной', 'референдум', 'независимость', 'советник', 'предоставление']\n",
      "['депутат', 'парламент', 'виктор', 'верховный', 'рад', 'спикер', 'тимошенко', 'блок', 'фракция', 'парламентарий']\n",
      "['сегодня', 'никто', 'видеть', 'происходить', 'слово', 'общество', 'это', 'корреспондент', 'тема', 'назвать']\n",
      "['петербург', 'участок', 'санкт', 'округа', 'земля', 'петербургский', 'северо', 'земельный', 'автономный', 'западный']\n",
      "['израиль', 'израильский', 'палестинский', 'сектор', 'египет', 'автономия', 'хамас', 'палестинец', 'еврейский', 'газа']\n",
      "['2014', '2015', 'запретить', 'особый', 'надежда', 'это', 'год', 'правый', 'пётр', 'антон']\n",
      "['интернет', 'пользователь', 'сервис', 'доступ', 'google', 'ресурс', 'онлайн', 'блог', 'приложение', 'хакер']\n",
      "['дать', 'большой', 'смочь', 'наш', 'мочь', 'возможность', 'открытый', 'это', 'больший', 'который']\n",
      "['издание', 'газета', 'писать', 'номер', 'отмечать', 'коммерсант', 'журнал', 'данные', 'ведомость', 'редактор']\n",
      "['пять', 'шесть', '50', 'количество', 'десять', 'примерно', 'месяц', 'сбор', 'остальной', 'собрать']\n",
      "['помощь', 'состояние', 'больница', 'медицинский', 'доставить', 'находиться', 'тяжёлый', 'врач', 'оказать', 'госпитализировать']\n",
      "['который', 'обычный', 'метод', 'волна', 'позволять', 'свет', 'эксперимент', 'учёный', 'работа', 'возникать']\n",
      "['новый', 'проект', 'создание', 'предполагаться', 'будущее', 'планировать', 'совместный', 'заняться', 'идея', 'представить']\n",
      "['магазин', 'реклама', 'рекламный', 'компьютер', 'формат', 'объявление', 'x', 'конкурент', 'компьютерный', 'цифровой']\n",
      "['мнение', 'проблема', 'борьба', 'важный', 'привести', 'мочь', 'серьёзный', 'задача', 'пример', 'точка']\n",
      "['группа', 'выступление', 'концерт', 'фестиваль', 'зал', 'коллектив', 'участник', 'шоу', 'состояться', 'организатор']\n",
      "['должный', 'вопрос', 'решить', 'сделать', 'это', 'хотеть', 'который', 'слово', 'попросить', 'отвечать']\n",
      "['неделя', 'эксперт', 'специалист', 'оказаться', 'последний', 'это', 'провести', 'прошлый', '22', 'слишком']\n",
      "['однако', 'несколько', 'удаться', 'пытаться', 'попытка', 'взять', 'вскоре', 'это', 'стать', 'спустя']\n",
      "['ракета', 'вооружение', 'комплекс', 'ракетный', 'установка', 'испытание', 'танк', 'учение', 'техника', 'боев']\n",
      "['средство', 'фонд', 'бюджет', 'доход', 'налог', 'расход', 'налоговый', 'финансирование', 'финансы', 'бюджетный']\n",
      "['система', 'счёт', 'услуга', 'клиент', 'карта', 'схема', 'перевести', 'перевод', 'платёж', 'оплата']\n",
      "['убийство', 'преступление', 'совершить', 'убитый', 'покушение', 'убить', 'совершенный', 'совершение', 'версия', 'причастный']\n",
      "['имя', 'внимание', 'видео', 'который', 'привлечь', 'ролик', 'запись', 'появиться', 'youtube', 'обратить']\n",
      "['1', '5', '3', '4', '7', '6', '9', '11', '8', '13']\n",
      "['фотография', 'девушка', 'снимка', 'instagram', 'фото', 'пользователь', 'который', 'выглядеть', 'поделиться', 'свой']\n",
      "['менеджер', 'далее', 'автомобиль', 'топ', 'швейцарский', 'модель', 'швейцария', 'автомобильный', 'формула', 'автоваз']\n",
      "['альбом', 'музыкант', 'певица', 'песня', 'музыкальный', 'певец', 'музыка', 'исполнитель', 'записать', 'песнь']\n",
      "['день', 'очень', 'именно', 'назад', 'это', 'пора', 'хотя', 'оставаться', 'просто', 'мочь']\n",
      "['вернуть', 'художник', 'работа', 'картина', 'изображение', 'искусство', 'старое', 'старый', 'который', 'ценность']\n",
      "['телеканал', 'канал', 'эфир', 'информационный', 'заключённый', 'телевидение', 'нтв', 'вести', 'тв', 'ведущий']\n",
      "['гражданин', 'иностранный', 'объединение', 'латвия', 'паспорт', 'процедура', 'въезд', 'иностранец', 'выдача', 'режим']\n",
      "['государство', 'чиновник', 'нынешний', 'президент', 'реформа', 'казахстан', 'снг', 'также', 'это', 'национальный']\n",
      "['право', 'защита', 'обращение', 'соответствие', 'иметь', 'законодательство', 'жалоба', 'юридический', 'основание', 'юрист']\n",
      "['аль', 'ирак', 'иракский', 'саудовский', 'аравия', 'каеда', 'казнь', 'хусейн', 'арабский', 'бин']\n",
      "['сообщение', 'сторона', 'говориться', 'идти', 'ведомство', 'нарушение', 'речь', 'отмечаться', 'направить', 'правило']\n",
      "['the', 'британский', 'великобритания', 'лондон', 'daily', 'фунт', 'стерлинг', 'mail', 'guardian', 'би']\n",
      "['сирия', 'турция', 'турецкий', 'сирийский', 'группировка', 'исламский', 'террористический', 'иго', 'боевик', 'атака']\n",
      "['участие', 'принять', 'известно', 'стать', 'принимать', 'пройти', 'представлять', '2017', 'участник', 'конкурс']\n",
      "['пункт', 'доллар', 'упасть', 'индекс', '0', 'биржа', 'падение', 'торг', 'рынок', 'отметка']\n",
      "['звезда', 'планета', 'земля', 'учёный', 'наблюдение', 'масса', 'который', 'солнечный', 'наблюдать', 'атмосфера']\n",
      "['штат', 'буш', 'джон', 'джордж', 'свой', 'калифорния', 'который', 'флорида', 'браун', 'дэвид']\n",
      "['миллион', 'доллар', 'продать', 'около', 'аукцион', 'стоимость', 'сумма', 'выставить', 'дорогой', 'оцениваться']\n",
      "['весь', 'отметить', 'это', 'слово', 'делать', 'подчеркнуть', 'ведущий', 'стоить', 'ждать', 'нужный']\n",
      "['информация', 'сми', 'руководство', 'обратиться', 'подтвердить', 'сведение', 'просьба', 'потребовать', 'пока', 'появиться']\n",
      "['золотой', 'канада', 'медаль', 'рекорд', 'короткий', 'балл', 'золото', 'канадский', 'татьяна', 'завоевать']\n",
      "['процент', 'ставка', 'опрос', 'опросить', '75', 'исследование', 'процентный', 'это', 'результат', 'составлять']\n",
      "['оружие', 'открыть', 'стрельба', 'пистолет', 'ранение', 'произвести', 'огонь', 'автомат', 'боеприпас', 'стрелять']\n",
      "['игра', 'разработчик', '3', 'консоль', '360', 'который', 'версия', 'игровой', 'xbox', 'студия']\n",
      "['сентябрь', 'ру', 'лента', '2016', 'поступить', 'редакция', 'выбрать', 'заявка', 'открытие', 'это']\n",
      "['вода', 'сильный', 'река', 'океан', 'температура', 'градус', 'ветер', 'дождь', 'вод', 'погода']\n",
      "['заявить', 'заявление', 'слово', 'передавать', 'секретарь', 'отказаться', 'пообещать', 'это', 'комментировать', 'мочь']\n",
      "['сказать', 'июнь', 'это', 'интервью', 'рассказать', 'который', 'работать', 'уверенный', 'слово', 'уходить']\n",
      "['декабрь', 'алексей', 'губернатор', 'олег', 'полномочие', 'евгений', 'валерий', 'навальный', 'временно', 'вячеслав']\n",
      "['расследование', 'либо', 'вывод', 'якобы', 'который', 'действие', 'обстоятельство', 'выясниться', 'доказательство', 'некий']\n",
      "['сообщаться', 'релиз', 'выпустить', 'который', 'предыдущий', 'of', 'называться', 'стать', 'платформа', 'успешный']\n",
      "['деньга', 'размер', 'сумма', 'требовать', 'получение', 'ущерб', 'который', 'выплата', 'компенсация', 'получить']\n",
      "['конфликт', 'восток', 'донбасс', 'народный', 'донецкий', 'прекращение', 'республика', 'луганский', 'самопровозгласить', 'днр']\n",
      "['октябрь', 'александр', 'сергей', 'николай', 'организовать', 'максим', 'иван', 'константин', 'елена', 'ольга']\n",
      "['президент', 'народ', 'политик', 'лидер', 'зеленский', 'леонид', 'венесуэла', 'переворот', 'это', 'окружение']\n",
      "['рубль', 'евро', 'курс', 'валюта', 'стоимость', 'валютный', 'мвф', 'резерв', 'стоить', 'копейка']\n",
      "['сообщить', 'новость', 'риа', 'среда', 'понедельник', 'тасс', 'передавать', 'итар', 'это', 'днём']\n",
      "['источник', 'добавить', 'ситуация', 'слово', 'пояснить', 'это', 'ссылка', 'уточнить', 'подчеркнуть', 'предоставить']\n",
      "['северный', 'южный', 'остров', 'япония', 'корея', 'японский', 'кндр', 'саммит', 'ким', 'чен']\n",
      "['франция', 'французский', 'книга', 'париж', 'жан', 'француз', 'который', 'парижский', 'читать', 'саркози']\n",
      "['контракт', '35', 'истребитель', 'f', 'заказ', 'самолёт', 'c', 'поколение', 'a', 'заменить']\n",
      "['регион', 'андрей', 'региональный', 'московский', 'подмосковье', 'подмосковный', 'хозяйство', 'сельский', 'сад', 'воробьев']\n",
      "['человек', 'нужно', 'минимум', 'старший', 'также', 'часто', 'помогать', 'это', 'особенно', 'способ']\n",
      "['россиянин', '2018', 'го', 'победа', 'боец', 'одержать', 'абсолютный', 'это', 'стиль', 'ufc']\n",
      "['управление', 'орган', 'мвд', 'правоохранительный', 'внутренний', 'начальник', 'милиция', 'административный', 'отдел', 'охрана']\n",
      "['акция', 'крупный', 'принадлежать', 'компания', 'акционер', 'владелец', 'бумага', 'актив', 'инвестор', 'владеть']\n",
      "['выйти', 'русский', 'событие', 'язык', 'серия', 'посвятить', 'выходить', 'который', 'левый', 'держать']\n",
      "['использовать', 'письмо', 'использование', 'специальный', 'электронный', 'почта', 'использоваться', 'который', 'способный', 'мочь']\n",
      "['случай', 'коронавирус', 'распространение', 'зафиксировать', 'выявить', 'человек', 'число', 'пандемия', 'здравоохранение', 'вирус']\n",
      "['бывший', 'прокуратура', 'адвокат', 'прокурор', 'бизнесмен', 'предприниматель', 'генпрокуратура', 'экс', 'мошенничество', 'хищение']\n",
      "['область', 'край', 'областной', 'киргизия', 'краснодарский', 'губернатор', 'владивосток', 'красноярский', 'свердловский', 'приморский']\n",
      "['связь', 'федеральный', 'оператор', 'тариф', 'стандарт', 'малое', 'фас', 'предоставлять', 'субъект', 'антимонопольный']\n",
      "['министр', 'правительство', 'премьер', 'поддерживать', 'премьера', 'кабинет', 'свой', 'ливан', 'напомнить', 'который']\n",
      "['культура', 'театр', 'артист', 'сцена', 'спектакль', 'актёр', 'театральный', 'постановка', 'режиссёр', 'художественный']\n",
      "['олимпийский', 'спорт', 'спортсмен', 'спортивный', 'игра', 'федерация', 'олимпиада', 'сочи', 'комитет', 'соревнование']\n",
      "['президент', 'трамп', 'сша', 'обама', 'вашингтон', 'белый', 'дональд', 'конгресс', 'сенатор', 'барак']\n",
      "['страна', 'европейский', 'европа', 'восточный', 'западный', 'международный', 'азия', 'ближний', 'кризис', 'который']\n",
      "['президент', 'владимир', 'путин', 'крым', 'кремль', 'россия', 'указ', 'песок', 'полуостров', 'лидер']\n",
      "['бренд', 'одежда', 'марка', 'коллекция', 'модель', 'представить', 'чёрный', 'дизайнер', 'цвета', 'цвет']\n",
      "['статья', 'факт', 'часть', 'рф', 'ук', 'уголовный', 'возбудить', 'лицо', 'взрыв', 'бомба']\n",
      "['10', '15', '30', '12', '14', 'декабрь', '21', '18', '16', '29']\n",
      "['жизнь', 'здоровье', 'врач', 'лечение', 'смерть', 'кровь', 'болезнь', 'страдать', 'приём', 'умереть']\n",
      "['обнаружить', 'найти', 'тело', 'смерть', 'родственник', 'неизвестный', 'похитить', 'который', 'пропасть', 'след']\n",
      "['акция', 'массовый', 'протест', 'участник', 'человек', 'митинг', 'активист', 'против', 'беспорядок', 'движение']\n",
      "['times', 'спецслужба', 'new', 'разведка', 'агент', 'отчёт', 'york', 'подробность', 'обнародовать', 'секретный']\n",
      "['организация', 'призыв', 'мусульманин', 'узбекистан', 'экстремистский', 'религиозный', 'таджикистан', 'который', 'ислам', 'радикальный']\n",
      "['предложить', 'оценка', 'дополнительный', 'предлагать', 'это', '2019', 'вариант', '2020', 'обеспечить', 'увеличить']\n",
      "['рынок', 'продажа', 'сделка', 'бизнес', 'доля', 'покупка', 'приобрести', 'купить', 'покупатель', 'пакет']\n",
      "['центр', 'объект', 'комплекс', 'построить', 'площадь', 'строительство', 'отель', 'гостиница', 'строительный', 'торговый']\n",
      "['банка', 'финансовый', 'банк', 'кредит', 'организация', 'кредитный', 'сбербанк', 'банковский', 'цб', 'кризис']\n",
      "['бой', 'килограмм', 'вес', 'профессиональный', 'всемирный', 'чемпион', 'поединок', 'титул', 'боксёр', 'кличко']\n",
      "['церковь', 'храм', 'православный', 'святой', 'кирилл', 'традиция', 'священник', 'папа', 'собор', 'бог']\n",
      "['комиссия', 'кандидат', 'голосование', 'избирательный', 'госдума', 'выбор', 'регистрация', 'избиратель', 'зарегистрировать', 'проголосовать']\n",
      "['миллиард', 'доллар', 'составить', 'общий', 'объесть', 'год', 'сумма', 'составлять', 'триллион', 'чистый']\n",
      "['ресторан', 'посетитель', 'гость', 'быстрый', 'заведение', 'кафе', 'бар', 'гарри', 'который', 'придумать']\n",
      "['обвинение', 'заключение', 'тюрьма', 'предъявить', 'обвинять', 'обвинить', 'вина', 'освободить', 'осудить', 'грозить']\n",
      "['граница', 'судно', 'мост', 'мор', 'порт', 'судный', 'берег', 'море', 'находиться', 'флаг']\n",
      "['пост', 'вица', 'должность', 'отставка', 'назначить', 'президент', 'занимать', 'покинуть', 'уйти', 'возглавлять']\n",
      "['музей', 'век', 'предмет', 'стена', 'фрагмент', 'дворец', 'останки', 'современный', 'кладбище', 'год']\n",
      "['закон', 'законопроект', 'изменение', 'госдума', 'внести', 'поправка', 'одобрить', 'согласно', 'штраф', 'предусматривать']\n",
      "['агентство', 'интерфакс', 'ночь', 'вечером', 'суббота', 'сообщать', 'прибыть', 'утром', 'воскресение', 'данные']\n",
      "['8', '27', 'вертолёт', '60', '70', '28', 'техника', '34', '26', '52']\n",
      "['союз', 'станция', 'космический', 'запланировать', 'корабль', 'наметить', 'мкс', 'космос', 'полёт', 'отложить']\n",
      "['общественный', 'население', 'работа', 'рабочий', 'зарплата', 'получать', 'работник', 'повышение', 'число', 'труд']\n",
      "['причина', 'часы', 'полностью', 'предварительный', 'работа', 'результат', 'последствие', 'авария', 'восстановление', 'восстановить']\n",
      "['затем', 'молодая', 'девушка', 'угрожать', 'летний', 'камера', 'преступник', 'мужчина', 'знакомый', 'голова']\n",
      "['район', 'пострадавший', 'расположить', 'дом', 'находиться', 'поиск', 'человек', 'посёлок', 'мчс', 'здание']\n",
      "['продукция', 'продукт', 'товар', 'таможенный', 'производитель', 'мясо', 'питание', 'импорт', 'ввоз', 'потребитель']\n",
      "['совет', 'рф', 'председатель', 'дмитрий', 'михаил', 'медведев', 'заседание', 'член', 'форум', 'дмитрия']\n",
      "['рост', 'уровень', 'показатель', 'вырасти', 'сравнение', 'снижение', 'увеличиться', 'экономика', 'квартал', 'прогноз']\n",
      "['журналист', 'чечня', 'пара', 'чеченский', 'кадыров', 'супруг', 'муж', 'брак', 'супруга', 'грозный']\n",
      "['клуб', 'сезон', 'игрок', 'лига', 'футболист', 'чемпион', 'играть', 'выступать', 'барселона', 'матч']\n",
      "['время', 'новое', 'настоящее', 'который', 'ближний', 'технический', 'работа', 'установленный', 'изначально', 'вестись']\n",
      "['программа', 'рамка', 'развитие', 'план', 'поддержка', 'планироваться', 'сфера', 'реализация', 'выделить', 'национальный']\n",
      "['март', 'май', 'апрель', 'четверг', 'вторник', '26', 'дата', 'сообщать', 'объявить', 'помощник']\n"
     ]
    }
   ],
   "source": [
    "top_tokens = model.score_tracker['top-tokens'].last_tokens\n",
    "\n",
    "for topic_name in model.topic_names:\n",
    "    print(top_tokens[topic_name])"
   ]
  },
  {
   "cell_type": "code",
   "execution_count": 149,
   "metadata": {},
   "outputs": [
    {
     "data": {
      "application/vnd.jupyter.widget-view+json": {
       "model_id": "323137ae677543ed8be4bac06718e32b",
       "version_major": 2,
       "version_minor": 0
      },
      "text/plain": [
       "HBox(children=(IntProgress(value=1, bar_style='info', max=1), HTML(value='')))"
      ]
     },
     "metadata": {},
     "output_type": "display_data"
    },
    {
     "name": "stdout",
     "output_type": "stream",
     "text": [
      "\n"
     ]
    }
   ],
   "source": [
    "month_modal = []\n",
    "with open('drive/MyDrive/DATASETS/MachineLearning/topicmodeling/texts.vw.txt') as f:\n",
    "    for line in tqdm(f):\n",
    "        string = re.search(r'@month class_(\\d\\d_\\d\\d\\d\\d)\\n', line).group(1)\n",
    "        month_modal.append(datetime.datetime.strptime(string, '%m_%Y'))\n",
    "\n",
    "month_modal = np.array(month_modal)"
   ]
  },
  {
   "cell_type": "code",
   "execution_count": 150,
   "metadata": {},
   "outputs": [],
   "source": [
    "predict = model.transform(bv)"
   ]
  },
  {
   "cell_type": "code",
   "execution_count": 151,
   "metadata": {},
   "outputs": [],
   "source": [
    "unique_modal = np.unique(month_modal)"
   ]
  },
  {
   "cell_type": "code",
   "execution_count": 152,
   "metadata": {},
   "outputs": [
    {
     "data": {
      "application/vnd.jupyter.widget-view+json": {
       "model_id": "0d5175fbeab24621a92d8958475736b3",
       "version_major": 2,
       "version_minor": 0
      },
      "text/plain": [
       "HBox(children=(IntProgress(value=0, max=255), HTML(value='')))"
      ]
     },
     "metadata": {},
     "output_type": "display_data"
    },
    {
     "name": "stdout",
     "output_type": "stream",
     "text": [
      "\n"
     ]
    }
   ],
   "source": [
    "mean_vectors = []\n",
    "for modal in tqdm(unique_modal):\n",
    "    mean_vectors.append(predict[np.where(month_modal == modal)[0]].values.mean(axis=-1))\n",
    "    \n",
    "mean_vectors = np.array(mean_vectors)"
   ]
  },
  {
   "cell_type": "code",
   "execution_count": 153,
   "metadata": {},
   "outputs": [
    {
     "data": {
      "image/png": "[encoded data removed]",
      "text/plain": [
       "<Figure size 8640x576 with 2 Axes>"
      ]
     },
     "metadata": {
      "needs_background": "light"
     },
     "output_type": "display_data"
    }
   ],
   "source": [
    "fig = plt.figure(figsize=(120, 8))\n",
    "\n",
    "im = plt.imshow(mean_vectors.T, cmap='gray')\n",
    "_ = fig.colorbar(im)\n",
    "\n",
    "plt.show()"
   ]
  },
  {
   "cell_type": "code",
   "execution_count": null,
   "metadata": {},
   "outputs": [],
   "source": []
  }
 ],
 "metadata": {
  "colab": {
   "name": "main.ipynb",
   "provenance": []
  },
  "kernelspec": {
   "display_name": "Python 3",
   "language": "python",
   "name": "python3"
  },
  "language_info": {
   "codemirror_mode": {
    "name": "ipython",
    "version": 3
   },
   "file_extension": ".py",
   "mimetype": "text/x-python",
   "name": "python",
   "nbconvert_exporter": "python",
   "pygments_lexer": "ipython3",
   "version": "3.7.3"
  },
  "widgets": {
   "application/vnd.jupyter.widget-state+json": {
    "3374f80338da4d6a98c4d2cd9442fbe7": {
     "model_module": "@jupyter-widgets/controls",
     "model_name": "HBoxModel",
     "state": {
      "_dom_classes": [],
      "_model_module": "@jupyter-widgets/controls",
      "_model_module_version": "1.5.0",
      "_model_name": "HBoxModel",
      "_view_count": null,
      "_view_module": "@jupyter-widgets/controls",
      "_view_module_version": "1.5.0",
      "_view_name": "HBoxView",
      "box_style": "",
      "children": [
       "IPY_MODEL_676b7e9b301243889bcef3e65fb58c14",
       "IPY_MODEL_b3b19874e74347108afb5e4b1a3c9358"
      ],
      "layout": "IPY_MODEL_b6154c0d1a61414bb3e95e327b8a3dc6"
     }
    },
    "3dcfc7cbe112444d96ddd71189279a0c": {
     "model_module": "@jupyter-widgets/controls",
     "model_name": "ProgressStyleModel",
     "state": {
      "_model_module": "@jupyter-widgets/controls",
      "_model_module_version": "1.5.0",
      "_model_name": "ProgressStyleModel",
      "_view_count": null,
      "_view_module": "@jupyter-widgets/base",
      "_view_module_version": "1.2.0",
      "_view_name": "StyleView",
      "bar_color": null,
      "description_width": "initial"
     }
    },
    "418b17a17c1a4725b2bbaf3278d9ade2": {
     "model_module": "@jupyter-widgets/controls",
     "model_name": "DescriptionStyleModel",
     "state": {
      "_model_module": "@jupyter-widgets/controls",
      "_model_module_version": "1.5.0",
      "_model_name": "DescriptionStyleModel",
      "_view_count": null,
      "_view_module": "@jupyter-widgets/base",
      "_view_module_version": "1.2.0",
      "_view_name": "StyleView",
      "description_width": ""
     }
    },
    "5befa34a7d2749738056954d024ca452": {
     "model_module": "@jupyter-widgets/base",
     "model_name": "LayoutModel",
     "state": {
      "_model_module": "@jupyter-widgets/base",
      "_model_module_version": "1.2.0",
      "_model_name": "LayoutModel",
      "_view_count": null,
      "_view_module": "@jupyter-widgets/base",
      "_view_module_version": "1.2.0",
      "_view_name": "LayoutView",
      "align_content": null,
      "align_items": null,
      "align_self": null,
      "border": null,
      "bottom": null,
      "display": null,
      "flex": null,
      "flex_flow": null,
      "grid_area": null,
      "grid_auto_columns": null,
      "grid_auto_flow": null,
      "grid_auto_rows": null,
      "grid_column": null,
      "grid_gap": null,
      "grid_row": null,
      "grid_template_areas": null,
      "grid_template_columns": null,
      "grid_template_rows": null,
      "height": null,
      "justify_content": null,
      "justify_items": null,
      "left": null,
      "margin": null,
      "max_height": null,
      "max_width": null,
      "min_height": null,
      "min_width": null,
      "object_fit": null,
      "object_position": null,
      "order": null,
      "overflow": null,
      "overflow_x": null,
      "overflow_y": null,
      "padding": null,
      "right": null,
      "top": null,
      "visibility": null,
      "width": null
     }
    },
    "676b7e9b301243889bcef3e65fb58c14": {
     "model_module": "@jupyter-widgets/controls",
     "model_name": "FloatProgressModel",
     "state": {
      "_dom_classes": [],
      "_model_module": "@jupyter-widgets/controls",
      "_model_module_version": "1.5.0",
      "_model_name": "FloatProgressModel",
      "_view_count": null,
      "_view_module": "@jupyter-widgets/controls",
      "_view_module_version": "1.5.0",
      "_view_name": "ProgressView",
      "bar_style": "danger",
      "description": "  3%",
      "description_tooltip": null,
      "layout": "IPY_MODEL_5befa34a7d2749738056954d024ca452",
      "max": 863285,
      "min": 0,
      "orientation": "horizontal",
      "style": "IPY_MODEL_3dcfc7cbe112444d96ddd71189279a0c",
      "value": 26277
     }
    },
    "b3b19874e74347108afb5e4b1a3c9358": {
     "model_module": "@jupyter-widgets/controls",
     "model_name": "HTMLModel",
     "state": {
      "_dom_classes": [],
      "_model_module": "@jupyter-widgets/controls",
      "_model_module_version": "1.5.0",
      "_model_name": "HTMLModel",
      "_view_count": null,
      "_view_module": "@jupyter-widgets/controls",
      "_view_module_version": "1.5.0",
      "_view_name": "HTMLView",
      "description": "",
      "description_tooltip": null,
      "layout": "IPY_MODEL_fd28626b8388425aa1a5cc944e7605e8",
      "placeholder": "​",
      "style": "IPY_MODEL_418b17a17c1a4725b2bbaf3278d9ade2",
      "value": " 26277/863285 [03:20&lt;1:30:01, 154.96it/s]"
     }
    },
    "b6154c0d1a61414bb3e95e327b8a3dc6": {
     "model_module": "@jupyter-widgets/base",
     "model_name": "LayoutModel",
     "state": {
      "_model_module": "@jupyter-widgets/base",
      "_model_module_version": "1.2.0",
      "_model_name": "LayoutModel",
      "_view_count": null,
      "_view_module": "@jupyter-widgets/base",
      "_view_module_version": "1.2.0",
      "_view_name": "LayoutView",
      "align_content": null,
      "align_items": null,
      "align_self": null,
      "border": null,
      "bottom": null,
      "display": null,
      "flex": null,
      "flex_flow": null,
      "grid_area": null,
      "grid_auto_columns": null,
      "grid_auto_flow": null,
      "grid_auto_rows": null,
      "grid_column": null,
      "grid_gap": null,
      "grid_row": null,
      "grid_template_areas": null,
      "grid_template_columns": null,
      "grid_template_rows": null,
      "height": null,
      "justify_content": null,
      "justify_items": null,
      "left": null,
      "margin": null,
      "max_height": null,
      "max_width": null,
      "min_height": null,
      "min_width": null,
      "object_fit": null,
      "object_position": null,
      "order": null,
      "overflow": null,
      "overflow_x": null,
      "overflow_y": null,
      "padding": null,
      "right": null,
      "top": null,
      "visibility": null,
      "width": null
     }
    },
    "fd28626b8388425aa1a5cc944e7605e8": {
     "model_module": "@jupyter-widgets/base",
     "model_name": "LayoutModel",
     "state": {
      "_model_module": "@jupyter-widgets/base",
      "_model_module_version": "1.2.0",
      "_model_name": "LayoutModel",
      "_view_count": null,
      "_view_module": "@jupyter-widgets/base",
      "_view_module_version": "1.2.0",
      "_view_name": "LayoutView",
      "align_content": null,
      "align_items": null,
      "align_self": null,
      "border": null,
      "bottom": null,
      "display": null,
      "flex": null,
      "flex_flow": null,
      "grid_area": null,
      "grid_auto_columns": null,
      "grid_auto_flow": null,
      "grid_auto_rows": null,
      "grid_column": null,
      "grid_gap": null,
      "grid_row": null,
      "grid_template_areas": null,
      "grid_template_columns": null,
      "grid_template_rows": null,
      "height": null,
      "justify_content": null,
      "justify_items": null,
      "left": null,
      "margin": null,
      "max_height": null,
      "max_width": null,
      "min_height": null,
      "min_width": null,
      "object_fit": null,
      "object_position": null,
      "order": null,
      "overflow": null,
      "overflow_x": null,
      "overflow_y": null,
      "padding": null,
      "right": null,
      "top": null,
      "visibility": null,
      "width": null
     }
    }
   }
  }
 },
 "nbformat": 4,
 "nbformat_minor": 1
}
