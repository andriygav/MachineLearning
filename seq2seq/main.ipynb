{
  "nbformat": 4,
  "nbformat_minor": 0,
  "metadata": {
    "colab": {
      "name": "main.ipynb",
      "provenance": [],
      "collapsed_sections": []
    },
    "kernelspec": {
      "name": "python3",
      "display_name": "Python 3"
    },
    "accelerator": "GPU",
    "widgets": {
      "application/vnd.jupyter.widget-state+json": {
        "c36c1ed099174849a88e754ed66b9aa4": {
          "model_module": "@jupyter-widgets/controls",
          "model_name": "HBoxModel",
          "state": {
            "_view_name": "HBoxView",
            "_dom_classes": [],
            "_model_name": "HBoxModel",
            "_view_module": "@jupyter-widgets/controls",
            "_model_module_version": "1.5.0",
            "_view_count": null,
            "_view_module_version": "1.5.0",
            "box_style": "",
            "layout": "IPY_MODEL_40c2be414eb7436d8f3588a56b5b2a3b",
            "_model_module": "@jupyter-widgets/controls",
            "children": [
              "IPY_MODEL_ef454392187c4deca70adc41e887b87f",
              "IPY_MODEL_29c68f04d45542f7b90c87fa583e3590"
            ]
          }
        },
        "40c2be414eb7436d8f3588a56b5b2a3b": {
          "model_module": "@jupyter-widgets/base",
          "model_name": "LayoutModel",
          "state": {
            "_view_name": "LayoutView",
            "grid_template_rows": null,
            "right": null,
            "justify_content": null,
            "_view_module": "@jupyter-widgets/base",
            "overflow": null,
            "_model_module_version": "1.2.0",
            "_view_count": null,
            "flex_flow": null,
            "width": null,
            "min_width": null,
            "border": null,
            "align_items": null,
            "bottom": null,
            "_model_module": "@jupyter-widgets/base",
            "top": null,
            "grid_column": null,
            "overflow_y": null,
            "overflow_x": null,
            "grid_auto_flow": null,
            "grid_area": null,
            "grid_template_columns": null,
            "flex": null,
            "_model_name": "LayoutModel",
            "justify_items": null,
            "grid_row": null,
            "max_height": null,
            "align_content": null,
            "visibility": null,
            "align_self": null,
            "height": null,
            "min_height": null,
            "padding": null,
            "grid_auto_rows": null,
            "grid_gap": null,
            "max_width": null,
            "order": null,
            "_view_module_version": "1.2.0",
            "grid_template_areas": null,
            "object_position": null,
            "object_fit": null,
            "grid_auto_columns": null,
            "margin": null,
            "display": null,
            "left": null
          }
        },
        "ef454392187c4deca70adc41e887b87f": {
          "model_module": "@jupyter-widgets/controls",
          "model_name": "FloatProgressModel",
          "state": {
            "_view_name": "ProgressView",
            "style": "IPY_MODEL_22c32043880947be88368529bccd4f58",
            "_dom_classes": [],
            "description": "  2%",
            "_model_name": "FloatProgressModel",
            "bar_style": "",
            "max": 100,
            "_view_module": "@jupyter-widgets/controls",
            "_model_module_version": "1.5.0",
            "value": 2,
            "_view_count": null,
            "_view_module_version": "1.5.0",
            "orientation": "horizontal",
            "min": 0,
            "description_tooltip": null,
            "_model_module": "@jupyter-widgets/controls",
            "layout": "IPY_MODEL_67804d9b04834561bd3b4f21770c210e"
          }
        },
        "29c68f04d45542f7b90c87fa583e3590": {
          "model_module": "@jupyter-widgets/controls",
          "model_name": "HTMLModel",
          "state": {
            "_view_name": "HTMLView",
            "style": "IPY_MODEL_3507d89a699946968bd851fef5720fbf",
            "_dom_classes": [],
            "description": "",
            "_model_name": "HTMLModel",
            "placeholder": "​",
            "_view_module": "@jupyter-widgets/controls",
            "_model_module_version": "1.5.0",
            "value": " 2/100 [00:23&lt;19:19, 11.83s/it, train epoch loss=3.6, example=яяяяя]",
            "_view_count": null,
            "_view_module_version": "1.5.0",
            "description_tooltip": null,
            "_model_module": "@jupyter-widgets/controls",
            "layout": "IPY_MODEL_851cb462e9dd4e74855b1e2b1b767ded"
          }
        },
        "22c32043880947be88368529bccd4f58": {
          "model_module": "@jupyter-widgets/controls",
          "model_name": "ProgressStyleModel",
          "state": {
            "_view_name": "StyleView",
            "_model_name": "ProgressStyleModel",
            "description_width": "initial",
            "_view_module": "@jupyter-widgets/base",
            "_model_module_version": "1.5.0",
            "_view_count": null,
            "_view_module_version": "1.2.0",
            "bar_color": null,
            "_model_module": "@jupyter-widgets/controls"
          }
        },
        "67804d9b04834561bd3b4f21770c210e": {
          "model_module": "@jupyter-widgets/base",
          "model_name": "LayoutModel",
          "state": {
            "_view_name": "LayoutView",
            "grid_template_rows": null,
            "right": null,
            "justify_content": null,
            "_view_module": "@jupyter-widgets/base",
            "overflow": null,
            "_model_module_version": "1.2.0",
            "_view_count": null,
            "flex_flow": null,
            "width": null,
            "min_width": null,
            "border": null,
            "align_items": null,
            "bottom": null,
            "_model_module": "@jupyter-widgets/base",
            "top": null,
            "grid_column": null,
            "overflow_y": null,
            "overflow_x": null,
            "grid_auto_flow": null,
            "grid_area": null,
            "grid_template_columns": null,
            "flex": null,
            "_model_name": "LayoutModel",
            "justify_items": null,
            "grid_row": null,
            "max_height": null,
            "align_content": null,
            "visibility": null,
            "align_self": null,
            "height": null,
            "min_height": null,
            "padding": null,
            "grid_auto_rows": null,
            "grid_gap": null,
            "max_width": null,
            "order": null,
            "_view_module_version": "1.2.0",
            "grid_template_areas": null,
            "object_position": null,
            "object_fit": null,
            "grid_auto_columns": null,
            "margin": null,
            "display": null,
            "left": null
          }
        },
        "3507d89a699946968bd851fef5720fbf": {
          "model_module": "@jupyter-widgets/controls",
          "model_name": "DescriptionStyleModel",
          "state": {
            "_view_name": "StyleView",
            "_model_name": "DescriptionStyleModel",
            "description_width": "",
            "_view_module": "@jupyter-widgets/base",
            "_model_module_version": "1.5.0",
            "_view_count": null,
            "_view_module_version": "1.2.0",
            "_model_module": "@jupyter-widgets/controls"
          }
        },
        "851cb462e9dd4e74855b1e2b1b767ded": {
          "model_module": "@jupyter-widgets/base",
          "model_name": "LayoutModel",
          "state": {
            "_view_name": "LayoutView",
            "grid_template_rows": null,
            "right": null,
            "justify_content": null,
            "_view_module": "@jupyter-widgets/base",
            "overflow": null,
            "_model_module_version": "1.2.0",
            "_view_count": null,
            "flex_flow": null,
            "width": null,
            "min_width": null,
            "border": null,
            "align_items": null,
            "bottom": null,
            "_model_module": "@jupyter-widgets/base",
            "top": null,
            "grid_column": null,
            "overflow_y": null,
            "overflow_x": null,
            "grid_auto_flow": null,
            "grid_area": null,
            "grid_template_columns": null,
            "flex": null,
            "_model_name": "LayoutModel",
            "justify_items": null,
            "grid_row": null,
            "max_height": null,
            "align_content": null,
            "visibility": null,
            "align_self": null,
            "height": null,
            "min_height": null,
            "padding": null,
            "grid_auto_rows": null,
            "grid_gap": null,
            "max_width": null,
            "order": null,
            "_view_module_version": "1.2.0",
            "grid_template_areas": null,
            "object_position": null,
            "object_fit": null,
            "grid_auto_columns": null,
            "margin": null,
            "display": null,
            "left": null
          }
        },
        "7ada344a90dc489db4fe7acf2fda2389": {
          "model_module": "@jupyter-widgets/controls",
          "model_name": "HBoxModel",
          "state": {
            "_view_name": "HBoxView",
            "_dom_classes": [],
            "_model_name": "HBoxModel",
            "_view_module": "@jupyter-widgets/controls",
            "_model_module_version": "1.5.0",
            "_view_count": null,
            "_view_module_version": "1.5.0",
            "box_style": "",
            "layout": "IPY_MODEL_c413d48e19e94ba6b5b95b1fbec6e7c0",
            "_model_module": "@jupyter-widgets/controls",
            "children": [
              "IPY_MODEL_334e2094bc424f47a507705fbcaad929",
              "IPY_MODEL_304e8eb2f80a40238c5087e458b18233"
            ]
          }
        },
        "c413d48e19e94ba6b5b95b1fbec6e7c0": {
          "model_module": "@jupyter-widgets/base",
          "model_name": "LayoutModel",
          "state": {
            "_view_name": "LayoutView",
            "grid_template_rows": null,
            "right": null,
            "justify_content": null,
            "_view_module": "@jupyter-widgets/base",
            "overflow": null,
            "_model_module_version": "1.2.0",
            "_view_count": null,
            "flex_flow": null,
            "width": null,
            "min_width": null,
            "border": null,
            "align_items": null,
            "bottom": null,
            "_model_module": "@jupyter-widgets/base",
            "top": null,
            "grid_column": null,
            "overflow_y": null,
            "overflow_x": null,
            "grid_auto_flow": null,
            "grid_area": null,
            "grid_template_columns": null,
            "flex": null,
            "_model_name": "LayoutModel",
            "justify_items": null,
            "grid_row": null,
            "max_height": null,
            "align_content": null,
            "visibility": null,
            "align_self": null,
            "height": null,
            "min_height": null,
            "padding": null,
            "grid_auto_rows": null,
            "grid_gap": null,
            "max_width": null,
            "order": null,
            "_view_module_version": "1.2.0",
            "grid_template_areas": null,
            "object_position": null,
            "object_fit": null,
            "grid_auto_columns": null,
            "margin": null,
            "display": null,
            "left": null
          }
        },
        "334e2094bc424f47a507705fbcaad929": {
          "model_module": "@jupyter-widgets/controls",
          "model_name": "FloatProgressModel",
          "state": {
            "_view_name": "ProgressView",
            "style": "IPY_MODEL_f401cb3406dc4a88b5084e58fb8de072",
            "_dom_classes": [],
            "description": "100%",
            "_model_name": "FloatProgressModel",
            "bar_style": "",
            "max": 533,
            "_view_module": "@jupyter-widgets/controls",
            "_model_module_version": "1.5.0",
            "value": 533,
            "_view_count": null,
            "_view_module_version": "1.5.0",
            "orientation": "horizontal",
            "min": 0,
            "description_tooltip": null,
            "_model_module": "@jupyter-widgets/controls",
            "layout": "IPY_MODEL_d6a091aa10344559bea7533073792c84"
          }
        },
        "304e8eb2f80a40238c5087e458b18233": {
          "model_module": "@jupyter-widgets/controls",
          "model_name": "HTMLModel",
          "state": {
            "_view_name": "HTMLView",
            "style": "IPY_MODEL_f196ddcca31a49d7aeda618a1719683a",
            "_dom_classes": [],
            "description": "",
            "_model_name": "HTMLModel",
            "placeholder": "​",
            "_view_module": "@jupyter-widgets/controls",
            "_model_module_version": "1.5.0",
            "value": " 533/533 [00:11&lt;00:00, 47.74it/s, train batch loss=3.59]",
            "_view_count": null,
            "_view_module_version": "1.5.0",
            "description_tooltip": null,
            "_model_module": "@jupyter-widgets/controls",
            "layout": "IPY_MODEL_0f0884589351474db6a70c50e304b3eb"
          }
        },
        "f401cb3406dc4a88b5084e58fb8de072": {
          "model_module": "@jupyter-widgets/controls",
          "model_name": "ProgressStyleModel",
          "state": {
            "_view_name": "StyleView",
            "_model_name": "ProgressStyleModel",
            "description_width": "initial",
            "_view_module": "@jupyter-widgets/base",
            "_model_module_version": "1.5.0",
            "_view_count": null,
            "_view_module_version": "1.2.0",
            "bar_color": null,
            "_model_module": "@jupyter-widgets/controls"
          }
        },
        "d6a091aa10344559bea7533073792c84": {
          "model_module": "@jupyter-widgets/base",
          "model_name": "LayoutModel",
          "state": {
            "_view_name": "LayoutView",
            "grid_template_rows": null,
            "right": null,
            "justify_content": null,
            "_view_module": "@jupyter-widgets/base",
            "overflow": null,
            "_model_module_version": "1.2.0",
            "_view_count": null,
            "flex_flow": null,
            "width": null,
            "min_width": null,
            "border": null,
            "align_items": null,
            "bottom": null,
            "_model_module": "@jupyter-widgets/base",
            "top": null,
            "grid_column": null,
            "overflow_y": null,
            "overflow_x": null,
            "grid_auto_flow": null,
            "grid_area": null,
            "grid_template_columns": null,
            "flex": null,
            "_model_name": "LayoutModel",
            "justify_items": null,
            "grid_row": null,
            "max_height": null,
            "align_content": null,
            "visibility": null,
            "align_self": null,
            "height": null,
            "min_height": null,
            "padding": null,
            "grid_auto_rows": null,
            "grid_gap": null,
            "max_width": null,
            "order": null,
            "_view_module_version": "1.2.0",
            "grid_template_areas": null,
            "object_position": null,
            "object_fit": null,
            "grid_auto_columns": null,
            "margin": null,
            "display": null,
            "left": null
          }
        },
        "f196ddcca31a49d7aeda618a1719683a": {
          "model_module": "@jupyter-widgets/controls",
          "model_name": "DescriptionStyleModel",
          "state": {
            "_view_name": "StyleView",
            "_model_name": "DescriptionStyleModel",
            "description_width": "",
            "_view_module": "@jupyter-widgets/base",
            "_model_module_version": "1.5.0",
            "_view_count": null,
            "_view_module_version": "1.2.0",
            "_model_module": "@jupyter-widgets/controls"
          }
        },
        "0f0884589351474db6a70c50e304b3eb": {
          "model_module": "@jupyter-widgets/base",
          "model_name": "LayoutModel",
          "state": {
            "_view_name": "LayoutView",
            "grid_template_rows": null,
            "right": null,
            "justify_content": null,
            "_view_module": "@jupyter-widgets/base",
            "overflow": null,
            "_model_module_version": "1.2.0",
            "_view_count": null,
            "flex_flow": null,
            "width": null,
            "min_width": null,
            "border": null,
            "align_items": null,
            "bottom": null,
            "_model_module": "@jupyter-widgets/base",
            "top": null,
            "grid_column": null,
            "overflow_y": null,
            "overflow_x": null,
            "grid_auto_flow": null,
            "grid_area": null,
            "grid_template_columns": null,
            "flex": null,
            "_model_name": "LayoutModel",
            "justify_items": null,
            "grid_row": null,
            "max_height": null,
            "align_content": null,
            "visibility": null,
            "align_self": null,
            "height": null,
            "min_height": null,
            "padding": null,
            "grid_auto_rows": null,
            "grid_gap": null,
            "max_width": null,
            "order": null,
            "_view_module_version": "1.2.0",
            "grid_template_areas": null,
            "object_position": null,
            "object_fit": null,
            "grid_auto_columns": null,
            "margin": null,
            "display": null,
            "left": null
          }
        },
        "86d27816da6b4a7ba64d742555e119e5": {
          "model_module": "@jupyter-widgets/controls",
          "model_name": "HBoxModel",
          "state": {
            "_view_name": "HBoxView",
            "_dom_classes": [],
            "_model_name": "HBoxModel",
            "_view_module": "@jupyter-widgets/controls",
            "_model_module_version": "1.5.0",
            "_view_count": null,
            "_view_module_version": "1.5.0",
            "box_style": "",
            "layout": "IPY_MODEL_70364f47c171478890598dc220cf97f8",
            "_model_module": "@jupyter-widgets/controls",
            "children": [
              "IPY_MODEL_ba47d4de6dea40b8a6be555aa160331f",
              "IPY_MODEL_444a3e8491504730af9cf942767801dd"
            ]
          }
        },
        "70364f47c171478890598dc220cf97f8": {
          "model_module": "@jupyter-widgets/base",
          "model_name": "LayoutModel",
          "state": {
            "_view_name": "LayoutView",
            "grid_template_rows": null,
            "right": null,
            "justify_content": null,
            "_view_module": "@jupyter-widgets/base",
            "overflow": null,
            "_model_module_version": "1.2.0",
            "_view_count": null,
            "flex_flow": null,
            "width": null,
            "min_width": null,
            "border": null,
            "align_items": null,
            "bottom": null,
            "_model_module": "@jupyter-widgets/base",
            "top": null,
            "grid_column": null,
            "overflow_y": null,
            "overflow_x": null,
            "grid_auto_flow": null,
            "grid_area": null,
            "grid_template_columns": null,
            "flex": null,
            "_model_name": "LayoutModel",
            "justify_items": null,
            "grid_row": null,
            "max_height": null,
            "align_content": null,
            "visibility": null,
            "align_self": null,
            "height": null,
            "min_height": null,
            "padding": null,
            "grid_auto_rows": null,
            "grid_gap": null,
            "max_width": null,
            "order": null,
            "_view_module_version": "1.2.0",
            "grid_template_areas": null,
            "object_position": null,
            "object_fit": null,
            "grid_auto_columns": null,
            "margin": null,
            "display": null,
            "left": null
          }
        },
        "ba47d4de6dea40b8a6be555aa160331f": {
          "model_module": "@jupyter-widgets/controls",
          "model_name": "FloatProgressModel",
          "state": {
            "_view_name": "ProgressView",
            "style": "IPY_MODEL_74fd4e409bb94f428b568eaa3977df25",
            "_dom_classes": [],
            "description": "100%",
            "_model_name": "FloatProgressModel",
            "bar_style": "",
            "max": 533,
            "_view_module": "@jupyter-widgets/controls",
            "_model_module_version": "1.5.0",
            "value": 533,
            "_view_count": null,
            "_view_module_version": "1.5.0",
            "orientation": "horizontal",
            "min": 0,
            "description_tooltip": null,
            "_model_module": "@jupyter-widgets/controls",
            "layout": "IPY_MODEL_08e2e5bafa3e48899dfdadfed6a6dd1a"
          }
        },
        "444a3e8491504730af9cf942767801dd": {
          "model_module": "@jupyter-widgets/controls",
          "model_name": "HTMLModel",
          "state": {
            "_view_name": "HTMLView",
            "style": "IPY_MODEL_b7647e0e378146918fb404218d74b934",
            "_dom_classes": [],
            "description": "",
            "_model_name": "HTMLModel",
            "placeholder": "​",
            "_view_module": "@jupyter-widgets/controls",
            "_model_module_version": "1.5.0",
            "value": " 533/533 [00:11&lt;00:00, 46.76it/s, train batch loss=3.58]",
            "_view_count": null,
            "_view_module_version": "1.5.0",
            "description_tooltip": null,
            "_model_module": "@jupyter-widgets/controls",
            "layout": "IPY_MODEL_4d36b79627c94cef9e94348cc6d381fc"
          }
        },
        "74fd4e409bb94f428b568eaa3977df25": {
          "model_module": "@jupyter-widgets/controls",
          "model_name": "ProgressStyleModel",
          "state": {
            "_view_name": "StyleView",
            "_model_name": "ProgressStyleModel",
            "description_width": "initial",
            "_view_module": "@jupyter-widgets/base",
            "_model_module_version": "1.5.0",
            "_view_count": null,
            "_view_module_version": "1.2.0",
            "bar_color": null,
            "_model_module": "@jupyter-widgets/controls"
          }
        },
        "08e2e5bafa3e48899dfdadfed6a6dd1a": {
          "model_module": "@jupyter-widgets/base",
          "model_name": "LayoutModel",
          "state": {
            "_view_name": "LayoutView",
            "grid_template_rows": null,
            "right": null,
            "justify_content": null,
            "_view_module": "@jupyter-widgets/base",
            "overflow": null,
            "_model_module_version": "1.2.0",
            "_view_count": null,
            "flex_flow": null,
            "width": null,
            "min_width": null,
            "border": null,
            "align_items": null,
            "bottom": null,
            "_model_module": "@jupyter-widgets/base",
            "top": null,
            "grid_column": null,
            "overflow_y": null,
            "overflow_x": null,
            "grid_auto_flow": null,
            "grid_area": null,
            "grid_template_columns": null,
            "flex": null,
            "_model_name": "LayoutModel",
            "justify_items": null,
            "grid_row": null,
            "max_height": null,
            "align_content": null,
            "visibility": null,
            "align_self": null,
            "height": null,
            "min_height": null,
            "padding": null,
            "grid_auto_rows": null,
            "grid_gap": null,
            "max_width": null,
            "order": null,
            "_view_module_version": "1.2.0",
            "grid_template_areas": null,
            "object_position": null,
            "object_fit": null,
            "grid_auto_columns": null,
            "margin": null,
            "display": null,
            "left": null
          }
        },
        "b7647e0e378146918fb404218d74b934": {
          "model_module": "@jupyter-widgets/controls",
          "model_name": "DescriptionStyleModel",
          "state": {
            "_view_name": "StyleView",
            "_model_name": "DescriptionStyleModel",
            "description_width": "",
            "_view_module": "@jupyter-widgets/base",
            "_model_module_version": "1.5.0",
            "_view_count": null,
            "_view_module_version": "1.2.0",
            "_model_module": "@jupyter-widgets/controls"
          }
        },
        "4d36b79627c94cef9e94348cc6d381fc": {
          "model_module": "@jupyter-widgets/base",
          "model_name": "LayoutModel",
          "state": {
            "_view_name": "LayoutView",
            "grid_template_rows": null,
            "right": null,
            "justify_content": null,
            "_view_module": "@jupyter-widgets/base",
            "overflow": null,
            "_model_module_version": "1.2.0",
            "_view_count": null,
            "flex_flow": null,
            "width": null,
            "min_width": null,
            "border": null,
            "align_items": null,
            "bottom": null,
            "_model_module": "@jupyter-widgets/base",
            "top": null,
            "grid_column": null,
            "overflow_y": null,
            "overflow_x": null,
            "grid_auto_flow": null,
            "grid_area": null,
            "grid_template_columns": null,
            "flex": null,
            "_model_name": "LayoutModel",
            "justify_items": null,
            "grid_row": null,
            "max_height": null,
            "align_content": null,
            "visibility": null,
            "align_self": null,
            "height": null,
            "min_height": null,
            "padding": null,
            "grid_auto_rows": null,
            "grid_gap": null,
            "max_width": null,
            "order": null,
            "_view_module_version": "1.2.0",
            "grid_template_areas": null,
            "object_position": null,
            "object_fit": null,
            "grid_auto_columns": null,
            "margin": null,
            "display": null,
            "left": null
          }
        },
        "323e5d4e2d434ab88dc18b65645762ea": {
          "model_module": "@jupyter-widgets/controls",
          "model_name": "HBoxModel",
          "state": {
            "_view_name": "HBoxView",
            "_dom_classes": [],
            "_model_name": "HBoxModel",
            "_view_module": "@jupyter-widgets/controls",
            "_model_module_version": "1.5.0",
            "_view_count": null,
            "_view_module_version": "1.5.0",
            "box_style": "",
            "layout": "IPY_MODEL_14da255492134c9d9bfae3973a2865b0",
            "_model_module": "@jupyter-widgets/controls",
            "children": [
              "IPY_MODEL_f99c7a43b9c84f72af35e3f62dc37039",
              "IPY_MODEL_59caea423e70424189d75a0972f1dd7f"
            ]
          }
        },
        "14da255492134c9d9bfae3973a2865b0": {
          "model_module": "@jupyter-widgets/base",
          "model_name": "LayoutModel",
          "state": {
            "_view_name": "LayoutView",
            "grid_template_rows": null,
            "right": null,
            "justify_content": null,
            "_view_module": "@jupyter-widgets/base",
            "overflow": null,
            "_model_module_version": "1.2.0",
            "_view_count": null,
            "flex_flow": null,
            "width": null,
            "min_width": null,
            "border": null,
            "align_items": null,
            "bottom": null,
            "_model_module": "@jupyter-widgets/base",
            "top": null,
            "grid_column": null,
            "overflow_y": null,
            "overflow_x": null,
            "grid_auto_flow": null,
            "grid_area": null,
            "grid_template_columns": null,
            "flex": null,
            "_model_name": "LayoutModel",
            "justify_items": null,
            "grid_row": null,
            "max_height": null,
            "align_content": null,
            "visibility": null,
            "align_self": null,
            "height": null,
            "min_height": null,
            "padding": null,
            "grid_auto_rows": null,
            "grid_gap": null,
            "max_width": null,
            "order": null,
            "_view_module_version": "1.2.0",
            "grid_template_areas": null,
            "object_position": null,
            "object_fit": null,
            "grid_auto_columns": null,
            "margin": null,
            "display": null,
            "left": null
          }
        },
        "f99c7a43b9c84f72af35e3f62dc37039": {
          "model_module": "@jupyter-widgets/controls",
          "model_name": "FloatProgressModel",
          "state": {
            "_view_name": "ProgressView",
            "style": "IPY_MODEL_fa17fa60108c4b088a48f009300cfd90",
            "_dom_classes": [],
            "description": " 17%",
            "_model_name": "FloatProgressModel",
            "bar_style": "",
            "max": 533,
            "_view_module": "@jupyter-widgets/controls",
            "_model_module_version": "1.5.0",
            "value": 93,
            "_view_count": null,
            "_view_module_version": "1.5.0",
            "orientation": "horizontal",
            "min": 0,
            "description_tooltip": null,
            "_model_module": "@jupyter-widgets/controls",
            "layout": "IPY_MODEL_3647f7adedb6401eb0b9e5d4ba3f01b9"
          }
        },
        "59caea423e70424189d75a0972f1dd7f": {
          "model_module": "@jupyter-widgets/controls",
          "model_name": "HTMLModel",
          "state": {
            "_view_name": "HTMLView",
            "style": "IPY_MODEL_2bc008971df048cf8927c6eae7946643",
            "_dom_classes": [],
            "description": "",
            "_model_name": "HTMLModel",
            "placeholder": "​",
            "_view_module": "@jupyter-widgets/controls",
            "_model_module_version": "1.5.0",
            "value": " 93/533 [00:02&lt;00:09, 44.73it/s, train batch loss=3.59]",
            "_view_count": null,
            "_view_module_version": "1.5.0",
            "description_tooltip": null,
            "_model_module": "@jupyter-widgets/controls",
            "layout": "IPY_MODEL_3ef5b6e5909e440993abf5df797d7b0d"
          }
        },
        "fa17fa60108c4b088a48f009300cfd90": {
          "model_module": "@jupyter-widgets/controls",
          "model_name": "ProgressStyleModel",
          "state": {
            "_view_name": "StyleView",
            "_model_name": "ProgressStyleModel",
            "description_width": "initial",
            "_view_module": "@jupyter-widgets/base",
            "_model_module_version": "1.5.0",
            "_view_count": null,
            "_view_module_version": "1.2.0",
            "bar_color": null,
            "_model_module": "@jupyter-widgets/controls"
          }
        },
        "3647f7adedb6401eb0b9e5d4ba3f01b9": {
          "model_module": "@jupyter-widgets/base",
          "model_name": "LayoutModel",
          "state": {
            "_view_name": "LayoutView",
            "grid_template_rows": null,
            "right": null,
            "justify_content": null,
            "_view_module": "@jupyter-widgets/base",
            "overflow": null,
            "_model_module_version": "1.2.0",
            "_view_count": null,
            "flex_flow": null,
            "width": null,
            "min_width": null,
            "border": null,
            "align_items": null,
            "bottom": null,
            "_model_module": "@jupyter-widgets/base",
            "top": null,
            "grid_column": null,
            "overflow_y": null,
            "overflow_x": null,
            "grid_auto_flow": null,
            "grid_area": null,
            "grid_template_columns": null,
            "flex": null,
            "_model_name": "LayoutModel",
            "justify_items": null,
            "grid_row": null,
            "max_height": null,
            "align_content": null,
            "visibility": null,
            "align_self": null,
            "height": null,
            "min_height": null,
            "padding": null,
            "grid_auto_rows": null,
            "grid_gap": null,
            "max_width": null,
            "order": null,
            "_view_module_version": "1.2.0",
            "grid_template_areas": null,
            "object_position": null,
            "object_fit": null,
            "grid_auto_columns": null,
            "margin": null,
            "display": null,
            "left": null
          }
        },
        "2bc008971df048cf8927c6eae7946643": {
          "model_module": "@jupyter-widgets/controls",
          "model_name": "DescriptionStyleModel",
          "state": {
            "_view_name": "StyleView",
            "_model_name": "DescriptionStyleModel",
            "description_width": "",
            "_view_module": "@jupyter-widgets/base",
            "_model_module_version": "1.5.0",
            "_view_count": null,
            "_view_module_version": "1.2.0",
            "_model_module": "@jupyter-widgets/controls"
          }
        },
        "3ef5b6e5909e440993abf5df797d7b0d": {
          "model_module": "@jupyter-widgets/base",
          "model_name": "LayoutModel",
          "state": {
            "_view_name": "LayoutView",
            "grid_template_rows": null,
            "right": null,
            "justify_content": null,
            "_view_module": "@jupyter-widgets/base",
            "overflow": null,
            "_model_module_version": "1.2.0",
            "_view_count": null,
            "flex_flow": null,
            "width": null,
            "min_width": null,
            "border": null,
            "align_items": null,
            "bottom": null,
            "_model_module": "@jupyter-widgets/base",
            "top": null,
            "grid_column": null,
            "overflow_y": null,
            "overflow_x": null,
            "grid_auto_flow": null,
            "grid_area": null,
            "grid_template_columns": null,
            "flex": null,
            "_model_name": "LayoutModel",
            "justify_items": null,
            "grid_row": null,
            "max_height": null,
            "align_content": null,
            "visibility": null,
            "align_self": null,
            "height": null,
            "min_height": null,
            "padding": null,
            "grid_auto_rows": null,
            "grid_gap": null,
            "max_width": null,
            "order": null,
            "_view_module_version": "1.2.0",
            "grid_template_areas": null,
            "object_position": null,
            "object_fit": null,
            "grid_auto_columns": null,
            "margin": null,
            "display": null,
            "left": null
          }
        }
      }
    }
  },
  "cells": [
    {
      "cell_type": "code",
      "metadata": {
        "id": "DkOGFTO7z2d2"
      },
      "source": [
        "import torch\n",
        "import numpy\n",
        "import re\n",
        "\n",
        "from tqdm.notebook import tqdm"
      ],
      "execution_count": 180,
      "outputs": []
    },
    {
      "cell_type": "code",
      "metadata": {
        "colab": {
          "base_uri": "https://localhost:8080/"
        },
        "id": "45bIKDtf62MS",
        "outputId": "1fddba4c-4646-4549-b4e4-20108df3870e"
      },
      "source": [
        "device = torch.device(\"cuda\" if torch.cuda.is_available() else \"cpu\")\n",
        "device"
      ],
      "execution_count": 181,
      "outputs": [
        {
          "output_type": "execute_result",
          "data": {
            "text/plain": [
              "device(type='cuda')"
            ]
          },
          "metadata": {
            "tags": []
          },
          "execution_count": 181
        }
      ]
    },
    {
      "cell_type": "code",
      "metadata": {
        "id": "F9T3p_-nz6pn"
      },
      "source": [
        "# для простоты будем использовать текст в нижнем регистре.\n",
        "with open('602016.txt') as f:\n",
        "    text = f.read().lower()\n",
        "    text = re.sub(r'ё', 'е', text)\n",
        "    text = re.sub(r'[^а-я \\n]', '', text)"
      ],
      "execution_count": 182,
      "outputs": []
    },
    {
      "cell_type": "markdown",
      "metadata": {
        "id": "2Q0L6M0d1gqH"
      },
      "source": [
        "# Рассмаотрим простую задачу генерации текста, как генерацию последовательности символов (генерация текста из ничего)"
      ]
    },
    {
      "cell_type": "markdown",
      "metadata": {
        "id": "Lx1TGZ8t47Kq"
      },
      "source": [
        "## Посмотрим на данные"
      ]
    },
    {
      "cell_type": "code",
      "metadata": {
        "colab": {
          "base_uri": "https://localhost:8080/"
        },
        "id": "5uffrOs91oCO",
        "outputId": "2abf207e-fc0c-47c0-a2dc-500f17629c45"
      },
      "source": [
        "len(set(text))"
      ],
      "execution_count": 183,
      "outputs": [
        {
          "output_type": "execute_result",
          "data": {
            "text/plain": [
              "34"
            ]
          },
          "metadata": {
            "tags": []
          },
          "execution_count": 183
        }
      ]
    },
    {
      "cell_type": "code",
      "metadata": {
        "colab": {
          "base_uri": "https://localhost:8080/"
        },
        "id": "hJFQw8Tu1yNM",
        "outputId": "708757a9-4cc5-4645-c621-f95497931ec5"
      },
      "source": [
        "len(text)"
      ],
      "execution_count": 184,
      "outputs": [
        {
          "output_type": "execute_result",
          "data": {
            "text/plain": [
              "9403794"
            ]
          },
          "metadata": {
            "tags": []
          },
          "execution_count": 184
        }
      ]
    },
    {
      "cell_type": "code",
      "metadata": {
        "colab": {
          "base_uri": "https://localhost:8080/"
        },
        "id": "AzaebDMG2Jk3",
        "outputId": "36e759cb-9868-4eae-8376-ec716a10d432"
      },
      "source": [
        "# Сразу убрал слишком короткие предложения\n",
        "# Слишком длинные убрал... ну просто так захотел\n",
        "dataset = [sent.strip() for sent in text.split('\\n') if len(sent.strip()) > 20 and len(sent.strip()) < 300 ]\n",
        "\n",
        "len(dataset)"
      ],
      "execution_count": 185,
      "outputs": [
        {
          "output_type": "execute_result",
          "data": {
            "text/plain": [
              "34073"
            ]
          },
          "metadata": {
            "tags": []
          },
          "execution_count": 185
        }
      ]
    },
    {
      "cell_type": "markdown",
      "metadata": {
        "id": "0dHqBWmF4-T-"
      },
      "source": [
        "## Строим отображение символов в индексы"
      ]
    },
    {
      "cell_type": "code",
      "metadata": {
        "id": "BXcFu9Dy4qrc"
      },
      "source": [
        "char2idx = {'<PAD>':0, '<UNK>': 1, '<START>': 2, '<FINISH>': 3}\n",
        "idx2char = {0: '<PAD>', 1: '<UNK>', 2: '<START>', 3: '<FINISH>'}\n",
        "for item in list(set(text)):\n",
        "    char2idx[item] = len(char2idx)\n",
        "    idx2char[char2idx[item]] = item"
      ],
      "execution_count": 186,
      "outputs": []
    },
    {
      "cell_type": "markdown",
      "metadata": {
        "id": "crX42vxEcT3u"
      },
      "source": [
        "## Строим модели"
      ]
    },
    {
      "cell_type": "code",
      "metadata": {
        "id": "fr-Ojo9C5lWm"
      },
      "source": [
        "class Encoder(torch.nn.Module):\n",
        "    def __init__(self,\n",
        "                 vocab_dim = len(char2idx),\n",
        "                 emb_dim = 10, \n",
        "                 hidden_dim = 10,\n",
        "                 num_layers = 3,\n",
        "                 bidirectional = False,\n",
        "                 device=device,\n",
        "                 ):\n",
        "        super(Encoder, self).__init__()\n",
        "        \n",
        "        self.num_direction = int(bidirectional + 1)\n",
        "        self.emb_dim = emb_dim\n",
        "        self.hidden_dim = hidden_dim\n",
        "\n",
        "        self.embedding = torch.nn.Embedding(vocab_dim, emb_dim)\n",
        "\n",
        "        self.encoder = torch.nn.LSTM(\n",
        "            emb_dim, hidden_dim, num_layers, bidirectional = bidirectional)\n",
        "        \n",
        "        self.device=device\n",
        "        self.to(device)\n",
        "        \n",
        "    def forward(self, input):\n",
        "        input = self.embedding(input)\n",
        "\n",
        "        input = torch.transpose(input, 0, 1)\n",
        "\n",
        "        d, (h, c) = self.encoder(input)\n",
        "\n",
        "        return d, torch.transpose(h, 0, 1) , torch.transpose(c, 0, 1)\n",
        "\n",
        "class Decoder(torch.nn.Module):\n",
        "    def __init__(self,\n",
        "                 vocab_dim = len(char2idx),\n",
        "                 emb_dim = 10, \n",
        "                 hidden_dim = 10,\n",
        "                 output_dim = len(char2idx),\n",
        "                 num_layers = 3,\n",
        "                 bidirectional = False,\n",
        "                 ):\n",
        "        super(Decoder, self).__init__()\n",
        "        \n",
        "        self.num_direction = int(bidirectional + 1)\n",
        "        self.emb_dim = emb_dim\n",
        "        self.hidden_dim = hidden_dim\n",
        "        self.output_dim = output_dim\n",
        "        self.num_layers = num_layers\n",
        "\n",
        "        self.embedding = torch.nn.Embedding(vocab_dim, self.emb_dim)\n",
        "\n",
        "        self.decoder = torch.nn.LSTM(\n",
        "            emb_dim, hidden_dim, num_layers, bidirectional = bidirectional)\n",
        "\n",
        "        self.linear = torch.nn.Linear(\n",
        "            self.num_direction*hidden_dim, output_dim)\n",
        "        \n",
        "        self.device=device\n",
        "        self.to(device)\n",
        "\n",
        "    def forward(self, real=None, h = None, c = None, max_len = 50):\n",
        "        r'''\n",
        "        :param real: \n",
        "            тезор размера batch_size \\times seq_len \\times emb_dim\n",
        "        :type real: tensor\n",
        "        '''\n",
        "        batch_size = 1\n",
        "        if h is not None:\n",
        "            batch_size = h.shape[0]\n",
        "        if c is not None:\n",
        "            batch_size = c.shape[0]\n",
        "        if real is not None:\n",
        "            batch_size = real.shape[0]\n",
        "\n",
        "\n",
        "        if real is not None:\n",
        "            input = self.embedding(real)\n",
        "\n",
        "            if h is None:\n",
        "                h = torch.randn(\n",
        "                    (batch_size, 1, self.num_direction*self.hidden_dim)).to(\n",
        "                        self.device\n",
        "                    )\n",
        "            if c is None:\n",
        "                c = torch.randn(\n",
        "                    (batch_size, 1, self.num_direction*self.hidden_dim)).to(\n",
        "                        self.device\n",
        "                    )\n",
        "\n",
        "            input = torch.transpose(input, 0, 1)\n",
        "            h = torch.transpose(h, 0, 1)\n",
        "            c = torch.transpose(c, 0, 1)\n",
        "            d, _ = self.decoder(input, (h, c))\n",
        "            answers = self.linear(d)\n",
        "        else:\n",
        "            input = self.embedding(\n",
        "                torch.tensor(\n",
        "                    [[char2idx['<START>']] for _ in range(\n",
        "                        batch_size)]).long().to(\n",
        "                        self.device\n",
        "                    )\n",
        "                )\n",
        "\n",
        "            if h is None:\n",
        "                h = torch.randn(\n",
        "                    (batch_size, 1, self.num_direction*self.hidden_dim)).to(\n",
        "                        self.device\n",
        "                    )\n",
        "            if c is None:\n",
        "                c = torch.randn(\n",
        "                    (batch_size, 1, self.num_direction*self.hidden_dim)).to(\n",
        "                        self.device\n",
        "                    )\n",
        "\n",
        "            input = torch.transpose(input, 0, 1)\n",
        "            h = torch.transpose(h, 0, 1)\n",
        "            c = torch.transpose(c, 0, 1)\n",
        "\n",
        "            answers = torch.zeros(\n",
        "                (max_len, input.shape[1], self.output_dim)).to(\n",
        "                    self.device)\n",
        "                \n",
        "            for i in range(max_len):\n",
        "                d, (h, c) = self.decoder(input, (h, c))\n",
        "                answers[i, :, :] = self.linear(d)[0]\n",
        "\n",
        "        return torch.transpose(answers, 0, 1)"
      ],
      "execution_count": 187,
      "outputs": []
    },
    {
      "cell_type": "markdown",
      "metadata": {
        "id": "T8yFMuL1cYQV"
      },
      "source": [
        "## Генератор батчей"
      ]
    },
    {
      "cell_type": "code",
      "metadata": {
        "id": "QEkeRyEqSCZg"
      },
      "source": [
        "PAD = char2idx['<PAD>']\n",
        "def batch_generator(dataset, batch_size=64, shuffle=True, device=device):\n",
        "    X, Y = dataset[:-1], dataset[1:]\n",
        "    n_samples = len(X)\n",
        "\n",
        "# генерим список индексов\n",
        "    list_of_indexes = numpy.linspace(\n",
        "        0, n_samples - 1, n_samples, dtype=numpy.int64)\n",
        "    List_X = []\n",
        "    List_Y = []\n",
        "    \n",
        "# если нужно перемешать, то перемешиваем\n",
        "    if shuffle:\n",
        "        numpy.random.shuffle(list_of_indexes)\n",
        "        \n",
        "\n",
        "# сгенерировал список индексов, по этим индексам, \n",
        "# сделаем новый перемешаный спиисок токенов и тэгов\n",
        "    for indx in list_of_indexes:\n",
        "        List_X.append(X[indx])\n",
        "        List_Y.append(Y[indx])\n",
        "    \n",
        "    n_batches = n_samples//batch_size\n",
        "    if n_samples%batch_size != 0:\n",
        "        n_batches+=1\n",
        "        \n",
        "    # For each k yield pair x and y\n",
        "    for k in range(n_batches):\n",
        "# указываем текущии размер батча\n",
        "        this_batch_size = batch_size\n",
        "    \n",
        "# если мы выдаем последний батч, то его нужно обрезать\n",
        "        if k == n_batches - 1:\n",
        "            if n_samples%batch_size > 0:\n",
        "                this_batch_size = n_samples%batch_size\n",
        "                \n",
        "        This_X = List_X[k*batch_size:k*batch_size + this_batch_size]\n",
        "        This_Y = List_Y[k*batch_size:k*batch_size + this_batch_size]\n",
        "        \n",
        "        This_X_line = [\n",
        "                       [char2idx.get(char, 0) for char in sent]\\\n",
        "                       for sent in This_X]\n",
        "        This_Y_line = [\n",
        "                       [char2idx.get('<START>', 0)]\\\n",
        "                       + [char2idx.get(char, 0) for char in sent][:20]\\\n",
        "                       + [char2idx.get('<FINISH>', 0)]\\\n",
        "                       for sent in This_Y]\n",
        "\n",
        "        List_of_length_x = [len(sent) for sent in This_X_line]\n",
        "        length_of_sentence_x = max(List_of_length_x)\n",
        "        List_of_length_y = [len(sent) for sent in This_Y_line]\n",
        "        length_of_sentence_y = max(List_of_length_y)\n",
        "\n",
        "        x_arr = numpy.ones(shape=[this_batch_size, length_of_sentence_x])*PAD\n",
        "        y_arr = numpy.ones(shape=[this_batch_size, length_of_sentence_y])*PAD\n",
        "\n",
        "        for i in range(this_batch_size):\n",
        "            x_arr[i, :len(This_X_line[i])] = This_X_line[i]\n",
        "            y_arr[i, :len(This_Y_line[i])] = This_Y_line[i]\n",
        "\n",
        "        x = torch.LongTensor(x_arr).to(device)\n",
        "        y = torch.LongTensor(y_arr).to(device)\n",
        "        lengths = torch.LongTensor(List_of_length_x).to(device)\n",
        "\n",
        "        yield x, y"
      ],
      "execution_count": 188,
      "outputs": []
    },
    {
      "cell_type": "markdown",
      "metadata": {
        "id": "y3FuYvpZcbDB"
      },
      "source": [
        "## Скрипты обучения"
      ]
    },
    {
      "cell_type": "code",
      "metadata": {
        "id": "eLuoKwvqX70s"
      },
      "source": [
        "def train_on_batch(model, batch_of_x, batch_of_y, optimizer, loss_function):\n",
        "    encoder, decoder = model\n",
        "    encoder.train()\n",
        "    decoder.train()\n",
        "    encoder.zero_grad()\n",
        "    decoder.zero_grad()\n",
        "    \n",
        "    d, h, c = encoder(batch_of_x)\n",
        "    output = decoder(\n",
        "        batch_of_y, \n",
        "        h=h[:, -decoder.num_layers:, :], \n",
        "        c=c[:, -decoder.num_layers:, :])\n",
        "\n",
        "    loss = loss_function(output[:, :-1, :].transpose(1, 2), batch_of_y[:, 1:])\n",
        "    \n",
        "    loss.backward()\n",
        "    optimizer.step()\n",
        "    return loss.item()\n",
        "    \n",
        "def train_epoch(train_generator, model, loss_function, optimizer):\n",
        "    epoch_loss = 0\n",
        "    total = 0\n",
        "    for it, (batch_of_x, batch_of_y) in enumerate(train_generator):\n",
        "        local_loss = train_on_batch(\n",
        "            model, batch_of_x, batch_of_y, optimizer, loss_function)\n",
        "        train_generator.set_postfix({'train batch loss': local_loss})\n",
        "\n",
        "        epoch_loss += local_loss*len(batch_of_x)\n",
        "        total += len(batch_of_x)\n",
        "    \n",
        "    return epoch_loss/total\n",
        "\n",
        "def trainer(count_of_epoch, \n",
        "            batch_size,\n",
        "            model,\n",
        "            dataset,\n",
        "            loss_function,\n",
        "            optimizer,\n",
        "           ):\n",
        "    iterations = tqdm(range(count_of_epoch))\n",
        "\n",
        "    for it in iterations:\n",
        "        optima = optimizer\n",
        "\n",
        "        number_of_batch = len(dataset)//batch_size + (len(dataset)%batch_size>0)\n",
        "        generator = tqdm(\n",
        "            batch_generator(dataset, batch_size, device=device), \n",
        "            leave=False, total=number_of_batch)\n",
        "        \n",
        "        epoch_loss = train_epoch(\n",
        "            train_generator = generator, model = model, \n",
        "            loss_function = loss_function, \n",
        "            optimizer = optima)\n",
        "        \n",
        "        encoder, decoder = model\n",
        "        encoder.eval()\n",
        "        decoder.eval()\n",
        "        \n",
        "        sent = dataset[5].lower()\n",
        "        x = torch.LongTensor([[char2idx[char] for char in sent]]).to(device)\n",
        "        d, h, c = encoder(x)\n",
        "\n",
        "        result =''.join(\n",
        "          [idx2char[index] for index in torch.argmax(\n",
        "              decoder(\n",
        "                  h=h[:, -decoder.num_layers:, :], \n",
        "                  c=c[:, -decoder.num_layers:, :], \n",
        "                  max_len=5), dim=-1).detach().cpu().numpy()[0]])\n",
        "\n",
        "        iterations.set_postfix({'train epoch loss': epoch_loss, \n",
        "                                'example': result})\n",
        "    return\n",
        "\n"
      ],
      "execution_count": 189,
      "outputs": []
    },
    {
      "cell_type": "markdown",
      "metadata": {
        "id": "gIoqHSrVcd4J"
      },
      "source": [
        "## Обучение моделей"
      ]
    },
    {
      "cell_type": "code",
      "metadata": {
        "id": "ND6_PrE7Kf-V"
      },
      "source": [
        "encoder = Encoder(num_layers=1)\n",
        "decoder = Decoder(num_layers=1)\n",
        "\n",
        "optimizer = torch.optim.Adam(\n",
        "    list(encoder.parameters()) + list(decoder.parameters()), lr=1e-5)\n",
        "loss_function = torch.nn.CrossEntropyLoss(ignore_index=char2idx['<PAD>'])"
      ],
      "execution_count": 190,
      "outputs": []
    },
    {
      "cell_type": "code",
      "metadata": {
        "colab": {
          "base_uri": "https://localhost:8080/",
          "height": 145,
          "referenced_widgets": [
            "c36c1ed099174849a88e754ed66b9aa4",
            "40c2be414eb7436d8f3588a56b5b2a3b",
            "ef454392187c4deca70adc41e887b87f",
            "29c68f04d45542f7b90c87fa583e3590",
            "22c32043880947be88368529bccd4f58",
            "67804d9b04834561bd3b4f21770c210e",
            "3507d89a699946968bd851fef5720fbf",
            "851cb462e9dd4e74855b1e2b1b767ded",
            "7ada344a90dc489db4fe7acf2fda2389",
            "c413d48e19e94ba6b5b95b1fbec6e7c0",
            "334e2094bc424f47a507705fbcaad929",
            "304e8eb2f80a40238c5087e458b18233",
            "f401cb3406dc4a88b5084e58fb8de072",
            "d6a091aa10344559bea7533073792c84",
            "f196ddcca31a49d7aeda618a1719683a",
            "0f0884589351474db6a70c50e304b3eb",
            "86d27816da6b4a7ba64d742555e119e5",
            "70364f47c171478890598dc220cf97f8",
            "ba47d4de6dea40b8a6be555aa160331f",
            "444a3e8491504730af9cf942767801dd",
            "74fd4e409bb94f428b568eaa3977df25",
            "08e2e5bafa3e48899dfdadfed6a6dd1a",
            "b7647e0e378146918fb404218d74b934",
            "4d36b79627c94cef9e94348cc6d381fc",
            "323e5d4e2d434ab88dc18b65645762ea",
            "14da255492134c9d9bfae3973a2865b0",
            "f99c7a43b9c84f72af35e3f62dc37039",
            "59caea423e70424189d75a0972f1dd7f",
            "fa17fa60108c4b088a48f009300cfd90",
            "3647f7adedb6401eb0b9e5d4ba3f01b9",
            "2bc008971df048cf8927c6eae7946643",
            "3ef5b6e5909e440993abf5df797d7b0d"
          ]
        },
        "id": "WOqXeonQQrKU",
        "outputId": "6d977208-dafc-4d9b-e6af-8721efea2f7a"
      },
      "source": [
        "trainer(count_of_epoch = 100,\n",
        "        batch_size = 64,\n",
        "        model = (encoder, decoder),\n",
        "        dataset = dataset,\n",
        "        loss_function = loss_function,\n",
        "        optimizer = optimizer,\n",
        "       )"
      ],
      "execution_count": null,
      "outputs": [
        {
          "output_type": "display_data",
          "data": {
            "application/vnd.jupyter.widget-view+json": {
              "model_id": "c36c1ed099174849a88e754ed66b9aa4",
              "version_minor": 0,
              "version_major": 2
            },
            "text/plain": [
              "HBox(children=(FloatProgress(value=0.0), HTML(value='')))"
            ]
          },
          "metadata": {
            "tags": []
          }
        },
        {
          "output_type": "display_data",
          "data": {
            "application/vnd.jupyter.widget-view+json": {
              "model_id": "7ada344a90dc489db4fe7acf2fda2389",
              "version_minor": 0,
              "version_major": 2
            },
            "text/plain": [
              "HBox(children=(FloatProgress(value=0.0, max=533.0), HTML(value='')))"
            ]
          },
          "metadata": {
            "tags": []
          }
        },
        {
          "output_type": "display_data",
          "data": {
            "application/vnd.jupyter.widget-view+json": {
              "model_id": "86d27816da6b4a7ba64d742555e119e5",
              "version_minor": 0,
              "version_major": 2
            },
            "text/plain": [
              "HBox(children=(FloatProgress(value=0.0, max=533.0), HTML(value='')))"
            ]
          },
          "metadata": {
            "tags": []
          }
        },
        {
          "output_type": "display_data",
          "data": {
            "application/vnd.jupyter.widget-view+json": {
              "model_id": "323e5d4e2d434ab88dc18b65645762ea",
              "version_minor": 0,
              "version_major": 2
            },
            "text/plain": [
              "HBox(children=(FloatProgress(value=0.0, max=533.0), HTML(value='')))"
            ]
          },
          "metadata": {
            "tags": []
          }
        }
      ]
    },
    {
      "cell_type": "code",
      "metadata": {
        "id": "HcjEi73Amw-F"
      },
      "source": [
        ""
      ],
      "execution_count": null,
      "outputs": []
    }
  ]
}