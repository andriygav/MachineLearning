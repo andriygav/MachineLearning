{
  "nbformat": 4,
  "nbformat_minor": 0,
  "metadata": {
    "accelerator": "GPU",
    "colab": {
      "name": "main.ipynb",
      "provenance": [],
      "collapsed_sections": []
    },
    "kernelspec": {
      "display_name": "Python 3",
      "language": "python",
      "name": "python3"
    },
    "language_info": {
      "codemirror_mode": {
        "name": "ipython",
        "version": 3
      },
      "file_extension": ".py",
      "mimetype": "text/x-python",
      "name": "python",
      "nbconvert_exporter": "python",
      "pygments_lexer": "ipython3",
      "version": "3.7.3"
    }
  },
  "cells": [
    {
      "cell_type": "code",
      "metadata": {
        "id": "DkOGFTO7z2d2"
      },
      "source": [
        "import torch\n",
        "import numpy\n",
        "import re\n",
        "\n",
        "from tqdm.notebook import tqdm"
      ],
      "execution_count": null,
      "outputs": []
    },
    {
      "cell_type": "code",
      "metadata": {
        "colab": {
          "base_uri": "https://localhost:8080/"
        },
        "id": "45bIKDtf62MS",
        "outputId": "1fddba4c-4646-4549-b4e4-20108df3870e"
      },
      "source": [
        "device = torch.device(\"cuda\" if torch.cuda.is_available() else \"cpu\")\n",
        "device"
      ],
      "execution_count": null,
      "outputs": [
        {
          "output_type": "execute_result",
          "data": {
            "text/plain": [
              "device(type='cuda')"
            ]
          },
          "metadata": {
            "tags": []
          },
          "execution_count": 2
        }
      ]
    },
    {
      "cell_type": "code",
      "metadata": {
        "id": "F9T3p_-nz6pn"
      },
      "source": [
        "# для простоты будем использовать текст в нижнем регистре.\n",
        "# обязательно скачайте данные с https://github.com/andriygav/MachineLearning/tree/master/seq2seq/data\n",
        "with open('data/602016.txt') as f:\n",
        "    text = f.read().lower().strip()"
      ],
      "execution_count": null,
      "outputs": []
    },
    {
      "cell_type": "markdown",
      "metadata": {
        "id": "2Q0L6M0d1gqH"
      },
      "source": [
        "# Рассмаотрим простую задачу генерации текста, как генерацию последовательности символов (генерация текста из ничего)"
      ]
    },
    {
      "cell_type": "markdown",
      "metadata": {
        "id": "Lx1TGZ8t47Kq"
      },
      "source": [
        "## Посмотрим на данные"
      ]
    },
    {
      "cell_type": "code",
      "metadata": {
        "colab": {
          "base_uri": "https://localhost:8080/"
        },
        "id": "5uffrOs91oCO",
        "outputId": "2abf207e-fc0c-47c0-a2dc-500f17629c45"
      },
      "source": [
        "len(set(text))"
      ],
      "execution_count": null,
      "outputs": [
        {
          "output_type": "execute_result",
          "data": {
            "text/plain": [
              "97"
            ]
          },
          "metadata": {
            "tags": []
          },
          "execution_count": 4
        }
      ]
    },
    {
      "cell_type": "code",
      "metadata": {
        "colab": {
          "base_uri": "https://localhost:8080/"
        },
        "id": "hJFQw8Tu1yNM",
        "outputId": "708757a9-4cc5-4645-c621-f95497931ec5"
      },
      "source": [
        "len(text)"
      ],
      "execution_count": null,
      "outputs": [
        {
          "output_type": "execute_result",
          "data": {
            "text/plain": [
              "9805180"
            ]
          },
          "metadata": {
            "tags": []
          },
          "execution_count": 5
        }
      ]
    },
    {
      "cell_type": "code",
      "metadata": {
        "colab": {
          "base_uri": "https://localhost:8080/"
        },
        "id": "AzaebDMG2Jk3",
        "outputId": "36e759cb-9868-4eae-8376-ec716a10d432"
      },
      "source": [
        "# Сразу убрал слишком короткие предложения\n",
        "# Слишком длинные убрал... ну просто так захотел\n",
        "dataset = [sent.strip() for sent in text.split('\\n') if len(sent.strip()) > 20 and len(sent.strip()) < 300 ]\n",
        "\n",
        "len(dataset)"
      ],
      "execution_count": null,
      "outputs": [
        {
          "output_type": "execute_result",
          "data": {
            "text/plain": [
              "34076"
            ]
          },
          "metadata": {
            "tags": []
          },
          "execution_count": 6
        }
      ]
    },
    {
      "cell_type": "markdown",
      "metadata": {
        "id": "0dHqBWmF4-T-"
      },
      "source": [
        "## Строим отображение символов в индексы"
      ]
    },
    {
      "cell_type": "code",
      "metadata": {
        "id": "BXcFu9Dy4qrc"
      },
      "source": [
        "char2idx = {'<PAD>':0, '<UNK>': 1, '<START>': 2, '<FINISH>': 3}\n",
        "idx2char = {0: '<PAD>', 1: '<UNK>', 2: '<START>', 3: '<FINISH>'}\n",
        "for item in list(set(text)):\n",
        "    char2idx[item] = len(char2idx)\n",
        "    idx2char[char2idx[item]] = item"
      ],
      "execution_count": null,
      "outputs": []
    },
    {
      "cell_type": "markdown",
      "metadata": {
        "id": "crX42vxEcT3u"
      },
      "source": [
        "## Строим модели"
      ]
    },
    {
      "cell_type": "code",
      "metadata": {
        "id": "fr-Ojo9C5lWm"
      },
      "source": [
        "class Encoder(torch.nn.Module):\n",
        "    r'''\n",
        "    Модель энкодера предложения.\n",
        "    '''\n",
        "    def __init__(self,\n",
        "                 vocab_dim = len(char2idx),\n",
        "                 emb_dim = 10, \n",
        "                 hidden_dim = 10,\n",
        "                 num_layers = 3,\n",
        "                 bidirectional = False,\n",
        "                 device=device,\n",
        "                 ):\n",
        "        super(Encoder, self).__init__()\n",
        "        \n",
        "        self.num_direction = int(bidirectional + 1)\n",
        "        self.emb_dim = emb_dim\n",
        "        self.hidden_dim = hidden_dim\n",
        "\n",
        "        self.embedding = torch.nn.Embedding(vocab_dim, emb_dim)\n",
        "\n",
        "        self.encoder = torch.nn.LSTM(\n",
        "            emb_dim, hidden_dim, num_layers, bidirectional = bidirectional)\n",
        "        \n",
        "        self.device=device\n",
        "        self.to(device)\n",
        "        \n",
        "    def forward(self, input):\n",
        "        r'''\n",
        "        Возвращает скрытые состояния всех токенов d, \n",
        "            а также скрытые состояния со всех слоев для последнего токена (h, c).\n",
        "        :param input:\n",
        "            тезор размера batch_size \\times seq_len \\times emb_dim\n",
        "        :type input: tensor\n",
        "        '''\n",
        "        input = self.embedding(input)\n",
        "\n",
        "        input = torch.transpose(input, 0, 1)\n",
        "\n",
        "        d, (h, c) = self.encoder(input)\n",
        "\n",
        "        return d, torch.transpose(h, 0, 1) , torch.transpose(c, 0, 1)\n",
        "\n",
        "class Decoder(torch.nn.Module):\n",
        "    r'''\n",
        "    Модель декодера (генератора) предложения.\n",
        "    '''\n",
        "    def __init__(self,\n",
        "                 vocab_dim = len(char2idx),\n",
        "                 emb_dim = 10, \n",
        "                 hidden_dim = 10,\n",
        "                 output_dim = len(char2idx),\n",
        "                 num_layers = 3,\n",
        "                 bidirectional = False,\n",
        "                 ):\n",
        "        super(Decoder, self).__init__()\n",
        "        \n",
        "        self.num_direction = int(bidirectional + 1)\n",
        "        self.emb_dim = emb_dim\n",
        "        self.hidden_dim = hidden_dim\n",
        "        self.output_dim = output_dim\n",
        "        self.num_layers = num_layers\n",
        "\n",
        "        self.embedding = torch.nn.Embedding(vocab_dim, self.emb_dim)\n",
        "\n",
        "        self.decoder = torch.nn.LSTM(\n",
        "            emb_dim, hidden_dim, num_layers, bidirectional = bidirectional)\n",
        "\n",
        "        self.linear = torch.nn.Linear(\n",
        "            self.num_direction*hidden_dim, output_dim)\n",
        "        \n",
        "        self.device=device\n",
        "        self.to(device)\n",
        "\n",
        "    def forward(self, real=None, h = None, c = None, max_len = 50):\n",
        "        r'''\n",
        "        :param real: нужен только для обучения\n",
        "            тезор размера batch_size \\times seq_len \\times emb_dim\n",
        "        :type real: tensor\n",
        "        :param h: скрытое состояния, если не задано, то генерится случайное\n",
        "            тезор размера batch_size \\times num_layer \\times hidden_dim*num_direction\n",
        "        :type h: tensor\n",
        "        :param c: скрытое состояния, если не задано, то генерится случайное\n",
        "            тезор размера batch_size \\times num_layer \\times hidden_dim*num_direction\n",
        "        :type c: tensor\n",
        "        :param max_len: сколько символов сгенерить\n",
        "        :type max_len: int\n",
        "        '''\n",
        "        batch_size = 1\n",
        "        if h is not None:\n",
        "            batch_size = h.shape[0]\n",
        "        if c is not None:\n",
        "            batch_size = c.shape[0]\n",
        "        if real is not None:\n",
        "            batch_size = real.shape[0]\n",
        "\n",
        "\n",
        "        if real is not None:\n",
        "            input = self.embedding(real)\n",
        "\n",
        "            if h is None:\n",
        "                h = torch.randn(\n",
        "                    (batch_size, self.num_layers, self.num_direction*self.hidden_dim)).to(\n",
        "                        self.device\n",
        "                    )\n",
        "            if c is None:\n",
        "                c = torch.randn(\n",
        "                    (batch_size, self.num_layers, self.num_direction*self.hidden_dim)).to(\n",
        "                        self.device\n",
        "                    )\n",
        "\n",
        "            input = torch.transpose(input, 0, 1)\n",
        "            h = torch.transpose(h, 0, 1)\n",
        "            c = torch.transpose(c, 0, 1)\n",
        "            d, _ = self.decoder(input, (h, c))\n",
        "            answers = self.linear(d)\n",
        "        else:\n",
        "            input = self.embedding(\n",
        "                torch.tensor(\n",
        "                    [[char2idx['<START>']] for _ in range(\n",
        "                        batch_size)]).long().to(\n",
        "                        self.device\n",
        "                    )\n",
        "                )\n",
        "\n",
        "            if h is None:\n",
        "                h = torch.randn(\n",
        "                    (batch_size, self.num_layers, self.num_direction*self.hidden_dim)).to(\n",
        "                        self.device\n",
        "                    )\n",
        "            if c is None:\n",
        "                c = torch.randn(\n",
        "                    (batch_size, self.num_layers, self.num_direction*self.hidden_dim)).to(\n",
        "                        self.device\n",
        "                    )\n",
        "\n",
        "            input = torch.transpose(input, 0, 1)\n",
        "            h = torch.transpose(h, 0, 1)\n",
        "            c = torch.transpose(c, 0, 1)\n",
        "\n",
        "            answers = torch.zeros(\n",
        "                (max_len, input.shape[1], self.output_dim)).to(\n",
        "                    self.device)\n",
        "                \n",
        "            for i in range(max_len):\n",
        "                d, (h, c) = self.decoder(input, (h, c))\n",
        "                answers[i, :, :] = self.linear(d)[0]\n",
        "                input = self.embedding(\n",
        "                    torch.argmax(answers[i:i+1, :, :], dim=-1))\n",
        "\n",
        "        return torch.transpose(answers, 0, 1)"
      ],
      "execution_count": null,
      "outputs": []
    },
    {
      "cell_type": "markdown",
      "metadata": {
        "id": "T8yFMuL1cYQV"
      },
      "source": [
        "## Генератор батчей"
      ]
    },
    {
      "cell_type": "code",
      "metadata": {
        "id": "QEkeRyEqSCZg"
      },
      "source": [
        "PAD = char2idx['<PAD>']\n",
        "def batch_generator(dataset, batch_size=64, shuffle=True, device=device):\n",
        "    X, Y = dataset[:-1], dataset[1:]\n",
        "    n_samples = len(X)\n",
        "\n",
        "# генерим список индексов\n",
        "    list_of_indexes = numpy.linspace(\n",
        "        0, n_samples - 1, n_samples, dtype=numpy.int64)\n",
        "    List_X = []\n",
        "    List_Y = []\n",
        "    \n",
        "# если нужно перемешать, то перемешиваем\n",
        "    if shuffle:\n",
        "        numpy.random.shuffle(list_of_indexes)\n",
        "        \n",
        "\n",
        "# сгенерировал список индексов, по этим индексам, \n",
        "# сделаем новый перемешаный спиисок токенов и тэгов\n",
        "    for indx in list_of_indexes:\n",
        "        List_X.append(X[indx])\n",
        "        List_Y.append(Y[indx])\n",
        "    \n",
        "    n_batches = n_samples//batch_size\n",
        "    if n_samples%batch_size != 0:\n",
        "        n_batches+=1\n",
        "        \n",
        "    # For each k yield pair x and y\n",
        "    for k in range(n_batches):\n",
        "# указываем текущии размер батча\n",
        "        this_batch_size = batch_size\n",
        "    \n",
        "# если мы выдаем последний батч, то его нужно обрезать\n",
        "        if k == n_batches - 1:\n",
        "            if n_samples%batch_size > 0:\n",
        "                this_batch_size = n_samples%batch_size\n",
        "                \n",
        "        This_X = List_X[k*batch_size:k*batch_size + this_batch_size]\n",
        "        This_Y = List_Y[k*batch_size:k*batch_size + this_batch_size]\n",
        "        \n",
        "        This_X_line = [\n",
        "                       [char2idx.get(char, 0) for char in sent]\\\n",
        "                       for sent in This_X]\n",
        "        This_Y_line = [\n",
        "                       [char2idx.get('<START>', 0)]\\\n",
        "                       + [char2idx.get(char, 0) for char in sent]\\\n",
        "                       + [char2idx.get('<FINISH>', 0)]\\\n",
        "                       for sent in This_Y]\n",
        "\n",
        "        List_of_length_x = [len(sent) for sent in This_X_line]\n",
        "        length_of_sentence_x = max(List_of_length_x)\n",
        "        List_of_length_y = [len(sent) for sent in This_Y_line]\n",
        "        length_of_sentence_y = max(List_of_length_y)\n",
        "\n",
        "        x_arr = numpy.ones(shape=[this_batch_size, length_of_sentence_x])*PAD\n",
        "        y_arr = numpy.ones(shape=[this_batch_size, length_of_sentence_y])*PAD\n",
        "\n",
        "        for i in range(this_batch_size):\n",
        "            x_arr[i, :len(This_X_line[i])] = This_X_line[i]\n",
        "            y_arr[i, :len(This_Y_line[i])] = This_Y_line[i]\n",
        "\n",
        "        x = torch.LongTensor(x_arr).to(device)\n",
        "        y = torch.LongTensor(y_arr).to(device)\n",
        "        lengths = torch.LongTensor(List_of_length_x).to(device)\n",
        "\n",
        "        yield x, y"
      ],
      "execution_count": null,
      "outputs": []
    },
    {
      "cell_type": "markdown",
      "metadata": {
        "id": "y3FuYvpZcbDB"
      },
      "source": [
        "## Скрипты обучения"
      ]
    },
    {
      "cell_type": "code",
      "metadata": {
        "id": "eLuoKwvqX70s"
      },
      "source": [
        "def train_on_batch(model, batch_of_x, batch_of_y, optimizer, loss_function):\n",
        "    encoder, decoder = model\n",
        "    encoder.train()\n",
        "    decoder.train()\n",
        "    encoder.zero_grad()\n",
        "    decoder.zero_grad()\n",
        "    \n",
        "    d, h, c = encoder(batch_of_x)\n",
        "    output = decoder(\n",
        "        batch_of_y, \n",
        "        h=h[:, -decoder.num_layers:, :], \n",
        "        c=c[:, -decoder.num_layers:, :])\n",
        "\n",
        "    loss = loss_function(output[:, :-1, :].transpose(1, 2), batch_of_y[:, 1:])\n",
        "    \n",
        "    loss.backward()\n",
        "    optimizer.step()\n",
        "    return loss.item()\n",
        "    \n",
        "def train_epoch(train_generator, model, loss_function, optimizer):\n",
        "    epoch_loss = 0\n",
        "    total = 0\n",
        "    for it, (batch_of_x, batch_of_y) in enumerate(train_generator):\n",
        "        local_loss = train_on_batch(\n",
        "            model, batch_of_x, batch_of_y, optimizer, loss_function)\n",
        "        train_generator.set_postfix({'train batch loss': local_loss})\n",
        "\n",
        "        epoch_loss += local_loss*len(batch_of_x)\n",
        "        total += len(batch_of_x)\n",
        "    \n",
        "    return epoch_loss/total\n",
        "\n",
        "def trainer(count_of_epoch, \n",
        "            batch_size,\n",
        "            model,\n",
        "            dataset,\n",
        "            loss_function,\n",
        "            optimizer,\n",
        "           ):\n",
        "    iterations = tqdm(range(count_of_epoch))\n",
        "\n",
        "    for it in iterations:\n",
        "        optima = optimizer\n",
        "\n",
        "        number_of_batch = len(dataset)//batch_size + (len(dataset)%batch_size>0)\n",
        "        generator = tqdm(\n",
        "            batch_generator(dataset, batch_size, device=device), \n",
        "            leave=False, total=number_of_batch)\n",
        "        \n",
        "        epoch_loss = train_epoch(\n",
        "            train_generator = generator, model = model, \n",
        "            loss_function = loss_function, \n",
        "            optimizer = optima)\n",
        "        \n",
        "        encoder, decoder = model\n",
        "        encoder.eval()\n",
        "        decoder.eval()\n",
        "        \n",
        "        sent = dataset[5].lower()\n",
        "        x = torch.LongTensor([[char2idx[char] for char in sent]]).to(device)\n",
        "        d, h, c = encoder(x)\n",
        "\n",
        "        result =''.join(\n",
        "          [idx2char[index] for index in torch.argmax(\n",
        "              decoder(\n",
        "                  h=torch.zeros_like(h[:, -decoder.num_layers:, :]).float(), \n",
        "                  c=torch.zeros_like(h[:, -decoder.num_layers:, :]).float(), \n",
        "                  max_len=30), dim=-1).detach().cpu().numpy()[0]])\n",
        "\n",
        "        iterations.set_postfix({'train epoch loss': epoch_loss, \n",
        "                                'example': result})\n",
        "    return\n",
        "\n"
      ],
      "execution_count": null,
      "outputs": []
    },
    {
      "cell_type": "markdown",
      "metadata": {
        "id": "gIoqHSrVcd4J"
      },
      "source": [
        "## Обучение моделей"
      ]
    },
    {
      "cell_type": "code",
      "metadata": {
        "id": "ND6_PrE7Kf-V"
      },
      "source": [
        "encoder = Encoder(num_layers=2, emb_dim=100, hidden_dim=100)\n",
        "decoder = Decoder(num_layers=2, emb_dim=100, hidden_dim=100)\n",
        "\n",
        "optimizer = torch.optim.Adam(\n",
        "    list(encoder.parameters()) + list(decoder.parameters()), lr=1e-3)\n",
        "loss_function = torch.nn.CrossEntropyLoss(ignore_index=char2idx['<PAD>'])"
      ],
      "execution_count": null,
      "outputs": []
    },
    {
      "cell_type": "code",
      "metadata": {
        "id": "WOqXeonQQrKU"
      },
      "source": [
        "trainer(count_of_epoch = 100,\n",
        "        batch_size = 64,\n",
        "        model = (encoder, decoder),\n",
        "        dataset = dataset,\n",
        "        loss_function = loss_function,\n",
        "        optimizer = optimizer,\n",
        "       )"
      ],
      "execution_count": null,
      "outputs": []
    },
    {
      "cell_type": "markdown",
      "metadata": {
        "id": "pDAsoxnJ09il"
      },
      "source": [
        "## Генерация случайных предложений при помощи модели\n",
        "Предложения не очень хорошие, потому что в качестве (h, c) используются случайные вектора, которые являются эмбедингом предложения. Конечно же для более хороших предложений нужно: адекватное вероятностное описание (h, c). К примеру можно использовать вариационные автокодироващики для текстов и тд."
      ]
    },
    {
      "cell_type": "code",
      "metadata": {
        "id": "HcjEi73Amw-F",
        "outputId": "93e83a09-d5d0-40bf-e9b2-4ad04f048a8b"
      },
      "source": [
        "for _ in range(10):\n",
        "    indexes = torch.argmax(\n",
        "        decoder(max_len=100,\n",
        "                h=0.1*torch.randn(\n",
        "                    (1, decoder.num_layers, decoder.num_direction*decoder.hidden_dim)).to(\n",
        "                        decoder.device\n",
        "                ), \n",
        "                c=torch.randn(\n",
        "                    (1, decoder.num_layers, decoder.num_direction*decoder.hidden_dim)).to(\n",
        "                    decoder.device\n",
        "                )), dim=-1).detach().cpu().numpy()[0]\n",
        "    list_of_char = []\n",
        "    for idx in indexes:\n",
        "        if idx == char2idx['<FINISH>']:\n",
        "            break\n",
        "        list_of_char.append(idx2char[idx])\n",
        "    print(''.join(list_of_char))"
      ],
      "execution_count": null,
      "outputs": [
        {
          "output_type": "stream",
          "text": [
            "2юн55) ii, то следующий взгляд на себе подобное воздушный корабль.\n",
            "уки умереть в лучшей возможность в себя в себя в себя в себя в себя в себя в себя в себя в своих соб\n",
            "тобочнец.\n",
            "неображение не почему — то столько собственные воины и подобных воинов и подобных собственных собств\n",
            "рак-жарбак.\n",
            "ушерсти.\n",
            "или на удар. в тебе не стало подобные воины и подобные воины и подобные воины и подобных воинов и по\n",
            "hаeneoerttttt2tt008iuщююэтур.\n",
            "реукок? ты не могу сделать в своих собственных воздушных корабль.\n",
            "факи подобных воинов и последний воздух и последний воздух с ним возможность с ними и подобных воино\n"
          ],
          "name": "stdout"
        }
      ]
    }
  ]
}